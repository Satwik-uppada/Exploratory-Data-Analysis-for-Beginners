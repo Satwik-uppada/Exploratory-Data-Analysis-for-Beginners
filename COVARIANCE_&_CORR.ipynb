{
 "cells": [
  {
   "cell_type": "code",
   "execution_count": null,
   "metadata": {},
   "outputs": [],
   "source": []
  },
  {
   "cell_type": "code",
   "execution_count": null,
   "metadata": {},
   "outputs": [],
   "source": []
  },
  {
   "cell_type": "markdown",
   "metadata": {},
   "source": [
    "##  Covariance\n",
    "Covariance is a statistical measure that quantifies the degree to which two random variables change together. It indicates whether two variables tend to increase or decrease at the same time. If the covariance is positive, it suggests that as one variable increases, the other tends to increase as well. If the covariance is negative, it indicates that as one variable increases, the other tends to decrease. A covariance of zero suggests that there is no linear relationship between the two variables."
   ]
  },
  {
   "cell_type": "code",
   "execution_count": 5,
   "metadata": {},
   "outputs": [
    {
     "name": "stdout",
     "output_type": "stream",
     "text": [
      "Covariance between X and Y: 2.0\n"
     ]
    }
   ],
   "source": [
    "import numpy as np\n",
    "\n",
    "# Sample data for two variables X and Y\n",
    "X = np.array([1, 2, 3, 4, 5])\n",
    "Y = np.array([2, 3, 4, 5, 6])\n",
    "\n",
    "# Calculate covariance using NumPy\n",
    "cov_matrix = np.cov(X, Y, bias=True)\n",
    "cov_XY = cov_matrix[0, 1]\n",
    "\n",
    "print(f\"Covariance between X and Y: {cov_XY}\")\n"
   ]
  },
  {
   "cell_type": "markdown",
   "metadata": {},
   "source": [
    "## Correlation\n",
    "Correlation is a statistical measure that quantifies the degree and direction of a linear relationship between two continuous variables. It is used to assess how well the two variables are related to each other. The correlation coefficient provides a value that falls between -1 and 1:\n",
    "\n",
    "A correlation of 1 indicates a perfect positive linear relationship, meaning that as one variable increases, the other also increases linearly.\n",
    "\n",
    "A correlation of -1 indicates a perfect negative linear relationship, meaning that as one variable increases, the other decreases linearly.\n",
    "\n",
    "A correlation of 0 indicates no linear relationship between the two variables."
   ]
  },
  {
   "cell_type": "code",
   "execution_count": 6,
   "metadata": {},
   "outputs": [
    {
     "name": "stdout",
     "output_type": "stream",
     "text": [
      "Pearson Correlation between X and Y: 0.9999999999999999\n"
     ]
    }
   ],
   "source": [
    "import numpy as np\n",
    "\n",
    "# Sample data for two variables X and Y\n",
    "X = np.array([1, 2, 3, 4, 5])\n",
    "Y = np.array([2, 3, 4, 5, 6])\n",
    "\n",
    "# Calculate Pearson correlation coefficient using NumPy\n",
    "corr_coefficient = np.corrcoef(X, Y)[0, 1]\n",
    "\n",
    "print(f\"Pearson Correlation between X and Y: {corr_coefficient}\")\n"
   ]
  },
  {
   "cell_type": "code",
   "execution_count": 1,
   "metadata": {},
   "outputs": [
    {
     "name": "stdout",
     "output_type": "stream",
     "text": [
      "Covariance between X and Y: 2.0\n",
      "Pearson Correlation between X and Y: 1.0\n"
     ]
    }
   ],
   "source": [
    "import numpy as np\n",
    "from scipy.stats import pearsonr\n",
    "\n",
    "# Sample data for two variables X and Y\n",
    "X = np.array([1, 2, 3, 4, 5])\n",
    "Y = np.array([2, 3, 4, 5, 6])\n",
    "\n",
    "# Calculate covariance using NumPy\n",
    "cov_matrix = np.cov(X, Y, bias=True)\n",
    "cov_XY = cov_matrix[0, 1]\n",
    "\n",
    "# Calculate Pearson correlation coefficient using SciPy\n",
    "corr_coefficient, _ = pearsonr(X, Y)\n",
    "\n",
    "print(f\"Covariance between X and Y: {cov_XY}\")\n",
    "print(f\"Pearson Correlation between X and Y: {corr_coefficient}\")\n"
   ]
  },
  {
   "cell_type": "code",
   "execution_count": null,
   "metadata": {},
   "outputs": [],
   "source": []
  },
  {
   "cell_type": "code",
   "execution_count": 2,
   "metadata": {},
   "outputs": [
    {
     "name": "stdout",
     "output_type": "stream",
     "text": [
      "Randomly generated data:\n",
      "Covariance between X and Y: 0.16099380765604412\n",
      "Pearson Correlation between X and Y: 0.4889650609708346\n"
     ]
    }
   ],
   "source": [
    "import numpy as np\n",
    "from scipy.stats import pearsonr\n",
    "\n",
    "# Generate random data for two variables X and Y\n",
    "np.random.seed(0)  # for reproducibility\n",
    "X = np.random.rand(100)  # Generate 100 random data points for X\n",
    "Y = 2 * X + np.random.randn(100)  # Generate Y with a linear relationship to X and some noise\n",
    "\n",
    "# Calculate covariance using NumPy\n",
    "cov_matrix = np.cov(X, Y, bias=True)\n",
    "cov_XY = cov_matrix[0, 1]\n",
    "\n",
    "# Calculate Pearson correlation coefficient using SciPy\n",
    "corr_coefficient, _ = pearsonr(X, Y)\n",
    "\n",
    "print(f\"Randomly generated data:\")\n",
    "print(f\"Covariance between X and Y: {cov_XY}\")\n",
    "print(f\"Pearson Correlation between X and Y: {corr_coefficient}\")\n"
   ]
  },
  {
   "cell_type": "markdown",
   "metadata": {},
   "source": [
    "### Pearson correlation co-efficient\n",
    "The Pearson correlation coefficient, often referred to as Pearson's r or simply the correlation coefficient, is a statistical measure that quantifies the strength and direction of the linear relationship between two continuous variables. It measures how well the relationship between the two variables can be described by a straight line. The Pearson correlation coefficient ranges from -1 to 1, with the following interpretations:\n",
    "\n",
    "If r = 1, it indicates a perfect positive linear relationship. This means that as one variable increases, the other variable increases proportionally.\n",
    "\n",
    "If r = -1, it indicates a perfect negative linear relationship. This means that as one variable increases, the other variable decreases proportionally.\n",
    "\n",
    "If r = 0, it indicates no linear relationship between the two variables."
   ]
  },
  {
   "cell_type": "code",
   "execution_count": 3,
   "metadata": {},
   "outputs": [
    {
     "name": "stdout",
     "output_type": "stream",
     "text": [
      "Pearson Correlation between X and Y: 0.9999999999999999\n"
     ]
    }
   ],
   "source": [
    "import numpy as np\n",
    "\n",
    "# Sample data for two variables X and Y\n",
    "X = np.array([1, 2, 3, 4, 5])\n",
    "Y = np.array([2, 3, 4, 5, 6])\n",
    "\n",
    "# Calculate Pearson correlation coefficient using numpy\n",
    "corr_coefficient = np.corrcoef(X, Y)[0, 1]\n",
    "\n",
    "print(f\"Pearson Correlation between X and Y: {corr_coefficient}\")\n"
   ]
  },
  {
   "cell_type": "code",
   "execution_count": null,
   "metadata": {},
   "outputs": [],
   "source": []
  },
  {
   "cell_type": "markdown",
   "metadata": {},
   "source": [
    "### Spearman rank correlation coefficient\n",
    "The Spearman rank correlation coefficient, often referred to as Spearman's rho (ρ), is a non-parametric measure of statistical dependence between two variables. It assesses the strength and direction of the monotonic relationship between two continuous or ordinal variables, regardless of whether the relationship is linear. Spearman's rank correlation is based on the ranks (orderings) of the data rather than their actual values.\n",
    "\n",
    "The Spearman rank correlation coefficient ranges from -1 to 1, with the following interpretations:\n",
    "\n",
    "If ρ = 1, it indicates a perfect positive monotonic relationship. This means that as one variable increases, the other variable also increases monotonically.\n",
    "\n",
    "If ρ = -1, it indicates a perfect negative monotonic relationship. This means that as one variable increases, the other variable decreases monotonically.\n",
    "\n",
    "If ρ = 0, it indicates no monotonic relationship between the two variables."
   ]
  },
  {
   "cell_type": "code",
   "execution_count": 4,
   "metadata": {},
   "outputs": [
    {
     "name": "stdout",
     "output_type": "stream",
     "text": [
      "Spearman Rank Correlation (rho): 0.9999999999999999\n"
     ]
    }
   ],
   "source": [
    "from scipy.stats import spearmanr\n",
    "\n",
    "# Sample data for two variables X and Y\n",
    "X = [10, 20, 30, 40, 50]\n",
    "Y = [5, 15, 25, 35, 45]\n",
    "\n",
    "# Calculate Spearman rank correlation coefficient using scipy\n",
    "rho, p_value = spearmanr(X, Y)\n",
    "\n",
    "print(f\"Spearman Rank Correlation (rho): {rho}\")\n"
   ]
  },
  {
   "cell_type": "code",
   "execution_count": null,
   "metadata": {},
   "outputs": [],
   "source": []
  },
  {
   "cell_type": "code",
   "execution_count": null,
   "metadata": {},
   "outputs": [],
   "source": []
  },
  {
   "cell_type": "code",
   "execution_count": null,
   "metadata": {},
   "outputs": [],
   "source": []
  },
  {
   "cell_type": "code",
   "execution_count": null,
   "metadata": {},
   "outputs": [],
   "source": []
  },
  {
   "cell_type": "code",
   "execution_count": null,
   "metadata": {},
   "outputs": [],
   "source": []
  },
  {
   "cell_type": "code",
   "execution_count": null,
   "metadata": {},
   "outputs": [],
   "source": []
  },
  {
   "cell_type": "code",
   "execution_count": null,
   "metadata": {},
   "outputs": [],
   "source": []
  },
  {
   "cell_type": "code",
   "execution_count": null,
   "metadata": {},
   "outputs": [],
   "source": []
  },
  {
   "cell_type": "code",
   "execution_count": null,
   "metadata": {},
   "outputs": [],
   "source": []
  },
  {
   "cell_type": "code",
   "execution_count": null,
   "metadata": {},
   "outputs": [],
   "source": []
  }
 ],
 "metadata": {
  "kernelspec": {
   "display_name": "Python 3",
   "language": "python",
   "name": "python3"
  },
  "language_info": {
   "codemirror_mode": {
    "name": "ipython",
    "version": 3
   },
   "file_extension": ".py",
   "mimetype": "text/x-python",
   "name": "python",
   "nbconvert_exporter": "python",
   "pygments_lexer": "ipython3",
   "version": "3.6.5"
  }
 },
 "nbformat": 4,
 "nbformat_minor": 2
}
