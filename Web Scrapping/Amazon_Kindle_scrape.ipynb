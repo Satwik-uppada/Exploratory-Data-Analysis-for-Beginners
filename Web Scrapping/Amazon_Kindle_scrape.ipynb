{
 "cells": [
  {
   "cell_type": "markdown",
   "metadata": {},
   "source": [
    "## <a id='toc1_1_'></a>[Scrapping Amazon kindle, Best Selling Books](#toc0_)"
   ]
  },
  {
   "cell_type": "code",
   "execution_count": 1,
   "metadata": {},
   "outputs": [],
   "source": [
    "import requests as req\n",
    "from bs4 import BeautifulSoup as bs\n",
    "import pandas as pd\n",
    "import statistics as stat"
   ]
  },
  {
   "cell_type": "code",
   "execution_count": 2,
   "metadata": {},
   "outputs": [],
   "source": [
    "Base_url =\"https://www.amazon.com/kindle-dbs/\"\n",
    "url =Base_url+\"browse?metadata=cardAppType%3ADESKTOP%24deviceTypeID%3AA2Y8LFC259B97P%24clientRequestId%3A174HF51VNSZJNPA2111Y%24deviceAppType%3ADESKTOP%24ipAddress%3A10.90.70.1%24browseNodes%3A154606011%24userAgent%3AMozilla%2F5.0+%28Windows+NT+10.0%3B+Win64%3B+x64%29+AppleWebKit%2F537.36+%28KHTML%2C+like+Gecko%29+Chrome%2F114.0.0.0+Safari%2F537.36%24cardSurfaceType%3Adesktop%24cardMobileOS%3AUnknown%24countryOfResidence%3AIN%24deviceSurfaceType%3Adesktop&storeType=ebooks&widgetId=unified-ebooks-storefront-default_TopSellersStrategy&sourceAsin=&content-id=amzn1.sym.bb33addf-488a-4e99-909f-3acc87146400&refTagFromService=ts&title=Best%20sellers%20&sourceType=recs&ref_=dbs_f_def_rwt_wigo_ts_recs_wigo&SkipDeviceExclusion=true&page=1&nodeId=154606011\""
   ]
  },
  {
   "cell_type": "code",
   "execution_count": 3,
   "metadata": {},
   "outputs": [
    {
     "name": "stdout",
     "output_type": "stream",
     "text": [
      "<Response [200]>\n"
     ]
    }
   ],
   "source": [
    "response = req.get(url)\n",
    "print(response)"
   ]
  },
  {
   "cell_type": "code",
   "execution_count": 4,
   "metadata": {},
   "outputs": [],
   "source": [
    "soup = bs(response.text,parser=\"lxml\")\n"
   ]
  },
  {
   "cell_type": "code",
   "execution_count": 5,
   "metadata": {},
   "outputs": [
    {
     "name": "stdout",
     "output_type": "stream",
     "text": [
      "['Things We Left Behind (Knockemout Book 3)', 'Elon Musk', 'The Coworker: An Addictive Psychological Thriller', 'Counting the Cost', 'Mine To Promise: Small town secret baby romance.(Southern Wedding Book 6) (Southern Weddings)', 'The Lost Bookshop: The most charming and uplifting novel of 2023 and the perfect gift for book lovers!', 'Just One Look', 'The Housemaid: An absolutely addictive psychological thriller with a jaw-dropping twist', 'My Temptation (Kingston Lane Book 1)', 'Catch Her Death (Bree Taggert Book 7)', 'Things We Never Got Over (Knockemout Book 1)', 'Haunting Adeline (Cat and Mouse Duet Book 1)', 'Code Red: A Mitch Rapp Novel by Kyle Mills', 'Twisted Love: A Grumpy Sunshine Romance', 'Fourth Wing (The Empyrean Book 1)', 'Holly', 'The Housemaid&#39;s Secret: A totally gripping psychological thriller with a shocking twist', 'Never Lie: An addictive psychological thriller', 'The Locked Door: A gripping psychological thriller with a jaw-dropping twist', 'Don&#39;t Forget to Write: A Novel', 'The Starfish Sisters: A Novel', 'Things We Hide from the Light (Knockemout Book 2)', 'The Girl Who Was Taken: A Gripping Psychological Thriller', 'Tom Lake: A Reese&#39;s Book Club Pick', 'The Way I Hate Him', 'One Moment in Time: THE NUMBER ONE BESTSELLER', 'The Perfect Marriage: A Completely Gripping Psychological Suspense', 'The Quarry Girls: A Thriller', 'Mrs Van Gogh', 'Fall of Ruin and Wrath (Awakening)']\n"
     ]
    }
   ],
   "source": [
    "books_names = soup.find_all(\"span\",{\"class\":\"a-size-base a-color-base browse-text-line browse-larger-text-one-line\"})\n",
    "names_list = []\n",
    "for names in books_names:\n",
    "    name_text = names.get_text(strip=True)\n",
    "    names_list.append(name_text)\n",
    "\n",
    "names_list = [name for name in names_list if name]\n",
    "print(names_list)"
   ]
  },
  {
   "cell_type": "code",
   "execution_count": 6,
   "metadata": {},
   "outputs": [
    {
     "name": "stdout",
     "output_type": "stream",
     "text": [
      "['4.7', '4.6', '4.2', '4.8', '4.5', '4.5', '4.3', '4.5', '4.4', '4.6', '4.5', '4.4', '4.7', '4.2', '4.8', '4.4', '4.5', '4.4', '4.4', '4.7', '4.5', '4.4', '4.4', '4.4', '4.4', '4.4', '4.3', '4.3', '4.1', '4.6']\n",
      "[' 8890', ' 16', ' 10327', ' 217', ' 1727', ' 8517', ' 9509', ' 182054', ' 6948', ' 66', ' 149968', ' 57328', ' 34', ' 59210', ' 76725', ' 1861', ' 93230', ' 82788', ' 60965', ' 12924', ' 10935', ' 59057', ' 9282', ' 7380', ' 11440', ' 7587', ' 110727', ' 46107', ' 136', ' 61']\n"
     ]
    }
   ],
   "source": [
    "rating = soup.find_all(\"span\",{\"class\":\"dbs-icon-alt\"})\n",
    "rating_list = []\n",
    "for stars in rating:\n",
    "    rating_text = stars.get_text()\n",
    "    rating_list.append(rating_text)\n",
    "\n",
    "star_rating =[]\n",
    "people_no =[] \n",
    "\n",
    "for ele in rating_list:\n",
    "    components = ele.split(\",\")\n",
    "    star_rating.append(components[0].replace(\" out of 5 stars\",\"\"))\n",
    "    people_no.append(components[1].replace(\" ratings\",\"\"))\n",
    "\n",
    "\n",
    "print(star_rating)\n",
    "print(people_no)"
   ]
  },
  {
   "cell_type": "code",
   "execution_count": 7,
   "metadata": {},
   "outputs": [
    {
     "name": "stdout",
     "output_type": "stream",
     "text": [
      "['$4.00', '$10.88', '$4.98', '$3.47', '$1.47', '$3.00', '$1.56', '$1.56', '$3.64', '$3.60', '$1.56', '$3.39', '$1.56', '$1.56', '$8.47', '$6.86', '$5.00', '$2.09', '$3.77', '$1.56']\n"
     ]
    }
   ],
   "source": [
    "prices = soup.find_all(\"span\",{\"class\":\"a-color-price a-text-bold\"})\n",
    "# print(prices)\n",
    "price_list =[]\n",
    "for price in prices:\n",
    "    price_text = price.get_text()\n",
    "    price_list.append(price_text)\n",
    "    # print(price.text[1:])\n",
    "\n",
    "print(price_list)"
   ]
  },
  {
   "cell_type": "code",
   "execution_count": 8,
   "metadata": {},
   "outputs": [
    {
     "name": "stdout",
     "output_type": "stream",
     "text": [
      "    PRICES\n",
      "0    $4.00\n",
      "1   $10.88\n",
      "2    $4.98\n",
      "3    $3.47\n",
      "4    $1.47\n",
      "5    $3.00\n",
      "6    $1.56\n",
      "7    $1.56\n",
      "8    $3.64\n",
      "9    $3.60\n",
      "10   $1.56\n",
      "11   $3.39\n",
      "12   $1.56\n",
      "13   $1.56\n",
      "14   $8.47\n",
      "15   $6.86\n",
      "16   $5.00\n",
      "17   $2.09\n",
      "18   $3.77\n",
      "19   $1.56\n"
     ]
    }
   ],
   "source": [
    "prices = pd.DataFrame({\"PRICES\":price_list})\n",
    "print(prices)"
   ]
  },
  {
   "cell_type": "code",
   "execution_count": 9,
   "metadata": {},
   "outputs": [
    {
     "name": "stdout",
     "output_type": "stream",
     "text": [
      "['/gp/product/B0BVNZD4FY?ref_=dbs_b_def_rwt_wigo_ts_recs_l_p1_0&storeType=ebooks', '/gp/product/B0BVNZD4FY?ref_=dbs_b_def_rwt_wigo_ts_recs_l_p1_0&storeType=ebooks', '/charts/2023-09-10/mostsold/fiction/?ref=CHRT_BK_SD_FC_1_VT', '/gp/product/B0BW9TRGKV?ref_=dbs_b_def_rwt_wigo_ts_recs_l_p1_1&storeType=ebooks', '/gp/product/B0BW9TRGKV?ref_=dbs_b_def_rwt_wigo_ts_recs_l_p1_1&storeType=ebooks', '/gp/product/B0BW9TRGKV?ref_=dbs_b_def_rwt_wigo_ts_recs_l_p1_1&storeType=ebooks', '/charts/2023-09-10/mostsold/nonfiction/?ref=CHRT_BK_SD_NF_3_VT', '/gp/product/B0C688XZQW?ref_=dbs_b_def_rwt_wigo_ts_recs_l_p1_2&storeType=ebooks', '/gp/product/B0C688XZQW?ref_=dbs_b_def_rwt_wigo_ts_recs_l_p1_2&storeType=ebooks', '/gp/product/B0C688XZQW?ref_=dbs_b_def_rwt_wigo_ts_recs_l_p1_2&storeType=ebooks', '/charts/2023-09-10/mostsold/fiction/?ref=CHRT_BK_SD_FC_7_VT', '/gp/product/B0C6L2JQX9?ref_=dbs_b_def_rwt_wigo_ts_recs_l_p1_3&storeType=ebooks', '/gp/product/B0C6L2JQX9?ref_=dbs_b_def_rwt_wigo_ts_recs_l_p1_3&storeType=ebooks', '/gp/product/B0C6L2JQX9?ref_=dbs_b_def_rwt_wigo_ts_recs_l_p1_3&storeType=ebooks', '/gp/product/B0C1CVR91D?ref_=dbs_b_def_rwt_wigo_ts_recs_l_p1_4&storeType=ebooks', '/gp/product/B0C1CVR91D?ref_=dbs_b_def_rwt_wigo_ts_recs_l_p1_4&storeType=ebooks', '/gp/product/B0C1CVR91D?ref_=dbs_b_def_rwt_wigo_ts_recs_l_p1_4&storeType=ebooks', '/gp/product/B0BMF2M8Z6?ref_=dbs_b_def_rwt_wigo_ts_recs_l_p1_5&storeType=ebooks', '/gp/product/B0BMF2M8Z6?ref_=dbs_b_def_rwt_wigo_ts_recs_l_p1_5&storeType=ebooks', '/gp/product/B0BMF2M8Z6?ref_=dbs_b_def_rwt_wigo_ts_recs_l_p1_5&storeType=ebooks', '/charts/2023-09-10/mostsold/fiction/?ref=CHRT_BK_SD_FC_15_VT', '/gp/product/B002YKOXGQ?ref_=dbs_b_def_rwt_wigo_ts_recs_l_p1_6&storeType=ebooks', '/gp/product/B002YKOXGQ?ref_=dbs_b_def_rwt_wigo_ts_recs_l_p1_6&storeType=ebooks', '/gp/product/B002YKOXGQ?ref_=dbs_b_def_rwt_wigo_ts_recs_l_p1_6&storeType=ebooks', '/gp/product/B09TWSRMCB?ref_=dbs_b_def_rwt_wigo_ts_recs_l_p1_7&storeType=ebooks', '/gp/product/B09TWSRMCB?ref_=dbs_b_def_rwt_wigo_ts_recs_l_p1_7&storeType=ebooks', '/gp/product/B09TWSRMCB?ref_=dbs_b_def_rwt_wigo_ts_recs_l_p1_7&storeType=ebooks', '/charts/2023-09-10/mostsold/fiction/?ref=CHRT_BK_SD_FC_6_VT', '/gp/product/B0BTJCWKRC?ref_=dbs_b_def_rwt_wigo_ts_recs_l_p1_8&storeType=ebooks', '/gp/product/B0BTJCWKRC?ref_=dbs_b_def_rwt_wigo_ts_recs_l_p1_8&storeType=ebooks', '/gp/product/B0BTJCWKRC?ref_=dbs_b_def_rwt_wigo_ts_recs_l_p1_8&storeType=ebooks', '/charts/2023-09-10/mostsold/fiction/?ref=CHRT_BK_SD_FC_17_VT', '/gp/product/B09JNYLCHY?ref_=dbs_b_def_rwt_wigo_ts_recs_l_p1_9&storeType=ebooks', '/gp/product/B09JNYLCHY?ref_=dbs_b_def_rwt_wigo_ts_recs_l_p1_9&storeType=ebooks', '/gp/product/B09JNYLCHY?ref_=dbs_b_def_rwt_wigo_ts_recs_l_p1_9&storeType=ebooks', '/gp/product/B09PNM8FFN?ref_=dbs_b_def_rwt_wigo_ts_recs_l_p1_10&storeType=ebooks', '/gp/product/B09PNM8FFN?ref_=dbs_b_def_rwt_wigo_ts_recs_l_p1_10&storeType=ebooks', '/gp/product/B09PNM8FFN?ref_=dbs_b_def_rwt_wigo_ts_recs_l_p1_10&storeType=ebooks', '/gp/product/B09CLVJJ77?ref_=dbs_b_def_rwt_wigo_ts_recs_l_p1_11&storeType=ebooks', '/gp/product/B09CLVJJ77?ref_=dbs_b_def_rwt_wigo_ts_recs_l_p1_11&storeType=ebooks', '/gp/product/B09CLVJJ77?ref_=dbs_b_def_rwt_wigo_ts_recs_l_p1_11&storeType=ebooks', '/charts/2023-09-10/mostsold/fiction/?ref=CHRT_BK_SD_FC_12_VT', '/gp/product/B0BTZTZHW4?ref_=dbs_b_def_rwt_wigo_ts_recs_l_p1_12&storeType=ebooks', '/gp/product/B0BTZTZHW4?ref_=dbs_b_def_rwt_wigo_ts_recs_l_p1_12&storeType=ebooks', '/gp/product/B0BTZTZHW4?ref_=dbs_b_def_rwt_wigo_ts_recs_l_p1_12&storeType=ebooks', '/gp/product/B08Y6DCS1Y?ref_=dbs_b_def_rwt_wigo_ts_recs_l_p1_13&storeType=ebooks', '/gp/product/B08Y6DCS1Y?ref_=dbs_b_def_rwt_wigo_ts_recs_l_p1_13&storeType=ebooks', '/gp/product/B08Y6DCS1Y?ref_=dbs_b_def_rwt_wigo_ts_recs_l_p1_13&storeType=ebooks', '/gp/product/B0BGDM197Q?ref_=dbs_b_def_rwt_wigo_ts_recs_l_p1_14&storeType=ebooks', '/gp/product/B0BGDM197Q?ref_=dbs_b_def_rwt_wigo_ts_recs_l_p1_14&storeType=ebooks', '/gp/product/B0BGDM197Q?ref_=dbs_b_def_rwt_wigo_ts_recs_l_p1_14&storeType=ebooks', '/charts/2023-09-10/mostread/fiction/?ref=CHRT_BK_RD_FC_3_VT', '/gp/product/B0BSRFPQXV?ref_=dbs_b_def_rwt_wigo_ts_recs_l_p1_15&storeType=ebooks', '/gp/product/B0BSRFPQXV?ref_=dbs_b_def_rwt_wigo_ts_recs_l_p1_15&storeType=ebooks', '/gp/product/B0BSRFPQXV?ref_=dbs_b_def_rwt_wigo_ts_recs_l_p1_15&storeType=ebooks', '/charts/2023-09-10/mostsold/fiction/?ref=CHRT_BK_SD_FC_2_VT', '/gp/product/B0BGXYL3BZ?ref_=dbs_b_def_rwt_wigo_ts_recs_l_p1_16&storeType=ebooks', '/gp/product/B0BGXYL3BZ?ref_=dbs_b_def_rwt_wigo_ts_recs_l_p1_16&storeType=ebooks', '/gp/product/B0BGXYL3BZ?ref_=dbs_b_def_rwt_wigo_ts_recs_l_p1_16&storeType=ebooks', '/charts/2023-09-10/mostsold/fiction/?ref=CHRT_BK_SD_FC_20_VT', '/gp/product/B0BBL2ZW73?ref_=dbs_b_def_rwt_wigo_ts_recs_l_p1_17&storeType=ebooks', '/gp/product/B0BBL2ZW73?ref_=dbs_b_def_rwt_wigo_ts_recs_l_p1_17&storeType=ebooks', '/gp/product/B0BBL2ZW73?ref_=dbs_b_def_rwt_wigo_ts_recs_l_p1_17&storeType=ebooks', '/charts/2023-09-10/mostsold/fiction/?ref=CHRT_BK_SD_FC_16_VT', '/gp/product/B092RXXJDM?ref_=dbs_b_def_rwt_wigo_ts_recs_l_p1_18&storeType=ebooks', '/gp/product/B092RXXJDM?ref_=dbs_b_def_rwt_wigo_ts_recs_l_p1_18&storeType=ebooks', '/gp/product/B092RXXJDM?ref_=dbs_b_def_rwt_wigo_ts_recs_l_p1_18&storeType=ebooks', '/gp/product/B0BQWYYZZ1?ref_=dbs_b_def_rwt_wigo_ts_recs_l_p1_19&storeType=ebooks', '/gp/product/B0BQWYYZZ1?ref_=dbs_b_def_rwt_wigo_ts_recs_l_p1_19&storeType=ebooks', '/gp/product/B0BQWYYZZ1?ref_=dbs_b_def_rwt_wigo_ts_recs_l_p1_19&storeType=ebooks', '/gp/product/B0BMRTVG2G?ref_=dbs_b_def_rwt_wigo_ts_recs_l_p1_20&storeType=ebooks', '/gp/product/B0BMRTVG2G?ref_=dbs_b_def_rwt_wigo_ts_recs_l_p1_20&storeType=ebooks', '/gp/product/B0BMRTVG2G?ref_=dbs_b_def_rwt_wigo_ts_recs_l_p1_20&storeType=ebooks', '/gp/product/B0BB64ZRMW?ref_=dbs_b_def_rwt_wigo_ts_recs_l_p1_21&storeType=ebooks', '/gp/product/B0BB64ZRMW?ref_=dbs_b_def_rwt_wigo_ts_recs_l_p1_21&storeType=ebooks', '/gp/product/B0BB64ZRMW?ref_=dbs_b_def_rwt_wigo_ts_recs_l_p1_21&storeType=ebooks', '/gp/product/B07BJL34PD?ref_=dbs_b_def_rwt_wigo_ts_recs_l_p1_22&storeType=ebooks', '/gp/product/B07BJL34PD?ref_=dbs_b_def_rwt_wigo_ts_recs_l_p1_22&storeType=ebooks', '/gp/product/B07BJL34PD?ref_=dbs_b_def_rwt_wigo_ts_recs_l_p1_22&storeType=ebooks', '/gp/product/B0BL126WSH?ref_=dbs_b_def_rwt_wigo_ts_recs_l_p1_23&storeType=ebooks', '/gp/product/B0BL126WSH?ref_=dbs_b_def_rwt_wigo_ts_recs_l_p1_23&storeType=ebooks', '/gp/product/B0BL126WSH?ref_=dbs_b_def_rwt_wigo_ts_recs_l_p1_23&storeType=ebooks', '/charts/2023-09-10/mostsold/fiction/?ref=CHRT_BK_SD_FC_3_VT', '/gp/product/B0C6B8T9BM?ref_=dbs_b_def_rwt_wigo_ts_recs_l_p1_24&storeType=ebooks', '/gp/product/B0C6B8T9BM?ref_=dbs_b_def_rwt_wigo_ts_recs_l_p1_24&storeType=ebooks', '/gp/product/B0C6B8T9BM?ref_=dbs_b_def_rwt_wigo_ts_recs_l_p1_24&storeType=ebooks', '/gp/product/B0BSSS742S?ref_=dbs_b_def_rwt_wigo_ts_recs_l_p1_25&storeType=ebooks', '/gp/product/B0BSSS742S?ref_=dbs_b_def_rwt_wigo_ts_recs_l_p1_25&storeType=ebooks', '/gp/product/B0BSSS742S?ref_=dbs_b_def_rwt_wigo_ts_recs_l_p1_25&storeType=ebooks', '/gp/product/B09C6LW4XW?ref_=dbs_b_def_rwt_wigo_ts_recs_l_p1_26&storeType=ebooks', '/gp/product/B09C6LW4XW?ref_=dbs_b_def_rwt_wigo_ts_recs_l_p1_26&storeType=ebooks', '/gp/product/B09C6LW4XW?ref_=dbs_b_def_rwt_wigo_ts_recs_l_p1_26&storeType=ebooks', '/gp/product/B09G6DMDVR?ref_=dbs_b_def_rwt_wigo_ts_recs_l_p1_27&storeType=ebooks', '/gp/product/B09G6DMDVR?ref_=dbs_b_def_rwt_wigo_ts_recs_l_p1_27&storeType=ebooks', '/gp/product/B09G6DMDVR?ref_=dbs_b_def_rwt_wigo_ts_recs_l_p1_27&storeType=ebooks', '/gp/product/B0BTXT47MW?ref_=dbs_b_def_rwt_wigo_ts_recs_l_p1_28&storeType=ebooks', '/gp/product/B0BTXT47MW?ref_=dbs_b_def_rwt_wigo_ts_recs_l_p1_28&storeType=ebooks', '/gp/product/B0BTXT47MW?ref_=dbs_b_def_rwt_wigo_ts_recs_l_p1_28&storeType=ebooks', '/gp/product/B0BQGHTPMG?ref_=dbs_b_def_rwt_wigo_ts_recs_l_p1_29&storeType=ebooks', '/gp/product/B0BQGHTPMG?ref_=dbs_b_def_rwt_wigo_ts_recs_l_p1_29&storeType=ebooks', '/gp/product/B0BQGHTPMG?ref_=dbs_b_def_rwt_wigo_ts_recs_l_p1_29&storeType=ebooks']\n"
     ]
    }
   ],
   "source": [
    "book_links = soup.find_all(\"a\",{\"class\":\"a-link-normal\"})\n",
    "links_list =[]\n",
    "for links in book_links:\n",
    "    links_list.append(links['href'])\n",
    "\n",
    "print(links_list[3:])"
   ]
  },
  {
   "cell_type": "code",
   "execution_count": 10,
   "metadata": {},
   "outputs": [
    {
     "name": "stdout",
     "output_type": "stream",
     "text": [
      "                                           Book Title Rating NO.OF People rated\n",
      "0           Things We Left Behind (Knockemout Book 3)    4.7               8890\n",
      "1                                           Elon Musk    4.6                 16\n",
      "2   The Coworker: An Addictive Psychological Thriller    4.2              10327\n",
      "3                                   Counting the Cost    4.8                217\n",
      "4   Mine To Promise: Small town secret baby romanc...    4.5               1727\n",
      "5   The Lost Bookshop: The most charming and uplif...    4.5               8517\n",
      "6                                       Just One Look    4.3               9509\n",
      "7   The Housemaid: An absolutely addictive psychol...    4.5             182054\n",
      "8                My Temptation (Kingston Lane Book 1)    4.4               6948\n",
      "9               Catch Her Death (Bree Taggert Book 7)    4.6                 66\n",
      "10       Things We Never Got Over (Knockemout Book 1)    4.5             149968\n",
      "11       Haunting Adeline (Cat and Mouse Duet Book 1)    4.4              57328\n",
      "12         Code Red: A Mitch Rapp Novel by Kyle Mills    4.7                 34\n",
      "13            Twisted Love: A Grumpy Sunshine Romance    4.2              59210\n",
      "14                  Fourth Wing (The Empyrean Book 1)    4.8              76725\n",
      "15                                              Holly    4.4               1861\n",
      "16  The Housemaid&#39;s Secret: A totally gripping...    4.5              93230\n",
      "17     Never Lie: An addictive psychological thriller    4.4              82788\n",
      "18  The Locked Door: A gripping psychological thri...    4.4              60965\n",
      "19                 Don&#39;t Forget to Write: A Novel    4.7              12924\n",
      "20                      The Starfish Sisters: A Novel    4.5              10935\n",
      "21  Things We Hide from the Light (Knockemout Book 2)    4.4              59057\n",
      "22  The Girl Who Was Taken: A Gripping Psychologic...    4.4               9282\n",
      "23             Tom Lake: A Reese&#39;s Book Club Pick    4.4               7380\n",
      "24                                 The Way I Hate Him    4.4              11440\n",
      "25      One Moment in Time: THE NUMBER ONE BESTSELLER    4.4               7587\n",
      "26  The Perfect Marriage: A Completely Gripping Ps...    4.3             110727\n",
      "27                       The Quarry Girls: A Thriller    4.3              46107\n",
      "28                                       Mrs Van Gogh    4.1                136\n",
      "29                 Fall of Ruin and Wrath (Awakening)    4.6                 61\n"
     ]
    }
   ],
   "source": [
    "data = pd.DataFrame({\"Book Title\":names_list,\"Rating\":star_rating,\"NO.OF People rated\":people_no})\n",
    "pd.set_option('display.expand_frame_repr', False)\n",
    "print(data)"
   ]
  }
 ],
 "metadata": {
  "kernelspec": {
   "display_name": "Python 3",
   "language": "python",
   "name": "python3"
  },
  "language_info": {
   "codemirror_mode": {
    "name": "ipython",
    "version": 3
   },
   "file_extension": ".py",
   "mimetype": "text/x-python",
   "name": "python",
   "nbconvert_exporter": "python",
   "pygments_lexer": "ipython3",
   "version": "3.10.5"
  },
  "orig_nbformat": 4
 },
 "nbformat": 4,
 "nbformat_minor": 2
}
