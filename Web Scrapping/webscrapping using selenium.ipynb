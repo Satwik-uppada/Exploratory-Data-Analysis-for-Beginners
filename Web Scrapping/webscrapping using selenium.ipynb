{
 "cells": [
  {
   "cell_type": "code",
   "execution_count": 1,
   "metadata": {},
   "outputs": [
    {
     "name": "stdout",
     "output_type": "stream",
     "text": [
      "Top 1 Link: https://www.amazon.in/HUL-Pureit-Germkill-Classic-Purifier/dp/B00H3H03Q4/ref=zg_bs_g_1380261031_d_sccl_1/261-7543336-1734329?psc=1\n",
      "Top 2 Link: https://www.amazon.in/HUL-Pureit-Germkill-Classic-Purifier/dp/B00E9G8KOY/ref=zg_bs_g_1380261031_d_sccl_2/261-7543336-1734329?psc=1\n",
      "Top 3 Link: https://www.amazon.in/KONVIO-NEER-Cartridge-Compatible-Pre-Filter/dp/B08K36NZSV/ref=zg_bs_g_1380261031_d_sccl_3/261-7543336-1734329?psc=1\n",
      "Scraped data saved to Water Cartridges.xlsx\n"
     ]
    }
   ],
   "source": [
    "from selenium import webdriver\n",
    "from selenium.webdriver.edge.service import Service\n",
    "import pandas as pd\n",
    "\n",
    "# Specify the path to the Edge WebDriver executable\n",
    "driver_path = \"C:\\\\Users\\\\uppada satwik\\\\Downloads\\\\edgedriver_win64\\\\msedgedriver.exe\"\n",
    "\n",
    "# Create a Service object with the executable path\n",
    "service = Service(driver_path)\n",
    "\n",
    "# Set up the Edge WebDriver using the Service object\n",
    "driver = webdriver.Edge(service=service)\n",
    "\n",
    "# Navigate to Amazon.in best sellers page\n",
    "driver.get('https://www.amazon.in/gp/bestsellers/kitchen/1380261031/ref=zg_bs_nav_kitchen_2_1380259031')\n",
    "\n",
    "# Find the top 3 best sellers\n",
    "best_sellers = driver.find_elements(by='css selector', value='.a-column')[:3]\n",
    "\n",
    "# Create an empty list to store the links\n",
    "data = []\n",
    "\n",
    "# Extract and store the links for the top 3 best sellers\n",
    "for index, product in enumerate(best_sellers, start=1):\n",
    "    product_link_element = product.find_element(by='css selector', value='a.a-link-normal')\n",
    "    product_link = product_link_element.get_attribute('href')  # Get the 'href' attribute\n",
    "    data.append({'Link': product_link})\n",
    "\n",
    "    print(f\"Top {index} Link: {product_link}\")\n",
    "\n",
    "# Close the WebDriver\n",
    "driver.quit()\n",
    "\n",
    "# Create a pandas DataFrame from the scraped links\n",
    "df = pd.DataFrame(data)\n",
    "\n",
    "# Export the DataFrame to an Excel file\n",
    "excel_file_path = \"Water Cartridges.xlsx\"\n",
    "df.to_excel(excel_file_path, index=False)\n",
    "\n",
    "print(f\"Scraped data saved to {excel_file_path}\")"
   ]
  },
  {
   "cell_type": "markdown",
   "metadata": {},
   "source": []
  },
  {
   "cell_type": "markdown",
   "metadata": {},
   "source": []
  },
  {
   "cell_type": "code",
   "execution_count": null,
   "metadata": {},
   "outputs": [
    {
     "name": "stdout",
     "output_type": "stream",
     "text": [
      "Top 1 Link: https://www.amazon.in/Eureka-Forbes-Aquaguard-boiling-GWPDPRRUM00000/dp/B09TB2YC13/ref=zg_bs_g_1380262031_sccl_1/261-4702567-8815741?psc=1\n",
      "Top 2 Link: https://www.amazon.in/Copper-RO-Purifier-Automatic-Controller/dp/B0BJ6P3LSK/ref=zg_bs_g_1380262031_sccl_2/261-4702567-8815741?psc=1\n",
      "Top 3 Link: https://www.amazon.in/Gold-Optima-10-Litres-Non-electric-Purifier/dp/B009DA69W6/ref=zg_bs_g_1380262031_sccl_3/261-4702567-8815741?psc=1\n",
      "Scraped data saved to Water Filters & Purifiers.xlsx\n"
     ]
    }
   ],
   "source": [
    "from selenium import webdriver\n",
    "from selenium.webdriver.edge.service import Service\n",
    "import pandas as pd\n",
    "\n",
    "# Specify the path to the Edge WebDriver executable\n",
    "driver_path = \"C:\\\\Users\\\\uppada satwik\\\\Downloads\\\\edgedriver_win64\\\\msedgedriver.exe\"\n",
    "\n",
    "# Create a Service object with the executable path\n",
    "service = Service(driver_path)\n",
    "\n",
    "# Set up the Edge WebDriver using the Service object\n",
    "driver = webdriver.Edge(service=service)\n",
    "\n",
    "# Navigate to Amazon.in best sellers page\n",
    "driver.get('https://www.amazon.in/gp/bestsellers/kitchen/1380262031/ref=zg_bs_nav_kitchen_2_1380261031')\n",
    "\n",
    "# Find the top 3 best sellers\n",
    "best_sellers = driver.find_elements(by='css selector', value='.a-column')[:3]\n",
    "\n",
    "# Create an empty list to store the links\n",
    "data = []\n",
    "\n",
    "# Extract and store the links for the top 3 best sellers\n",
    "for index, product in enumerate(best_sellers, start=1):\n",
    "    product_link_element = product.find_element(by='css selector', value='a.a-link-normal')\n",
    "    product_link = product_link_element.get_attribute('href')  # Get the 'href' attribute\n",
    "    data.append({'Link': product_link})\n",
    "\n",
    "    print(f\"Top {index} Link: {product_link}\")\n",
    "\n",
    "# Close the WebDriver\n",
    "driver.quit()\n",
    "\n",
    "# Create a pandas DataFrame from the scraped links\n",
    "df = pd.DataFrame(data)\n",
    "\n",
    "# Export the DataFrame to an Excel file\n",
    "excel_file_path = \"Water Filters & Purifiers.xlsx\"\n",
    "df.to_excel(excel_file_path, index=False)\n",
    "\n",
    "print(f\"Scraped data saved to {excel_file_path}\")"
   ]
  },
  {
   "cell_type": "markdown",
   "metadata": {},
   "source": []
  },
  {
   "cell_type": "markdown",
   "metadata": {},
   "source": []
  },
  {
   "cell_type": "code",
   "execution_count": null,
   "metadata": {},
   "outputs": [
    {
     "name": "stdout",
     "output_type": "stream",
     "text": [
      "Top 1 Link: https://www.amazon.in/HUL-Pureit-Germkill-Classic-Purifier/dp/B00H3GWW32/ref=zg_bs_g_1380260031_sccl_1/259-0237905-2994666?psc=1\n",
      "Top 2 Link: https://www.amazon.in/Aptechdeals-Digital-Temperature-Measurement-Purifier/dp/B07Y66GYJF/ref=zg_bs_g_1380260031_sccl_2/259-0237905-2994666?psc=1\n",
      "Top 3 Link: https://www.amazon.in/HUL-Pureit-Germkill-Classic-Purifier/dp/B00E9G8KOY/ref=zg_bs_g_1380260031_sccl_3/259-0237905-2994666?psc=1\n",
      "Scraped data saved to Water Purifier Accessories.xlsx\n"
     ]
    }
   ],
   "source": [
    "from selenium import webdriver\n",
    "from selenium.webdriver.edge.service import Service\n",
    "import pandas as pd\n",
    "\n",
    "# Specify the path to the Edge WebDriver executable\n",
    "driver_path = \"C:\\\\Users\\\\uppada satwik\\\\Downloads\\\\edgedriver_win64\\\\msedgedriver.exe\"\n",
    "\n",
    "# Create a Service object with the executable path\n",
    "service = Service(driver_path)\n",
    "\n",
    "# Set up the Edge WebDriver using the Service object\n",
    "driver = webdriver.Edge(service=service)\n",
    "\n",
    "# Navigate to Amazon.in best sellers page\n",
    "driver.get('https://www.amazon.in/gp/bestsellers/kitchen/1380260031/ref=zg_bs_nav_kitchen_2_1380262031')\n",
    "\n",
    "# Find the top 3 best sellers\n",
    "best_sellers = driver.find_elements(by='css selector', value='.a-column')[:3]\n",
    "\n",
    "# Create an empty list to store the links\n",
    "data = []\n",
    "\n",
    "# Extract and store the links for the top 3 best sellers\n",
    "for index, product in enumerate(best_sellers, start=1):\n",
    "    product_link_element = product.find_element(by='css selector', value='a.a-link-normal')\n",
    "    product_link = product_link_element.get_attribute('href')  # Get the 'href' attribute\n",
    "    data.append({'Link': product_link})\n",
    "\n",
    "    print(f\"Top {index} Link: {product_link}\")\n",
    "\n",
    "# Close the WebDriver\n",
    "driver.quit()\n",
    "\n",
    "# Create a pandas DataFrame from the scraped links\n",
    "df = pd.DataFrame(data)\n",
    "\n",
    "# Export the DataFrame to an Excel file\n",
    "excel_file_path = \"Water Purifier Accessories.xlsx\"\n",
    "df.to_excel(excel_file_path, index=False)\n",
    "\n",
    "print(f\"Scraped data saved to {excel_file_path}\")"
   ]
  },
  {
   "cell_type": "code",
   "execution_count": null,
   "metadata": {},
   "outputs": [],
   "source": []
  },
  {
   "cell_type": "code",
   "execution_count": null,
   "metadata": {},
   "outputs": [
    {
     "name": "stdout",
     "output_type": "stream",
     "text": [
      "Top 1 Link: https://www.amazon.in/Kuber-Industries-Laundry-Organiser-LMESH02/dp/B077K1HFZ3/ref=zg_bs_g_1380565031_sccl_1/261-7267803-9810660?psc=1\n",
      "Top 2 Link: https://www.amazon.in/AGARO-800-Watt-Handheld-Cleaner-Durable/dp/B07SRM58TP/ref=zg_bs_g_1380565031_sccl_2/261-7267803-9810660?psc=1\n",
      "Top 3 Link: https://www.amazon.in/Bajaj-Advance-Soleplate-Anti-bacterial-Technology/dp/B01C8P29N0/ref=zg_bs_g_1380565031_sccl_3/261-7267803-9810660?psc=1\n",
      "Scraped data saved to Vacuum, Cleaning & Ironing.xlsx\n"
     ]
    }
   ],
   "source": [
    "from selenium import webdriver\n",
    "from selenium.webdriver.edge.service import Service\n",
    "import pandas as pd\n",
    "\n",
    "# Specify the path to the Edge WebDriver executable\n",
    "driver_path = \"C:\\\\Users\\\\uppada satwik\\\\Downloads\\\\edgedriver_win64\\\\msedgedriver.exe\"\n",
    "\n",
    "# Create a Service object with the executable path\n",
    "service = Service(driver_path)\n",
    "\n",
    "# Set up the Edge WebDriver using the Service object\n",
    "driver = webdriver.Edge(service=service)\n",
    "\n",
    "# Navigate to Amazon.in best sellers page\n",
    "driver.get('https://www.amazon.in/gp/bestsellers/kitchen/1380565031/ref=zg_bs_nav_kitchen_1')\n",
    "\n",
    "# Find the top 3 best sellers\n",
    "best_sellers = driver.find_elements(by='css selector', value='.a-column')[:3]\n",
    "\n",
    "# Create an empty list to store the links\n",
    "data = []\n",
    "\n",
    "# Extract and store the links for the top 3 best sellers\n",
    "for index, product in enumerate(best_sellers, start=1):\n",
    "    product_link_element = product.find_element(by='css selector', value='a.a-link-normal')\n",
    "    product_link = product_link_element.get_attribute('href')  # Get the 'href' attribute\n",
    "    data.append({'Link': product_link})\n",
    "\n",
    "    print(f\"Top {index} Link: {product_link}\")\n",
    "\n",
    "# Close the WebDriver\n",
    "driver.quit()\n",
    "\n",
    "# Create a pandas DataFrame from the scraped links\n",
    "df = pd.DataFrame(data)\n",
    "\n",
    "# Export the DataFrame to an Excel file\n",
    "excel_file_path = \"Vacuum, Cleaning & Ironing.xlsx\"\n",
    "df.to_excel(excel_file_path, index=False)\n",
    "\n",
    "print(f\"Scraped data saved to {excel_file_path}\")"
   ]
  },
  {
   "cell_type": "code",
   "execution_count": null,
   "metadata": {},
   "outputs": [],
   "source": []
  },
  {
   "cell_type": "code",
   "execution_count": null,
   "metadata": {},
   "outputs": [
    {
     "name": "stdout",
     "output_type": "stream",
     "text": [
      "Top 1 Link: https://www.amazon.in/Kuber-Industries-Laundry-Organiser-LMESH02/dp/B077K1HFZ3/ref=zg_bs_g_1380566031_sccl_1/259-6808274-6587307?psc=1\n",
      "Top 2 Link: https://www.amazon.in/Bajaj-Advance-Soleplate-Anti-bacterial-Technology/dp/B01C8P29N0/ref=zg_bs_g_1380566031_sccl_2/259-6808274-6587307?psc=1\n",
      "Top 3 Link: https://www.amazon.in/ELECTOMANIA-Retractable-Handheld-Portable-Antislip/dp/B0BYDN43YL/ref=zg_bs_g_1380566031_sccl_3/259-6808274-6587307?psc=1\n",
      "Scraped data saved to Irons, Steamers & Accessories.xlsx\n"
     ]
    }
   ],
   "source": [
    "from selenium import webdriver\n",
    "from selenium.webdriver.edge.service import Service\n",
    "import pandas as pd\n",
    "\n",
    "# Specify the path to the Edge WebDriver executable\n",
    "driver_path = \"C:\\\\Users\\\\uppada satwik\\\\Downloads\\\\edgedriver_win64\\\\msedgedriver.exe\"\n",
    "\n",
    "# Create a Service object with the executable path\n",
    "service = Service(driver_path)\n",
    "\n",
    "# Set up the Edge WebDriver using the Service object\n",
    "driver = webdriver.Edge(service=service)\n",
    "\n",
    "# Navigate to Amazon.in best sellers page\n",
    "driver.get('https://www.amazon.in/gp/bestsellers/kitchen/1380566031/ref=zg_bs_nav_kitchen_2_1380565031')\n",
    "\n",
    "# Find the top 3 best sellers\n",
    "best_sellers = driver.find_elements(by='css selector', value='.a-column')[:3]\n",
    "\n",
    "# Create an empty list to store the links\n",
    "data = []\n",
    "\n",
    "# Extract and store the links for the top 3 best sellers\n",
    "for index, product in enumerate(best_sellers, start=1):\n",
    "    product_link_element = product.find_element(by='css selector', value='a.a-link-normal')\n",
    "    product_link = product_link_element.get_attribute('href')  # Get the 'href' attribute\n",
    "    data.append({'Link': product_link})\n",
    "\n",
    "    print(f\"Top {index} Link: {product_link}\")\n",
    "\n",
    "# Close the WebDriver\n",
    "driver.quit()\n",
    "\n",
    "# Create a pandas DataFrame from the scraped links\n",
    "df = pd.DataFrame(data)\n",
    "\n",
    "# Export the DataFrame to an Excel file\n",
    "excel_file_path = \"Irons, Steamers & Accessories.xlsx\"\n",
    "df.to_excel(excel_file_path, index=False)\n",
    "\n",
    "print(f\"Scraped data saved to {excel_file_path}\")"
   ]
  },
  {
   "cell_type": "markdown",
   "metadata": {},
   "source": [
    "https://www.amazon.in/gp/bestsellers/kitchen/1380567031/ref=zg_bs_nav_kitchen_3_1380566031"
   ]
  },
  {
   "cell_type": "code",
   "execution_count": null,
   "metadata": {},
   "outputs": [
    {
     "name": "stdout",
     "output_type": "stream",
     "text": [
      "Top 1 Link: https://www.amazon.in/Kuber-Industries-Laundry-Organiser-LMESH02/dp/B077K1HFZ3/ref=zg_bs_g_1380567031_sccl_1/260-1941967-5012345?psc=1\n",
      "Top 2 Link: https://www.amazon.in/ELECTOMANIA-Retractable-Handheld-Portable-Antislip/dp/B0BYDN43YL/ref=zg_bs_g_1380567031_sccl_2/260-1941967-5012345?psc=1\n",
      "Top 3 Link: https://www.amazon.in/PrettyKrafts-Laundry-Basket-Clothes-Handles/dp/B0814P4L98/ref=zg_bs_g_1380567031_sccl_3/260-1941967-5012345?psc=1\n",
      "Scraped data saved to Ironing Accessories.xlsx\n"
     ]
    }
   ],
   "source": [
    "from selenium import webdriver\n",
    "from selenium.webdriver.edge.service import Service\n",
    "import pandas as pd\n",
    "\n",
    "# Specify the path to the Edge WebDriver executable\n",
    "driver_path = \"C:\\\\Users\\\\uppada satwik\\\\Downloads\\\\edgedriver_win64\\\\msedgedriver.exe\"\n",
    "\n",
    "# Create a Service object with the executable path\n",
    "service = Service(driver_path)\n",
    "\n",
    "# Set up the Edge WebDriver using the Service object\n",
    "driver = webdriver.Edge(service=service)\n",
    "\n",
    "# Navigate to Amazon.in best sellers page\n",
    "driver.get('https://www.amazon.in/gp/bestsellers/kitchen/1380567031/ref=zg_bs_nav_kitchen_3_1380566031')\n",
    "\n",
    "# Find the top 3 best sellers\n",
    "best_sellers = driver.find_elements(by='css selector', value='.a-column')[:3]\n",
    "\n",
    "# Create an empty list to store the links\n",
    "data = []\n",
    "\n",
    "# Extract and store the links for the top 3 best sellers\n",
    "for index, product in enumerate(best_sellers, start=1):\n",
    "    product_link_element = product.find_element(by='css selector', value='a.a-link-normal')\n",
    "    product_link = product_link_element.get_attribute('href')  # Get the 'href' attribute\n",
    "    data.append({'Link': product_link})\n",
    "\n",
    "    print(f\"Top {index} Link: {product_link}\")\n",
    "\n",
    "# Close the WebDriver\n",
    "driver.quit()\n",
    "\n",
    "# Create a pandas DataFrame from the scraped links\n",
    "df = pd.DataFrame(data)\n",
    "\n",
    "# Export the DataFrame to an Excel file\n",
    "excel_file_path = \"Ironing Accessories.xlsx\"\n",
    "df.to_excel(excel_file_path, index=False)\n",
    "\n",
    "print(f\"Scraped data saved to {excel_file_path}\")"
   ]
  },
  {
   "cell_type": "markdown",
   "metadata": {},
   "source": []
  },
  {
   "cell_type": "code",
   "execution_count": null,
   "metadata": {},
   "outputs": [
    {
     "name": "stdout",
     "output_type": "stream",
     "text": [
      "Top 1 Link: https://www.amazon.in/Encasa-Ironing-Standard-Reflective-Resistant/dp/B09BYJC1SW/ref=zg_bs_g_1380571031_sccl_1/260-4098625-4207537?psc=1\n",
      "Top 2 Link: https://www.amazon.in/Encasa-Homes-Ironing-109-114cms-30-36cms/dp/B071FNPVGT/ref=zg_bs_g_1380571031_sccl_2/260-4098625-4207537?psc=1\n",
      "Top 3 Link: https://www.amazon.in/Lukzer-Ironing-Cloth-Protective-Clothes/dp/B07G79S4KJ/ref=zg_bs_g_1380571031_sccl_3/260-4098625-4207537?psc=1\n",
      "Scraped data saved to Ironing Board Covers.xlsx\n"
     ]
    }
   ],
   "source": [
    "from selenium import webdriver\n",
    "from selenium.webdriver.edge.service import Service\n",
    "import pandas as pd\n",
    "\n",
    "# Specify the path to the Edge WebDriver executable\n",
    "driver_path = \"C:\\\\Users\\\\uppada satwik\\\\Downloads\\\\edgedriver_win64\\\\msedgedriver.exe\"\n",
    "\n",
    "# Create a Service object with the executable path\n",
    "service = Service(driver_path)\n",
    "\n",
    "# Set up the Edge WebDriver using the Service object\n",
    "driver = webdriver.Edge(service=service)\n",
    "\n",
    "# Navigate to Amazon.in best sellers page\n",
    "driver.get('https://www.amazon.in/gp/bestsellers/kitchen/1380571031/ref=zg_bs_nav_kitchen_4_1380567031')\n",
    "\n",
    "# Find the top 3 best sellers\n",
    "best_sellers = driver.find_elements(by='css selector', value='.a-column')[:3]\n",
    "\n",
    "# Create an empty list to store the links\n",
    "data = []\n",
    "\n",
    "# Extract and store the links for the top 3 best sellers\n",
    "for index, product in enumerate(best_sellers, start=1):\n",
    "    product_link_element = product.find_element(by='css selector', value='a.a-link-normal')\n",
    "    product_link = product_link_element.get_attribute('href')  # Get the 'href' attribute\n",
    "    data.append({'Link': product_link})\n",
    "\n",
    "    print(f\"Top {index} Link: {product_link}\")\n",
    "\n",
    "# Close the WebDriver\n",
    "driver.quit()\n",
    "\n",
    "# Create a pandas DataFrame from the scraped links\n",
    "df = pd.DataFrame(data)\n",
    "\n",
    "# Export the DataFrame to an Excel file\n",
    "excel_file_path = \"Ironing Board Covers.xlsx\"\n",
    "df.to_excel(excel_file_path, index=False)\n",
    "\n",
    "print(f\"Scraped data saved to {excel_file_path}\")"
   ]
  },
  {
   "cell_type": "markdown",
   "metadata": {},
   "source": [
    "https://www.amazon.in/gp/bestsellers/kitchen/1380550031/ref=zg_bs_nav_kitchen_4_51396836031"
   ]
  },
  {
   "cell_type": "code",
   "execution_count": null,
   "metadata": {},
   "outputs": [
    {
     "name": "stdout",
     "output_type": "stream",
     "text": [
      "Top 1 Link: https://www.amazon.in/Kuber-Industries-Laundry-Organiser-LMESH02/dp/B077K1HFZ3/ref=zg_bs_g_1380550031_sccl_1/258-0630151-0753521?psc=1\n",
      "Top 2 Link: https://www.amazon.in/PrettyKrafts-Laundry-Basket-Clothes-Handles/dp/B0814P4L98/ref=zg_bs_g_1380550031_sccl_2/258-0630151-0753521?psc=1\n",
      "Top 3 Link: https://www.amazon.in/Plastic-Laundry-Basket-Light-Grey/dp/B01LY9W8AF/ref=zg_bs_g_1380550031_sccl_3/258-0630151-0753521?psc=1\n",
      "Scraped data saved to Laundry Baskets.xlsx\n"
     ]
    }
   ],
   "source": [
    "from selenium import webdriver\n",
    "from selenium.webdriver.edge.service import Service\n",
    "import pandas as pd\n",
    "\n",
    "# Specify the path to the Edge WebDriver executable\n",
    "driver_path = \"C:\\\\Users\\\\uppada satwik\\\\Downloads\\\\edgedriver_win64\\\\msedgedriver.exe\"\n",
    "\n",
    "# Create a Service object with the executable path\n",
    "service = Service(driver_path)\n",
    "\n",
    "# Set up the Edge WebDriver using the Service object\n",
    "driver = webdriver.Edge(service=service)\n",
    "\n",
    "# Navigate to Amazon.in best sellers page\n",
    "driver.get('https://www.amazon.in/gp/bestsellers/kitchen/1380550031/ref=zg_bs_nav_kitchen_4_51396836031')\n",
    "\n",
    "# Find the top 3 best sellers\n",
    "best_sellers = driver.find_elements(by='css selector', value='.a-column')[:3]\n",
    "\n",
    "# Create an empty list to store the links\n",
    "data = []\n",
    "\n",
    "# Extract and store the links for the top 3 best sellers\n",
    "for index, product in enumerate(best_sellers, start=1):\n",
    "    product_link_element = product.find_element(by='css selector', value='a.a-link-normal')\n",
    "    product_link = product_link_element.get_attribute('href')  # Get the 'href' attribute\n",
    "    data.append({'Link': product_link})\n",
    "\n",
    "    print(f\"Top {index} Link: {product_link}\")\n",
    "\n",
    "# Close the WebDriver\n",
    "driver.quit()\n",
    "\n",
    "# Create a pandas DataFrame from the scraped links\n",
    "df = pd.DataFrame(data)\n",
    "\n",
    "# Export the DataFrame to an Excel file\n",
    "excel_file_path = \"Laundry Baskets.xlsx\"\n",
    "df.to_excel(excel_file_path, index=False)\n",
    "\n",
    "print(f\"Scraped data saved to {excel_file_path}\")"
   ]
  },
  {
   "cell_type": "markdown",
   "metadata": {},
   "source": [
    "https://www.amazon.in/gp/bestsellers/kitchen/1380551031/ref=zg_bs_nav_kitchen_3_1380550031\n",
    "\n",
    "\n",
    "Laundry Bins"
   ]
  },
  {
   "cell_type": "code",
   "execution_count": null,
   "metadata": {},
   "outputs": [
    {
     "name": "stdout",
     "output_type": "stream",
     "text": [
      "Top 1 Link: https://www.amazon.in/Kuber-Industries-Laundry-Basket-CTKTC21482/dp/B07XMG59H1/ref=zg_bs_g_1380551031_sccl_1/262-0732481-1004532?psc=1\n",
      "Top 2 Link: https://www.amazon.in/HomeStorie%C2%AE-Eco-Friendly-Foldable-Bamboo-Laundry/dp/B079PZHGTY/ref=zg_bs_g_1380551031_sccl_2/262-0732481-1004532?psc=1\n",
      "Top 3 Link: https://www.amazon.in/House-Quirk-Collapsible-Freestanding-Waterproof/dp/B0BQR3Q5KX/ref=zg_bs_g_1380551031_sccl_3/262-0732481-1004532?psc=1\n",
      "Scraped data saved to Laundry Bins.xlsx\n"
     ]
    }
   ],
   "source": [
    "from selenium import webdriver\n",
    "from selenium.webdriver.edge.service import Service\n",
    "import pandas as pd\n",
    "\n",
    "# Specify the path to the Edge WebDriver executable\n",
    "driver_path = \"C:\\\\Users\\\\uppada satwik\\\\Downloads\\\\edgedriver_win64\\\\msedgedriver.exe\"\n",
    "\n",
    "# Create a Service object with the executable path\n",
    "service = Service(driver_path)\n",
    "\n",
    "# Set up the Edge WebDriver using the Service object\n",
    "driver = webdriver.Edge(service=service)\n",
    "\n",
    "# Navigate to Amazon.in best sellers page\n",
    "driver.get('https://www.amazon.in/gp/bestsellers/kitchen/1380551031/ref=zg_bs_nav_kitchen_3_1380550031')\n",
    "\n",
    "# Find the top 3 best sellers\n",
    "best_sellers = driver.find_elements(by='css selector', value='.a-column')[:3]\n",
    "\n",
    "# Create an empty list to store the links\n",
    "data = []\n",
    "\n",
    "# Extract and store the links for the top 3 best sellers\n",
    "for index, product in enumerate(best_sellers, start=1):\n",
    "    product_link_element = product.find_element(by='css selector', value='a.a-link-normal')\n",
    "    product_link = product_link_element.get_attribute('href')  # Get the 'href' attribute\n",
    "    data.append({'Link': product_link})\n",
    "\n",
    "    print(f\"Top {index} Link: {product_link}\")\n",
    "\n",
    "# Close the WebDriver\n",
    "driver.quit()\n",
    "\n",
    "# Create a pandas DataFrame from the scraped links\n",
    "df = pd.DataFrame(data)\n",
    "\n",
    "# Export the DataFrame to an Excel file\n",
    "excel_file_path = \"Laundry Bins.xlsx\"\n",
    "df.to_excel(excel_file_path, index=False)\n",
    "\n",
    "print(f\"Scraped data saved to {excel_file_path}\")"
   ]
  },
  {
   "cell_type": "markdown",
   "metadata": {},
   "source": [
    "https://www.amazon.in/gp/bestsellers/kitchen/8464340031/ref=zg_bs_nav_kitchen_3_1380551031\n",
    "\n",
    "Pop-Up Laundry Hampers"
   ]
  },
  {
   "cell_type": "code",
   "execution_count": null,
   "metadata": {},
   "outputs": [
    {
     "name": "stdout",
     "output_type": "stream",
     "text": [
      "Top 1 Link: https://www.amazon.in/EXCLUSIVE-Multipurpose-Foldable-Collapsible-39X39X42cm/dp/B0825RNS76/ref=zg_bs_g_8464340031_sccl_1/258-4347002-0996506?psc=1\n",
      "Top 2 Link: https://www.amazon.in/Kids-Mandi-Multicolor-Collapsible-Dormitory/dp/B08XBHGBGZ/ref=zg_bs_g_8464340031_sccl_2/258-4347002-0996506?psc=1\n",
      "Top 3 Link: https://www.amazon.in/HomeHacks-Laundry-Hampers-organization-Gradient/dp/B09KTDR14X/ref=zg_bs_g_8464340031_sccl_3/258-4347002-0996506?psc=1\n",
      "Scraped data saved to Pop-Up Laundry Hampers.xlsx\n"
     ]
    }
   ],
   "source": [
    "from selenium import webdriver\n",
    "from selenium.webdriver.edge.service import Service\n",
    "import pandas as pd\n",
    "\n",
    "# Specify the path to the Edge WebDriver executable\n",
    "driver_path = \"C:\\\\Users\\\\uppada satwik\\\\Downloads\\\\edgedriver_win64\\\\msedgedriver.exe\"\n",
    "\n",
    "# Create a Service object with the executable path\n",
    "service = Service(driver_path)\n",
    "\n",
    "# Set up the Edge WebDriver using the Service object\n",
    "driver = webdriver.Edge(service=service)\n",
    "\n",
    "# Navigate to Amazon.in best sellers page\n",
    "driver.get('https://www.amazon.in/gp/bestsellers/kitchen/8464340031/ref=zg_bs_nav_kitchen_3_1380551031')\n",
    "\n",
    "# Find the top 3 best sellers\n",
    "best_sellers = driver.find_elements(by='css selector', value='.a-column')[:3]\n",
    "\n",
    "# Create an empty list to store the links\n",
    "data = []\n",
    "\n",
    "# Extract and store the links for the top 3 best sellers\n",
    "for index, product in enumerate(best_sellers, start=1):\n",
    "    product_link_element = product.find_element(by='css selector', value='a.a-link-normal')\n",
    "    product_link = product_link_element.get_attribute('href')  # Get the 'href' attribute\n",
    "    data.append({'Link': product_link})\n",
    "\n",
    "    print(f\"Top {index} Link: {product_link}\")\n",
    "\n",
    "# Close the WebDriver\n",
    "driver.quit()\n",
    "\n",
    "# Create a pandas DataFrame from the scraped links\n",
    "df = pd.DataFrame(data)\n",
    "\n",
    "# Export the DataFrame to an Excel file\n",
    "excel_file_path = \"Pop-Up Laundry Hampers.xlsx\"\n",
    "df.to_excel(excel_file_path, index=False)\n",
    "\n",
    "print(f\"Scraped data saved to {excel_file_path}\")"
   ]
  },
  {
   "cell_type": "markdown",
   "metadata": {},
   "source": [
    "https://www.amazon.in/gp/bestsellers/kitchen/1380553031/ref=zg_bs_nav_kitchen_3_8464340031"
   ]
  },
  {
   "cell_type": "markdown",
   "metadata": {},
   "source": [
    "Clothes Pegs"
   ]
  },
  {
   "cell_type": "code",
   "execution_count": null,
   "metadata": {},
   "outputs": [
    {
     "name": "stdout",
     "output_type": "stream",
     "text": [
      "Top 1 Link: https://www.amazon.in/WEWEL%C2%AEPremium-Cloth-Clips-Drying-Clothes/dp/B09N95MQ8Z/ref=zg_bs_g_1380553031_sccl_1/262-0092673-7228374?psc=1\n",
      "Top 2 Link: https://www.amazon.in/WEWEL%C2%AE-Quality-Stainless-Hanging-Storage/dp/B09SDY14K6/ref=zg_bs_g_1380553031_sccl_2/262-0092673-7228374?psc=1\n",
      "Top 3 Link: https://www.amazon.in/WEWEL%C2%AE-Premium-Cloth-Drying-Clothes/dp/B0C2ZNVRMY/ref=zg_bs_g_1380553031_sccl_3/262-0092673-7228374?psc=1\n",
      "Scraped data saved to Clothes Pegs.xlsx\n"
     ]
    }
   ],
   "source": [
    "from selenium import webdriver\n",
    "from selenium.webdriver.edge.service import Service\n",
    "import pandas as pd\n",
    "\n",
    "# Specify the path to the Edge WebDriver executable\n",
    "driver_path = \"C:\\\\Users\\\\uppada satwik\\\\Downloads\\\\edgedriver_win64\\\\msedgedriver.exe\"\n",
    "\n",
    "# Create a Service object with the executable path\n",
    "service = Service(driver_path)\n",
    "\n",
    "# Set up the Edge WebDriver using the Service object\n",
    "driver = webdriver.Edge(service=service)\n",
    "\n",
    "# Navigate to Amazon.in best sellers page\n",
    "driver.get('https://www.amazon.in/gp/bestsellers/kitchen/1380553031/ref=zg_bs_nav_kitchen_3_8464340031')\n",
    "\n",
    "# Find the top 3 best sellers\n",
    "best_sellers = driver.find_elements(by='css selector', value='.a-column')[:3]\n",
    "\n",
    "# Create an empty list to store the links\n",
    "data = []\n",
    "\n",
    "# Extract and store the links for the top 3 best sellers\n",
    "for index, product in enumerate(best_sellers, start=1):\n",
    "    product_link_element = product.find_element(by='css selector', value='a.a-link-normal')\n",
    "    product_link = product_link_element.get_attribute('href')  # Get the 'href' attribute\n",
    "    data.append({'Link': product_link})\n",
    "\n",
    "    print(f\"Top {index} Link: {product_link}\")\n",
    "\n",
    "# Close the WebDriver\n",
    "driver.quit()\n",
    "\n",
    "# Create a pandas DataFrame from the scraped links\n",
    "df = pd.DataFrame(data)\n",
    "\n",
    "# Export the DataFrame to an Excel file\n",
    "excel_file_path = \"Clothes Pegs.xlsx\"\n",
    "df.to_excel(excel_file_path, index=False)\n",
    "\n",
    "print(f\"Scraped data saved to {excel_file_path}\")"
   ]
  },
  {
   "cell_type": "markdown",
   "metadata": {},
   "source": [
    "https://www.amazon.in/gp/bestsellers/kitchen/8464336031/ref=zg_bs_nav_kitchen_3_1380553031"
   ]
  },
  {
   "cell_type": "markdown",
   "metadata": {},
   "source": [
    "Clotheslines"
   ]
  },
  {
   "cell_type": "code",
   "execution_count": null,
   "metadata": {},
   "outputs": [
    {
     "name": "stdout",
     "output_type": "stream",
     "text": [
      "Top 1 Link: https://www.amazon.in/Clothesline-Adjustable-Clothespins-Wind-Proof-Multicolour/dp/B0BYW18GKD/ref=zg_bs_g_8464336031_sccl_1/257-4146914-8399556?psc=1\n",
      "Top 2 Link: https://www.amazon.in/VazzLox-Elastic-Hanging-Clothes-Multicolor/dp/B0C1SR6F98/ref=zg_bs_g_8464336031_sccl_2/257-4146914-8399556?psc=1\n",
      "Top 3 Link: https://www.amazon.in/Trustware-Hanging-Clothes-Clothesline-Indoor-25M/dp/B08NFWDW8X/ref=zg_bs_g_8464336031_sccl_3/257-4146914-8399556?psc=1\n",
      "Scraped data saved to Clotheslines.xlsx\n"
     ]
    }
   ],
   "source": [
    "from selenium import webdriver\n",
    "from selenium.webdriver.edge.service import Service\n",
    "import pandas as pd\n",
    "\n",
    "# Specify the path to the Edge WebDriver executable\n",
    "driver_path = \"C:\\\\Users\\\\uppada satwik\\\\Downloads\\\\edgedriver_win64\\\\msedgedriver.exe\"\n",
    "\n",
    "# Create a Service object with the executable path\n",
    "service = Service(driver_path)\n",
    "\n",
    "# Set up the Edge WebDriver using the Service object\n",
    "driver = webdriver.Edge(service=service)\n",
    "\n",
    "# Navigate to Amazon.in best sellers page\n",
    "driver.get('https://www.amazon.in/gp/bestsellers/kitchen/8464336031/ref=zg_bs_nav_kitchen_3_1380553031')\n",
    "\n",
    "# Find the top 3 best sellers\n",
    "best_sellers = driver.find_elements(by='css selector', value='.a-column')[:3]\n",
    "\n",
    "# Create an empty list to store the links\n",
    "data = []\n",
    "\n",
    "# Extract and store the links for the top 3 best sellers\n",
    "for index, product in enumerate(best_sellers, start=1):\n",
    "    product_link_element = product.find_element(by='css selector', value='a.a-link-normal')\n",
    "    product_link = product_link_element.get_attribute('href')  # Get the 'href' attribute\n",
    "    data.append({'Link': product_link})\n",
    "\n",
    "    print(f\"Top {index} Link: {product_link}\")\n",
    "\n",
    "# Close the WebDriver\n",
    "driver.quit()\n",
    "\n",
    "# Create a pandas DataFrame from the scraped links\n",
    "df = pd.DataFrame(data)\n",
    "\n",
    "# Export the DataFrame to an Excel file\n",
    "excel_file_path = \"Clotheslines.xlsx\"\n",
    "df.to_excel(excel_file_path, index=False)\n",
    "\n",
    "print(f\"Scraped data saved to {excel_file_path}\")"
   ]
  },
  {
   "cell_type": "markdown",
   "metadata": {},
   "source": [
    "https://www.amazon.in/gp/bestsellers/kitchen/1380548031/ref=zg_bs_nav_kitchen_3_8464336031"
   ]
  },
  {
   "cell_type": "markdown",
   "metadata": {},
   "source": [
    "Drying Racks"
   ]
  },
  {
   "cell_type": "code",
   "execution_count": null,
   "metadata": {},
   "outputs": [
    {
     "name": "stdout",
     "output_type": "stream",
     "text": [
      "Top 1 Link: https://www.amazon.in/LiMETRO-STEEL-Stainless-Foldable-Double/dp/B07PPBD529/ref=zg_bs_g_1380548031_sccl_1/257-8538239-4492545?psc=1\n",
      "Top 2 Link: https://www.amazon.in/LIVINGBASICS-Clothes-Foldable-Balcony-Hanging/dp/B07P6LD6RC/ref=zg_bs_g_1380548031_sccl_2/257-8538239-4492545?psc=1\n",
      "Top 3 Link: https://www.amazon.in/Happer-Supported-Breaking-Prince-Jumbo/dp/B08243CLRL/ref=zg_bs_g_1380548031_sccl_3/257-8538239-4492545?psc=1\n",
      "Scraped data saved to Drying Racks.xlsx\n"
     ]
    }
   ],
   "source": [
    "from selenium import webdriver\n",
    "from selenium.webdriver.edge.service import Service\n",
    "import pandas as pd\n",
    "\n",
    "# Specify the path to the Edge WebDriver executable\n",
    "driver_path = \"C:\\\\Users\\\\uppada satwik\\\\Downloads\\\\edgedriver_win64\\\\msedgedriver.exe\"\n",
    "\n",
    "# Create a Service object with the executable path\n",
    "service = Service(driver_path)\n",
    "\n",
    "# Set up the Edge WebDriver using the Service object\n",
    "driver = webdriver.Edge(service=service)\n",
    "\n",
    "# Navigate to Amazon.in best sellers page\n",
    "driver.get('https://www.amazon.in/gp/bestsellers/kitchen/1380548031/ref=zg_bs_nav_kitchen_3_8464336031')\n",
    "\n",
    "# Find the top 3 best sellers\n",
    "best_sellers = driver.find_elements(by='css selector', value='.a-column')[:3]\n",
    "\n",
    "# Create an empty list to store the links\n",
    "data = []\n",
    "\n",
    "# Extract and store the links for the top 3 best sellers\n",
    "for index, product in enumerate(best_sellers, start=1):\n",
    "    product_link_element = product.find_element(by='css selector', value='a.a-link-normal')\n",
    "    product_link = product_link_element.get_attribute('href')  # Get the 'href' attribute\n",
    "    data.append({'Link': product_link})\n",
    "\n",
    "    print(f\"Top {index} Link: {product_link}\")\n",
    "\n",
    "# Close the WebDriver\n",
    "driver.quit()\n",
    "\n",
    "# Create a pandas DataFrame from the scraped links\n",
    "df = pd.DataFrame(data)\n",
    "\n",
    "# Export the DataFrame to an Excel file\n",
    "excel_file_path = \"Drying Racks.xlsx\"\n",
    "df.to_excel(excel_file_path, index=False)\n",
    "\n",
    "print(f\"Scraped data saved to {excel_file_path}\")"
   ]
  },
  {
   "cell_type": "markdown",
   "metadata": {},
   "source": [
    "https://www.amazon.in/gp/bestsellers/kitchen/2083413031/ref=zg_bs_nav_kitchen_2_1380565031"
   ]
  },
  {
   "cell_type": "markdown",
   "metadata": {},
   "source": [
    "Pressure Washers, Steam & Window Cleaners"
   ]
  },
  {
   "cell_type": "code",
   "execution_count": null,
   "metadata": {},
   "outputs": [
    {
     "name": "stdout",
     "output_type": "stream",
     "text": [
      "Top 1 Link: https://www.amazon.in/Supreme-Pressure-Portable-Cleaning-Purpose/dp/B09VKWGZD7/ref=zg_bs_g_2083413031_sccl_1/260-8339077-4085927?psc=1\n",
      "Top 2 Link: https://www.amazon.in/Shakti-Technology-S5-Pressure-Machine/dp/B0B2CWRDB1/ref=zg_bs_g_2083413031_sccl_2/260-8339077-4085927?psc=1\n",
      "Top 3 Link: https://www.amazon.in/Bosch-Aquatak-125-1500-Watt-Pressure/dp/B07BLCWPNR/ref=zg_bs_g_2083413031_sccl_3/260-8339077-4085927?psc=1\n",
      "Scraped data saved to Pressure Washers, Steam & Window Cleaners.xlsx\n"
     ]
    }
   ],
   "source": [
    "from selenium import webdriver\n",
    "from selenium.webdriver.edge.service import Service\n",
    "import pandas as pd\n",
    "\n",
    "# Specify the path to the Edge WebDriver executable\n",
    "driver_path = \"C:\\\\Users\\\\uppada satwik\\\\Downloads\\\\edgedriver_win64\\\\msedgedriver.exe\"\n",
    "\n",
    "# Create a Service object with the executable path\n",
    "service = Service(driver_path)\n",
    "\n",
    "# Set up the Edge WebDriver using the Service object\n",
    "driver = webdriver.Edge(service=service)\n",
    "\n",
    "# Navigate to Amazon.in best sellers page\n",
    "driver.get('https://www.amazon.in/gp/bestsellers/kitchen/2083413031/ref=zg_bs_nav_kitchen_2_1380565031')\n",
    "\n",
    "# Find the top 3 best sellers\n",
    "best_sellers = driver.find_elements(by='css selector', value='.a-column')[:3]\n",
    "\n",
    "# Create an empty list to store the links\n",
    "data = []\n",
    "\n",
    "# Extract and store the links for the top 3 best sellers\n",
    "for index, product in enumerate(best_sellers, start=1):\n",
    "    product_link_element = product.find_element(by='css selector', value='a.a-link-normal')\n",
    "    product_link = product_link_element.get_attribute('href')  # Get the 'href' attribute\n",
    "    data.append({'Link': product_link})\n",
    "\n",
    "    print(f\"Top {index} Link: {product_link}\")\n",
    "\n",
    "# Close the WebDriver\n",
    "driver.quit()\n",
    "\n",
    "# Create a pandas DataFrame from the scraped links\n",
    "df = pd.DataFrame(data)\n",
    "\n",
    "# Export the DataFrame to an Excel file\n",
    "excel_file_path = \"Pressure Washers, Steam & Window Cleaners.xlsx\"\n",
    "df.to_excel(excel_file_path, index=False)\n",
    "\n",
    "print(f\"Scraped data saved to {excel_file_path}\")"
   ]
  },
  {
   "cell_type": "markdown",
   "metadata": {},
   "source": [
    "https://www.amazon.in/gp/bestsellers/kitchen/1380585031/ref=zg_bs_nav_kitchen_2_2083413031"
   ]
  },
  {
   "cell_type": "markdown",
   "metadata": {},
   "source": [
    "Vacuums & Floor Care"
   ]
  },
  {
   "cell_type": "code",
   "execution_count": null,
   "metadata": {},
   "outputs": [
    {
     "name": "stdout",
     "output_type": "stream",
     "text": [
      "Top 1 Link: https://www.amazon.in/AGARO-800-Watt-Handheld-Cleaner-Durable/dp/B07SRM58TP/ref=zg_bs_g_1380585031_sccl_1/259-8867215-1697318?psc=1\n",
      "Top 2 Link: https://www.amazon.in/Ace-1600-Watt-21-Litre-Stainless-Function/dp/B07RCGTZ4M/ref=zg_bs_g_1380585031_sccl_2/259-8867215-1697318?psc=1\n",
      "Top 3 Link: https://www.amazon.in/INALSA-Handheld-Vacuum-Cleaner-Powerful/dp/B0C5DW4D3G/ref=zg_bs_g_1380585031_sccl_3/259-8867215-1697318?psc=1\n",
      "Scraped data saved to Vacuums & Floor Care.xlsx\n"
     ]
    }
   ],
   "source": [
    "from selenium import webdriver\n",
    "from selenium.webdriver.edge.service import Service\n",
    "import pandas as pd\n",
    "\n",
    "# Specify the path to the Edge WebDriver executable\n",
    "driver_path = \"C:\\\\Users\\\\uppada satwik\\\\Downloads\\\\edgedriver_win64\\\\msedgedriver.exe\"\n",
    "\n",
    "# Create a Service object with the executable path\n",
    "service = Service(driver_path)\n",
    "\n",
    "# Set up the Edge WebDriver using the Service object\n",
    "driver = webdriver.Edge(service=service)\n",
    "\n",
    "# Navigate to Amazon.in best sellers page\n",
    "driver.get('https://www.amazon.in/gp/bestsellers/kitchen/1380585031/ref=zg_bs_nav_kitchen_2_2083413031')\n",
    "\n",
    "# Find the top 3 best sellers\n",
    "best_sellers = driver.find_elements(by='css selector', value='.a-column')[:3]\n",
    "\n",
    "# Create an empty list to store the links\n",
    "data = []\n",
    "\n",
    "# Extract and store the links for the top 3 best sellers\n",
    "for index, product in enumerate(best_sellers, start=1):\n",
    "    product_link_element = product.find_element(by='css selector', value='a.a-link-normal')\n",
    "    product_link = product_link_element.get_attribute('href')  # Get the 'href' attribute\n",
    "    data.append({'Link': product_link})\n",
    "\n",
    "    print(f\"Top {index} Link: {product_link}\")\n",
    "\n",
    "# Close the WebDriver\n",
    "driver.quit()\n",
    "\n",
    "# Create a pandas DataFrame from the scraped links\n",
    "df = pd.DataFrame(data)\n",
    "\n",
    "# Export the DataFrame to an Excel file\n",
    "excel_file_path = \"Vacuums & Floor Care.xlsx\"\n",
    "df.to_excel(excel_file_path, index=False)\n",
    "\n",
    "print(f\"Scraped data saved to {excel_file_path}\")"
   ]
  },
  {
   "cell_type": "markdown",
   "metadata": {},
   "source": [
    "https://www.amazon.in/gp/bestsellers/kitchen/1380588031/ref=zg_bs_nav_kitchen_3_1380585031"
   ]
  },
  {
   "cell_type": "markdown",
   "metadata": {},
   "source": [
    "Carpet Sweepers"
   ]
  },
  {
   "cell_type": "code",
   "execution_count": null,
   "metadata": {},
   "outputs": [
    {
     "name": "stdout",
     "output_type": "stream",
     "text": [
      "Top 1 Link: https://www.amazon.in/Vararo-Plastic-Cleaning-Handheld-Multicolour/dp/B08WK32VRW/ref=zg_bs_g_1380588031_sccl_1/262-0067609-1143237?psc=1\n",
      "Top 2 Link: https://www.amazon.in/PML-Magnetic-Sweepers-Sweeper-Release/dp/B07FTGRKCJ/ref=zg_bs_g_1380588031_sccl_2/262-0067609-1143237?psc=1\n",
      "Top 3 Link: https://www.amazon.in/Bissell-Natural-Sweeper-Rotating-92N0A/dp/B001GL1NXU/ref=zg_bs_g_1380588031_sccl_3/262-0067609-1143237?psc=1\n",
      "Scraped data saved to Carpet Sweepers.xlsx\n"
     ]
    }
   ],
   "source": [
    "from selenium import webdriver\n",
    "from selenium.webdriver.edge.service import Service\n",
    "import pandas as pd\n",
    "\n",
    "# Specify the path to the Edge WebDriver executable\n",
    "driver_path = \"C:\\\\Users\\\\uppada satwik\\\\Downloads\\\\edgedriver_win64\\\\msedgedriver.exe\"\n",
    "\n",
    "# Create a Service object with the executable path\n",
    "service = Service(driver_path)\n",
    "\n",
    "# Set up the Edge WebDriver using the Service object\n",
    "driver = webdriver.Edge(service=service)\n",
    "\n",
    "# Navigate to Amazon.in best sellers page\n",
    "driver.get('https://www.amazon.in/gp/bestsellers/kitchen/1380588031/ref=zg_bs_nav_kitchen_3_1380585031')\n",
    "\n",
    "# Find the top 3 best sellers\n",
    "best_sellers = driver.find_elements(by='css selector', value='.a-column')[:3]\n",
    "\n",
    "# Create an empty list to store the links\n",
    "data = []\n",
    "\n",
    "# Extract and store the links for the top 3 best sellers\n",
    "for index, product in enumerate(best_sellers, start=1):\n",
    "    product_link_element = product.find_element(by='css selector', value='a.a-link-normal')\n",
    "    product_link = product_link_element.get_attribute('href')  # Get the 'href' attribute\n",
    "    data.append({'Link': product_link})\n",
    "\n",
    "    print(f\"Top {index} Link: {product_link}\")\n",
    "\n",
    "# Close the WebDriver\n",
    "driver.quit()\n",
    "\n",
    "# Create a pandas DataFrame from the scraped links\n",
    "df = pd.DataFrame(data)\n",
    "\n",
    "# Export the DataFrame to an Excel file\n",
    "excel_file_path = \"Carpet Sweepers.xlsx\"\n",
    "df.to_excel(excel_file_path, index=False)\n",
    "\n",
    "print(f\"Scraped data saved to {excel_file_path}\")"
   ]
  },
  {
   "cell_type": "markdown",
   "metadata": {},
   "source": [
    "https://www.amazon.in/gp/bestsellers/kitchen/1380590031/ref=zg_bs_nav_kitchen_3_1380588031"
   ]
  },
  {
   "cell_type": "markdown",
   "metadata": {},
   "source": [
    "Vacuum Accessories"
   ]
  },
  {
   "cell_type": "code",
   "execution_count": null,
   "metadata": {},
   "outputs": [
    {
     "name": "stdout",
     "output_type": "stream",
     "text": [
      "Top 1 Link: https://www.amazon.in/Dust-Bags-Karcher-3-200-Beige/dp/B073QN6G71/ref=zg_bs_g_1380590031_sccl_1/262-5346863-9199232?psc=1\n",
      "Top 2 Link: https://www.amazon.in/Futurekart-Basic-Vacuum-Cleaner-Accessory/dp/B08G1D6Z2P/ref=zg_bs_g_1380590031_sccl_2/262-5346863-9199232?psc=1\n",
      "Top 3 Link: https://www.amazon.in/Eureka-Forbes-Euroclean-Vacuum-Cleaner/dp/B07F6GXNPB/ref=zg_bs_g_1380590031_sccl_3/262-5346863-9199232?psc=1\n",
      "Scraped data saved to Vacuum Accessories.xlsx\n"
     ]
    }
   ],
   "source": [
    "from selenium import webdriver\n",
    "from selenium.webdriver.edge.service import Service\n",
    "import pandas as pd\n",
    "\n",
    "# Specify the path to the Edge WebDriver executable\n",
    "driver_path = \"C:\\\\Users\\\\uppada satwik\\\\Downloads\\\\edgedriver_win64\\\\msedgedriver.exe\"\n",
    "\n",
    "# Create a Service object with the executable path\n",
    "service = Service(driver_path)\n",
    "\n",
    "# Set up the Edge WebDriver using the Service object\n",
    "driver = webdriver.Edge(service=service)\n",
    "\n",
    "# Navigate to Amazon.in best sellers page\n",
    "driver.get('https://www.amazon.in/gp/bestsellers/kitchen/1380590031/ref=zg_bs_nav_kitchen_3_1380588031')\n",
    "\n",
    "# Find the top 3 best sellers\n",
    "best_sellers = driver.find_elements(by='css selector', value='.a-column')[:3]\n",
    "\n",
    "# Create an empty list to store the links\n",
    "data = []\n",
    "\n",
    "# Extract and store the links for the top 3 best sellers\n",
    "for index, product in enumerate(best_sellers, start=1):\n",
    "    product_link_element = product.find_element(by='css selector', value='a.a-link-normal')\n",
    "    product_link = product_link_element.get_attribute('href')  # Get the 'href' attribute\n",
    "    data.append({'Link': product_link})\n",
    "\n",
    "    print(f\"Top {index} Link: {product_link}\")\n",
    "\n",
    "# Close the WebDriver\n",
    "driver.quit()\n",
    "\n",
    "# Create a pandas DataFrame from the scraped links\n",
    "df = pd.DataFrame(data)\n",
    "\n",
    "# Export the DataFrame to an Excel file\n",
    "excel_file_path = \"Vacuum Accessories.xlsx\"\n",
    "df.to_excel(excel_file_path, index=False)\n",
    "\n",
    "print(f\"Scraped data saved to {excel_file_path}\")"
   ]
  },
  {
   "cell_type": "markdown",
   "metadata": {},
   "source": [
    "https://www.amazon.in/gp/bestsellers/kitchen/1380606031/ref=zg_bs_nav_kitchen_4_1380590031"
   ]
  },
  {
   "cell_type": "markdown",
   "metadata": {},
   "source": [
    "Accessory Sets"
   ]
  },
  {
   "cell_type": "code",
   "execution_count": null,
   "metadata": {},
   "outputs": [
    {
     "name": "stdout",
     "output_type": "stream",
     "text": [
      "Top 1 Link: https://www.amazon.in/Futurekart-Basic-Vacuum-Cleaner-Accessory/dp/B08G1D6Z2P/ref=zg_bs_g_1380606031_sccl_1/260-2008782-7474506?psc=1\n",
      "Top 2 Link: https://www.amazon.in/Dyson-Detail-cleaning-kit-Cleaning/dp/B0C7R3QV49/ref=zg_bs_g_1380606031_sccl_2/260-2008782-7474506?psc=1\n",
      "Top 3 Link: https://www.amazon.in/SIXPLUS-Basic-Vacuum-Cleaner-Accessory/dp/B0BN39HN9P/ref=zg_bs_g_1380606031_sccl_3/260-2008782-7474506?psc=1\n",
      "Scraped data saved to Accessory Sets.xlsx\n"
     ]
    }
   ],
   "source": [
    "from selenium import webdriver\n",
    "from selenium.webdriver.edge.service import Service\n",
    "import pandas as pd\n",
    "\n",
    "# Specify the path to the Edge WebDriver executable\n",
    "driver_path = \"C:\\\\Users\\\\uppada satwik\\\\Downloads\\\\edgedriver_win64\\\\msedgedriver.exe\"\n",
    "\n",
    "# Create a Service object with the executable path\n",
    "service = Service(driver_path)\n",
    "\n",
    "# Set up the Edge WebDriver using the Service object\n",
    "driver = webdriver.Edge(service=service)\n",
    "\n",
    "# Navigate to Amazon.in best sellers page\n",
    "driver.get('https://www.amazon.in/gp/bestsellers/kitchen/1380606031/ref=zg_bs_nav_kitchen_4_1380590031')\n",
    "\n",
    "# Find the top 3 best sellers\n",
    "best_sellers = driver.find_elements(by='css selector', value='.a-column')[:3]\n",
    "\n",
    "# Create an empty list to store the links\n",
    "data = []\n",
    "\n",
    "# Extract and store the links for the top 3 best sellers\n",
    "for index, product in enumerate(best_sellers, start=1):\n",
    "    product_link_element = product.find_element(by='css selector', value='a.a-link-normal')\n",
    "    product_link = product_link_element.get_attribute('href')  # Get the 'href' attribute\n",
    "    data.append({'Link': product_link})\n",
    "\n",
    "    print(f\"Top {index} Link: {product_link}\")\n",
    "\n",
    "# Close the WebDriver\n",
    "driver.quit()\n",
    "\n",
    "# Create a pandas DataFrame from the scraped links\n",
    "df = pd.DataFrame(data)\n",
    "\n",
    "# Export the DataFrame to an Excel file\n",
    "excel_file_path = \"Accessory Sets.xlsx\"\n",
    "df.to_excel(excel_file_path, index=False)\n",
    "\n",
    "print(f\"Scraped data saved to {excel_file_path}\")"
   ]
  },
  {
   "cell_type": "markdown",
   "metadata": {},
   "source": [
    "https://www.amazon.in/gp/bestsellers/kitchen/1380591031/ref=zg_bs_nav_kitchen_4_1380606031"
   ]
  },
  {
   "cell_type": "markdown",
   "metadata": {},
   "source": [
    "Vacuum Bags"
   ]
  },
  {
   "cell_type": "code",
   "execution_count": null,
   "metadata": {},
   "outputs": [
    {
     "name": "stdout",
     "output_type": "stream",
     "text": [
      "Top 1 Link: https://www.amazon.in/Dust-Bags-Karcher-3-200-Beige/dp/B073QN6G71/ref=zg_bs_g_1380591031_sccl_1/259-4641786-7504806?psc=1\n",
      "Top 2 Link: https://www.amazon.in/Eureka-Forbes-Euroclean-Vacuum-Cleaner/dp/B07F6GXNPB/ref=zg_bs_g_1380591031_sccl_2/259-4641786-7504806?psc=1\n",
      "Top 3 Link: https://www.amazon.in/Vacuum-Cleaner-Compatible-Washable-Reusable/dp/B0BZKPSWZC/ref=zg_bs_g_1380591031_sccl_3/259-4641786-7504806?psc=1\n",
      "Scraped data saved to Vacuum Bags.xlsx\n"
     ]
    }
   ],
   "source": [
    "from selenium import webdriver\n",
    "from selenium.webdriver.edge.service import Service\n",
    "import pandas as pd\n",
    "\n",
    "# Specify the path to the Edge WebDriver executable\n",
    "driver_path = \"C:\\\\Users\\\\uppada satwik\\\\Downloads\\\\edgedriver_win64\\\\msedgedriver.exe\"\n",
    "\n",
    "# Create a Service object with the executable path\n",
    "service = Service(driver_path)\n",
    "\n",
    "# Set up the Edge WebDriver using the Service object\n",
    "driver = webdriver.Edge(service=service)\n",
    "\n",
    "# Navigate to Amazon.in best sellers page\n",
    "driver.get('https://www.amazon.in/gp/bestsellers/kitchen/1380591031/ref=zg_bs_nav_kitchen_4_1380606031')\n",
    "\n",
    "# Find the top 3 best sellers\n",
    "best_sellers = driver.find_elements(by='css selector', value='.a-column')[:3]\n",
    "\n",
    "# Create an empty list to store the links\n",
    "data = []\n",
    "\n",
    "# Extract and store the links for the top 3 best sellers\n",
    "for index, product in enumerate(best_sellers, start=1):\n",
    "    product_link_element = product.find_element(by='css selector', value='a.a-link-normal')\n",
    "    product_link = product_link_element.get_attribute('href')  # Get the 'href' attribute\n",
    "    data.append({'Link': product_link})\n",
    "\n",
    "    print(f\"Top {index} Link: {product_link}\")\n",
    "\n",
    "# Close the WebDriver\n",
    "driver.quit()\n",
    "\n",
    "# Create a pandas DataFrame from the scraped links\n",
    "df = pd.DataFrame(data)\n",
    "\n",
    "# Export the DataFrame to an Excel file\n",
    "excel_file_path = \"Vacuum Bags.xlsx\"\n",
    "df.to_excel(excel_file_path, index=False)\n",
    "\n",
    "print(f\"Scraped data saved to {excel_file_path}\")"
   ]
  },
  {
   "cell_type": "markdown",
   "metadata": {},
   "source": [
    "https://www.amazon.in/gp/bestsellers/kitchen/1380592031/ref=zg_bs_nav_kitchen_5_1380591031"
   ]
  },
  {
   "cell_type": "markdown",
   "metadata": {},
   "source": [
    "Canister Bags"
   ]
  },
  {
   "cell_type": "code",
   "execution_count": null,
   "metadata": {},
   "outputs": [
    {
     "name": "stdout",
     "output_type": "stream",
     "text": [
      "Top 1 Link: https://www.amazon.in/Dust-Bags-Karcher-3-200-Beige/dp/B073QN6G71/ref=zg_bs_g_1380592031_sccl_1/261-6081026-6956826?psc=1\n",
      "Top 2 Link: https://www.amazon.in/Vacuum-Cleaner-Compatible-Washable-Reusable/dp/B0BZKPSWZC/ref=zg_bs_g_1380592031_sccl_2/261-6081026-6956826?psc=1\n",
      "Top 3 Link: https://www.amazon.in/Reusable-Washable-Vacuum-Cleaner-Compatible/dp/B0BXJ2DLD3/ref=zg_bs_g_1380592031_sccl_3/261-6081026-6956826?psc=1\n",
      "Scraped data saved to Canister Bags.xlsx\n"
     ]
    }
   ],
   "source": [
    "from selenium import webdriver\n",
    "from selenium.webdriver.edge.service import Service\n",
    "import pandas as pd\n",
    "\n",
    "# Specify the path to the Edge WebDriver executable\n",
    "driver_path = \"C:\\\\Users\\\\uppada satwik\\\\Downloads\\\\edgedriver_win64\\\\msedgedriver.exe\"\n",
    "\n",
    "# Create a Service object with the executable path\n",
    "service = Service(driver_path)\n",
    "\n",
    "# Set up the Edge WebDriver using the Service object\n",
    "driver = webdriver.Edge(service=service)\n",
    "\n",
    "# Navigate to Amazon.in best sellers page\n",
    "driver.get('https://www.amazon.in/gp/bestsellers/kitchen/1380592031/ref=zg_bs_nav_kitchen_5_1380591031')\n",
    "\n",
    "# Find the top 3 best sellers\n",
    "best_sellers = driver.find_elements(by='css selector', value='.a-column')[:3]\n",
    "\n",
    "# Create an empty list to store the links\n",
    "data = []\n",
    "\n",
    "# Extract and store the links for the top 3 best sellers\n",
    "for index, product in enumerate(best_sellers, start=1):\n",
    "    product_link_element = product.find_element(by='css selector', value='a.a-link-normal')\n",
    "    product_link = product_link_element.get_attribute('href')  # Get the 'href' attribute\n",
    "    data.append({'Link': product_link})\n",
    "\n",
    "    print(f\"Top {index} Link: {product_link}\")\n",
    "\n",
    "# Close the WebDriver\n",
    "driver.quit()\n",
    "\n",
    "# Create a pandas DataFrame from the scraped links\n",
    "df = pd.DataFrame(data)\n",
    "\n",
    "# Export the DataFrame to an Excel file\n",
    "excel_file_path = \"Canister Bags.xlsx\"\n",
    "df.to_excel(excel_file_path, index=False)\n",
    "\n",
    "print(f\"Scraped data saved to {excel_file_path}\")"
   ]
  },
  {
   "cell_type": "markdown",
   "metadata": {},
   "source": [
    "https://www.amazon.in/gp/bestsellers/kitchen/1380593031/ref=zg_bs_nav_kitchen_5_51397177031"
   ]
  },
  {
   "cell_type": "markdown",
   "metadata": {},
   "source": [
    "Handheld Bags"
   ]
  },
  {
   "cell_type": "code",
   "execution_count": null,
   "metadata": {},
   "outputs": [
    {
     "name": "stdout",
     "output_type": "stream",
     "text": [
      "Top 1 Link: https://www.amazon.in/Eureka-Forbes-Euroclean-Vacuum-Cleaner/dp/B07F6GXNPB/ref=zg_bs_g_1380593031_sccl_1/258-6218027-6208744?psc=1\n",
      "Top 2 Link: https://www.amazon.in/Fun-Homes-Multiuses-Polyster-47FH01255/dp/B09NHRQZT4/ref=zg_bs_g_1380593031_sccl_2/258-6218027-6208744?psc=1\n",
      "Top 3 Link: https://www.amazon.in/Fun-Homes-Multiuses-Polyster-47FH01249/dp/B09NKN39N2/ref=zg_bs_g_1380593031_sccl_3/258-6218027-6208744?psc=1\n",
      "Scraped data saved to Handheld Bags.xlsx\n"
     ]
    }
   ],
   "source": [
    "from selenium import webdriver\n",
    "from selenium.webdriver.edge.service import Service\n",
    "import pandas as pd\n",
    "\n",
    "# Specify the path to the Edge WebDriver executable\n",
    "driver_path = \"C:\\\\Users\\\\uppada satwik\\\\Downloads\\\\edgedriver_win64\\\\msedgedriver.exe\"\n",
    "\n",
    "# Create a Service object with the executable path\n",
    "service = Service(driver_path)\n",
    "\n",
    "# Set up the Edge WebDriver using the Service object\n",
    "driver = webdriver.Edge(service=service)\n",
    "\n",
    "# Navigate to Amazon.in best sellers page\n",
    "driver.get('https://www.amazon.in/gp/bestsellers/kitchen/1380593031/ref=zg_bs_nav_kitchen_5_51397177031')\n",
    "\n",
    "# Find the top 3 best sellers\n",
    "best_sellers = driver.find_elements(by='css selector', value='.a-column')[:3]\n",
    "\n",
    "# Create an empty list to store the links\n",
    "data = []\n",
    "\n",
    "# Extract and store the links for the top 3 best sellers\n",
    "for index, product in enumerate(best_sellers, start=1):\n",
    "    product_link_element = product.find_element(by='css selector', value='a.a-link-normal')\n",
    "    product_link = product_link_element.get_attribute('href')  # Get the 'href' attribute\n",
    "    data.append({'Link': product_link})\n",
    "\n",
    "    print(f\"Top {index} Link: {product_link}\")\n",
    "\n",
    "# Close the WebDriver\n",
    "driver.quit()\n",
    "\n",
    "# Create a pandas DataFrame from the scraped links\n",
    "df = pd.DataFrame(data)\n",
    "\n",
    "# Export the DataFrame to an Excel file\n",
    "excel_file_path = \"Handheld Bags.xlsx\"\n",
    "df.to_excel(excel_file_path, index=False)\n",
    "\n",
    "print(f\"Scraped data saved to {excel_file_path}\")"
   ]
  },
  {
   "cell_type": "markdown",
   "metadata": {},
   "source": [
    "https://www.amazon.in/gp/bestsellers/kitchen/1380594031/ref=zg_bs_nav_kitchen_5_1380593031"
   ]
  },
  {
   "cell_type": "markdown",
   "metadata": {},
   "source": [
    "Upright Bags"
   ]
  },
  {
   "cell_type": "code",
   "execution_count": null,
   "metadata": {},
   "outputs": [
    {
     "name": "stdout",
     "output_type": "stream",
     "text": [
      "Top 1 Link: https://www.amazon.in/Karcher-Packaged-Cleaners-Standard-KAR28630060/dp/B00HVSORU8/ref=zg_bs_g_1380594031_sccl_1/261-6272694-0692953?psc=1\n",
      "Top 2 Link: https://www.amazon.in/Authentic-Replacement-Automatic-Disposal-Compatible/dp/B07HJS45XQ/ref=zg_bs_g_1380594031_sccl_2/261-6272694-0692953?psc=1\n",
      "Top 3 Link: https://www.amazon.in/Cabiclean-Compatible-ECOVACS-T8AIVI-Cleaner/dp/B08V8P8W4Q/ref=zg_bs_g_1380594031_sccl_3/261-6272694-0692953?psc=1\n",
      "Scraped data saved to Upright Bags.xlsx\n"
     ]
    }
   ],
   "source": [
    "from selenium import webdriver\n",
    "from selenium.webdriver.edge.service import Service\n",
    "import pandas as pd\n",
    "\n",
    "# Specify the path to the Edge WebDriver executable\n",
    "driver_path = \"C:\\\\Users\\\\uppada satwik\\\\Downloads\\\\edgedriver_win64\\\\msedgedriver.exe\"\n",
    "\n",
    "# Create a Service object with the executable path\n",
    "service = Service(driver_path)\n",
    "\n",
    "# Set up the Edge WebDriver using the Service object\n",
    "driver = webdriver.Edge(service=service)\n",
    "\n",
    "# Navigate to Amazon.in best sellers page\n",
    "driver.get('https://www.amazon.in/gp/bestsellers/kitchen/1380594031/ref=zg_bs_nav_kitchen_5_1380593031')\n",
    "\n",
    "# Find the top 3 best sellers\n",
    "best_sellers = driver.find_elements(by='css selector', value='.a-column')[:3]\n",
    "\n",
    "# Create an empty list to store the links\n",
    "data = []\n",
    "\n",
    "# Extract and store the links for the top 3 best sellers\n",
    "for index, product in enumerate(best_sellers, start=1):\n",
    "    product_link_element = product.find_element(by='css selector', value='a.a-link-normal')\n",
    "    product_link = product_link_element.get_attribute('href')  # Get the 'href' attribute\n",
    "    data.append({'Link': product_link})\n",
    "\n",
    "    print(f\"Top {index} Link: {product_link}\")\n",
    "\n",
    "# Close the WebDriver\n",
    "driver.quit()\n",
    "\n",
    "# Create a pandas DataFrame from the scraped links\n",
    "df = pd.DataFrame(data)\n",
    "\n",
    "# Export the DataFrame to an Excel file\n",
    "excel_file_path = \"Upright Bags.xlsx\"\n",
    "df.to_excel(excel_file_path, index=False)\n",
    "\n",
    "print(f\"Scraped data saved to {excel_file_path}\")"
   ]
  },
  {
   "cell_type": "markdown",
   "metadata": {},
   "source": [
    "https://www.amazon.in/gp/bestsellers/kitchen/1380595031/ref=zg_bs_nav_kitchen_4_1380590031"
   ]
  },
  {
   "cell_type": "markdown",
   "metadata": {},
   "source": [
    "Vacuum Belts"
   ]
  },
  {
   "cell_type": "code",
   "execution_count": null,
   "metadata": {},
   "outputs": [
    {
     "name": "stdout",
     "output_type": "stream",
     "text": [
      "Top 1 Link: https://www.amazon.in/Leifheit-45410-Omega-Belt-Hanger/dp/B0002AE44G/ref=zg_bs_g_1380595031_sccl_1/258-8857145-7090569?psc=1\n",
      "Top 2 Link: https://www.amazon.in/Victorinox-Multiclip-Belt-Hanger-Adventures/dp/B000MLUNEU/ref=zg_bs_g_1380595031_sccl_2/258-8857145-7090569?psc=1\n",
      "Top 3 Link: https://www.amazon.in/Aerol%C2%AE-Belt-Dressing-Spray-Grade/dp/B08XLN2FZT/ref=zg_bs_g_1380595031_sccl_3/258-8857145-7090569?psc=1\n",
      "Scraped data saved to Vacuum Belts.xlsx\n"
     ]
    }
   ],
   "source": [
    "from selenium import webdriver\n",
    "from selenium.webdriver.edge.service import Service\n",
    "import pandas as pd\n",
    "\n",
    "# Specify the path to the Edge WebDriver executable\n",
    "driver_path = \"C:\\\\Users\\\\uppada satwik\\\\Downloads\\\\edgedriver_win64\\\\msedgedriver.exe\"\n",
    "\n",
    "# Create a Service object with the executable path\n",
    "service = Service(driver_path)\n",
    "\n",
    "# Set up the Edge WebDriver using the Service object\n",
    "driver = webdriver.Edge(service=service)\n",
    "\n",
    "# Navigate to Amazon.in best sellers page\n",
    "driver.get('https://www.amazon.in/gp/bestsellers/kitchen/1380595031/ref=zg_bs_nav_kitchen_4_1380590031')\n",
    "\n",
    "# Find the top 3 best sellers\n",
    "best_sellers = driver.find_elements(by='css selector', value='.a-column')[:3]\n",
    "\n",
    "# Create an empty list to store the links\n",
    "data = []\n",
    "\n",
    "# Extract and store the links for the top 3 best sellers\n",
    "for index, product in enumerate(best_sellers, start=1):\n",
    "    product_link_element = product.find_element(by='css selector', value='a.a-link-normal')\n",
    "    product_link = product_link_element.get_attribute('href')  # Get the 'href' attribute\n",
    "    data.append({'Link': product_link})\n",
    "\n",
    "    print(f\"Top {index} Link: {product_link}\")\n",
    "\n",
    "# Close the WebDriver\n",
    "driver.quit()\n",
    "\n",
    "# Create a pandas DataFrame from the scraped links\n",
    "df = pd.DataFrame(data)\n",
    "\n",
    "# Export the DataFrame to an Excel file\n",
    "excel_file_path = \"Vacuum Belts.xlsx\"\n",
    "df.to_excel(excel_file_path, index=False)\n",
    "\n",
    "print(f\"Scraped data saved to {excel_file_path}\")"
   ]
  },
  {
   "cell_type": "markdown",
   "metadata": {},
   "source": [
    "https://www.amazon.in/gp/bestsellers/kitchen/1380596031/ref=zg_bs_nav_kitchen_4_1380595031"
   ]
  },
  {
   "cell_type": "markdown",
   "metadata": {},
   "source": [
    "Vacuum Brushes"
   ]
  },
  {
   "cell_type": "code",
   "execution_count": null,
   "metadata": {},
   "outputs": [
    {
     "name": "stdout",
     "output_type": "stream",
     "text": [
      "Top 1 Link: https://www.amazon.in/Eureka-Forbes-Euroclean-Vacuum-Cleaner/dp/B07L8YWBCY/ref=zg_bs_g_1380596031_sccl_1/260-8730034-3893950?psc=1\n",
      "Top 2 Link: https://www.amazon.in/AGARO-Regal-Filter-Multipurpose-Vacuuming/dp/B09RQMQ4PT/ref=zg_bs_g_1380596031_sccl_2/260-8730034-3893950?psc=1\n",
      "Top 3 Link: https://www.amazon.in/Reverbo-Replenishment-Replacement-Accessories-Compatible/dp/B09Q164Y3G/ref=zg_bs_g_1380596031_sccl_3/260-8730034-3893950?psc=1\n",
      "Scraped data saved to Vacuum Brushes.xlsx\n"
     ]
    }
   ],
   "source": [
    "from selenium import webdriver\n",
    "from selenium.webdriver.edge.service import Service\n",
    "import pandas as pd\n",
    "\n",
    "# Specify the path to the Edge WebDriver executable\n",
    "driver_path = \"C:\\\\Users\\\\uppada satwik\\\\Downloads\\\\edgedriver_win64\\\\msedgedriver.exe\"\n",
    "\n",
    "# Create a Service object with the executable path\n",
    "service = Service(driver_path)\n",
    "\n",
    "# Set up the Edge WebDriver using the Service object\n",
    "driver = webdriver.Edge(service=service)\n",
    "\n",
    "# Navigate to Amazon.in best sellers page\n",
    "driver.get('https://www.amazon.in/gp/bestsellers/kitchen/1380596031/ref=zg_bs_nav_kitchen_4_1380595031')\n",
    "\n",
    "# Find the top 3 best sellers\n",
    "best_sellers = driver.find_elements(by='css selector', value='.a-column')[:3]\n",
    "\n",
    "# Create an empty list to store the links\n",
    "data = []\n",
    "\n",
    "# Extract and store the links for the top 3 best sellers\n",
    "for index, product in enumerate(best_sellers, start=1):\n",
    "    product_link_element = product.find_element(by='css selector', value='a.a-link-normal')\n",
    "    product_link = product_link_element.get_attribute('href')  # Get the 'href' attribute\n",
    "    data.append({'Link': product_link})\n",
    "\n",
    "    print(f\"Top {index} Link: {product_link}\")\n",
    "\n",
    "# Close the WebDriver\n",
    "driver.quit()\n",
    "\n",
    "# Create a pandas DataFrame from the scraped links\n",
    "df = pd.DataFrame(data)\n",
    "\n",
    "# Export the DataFrame to an Excel file\n",
    "excel_file_path = \"Vacuum Brushes.xlsx\"\n",
    "df.to_excel(excel_file_path, index=False)\n",
    "\n",
    "print(f\"Scraped data saved to {excel_file_path}\")"
   ]
  },
  {
   "cell_type": "markdown",
   "metadata": {},
   "source": [
    "https://www.amazon.in/gp/bestsellers/kitchen/1380597031/ref=zg_bs_nav_kitchen_4_1380596031"
   ]
  },
  {
   "cell_type": "markdown",
   "metadata": {},
   "source": [
    "Vacuum Covers"
   ]
  },
  {
   "cell_type": "code",
   "execution_count": null,
   "metadata": {},
   "outputs": [
    {
     "name": "stdout",
     "output_type": "stream",
     "text": [
      "Top 1 Link: https://www.amazon.in/Kuber-Industries-Printed-HS43KUBMART25701-Standard/dp/B09GVN2TG2/ref=zg_bs_g_1380597031_sccl_1/259-4961851-6025032?psc=1\n",
      "Top 2 Link: https://www.amazon.in/Kuber-Industries-Cotton-Roti-Cover/dp/B01J1WLDNA/ref=zg_bs_g_1380597031_sccl_2/259-4961851-6025032?psc=1\n",
      "Top 3 Link: https://www.amazon.in/KANUSHI-Industries%C2%AE-Refrigerator-Microwave-Micro-Blue-Small-Leaves/dp/B08K32MCYG/ref=zg_bs_g_1380597031_sccl_3/259-4961851-6025032?psc=1\n",
      "Scraped data saved to Vacuum Covers.xlsx\n"
     ]
    }
   ],
   "source": [
    "from selenium import webdriver\n",
    "from selenium.webdriver.edge.service import Service\n",
    "import pandas as pd\n",
    "\n",
    "# Specify the path to the Edge WebDriver executable\n",
    "driver_path = \"C:\\\\Users\\\\uppada satwik\\\\Downloads\\\\edgedriver_win64\\\\msedgedriver.exe\"\n",
    "\n",
    "# Create a Service object with the executable path\n",
    "service = Service(driver_path)\n",
    "\n",
    "# Set up the Edge WebDriver using the Service object\n",
    "driver = webdriver.Edge(service=service)\n",
    "\n",
    "# Navigate to Amazon.in best sellers page\n",
    "driver.get('https://www.amazon.in/gp/bestsellers/kitchen/1380597031/ref=zg_bs_nav_kitchen_4_1380596031')\n",
    "\n",
    "# Find the top 3 best sellers\n",
    "best_sellers = driver.find_elements(by='css selector', value='.a-column')[:3]\n",
    "\n",
    "# Create an empty list to store the links\n",
    "data = []\n",
    "\n",
    "# Extract and store the links for the top 3 best sellers\n",
    "for index, product in enumerate(best_sellers, start=1):\n",
    "    product_link_element = product.find_element(by='css selector', value='a.a-link-normal')\n",
    "    product_link = product_link_element.get_attribute('href')  # Get the 'href' attribute\n",
    "    data.append({'Link': product_link})\n",
    "\n",
    "    print(f\"Top {index} Link: {product_link}\")\n",
    "\n",
    "# Close the WebDriver\n",
    "driver.quit()\n",
    "\n",
    "# Create a pandas DataFrame from the scraped links\n",
    "df = pd.DataFrame(data)\n",
    "\n",
    "# Export the DataFrame to an Excel file\n",
    "excel_file_path = \"Vacuum Covers.xlsx\"\n",
    "df.to_excel(excel_file_path, index=False)\n",
    "\n",
    "print(f\"Scraped data saved to {excel_file_path}\")"
   ]
  },
  {
   "cell_type": "markdown",
   "metadata": {},
   "source": [
    "https://www.amazon.in/gp/bestsellers/kitchen/1380598031/ref=zg_bs_nav_kitchen_4_1380597031"
   ]
  },
  {
   "cell_type": "markdown",
   "metadata": {},
   "source": [
    "Vacuum Filters"
   ]
  },
  {
   "cell_type": "code",
   "execution_count": null,
   "metadata": {},
   "outputs": [
    {
     "name": "stdout",
     "output_type": "stream",
     "text": [
      "Top 1 Link: https://www.amazon.in/VMTC-Cartridge-Filter-Karcher-Cleaner/dp/B073QP1P9Q/ref=zg_bs_g_1380598031_sccl_1/261-9585865-5725955?psc=1\n",
      "Top 2 Link: https://www.amazon.in/Purezo-Cartridge-Karcher-Cleaner-WD3/dp/B0CB8NLXMH/ref=zg_bs_g_1380598031_sccl_2/261-9585865-5725955?psc=1\n",
      "Top 3 Link: https://www.amazon.in/RODAK-Reusable-Cleaner-Compatible-Karcher/dp/B09RQM2J98/ref=zg_bs_g_1380598031_sccl_3/261-9585865-5725955?psc=1\n",
      "Scraped data saved to Vacuum Filters.xlsx\n"
     ]
    }
   ],
   "source": [
    "from selenium import webdriver\n",
    "from selenium.webdriver.edge.service import Service\n",
    "import pandas as pd\n",
    "\n",
    "# Specify the path to the Edge WebDriver executable\n",
    "driver_path = \"C:\\\\Users\\\\uppada satwik\\\\Downloads\\\\edgedriver_win64\\\\msedgedriver.exe\"\n",
    "\n",
    "# Create a Service object with the executable path\n",
    "service = Service(driver_path)\n",
    "\n",
    "# Set up the Edge WebDriver using the Service object\n",
    "driver = webdriver.Edge(service=service)\n",
    "\n",
    "# Navigate to Amazon.in best sellers page\n",
    "driver.get('https://www.amazon.in/gp/bestsellers/kitchen/1380598031/ref=zg_bs_nav_kitchen_4_1380597031')\n",
    "\n",
    "# Find the top 3 best sellers\n",
    "best_sellers = driver.find_elements(by='css selector', value='.a-column')[:3]\n",
    "\n",
    "# Create an empty list to store the links\n",
    "data = []\n",
    "\n",
    "# Extract and store the links for the top 3 best sellers\n",
    "for index, product in enumerate(best_sellers, start=1):\n",
    "    product_link_element = product.find_element(by='css selector', value='a.a-link-normal')\n",
    "    product_link = product_link_element.get_attribute('href')  # Get the 'href' attribute\n",
    "    data.append({'Link': product_link})\n",
    "\n",
    "    print(f\"Top {index} Link: {product_link}\")\n",
    "\n",
    "# Close the WebDriver\n",
    "driver.quit()\n",
    "\n",
    "# Create a pandas DataFrame from the scraped links\n",
    "df = pd.DataFrame(data)\n",
    "\n",
    "# Export the DataFrame to an Excel file\n",
    "excel_file_path = \"Vacuum Filters.xlsx\"\n",
    "df.to_excel(excel_file_path, index=False)\n",
    "\n",
    "print(f\"Scraped data saved to {excel_file_path}\")"
   ]
  },
  {
   "cell_type": "markdown",
   "metadata": {},
   "source": [
    "https://www.amazon.in/gp/bestsellers/kitchen/1380599031/ref=zg_bs_nav_kitchen_5_1380598031"
   ]
  },
  {
   "cell_type": "markdown",
   "metadata": {},
   "source": [
    "Canister Filters"
   ]
  },
  {
   "cell_type": "code",
   "execution_count": null,
   "metadata": {},
   "outputs": [
    {
     "name": "stdout",
     "output_type": "stream",
     "text": [
      "Top 1 Link: https://www.amazon.in/VMTC-Cartridge-Filter-Karcher-Cleaner/dp/B073QP1P9Q/ref=zg_bs_g_1380599031_sccl_1/260-0733265-6318867?psc=1\n",
      "Top 2 Link: https://www.amazon.in/Euroclean-Eureka-Forbes-Cleaner-Canister/dp/B07G14RTTS/ref=zg_bs_g_1380599031_sccl_2/260-0733265-6318867?psc=1\n",
      "Top 3 Link: https://www.amazon.in/Rodak-Replacement-Filter-Philips-FC9352/dp/B098WW7Z5Z/ref=zg_bs_g_1380599031_sccl_3/260-0733265-6318867?psc=1\n",
      "Scraped data saved to Canister Filters.xlsx\n"
     ]
    }
   ],
   "source": [
    "from selenium import webdriver\n",
    "from selenium.webdriver.edge.service import Service\n",
    "import pandas as pd\n",
    "\n",
    "# Specify the path to the Edge WebDriver executable\n",
    "driver_path = \"C:\\\\Users\\\\uppada satwik\\\\Downloads\\\\edgedriver_win64\\\\msedgedriver.exe\"\n",
    "\n",
    "# Create a Service object with the executable path\n",
    "service = Service(driver_path)\n",
    "\n",
    "# Set up the Edge WebDriver using the Service object\n",
    "driver = webdriver.Edge(service=service)\n",
    "\n",
    "# Navigate to Amazon.in best sellers page\n",
    "driver.get('https://www.amazon.in/gp/bestsellers/kitchen/1380599031/ref=zg_bs_nav_kitchen_5_1380598031')\n",
    "\n",
    "# Find the top 3 best sellers\n",
    "best_sellers = driver.find_elements(by='css selector', value='.a-column')[:3]\n",
    "\n",
    "# Create an empty list to store the links\n",
    "data = []\n",
    "\n",
    "# Extract and store the links for the top 3 best sellers\n",
    "for index, product in enumerate(best_sellers, start=1):\n",
    "    product_link_element = product.find_element(by='css selector', value='a.a-link-normal')\n",
    "    product_link = product_link_element.get_attribute('href')  # Get the 'href' attribute\n",
    "    data.append({'Link': product_link})\n",
    "\n",
    "    print(f\"Top {index} Link: {product_link}\")\n",
    "\n",
    "# Close the WebDriver\n",
    "driver.quit()\n",
    "\n",
    "# Create a pandas DataFrame from the scraped links\n",
    "df = pd.DataFrame(data)\n",
    "\n",
    "# Export the DataFrame to an Excel file\n",
    "excel_file_path = \"Canister Filters.xlsx\"\n",
    "df.to_excel(excel_file_path, index=False)\n",
    "\n",
    "print(f\"Scraped data saved to {excel_file_path}\")"
   ]
  },
  {
   "cell_type": "markdown",
   "metadata": {},
   "source": [
    "https://www.amazon.in/gp/bestsellers/kitchen/1380600031/ref=zg_bs_nav_kitchen_5_51397178031"
   ]
  },
  {
   "cell_type": "markdown",
   "metadata": {},
   "source": [
    "Handheld Filters"
   ]
  },
  {
   "cell_type": "code",
   "execution_count": null,
   "metadata": {},
   "outputs": [
    {
     "name": "stdout",
     "output_type": "stream",
     "text": [
      "Top 1 Link: https://www.amazon.in/Replacement-Filter-BSV2020G-Wireless-Accessory/dp/B08PQFYKWD/ref=zg_bs_g_1380600031_sccl_1/261-4543989-0731134?psc=1\n",
      "Top 2 Link: https://www.amazon.in/IOYIJOI-BDH2000PL-BDH1600PL-BDH2020FLFH-BDH1620FLFH/dp/B081DT9TNJ/ref=zg_bs_g_1380600031_sccl_2/261-4543989-0731134?psc=1\n",
      "Top 3 Link: https://www.amazon.in/Element-BSV2020G-Wireless-Cleaner-Accessory/dp/B08FHCNXMS/ref=zg_bs_g_1380600031_sccl_3/261-4543989-0731134?psc=1\n",
      "Scraped data saved to Handheld Filters.xlsx\n"
     ]
    }
   ],
   "source": [
    "from selenium import webdriver\n",
    "from selenium.webdriver.edge.service import Service\n",
    "import pandas as pd\n",
    "\n",
    "# Specify the path to the Edge WebDriver executable\n",
    "driver_path = \"C:\\\\Users\\\\uppada satwik\\\\Downloads\\\\edgedriver_win64\\\\msedgedriver.exe\"\n",
    "\n",
    "# Create a Service object with the executable path\n",
    "service = Service(driver_path)\n",
    "\n",
    "# Set up the Edge WebDriver using the Service object\n",
    "driver = webdriver.Edge(service=service)\n",
    "\n",
    "# Navigate to Amazon.in best sellers page\n",
    "driver.get('https://www.amazon.in/gp/bestsellers/kitchen/1380600031/ref=zg_bs_nav_kitchen_5_51397178031')\n",
    "\n",
    "# Find the top 3 best sellers\n",
    "best_sellers = driver.find_elements(by='css selector', value='.a-column')[:3]\n",
    "\n",
    "# Create an empty list to store the links\n",
    "data = []\n",
    "\n",
    "# Extract and store the links for the top 3 best sellers\n",
    "for index, product in enumerate(best_sellers, start=1):\n",
    "    product_link_element = product.find_element(by='css selector', value='a.a-link-normal')\n",
    "    product_link = product_link_element.get_attribute('href')  # Get the 'href' attribute\n",
    "    data.append({'Link': product_link})\n",
    "\n",
    "    print(f\"Top {index} Link: {product_link}\")\n",
    "\n",
    "# Close the WebDriver\n",
    "driver.quit()\n",
    "\n",
    "# Create a pandas DataFrame from the scraped links\n",
    "df = pd.DataFrame(data)\n",
    "\n",
    "# Export the DataFrame to an Excel file\n",
    "excel_file_path = \"Handheld Filters.xlsx\"\n",
    "df.to_excel(excel_file_path, index=False)\n",
    "\n",
    "print(f\"Scraped data saved to {excel_file_path}\")"
   ]
  },
  {
   "cell_type": "markdown",
   "metadata": {},
   "source": [
    "https://www.amazon.in/gp/bestsellers/kitchen/1380601031/ref=zg_bs_nav_kitchen_5_1380600031"
   ]
  },
  {
   "cell_type": "markdown",
   "metadata": {},
   "source": [
    "Upright Filters"
   ]
  },
  {
   "cell_type": "code",
   "execution_count": null,
   "metadata": {},
   "outputs": [
    {
     "name": "stdout",
     "output_type": "stream",
     "text": [
      "Top 1 Link: https://www.amazon.in/Purezo-Cartridge-Karcher-Cleaner-WD3/dp/B0CB8NLXMH/ref=zg_bs_g_1380601031_sccl_1/261-4688949-3331456?psc=1\n",
      "Top 2 Link: https://www.amazon.in/RODAK-Reusable-Cleaner-Compatible-Karcher/dp/B09RQM2J98/ref=zg_bs_g_1380601031_sccl_2/261-4688949-3331456?psc=1\n",
      "Top 3 Link: https://www.amazon.in/Sahyog-Wellness-Replacement-Nebulizers-Cylindrical/dp/B0BSQN345G/ref=zg_bs_g_1380601031_sccl_3/261-4688949-3331456?psc=1\n",
      "Scraped data saved to Upright Filters.xlsx\n"
     ]
    }
   ],
   "source": [
    "from selenium import webdriver\n",
    "from selenium.webdriver.edge.service import Service\n",
    "import pandas as pd\n",
    "\n",
    "# Specify the path to the Edge WebDriver executable\n",
    "driver_path = \"C:\\\\Users\\\\uppada satwik\\\\Downloads\\\\edgedriver_win64\\\\msedgedriver.exe\"\n",
    "\n",
    "# Create a Service object with the executable path\n",
    "service = Service(driver_path)\n",
    "\n",
    "# Set up the Edge WebDriver using the Service object\n",
    "driver = webdriver.Edge(service=service)\n",
    "\n",
    "# Navigate to Amazon.in best sellers page\n",
    "driver.get('https://www.amazon.in/gp/bestsellers/kitchen/1380601031/ref=zg_bs_nav_kitchen_5_1380600031')\n",
    "\n",
    "# Find the top 3 best sellers\n",
    "best_sellers = driver.find_elements(by='css selector', value='.a-column')[:3]\n",
    "\n",
    "# Create an empty list to store the links\n",
    "data = []\n",
    "\n",
    "# Extract and store the links for the top 3 best sellers\n",
    "for index, product in enumerate(best_sellers, start=1):\n",
    "    product_link_element = product.find_element(by='css selector', value='a.a-link-normal')\n",
    "    product_link = product_link_element.get_attribute('href')  # Get the 'href' attribute\n",
    "    data.append({'Link': product_link})\n",
    "\n",
    "    print(f\"Top {index} Link: {product_link}\")\n",
    "\n",
    "# Close the WebDriver\n",
    "driver.quit()\n",
    "\n",
    "# Create a pandas DataFrame from the scraped links\n",
    "df = pd.DataFrame(data)\n",
    "\n",
    "# Export the DataFrame to an Excel file\n",
    "excel_file_path = \"Upright Filters.xlsx\"\n",
    "df.to_excel(excel_file_path, index=False)\n",
    "\n",
    "print(f\"Scraped data saved to {excel_file_path}\")"
   ]
  },
  {
   "cell_type": "markdown",
   "metadata": {},
   "source": [
    "https://www.amazon.in/gp/bestsellers/kitchen/1380603031/ref=zg_bs_nav_kitchen_4_1380590031"
   ]
  },
  {
   "cell_type": "markdown",
   "metadata": {},
   "source": [
    "Vacuum Hoses"
   ]
  },
  {
   "cell_type": "code",
   "execution_count": null,
   "metadata": {},
   "outputs": [
    {
     "name": "stdout",
     "output_type": "stream",
     "text": [
      "Top 1 Link: https://www.amazon.in/Quality-Extension-Plastic-Compatible-Cleaners/dp/B082J2Q25B/ref=zg_bs_g_1380603031_sccl_1/261-2613333-2837836?psc=1\n",
      "Top 2 Link: https://www.amazon.in/Eureka-Forbes-Plastic-Suitable-Euroclean/dp/B07RYFF4MB/ref=zg_bs_g_1380603031_sccl_2/261-2613333-2837836?psc=1\n",
      "Top 3 Link: https://www.amazon.in/Euroclean-Vacuum-Cleaner-X-Force-Models/dp/B08YRJ5XVW/ref=zg_bs_g_1380603031_sccl_3/261-2613333-2837836?psc=1\n",
      "Scraped data saved to Vacuum Hoses.xlsx\n"
     ]
    }
   ],
   "source": [
    "from selenium import webdriver\n",
    "from selenium.webdriver.edge.service import Service\n",
    "import pandas as pd\n",
    "\n",
    "# Specify the path to the Edge WebDriver executable\n",
    "driver_path = \"C:\\\\Users\\\\uppada satwik\\\\Downloads\\\\edgedriver_win64\\\\msedgedriver.exe\"\n",
    "\n",
    "# Create a Service object with the executable path\n",
    "service = Service(driver_path)\n",
    "\n",
    "# Set up the Edge WebDriver using the Service object\n",
    "driver = webdriver.Edge(service=service)\n",
    "\n",
    "# Navigate to Amazon.in best sellers page\n",
    "driver.get('https://www.amazon.in/gp/bestsellers/kitchen/1380603031/ref=zg_bs_nav_kitchen_4_1380590031')\n",
    "\n",
    "# Find the top 3 best sellers\n",
    "best_sellers = driver.find_elements(by='css selector', value='.a-column')[:3]\n",
    "\n",
    "# Create an empty list to store the links\n",
    "data = []\n",
    "\n",
    "# Extract and store the links for the top 3 best sellers\n",
    "for index, product in enumerate(best_sellers, start=1):\n",
    "    product_link_element = product.find_element(by='css selector', value='a.a-link-normal')\n",
    "    product_link = product_link_element.get_attribute('href')  # Get the 'href' attribute\n",
    "    data.append({'Link': product_link})\n",
    "\n",
    "    print(f\"Top {index} Link: {product_link}\")\n",
    "\n",
    "# Close the WebDriver\n",
    "driver.quit()\n",
    "\n",
    "# Create a pandas DataFrame from the scraped links\n",
    "df = pd.DataFrame(data)\n",
    "\n",
    "# Export the DataFrame to an Excel file\n",
    "excel_file_path = \"Vacuum Hoses.xlsx\"\n",
    "df.to_excel(excel_file_path, index=False)\n",
    "\n",
    "print(f\"Scraped data saved to {excel_file_path}\")"
   ]
  },
  {
   "cell_type": "markdown",
   "metadata": {},
   "source": [
    "https://www.amazon.in/gp/bestsellers/kitchen/1380605031/ref=zg_bs_nav_kitchen_4_1380604031"
   ]
  },
  {
   "cell_type": "markdown",
   "metadata": {},
   "source": [
    "Vacuum Pads"
   ]
  },
  {
   "cell_type": "code",
   "execution_count": null,
   "metadata": {},
   "outputs": [
    {
     "name": "stdout",
     "output_type": "stream",
     "text": [
      "Top 1 Link: https://www.amazon.in/Reverbo-Replenishment-Replacement-Accessories-Compatible/dp/B0999SSMM7/ref=zg_bs_g_1380605031_sccl_1/261-1588350-9221410?psc=1\n",
      "Top 2 Link: https://www.amazon.in/i-Robot-Washable-Reusable-Mopping-Replacement/dp/B09B7L8MF7/ref=zg_bs_g_1380605031_sccl_2/261-1588350-9221410?psc=1\n",
      "Top 3 Link: https://www.amazon.in/iRobot-Authentic-Replacement-Parts-Mopping/dp/B07RKL715Q/ref=zg_bs_g_1380605031_sccl_3/261-1588350-9221410?psc=1\n",
      "Scraped data saved to Vacuum Pads.xlsx\n"
     ]
    }
   ],
   "source": [
    "from selenium import webdriver\n",
    "from selenium.webdriver.edge.service import Service\n",
    "import pandas as pd\n",
    "\n",
    "# Specify the path to the Edge WebDriver executable\n",
    "driver_path = \"C:\\\\Users\\\\uppada satwik\\\\Downloads\\\\edgedriver_win64\\\\msedgedriver.exe\"\n",
    "\n",
    "# Create a Service object with the executable path\n",
    "service = Service(driver_path)\n",
    "\n",
    "# Set up the Edge WebDriver using the Service object\n",
    "driver = webdriver.Edge(service=service)\n",
    "\n",
    "# Navigate to Amazon.in best sellers page\n",
    "driver.get('https://www.amazon.in/gp/bestsellers/kitchen/1380605031/ref=zg_bs_nav_kitchen_4_1380604031')\n",
    "\n",
    "# Find the top 3 best sellers\n",
    "best_sellers = driver.find_elements(by='css selector', value='.a-column')[:3]\n",
    "\n",
    "# Create an empty list to store the links\n",
    "data = []\n",
    "\n",
    "# Extract and store the links for the top 3 best sellers\n",
    "for index, product in enumerate(best_sellers, start=1):\n",
    "    product_link_element = product.find_element(by='css selector', value='a.a-link-normal')\n",
    "    product_link = product_link_element.get_attribute('href')  # Get the 'href' attribute\n",
    "    data.append({'Link': product_link})\n",
    "\n",
    "    print(f\"Top {index} Link: {product_link}\")\n",
    "\n",
    "# Close the WebDriver\n",
    "driver.quit()\n",
    "\n",
    "# Create a pandas DataFrame from the scraped links\n",
    "df = pd.DataFrame(data)\n",
    "\n",
    "# Export the DataFrame to an Excel file\n",
    "excel_file_path = \"Vacuum Pads.xlsx\"\n",
    "df.to_excel(excel_file_path, index=False)\n",
    "\n",
    "print(f\"Scraped data saved to {excel_file_path}\")"
   ]
  },
  {
   "cell_type": "markdown",
   "metadata": {},
   "source": [
    "https://www.amazon.in/gp/bestsellers/kitchen/1380602031/ref=zg_bs_nav_kitchen_4_1380605031"
   ]
  },
  {
   "cell_type": "markdown",
   "metadata": {},
   "source": [
    "Vacuum Replacement Parts"
   ]
  },
  {
   "cell_type": "code",
   "execution_count": null,
   "metadata": {},
   "outputs": [
    {
     "name": "stdout",
     "output_type": "stream",
     "text": [
      "Top 1 Link: https://www.amazon.in/Eureka-Forbes-Euroclean-Vacuum-Cleaner/dp/B07L8YWBCY/ref=zg_bs_g_1380602031_sccl_1/258-3036598-5424942?psc=1\n",
      "Top 2 Link: https://www.amazon.in/Reverbo-Replenishment-Replacement-Accessories-Compatible/dp/B09Q15YDZG/ref=zg_bs_g_1380602031_sccl_2/258-3036598-5424942?psc=1\n",
      "Top 3 Link: https://www.amazon.in/RODAK-Mattress-Upholstery-Nozzle-36/dp/B0BF571815/ref=zg_bs_g_1380602031_sccl_3/258-3036598-5424942?psc=1\n",
      "Scraped data saved to Vacuum Replacement Parts.xlsx\n"
     ]
    }
   ],
   "source": [
    "from selenium import webdriver\n",
    "from selenium.webdriver.edge.service import Service\n",
    "import pandas as pd\n",
    "\n",
    "# Specify the path to the Edge WebDriver executable\n",
    "driver_path = \"C:\\\\Users\\\\uppada satwik\\\\Downloads\\\\edgedriver_win64\\\\msedgedriver.exe\"\n",
    "\n",
    "# Create a Service object with the executable path\n",
    "service = Service(driver_path)\n",
    "\n",
    "# Set up the Edge WebDriver using the Service object\n",
    "driver = webdriver.Edge(service=service)\n",
    "\n",
    "# Navigate to Amazon.in best sellers page\n",
    "driver.get('https://www.amazon.in/gp/bestsellers/kitchen/1380602031/ref=zg_bs_nav_kitchen_4_1380605031')\n",
    "\n",
    "# Find the top 3 best sellers\n",
    "best_sellers = driver.find_elements(by='css selector', value='.a-column')[:3]\n",
    "\n",
    "# Create an empty list to store the links\n",
    "data = []\n",
    "\n",
    "# Extract and store the links for the top 3 best sellers\n",
    "for index, product in enumerate(best_sellers, start=1):\n",
    "    product_link_element = product.find_element(by='css selector', value='a.a-link-normal')\n",
    "    product_link = product_link_element.get_attribute('href')  # Get the 'href' attribute\n",
    "    data.append({'Link': product_link})\n",
    "\n",
    "    print(f\"Top {index} Link: {product_link}\")\n",
    "\n",
    "# Close the WebDriver\n",
    "driver.quit()\n",
    "\n",
    "# Create a pandas DataFrame from the scraped links\n",
    "df = pd.DataFrame(data)\n",
    "\n",
    "# Export the DataFrame to an Excel file\n",
    "excel_file_path = \"Vacuum Replacement Parts.xlsx\"\n",
    "df.to_excel(excel_file_path, index=False)\n",
    "\n",
    "print(f\"Scraped data saved to {excel_file_path}\")"
   ]
  },
  {
   "cell_type": "markdown",
   "metadata": {},
   "source": [
    "https://www.amazon.in/gp/bestsellers/kitchen/51397088031/ref=zg_bs_nav_kitchen_4_1380602031"
   ]
  },
  {
   "cell_type": "markdown",
   "metadata": {},
   "source": [
    "Vacuum Tubes"
   ]
  },
  {
   "cell_type": "code",
   "execution_count": null,
   "metadata": {},
   "outputs": [
    {
     "name": "stdout",
     "output_type": "stream",
     "text": [
      "Top 1 Link: https://www.amazon.in/Dyson-Light-Crevice-Vacuum-Cleaner/dp/B0C8VH8NLW/ref=zg_bs_g_51397088031_sccl_1/257-1171010-7164941?psc=1\n",
      "Top 2 Link: https://www.amazon.in/Telescopic-Extension-Tube-Different-Settings/dp/B08WPSJRYK/ref=zg_bs_g_51397088031_sccl_2/257-1171010-7164941?psc=1\n",
      "Top 3 Link: https://www.amazon.in/RODAK-Telescopic-Crevice-Tool-Rodak/dp/B082L3KN9N/ref=zg_bs_g_51397088031_sccl_3/257-1171010-7164941?psc=1\n",
      "Scraped data saved to Vacuum Tubes.xlsx\n"
     ]
    }
   ],
   "source": [
    "from selenium import webdriver\n",
    "from selenium.webdriver.edge.service import Service\n",
    "import pandas as pd\n",
    "\n",
    "# Specify the path to the Edge WebDriver executable\n",
    "driver_path = \"C:\\\\Users\\\\uppada satwik\\\\Downloads\\\\edgedriver_win64\\\\msedgedriver.exe\"\n",
    "\n",
    "# Create a Service object with the executable path\n",
    "service = Service(driver_path)\n",
    "\n",
    "# Set up the Edge WebDriver using the Service object\n",
    "driver = webdriver.Edge(service=service)\n",
    "\n",
    "# Navigate to Amazon.in best sellers page\n",
    "driver.get('https://www.amazon.in/gp/bestsellers/kitchen/51397088031/ref=zg_bs_nav_kitchen_4_1380602031')\n",
    "\n",
    "# Find the top 3 best sellers\n",
    "best_sellers = driver.find_elements(by='css selector', value='.a-column')[:3]\n",
    "\n",
    "# Create an empty list to store the links\n",
    "data = []\n",
    "\n",
    "# Extract and store the links for the top 3 best sellers\n",
    "for index, product in enumerate(best_sellers, start=1):\n",
    "    product_link_element = product.find_element(by='css selector', value='a.a-link-normal')\n",
    "    product_link = product_link_element.get_attribute('href')  # Get the 'href' attribute\n",
    "    data.append({'Link': product_link})\n",
    "\n",
    "    print(f\"Top {index} Link: {product_link}\")\n",
    "\n",
    "# Close the WebDriver\n",
    "driver.quit()\n",
    "\n",
    "# Create a pandas DataFrame from the scraped links\n",
    "df = pd.DataFrame(data)\n",
    "\n",
    "# Export the DataFrame to an Excel file\n",
    "excel_file_path = \"Vacuum Tubes.xlsx\"\n",
    "df.to_excel(excel_file_path, index=False)\n",
    "\n",
    "print(f\"Scraped data saved to {excel_file_path}\")"
   ]
  },
  {
   "cell_type": "markdown",
   "metadata": {},
   "source": [
    "https://www.amazon.in/gp/bestsellers/kitchen/1380607031/ref=zg_bs_nav_kitchen_3_1380585031"
   ]
  },
  {
   "cell_type": "markdown",
   "metadata": {},
   "source": [
    "Vacuums"
   ]
  },
  {
   "cell_type": "code",
   "execution_count": null,
   "metadata": {},
   "outputs": [
    {
     "name": "stdout",
     "output_type": "stream",
     "text": [
      "Top 1 Link: https://www.amazon.in/AGARO-800-Watt-Handheld-Cleaner-Durable/dp/B07SRM58TP/ref=zg_bs_g_1380607031_sccl_1/261-3762381-2728409?psc=1\n",
      "Top 2 Link: https://www.amazon.in/Ace-1600-Watt-21-Litre-Stainless-Function/dp/B07RCGTZ4M/ref=zg_bs_g_1380607031_sccl_2/261-3762381-2728409?psc=1\n",
      "Top 3 Link: https://www.amazon.in/INALSA-Handheld-Vacuum-Cleaner-Powerful/dp/B0C5DW4D3G/ref=zg_bs_g_1380607031_sccl_3/261-3762381-2728409?psc=1\n",
      "Scraped data saved to Vacuums.xlsx\n"
     ]
    }
   ],
   "source": [
    "from selenium import webdriver\n",
    "from selenium.webdriver.edge.service import Service\n",
    "import pandas as pd\n",
    "\n",
    "# Specify the path to the Edge WebDriver executable\n",
    "driver_path = \"C:\\\\Users\\\\uppada satwik\\\\Downloads\\\\edgedriver_win64\\\\msedgedriver.exe\"\n",
    "\n",
    "# Create a Service object with the executable path\n",
    "service = Service(driver_path)\n",
    "\n",
    "# Set up the Edge WebDriver using the Service object\n",
    "driver = webdriver.Edge(service=service)\n",
    "\n",
    "# Navigate to Amazon.in best sellers page\n",
    "driver.get('https://www.amazon.in/gp/bestsellers/kitchen/1380607031/ref=zg_bs_nav_kitchen_3_1380585031')\n",
    "\n",
    "# Find the top 3 best sellers\n",
    "best_sellers = driver.find_elements(by='css selector', value='.a-column')[:3]\n",
    "\n",
    "# Create an empty list to store the links\n",
    "data = []\n",
    "\n",
    "# Extract and store the links for the top 3 best sellers\n",
    "for index, product in enumerate(best_sellers, start=1):\n",
    "    product_link_element = product.find_element(by='css selector', value='a.a-link-normal')\n",
    "    product_link = product_link_element.get_attribute('href')  # Get the 'href' attribute\n",
    "    data.append({'Link': product_link})\n",
    "\n",
    "    print(f\"Top {index} Link: {product_link}\")\n",
    "\n",
    "# Close the WebDriver\n",
    "driver.quit()\n",
    "\n",
    "# Create a pandas DataFrame from the scraped links\n",
    "df = pd.DataFrame(data)\n",
    "\n",
    "# Export the DataFrame to an Excel file\n",
    "excel_file_path = \"Vacuums.xlsx\"\n",
    "df.to_excel(excel_file_path, index=False)\n",
    "\n",
    "print(f\"Scraped data saved to {excel_file_path}\")"
   ]
  },
  {
   "cell_type": "markdown",
   "metadata": {},
   "source": [
    "https://www.amazon.in/gp/bestsellers/kitchen/1380608031/ref=zg_bs_nav_kitchen_4_1380607031"
   ]
  },
  {
   "cell_type": "markdown",
   "metadata": {},
   "source": [
    "Canister Vacuums"
   ]
  },
  {
   "cell_type": "code",
   "execution_count": null,
   "metadata": {},
   "outputs": [
    {
     "name": "stdout",
     "output_type": "stream",
     "text": [
      "Top 1 Link: https://www.amazon.in/INALSA-Handheld-Vacuum-Cleaner-Powerful/dp/B0C5DW4D3G/ref=zg_bs_g_1380608031_sccl_1/260-9118416-0796818?psc=1\n",
      "Top 2 Link: https://www.amazon.in/Eureka-Forbes-Quick-Clean-DX/dp/B00F3ABSXU/ref=zg_bs_g_1380608031_sccl_2/260-9118416-0796818?psc=1\n",
      "Top 3 Link: https://www.amazon.in/Philips-PowerPro-FC9352-01-Compact/dp/B072J83V9W/ref=zg_bs_g_1380608031_sccl_3/260-9118416-0796818?psc=1\n",
      "Scraped data saved to Canister Vacuums.xlsx\n"
     ]
    }
   ],
   "source": [
    "from selenium import webdriver\n",
    "from selenium.webdriver.edge.service import Service\n",
    "import pandas as pd\n",
    "\n",
    "# Specify the path to the Edge WebDriver executable\n",
    "driver_path = \"C:\\\\Users\\\\uppada satwik\\\\Downloads\\\\edgedriver_win64\\\\msedgedriver.exe\"\n",
    "\n",
    "# Create a Service object with the executable path\n",
    "service = Service(driver_path)\n",
    "\n",
    "# Set up the Edge WebDriver using the Service object\n",
    "driver = webdriver.Edge(service=service)\n",
    "\n",
    "# Navigate to Amazon.in best sellers page\n",
    "driver.get('https://www.amazon.in/gp/bestsellers/kitchen/1380608031/ref=zg_bs_nav_kitchen_4_1380607031')\n",
    "\n",
    "# Find the top 3 best sellers\n",
    "best_sellers = driver.find_elements(by='css selector', value='.a-column')[:3]\n",
    "\n",
    "# Create an empty list to store the links\n",
    "data = []\n",
    "\n",
    "# Extract and store the links for the top 3 best sellers\n",
    "for index, product in enumerate(best_sellers, start=1):\n",
    "    product_link_element = product.find_element(by='css selector', value='a.a-link-normal')\n",
    "    product_link = product_link_element.get_attribute('href')  # Get the 'href' attribute\n",
    "    data.append({'Link': product_link})\n",
    "\n",
    "    print(f\"Top {index} Link: {product_link}\")\n",
    "\n",
    "# Close the WebDriver\n",
    "driver.quit()\n",
    "\n",
    "# Create a pandas DataFrame from the scraped links\n",
    "df = pd.DataFrame(data)\n",
    "\n",
    "# Export the DataFrame to an Excel file\n",
    "excel_file_path = \"Canister Vacuums.xlsx\"\n",
    "df.to_excel(excel_file_path, index=False)\n",
    "\n",
    "print(f\"Scraped data saved to {excel_file_path}\")"
   ]
  },
  {
   "cell_type": "markdown",
   "metadata": {},
   "source": [
    "https://www.amazon.in/gp/bestsellers/kitchen/1380609031/ref=zg_bs_nav_kitchen_4_51397086031"
   ]
  },
  {
   "cell_type": "markdown",
   "metadata": {},
   "source": [
    "Handheld Vacuums"
   ]
  },
  {
   "cell_type": "code",
   "execution_count": null,
   "metadata": {},
   "outputs": [
    {
     "name": "stdout",
     "output_type": "stream",
     "text": [
      "Top 1 Link: https://www.amazon.in/AGARO-800-Watt-Handheld-Cleaner-Durable/dp/B07SRM58TP/ref=zg_bs_g_1380609031_sccl_1/258-5344898-7936807?psc=1\n",
      "Top 2 Link: https://www.amazon.in/AGARO-Suction-litres-Cleaner-Handheld/dp/B0CDGVY62S/ref=zg_bs_g_1380609031_sccl_2/258-5344898-7936807?psc=1\n",
      "Top 3 Link: https://www.amazon.in/INALSA-Handheld-Vacuum-Cleaner-Accessories/dp/B0C5DR18XH/ref=zg_bs_g_1380609031_sccl_3/258-5344898-7936807?psc=1\n",
      "Scraped data saved to Handheld Vacuums.xlsx\n"
     ]
    }
   ],
   "source": [
    "from selenium import webdriver\n",
    "from selenium.webdriver.edge.service import Service\n",
    "import pandas as pd\n",
    "\n",
    "# Specify the path to the Edge WebDriver executable\n",
    "driver_path = \"C:\\\\Users\\\\uppada satwik\\\\Downloads\\\\edgedriver_win64\\\\msedgedriver.exe\"\n",
    "\n",
    "# Create a Service object with the executable path\n",
    "service = Service(driver_path)\n",
    "\n",
    "# Set up the Edge WebDriver using the Service object\n",
    "driver = webdriver.Edge(service=service)\n",
    "\n",
    "# Navigate to Amazon.in best sellers page\n",
    "driver.get('https://www.amazon.in/gp/bestsellers/kitchen/1380609031/ref=zg_bs_nav_kitchen_4_51397086031')\n",
    "\n",
    "# Find the top 3 best sellers\n",
    "best_sellers = driver.find_elements(by='css selector', value='.a-column')[:3]\n",
    "\n",
    "# Create an empty list to store the links\n",
    "data = []\n",
    "\n",
    "# Extract and store the links for the top 3 best sellers\n",
    "for index, product in enumerate(best_sellers, start=1):\n",
    "    product_link_element = product.find_element(by='css selector', value='a.a-link-normal')\n",
    "    product_link = product_link_element.get_attribute('href')  # Get the 'href' attribute\n",
    "    data.append({'Link': product_link})\n",
    "\n",
    "    print(f\"Top {index} Link: {product_link}\")\n",
    "\n",
    "# Close the WebDriver\n",
    "driver.quit()\n",
    "\n",
    "# Create a pandas DataFrame from the scraped links\n",
    "df = pd.DataFrame(data)\n",
    "\n",
    "# Export the DataFrame to an Excel file\n",
    "excel_file_path = \"Handheld Vacuums.xlsx\"\n",
    "df.to_excel(excel_file_path, index=False)\n",
    "\n",
    "print(f\"Scraped data saved to {excel_file_path}\")"
   ]
  },
  {
   "cell_type": "markdown",
   "metadata": {},
   "source": [
    "https://www.amazon.in/gp/bestsellers/kitchen/1380610031/ref=zg_bs_nav_kitchen_4_1380609031"
   ]
  },
  {
   "cell_type": "markdown",
   "metadata": {},
   "source": [
    "Robotic Vacuums"
   ]
  },
  {
   "cell_type": "code",
   "execution_count": null,
   "metadata": {},
   "outputs": [
    {
     "name": "stdout",
     "output_type": "stream",
     "text": [
      "Top 1 Link: https://www.amazon.in/ECOVACS-Robotic-Powerful-Advanced-Technology/dp/B0B19VJXQZ/ref=zg_bs_g_1380610031_sccl_1/261-4602275-2257327?psc=1\n",
      "Top 2 Link: https://www.amazon.in/Reverbo-Replenishment-Replacement-Accessories-Compatible/dp/B092JPWPSZ/ref=zg_bs_g_1380610031_sccl_2/261-4602275-2257327?psc=1\n",
      "Top 3 Link: https://www.amazon.in/Mi-Vacuum-Mop-Powerful-Large-Capacity-Electronically-Controlled/dp/B0C1NYBYNQ/ref=zg_bs_g_1380610031_sccl_3/261-4602275-2257327?psc=1\n",
      "Scraped data saved to Robotic Vacuums.xlsx\n"
     ]
    }
   ],
   "source": [
    "from selenium import webdriver\n",
    "from selenium.webdriver.edge.service import Service\n",
    "import pandas as pd\n",
    "\n",
    "# Specify the path to the Edge WebDriver executable\n",
    "driver_path = \"C:\\\\Users\\\\uppada satwik\\\\Downloads\\\\edgedriver_win64\\\\msedgedriver.exe\"\n",
    "\n",
    "# Create a Service object with the executable path\n",
    "service = Service(driver_path)\n",
    "\n",
    "# Set up the Edge WebDriver using the Service object\n",
    "driver = webdriver.Edge(service=service)\n",
    "\n",
    "# Navigate to Amazon.in best sellers page\n",
    "driver.get('https://www.amazon.in/gp/bestsellers/kitchen/1380610031/ref=zg_bs_nav_kitchen_4_1380609031')\n",
    "\n",
    "# Find the top 3 best sellers\n",
    "best_sellers = driver.find_elements(by='css selector', value='.a-column')[:3]\n",
    "\n",
    "# Create an empty list to store the links\n",
    "data = []\n",
    "\n",
    "# Extract and store the links for the top 3 best sellers\n",
    "for index, product in enumerate(best_sellers, start=1):\n",
    "    product_link_element = product.find_element(by='css selector', value='a.a-link-normal')\n",
    "    product_link = product_link_element.get_attribute('href')  # Get the 'href' attribute\n",
    "    data.append({'Link': product_link})\n",
    "\n",
    "    print(f\"Top {index} Link: {product_link}\")\n",
    "\n",
    "# Close the WebDriver\n",
    "driver.quit()\n",
    "\n",
    "# Create a pandas DataFrame from the scraped links\n",
    "df = pd.DataFrame(data)\n",
    "\n",
    "# Export the DataFrame to an Excel file\n",
    "excel_file_path = \"Robotic Vacuums.xlsx\"\n",
    "df.to_excel(excel_file_path, index=False)\n",
    "\n",
    "print(f\"Scraped data saved to {excel_file_path}\")"
   ]
  },
  {
   "cell_type": "markdown",
   "metadata": {},
   "source": [
    "https://www.amazon.in/gp/bestsellers/kitchen/1380611031/ref=zg_bs_nav_kitchen_4_1380610031"
   ]
  },
  {
   "cell_type": "markdown",
   "metadata": {},
   "source": [
    "Stick Vacuums & Electric Brooms"
   ]
  },
  {
   "cell_type": "code",
   "execution_count": null,
   "metadata": {},
   "outputs": [
    {
     "name": "stdout",
     "output_type": "stream",
     "text": [
      "Top 1 Link: https://www.amazon.in/Tineco-Cord-Free-Vacuum-Cleaner-Filter/dp/B0B8SHRZ4C/ref=zg_bs_g_1380611031_sccl_1/262-8773126-6198139?psc=1\n",
      "Top 2 Link: https://www.amazon.in/Dyson-V8-Absolute-Cord-Free-Cleaner/dp/B0BDG98DJX/ref=zg_bs_g_1380611031_sccl_2/262-8773126-6198139?psc=1\n",
      "Top 3 Link: https://www.amazon.in/Dyson-V12-Cord-Free-accidental-protection/dp/B0B4ZZR4FW/ref=zg_bs_g_1380611031_sccl_3/262-8773126-6198139?psc=1\n",
      "Scraped data saved to Stick Vacuums & Electric Brooms.xlsx\n"
     ]
    }
   ],
   "source": [
    "from selenium import webdriver\n",
    "from selenium.webdriver.edge.service import Service\n",
    "import pandas as pd\n",
    "\n",
    "# Specify the path to the Edge WebDriver executable\n",
    "driver_path = \"C:\\\\Users\\\\uppada satwik\\\\Downloads\\\\edgedriver_win64\\\\msedgedriver.exe\"\n",
    "\n",
    "# Create a Service object with the executable path\n",
    "service = Service(driver_path)\n",
    "\n",
    "# Set up the Edge WebDriver using the Service object\n",
    "driver = webdriver.Edge(service=service)\n",
    "\n",
    "# Navigate to Amazon.in best sellers page\n",
    "driver.get('https://www.amazon.in/gp/bestsellers/kitchen/1380611031/ref=zg_bs_nav_kitchen_4_1380610031')\n",
    "\n",
    "# Find the top 3 best sellers\n",
    "best_sellers = driver.find_elements(by='css selector', value='.a-column')[:3]\n",
    "\n",
    "# Create an empty list to store the links\n",
    "data = []\n",
    "\n",
    "# Extract and store the links for the top 3 best sellers\n",
    "for index, product in enumerate(best_sellers, start=1):\n",
    "    product_link_element = product.find_element(by='css selector', value='a.a-link-normal')\n",
    "    product_link = product_link_element.get_attribute('href')  # Get the 'href' attribute\n",
    "    data.append({'Link': product_link})\n",
    "\n",
    "    print(f\"Top {index} Link: {product_link}\")\n",
    "\n",
    "# Close the WebDriver\n",
    "driver.quit()\n",
    "\n",
    "# Create a pandas DataFrame from the scraped links\n",
    "df = pd.DataFrame(data)\n",
    "\n",
    "# Export the DataFrame to an Excel file\n",
    "excel_file_path = \"Stick Vacuums & Electric Brooms.xlsx\"\n",
    "df.to_excel(excel_file_path, index=False)\n",
    "\n",
    "print(f\"Scraped data saved to {excel_file_path}\")"
   ]
  },
  {
   "cell_type": "markdown",
   "metadata": {},
   "source": [
    "https://www.amazon.in/gp/bestsellers/kitchen/1380612031/ref=zg_bs_nav_kitchen_4_1380611031"
   ]
  },
  {
   "cell_type": "markdown",
   "metadata": {},
   "source": [
    "Upright Vacuums"
   ]
  },
  {
   "cell_type": "code",
   "execution_count": null,
   "metadata": {},
   "outputs": [
    {
     "name": "stdout",
     "output_type": "stream",
     "text": [
      "Top 1 Link: https://www.amazon.in/Eureka-Forbes-Cordless-Cyclonic-Technology/dp/B0B4W38Z4C/ref=zg_bs_g_1380612031_sccl_1/261-0994628-3372422?psc=1\n",
      "Top 2 Link: https://www.amazon.in/AGARO-Upright-Cleaner-Steering-33606/dp/B09FYCH1GZ/ref=zg_bs_g_1380612031_sccl_2/261-0994628-3372422?psc=1\n",
      "Top 3 Link: https://www.amazon.in/Powerspeed-American-Micronic-Powerful-Upright/dp/B088ZTSG9R/ref=zg_bs_g_1380612031_sccl_3/261-0994628-3372422?psc=1\n",
      "Scraped data saved to Upright Vacuums.xlsx\n"
     ]
    }
   ],
   "source": [
    "from selenium import webdriver\n",
    "from selenium.webdriver.edge.service import Service\n",
    "import pandas as pd\n",
    "\n",
    "# Specify the path to the Edge WebDriver executable\n",
    "driver_path = \"C:\\\\Users\\\\uppada satwik\\\\Downloads\\\\edgedriver_win64\\\\msedgedriver.exe\"\n",
    "\n",
    "# Create a Service object with the executable path\n",
    "service = Service(driver_path)\n",
    "\n",
    "# Set up the Edge WebDriver using the Service object\n",
    "driver = webdriver.Edge(service=service)\n",
    "\n",
    "# Navigate to Amazon.in best sellers page\n",
    "driver.get('https://www.amazon.in/gp/bestsellers/kitchen/1380612031/ref=zg_bs_nav_kitchen_4_1380611031')\n",
    "\n",
    "# Find the top 3 best sellers\n",
    "best_sellers = driver.find_elements(by='css selector', value='.a-column')[:3]\n",
    "\n",
    "# Create an empty list to store the links\n",
    "data = []\n",
    "\n",
    "# Extract and store the links for the top 3 best sellers\n",
    "for index, product in enumerate(best_sellers, start=1):\n",
    "    product_link_element = product.find_element(by='css selector', value='a.a-link-normal')\n",
    "    product_link = product_link_element.get_attribute('href')  # Get the 'href' attribute\n",
    "    data.append({'Link': product_link})\n",
    "\n",
    "    print(f\"Top {index} Link: {product_link}\")\n",
    "\n",
    "# Close the WebDriver\n",
    "driver.quit()\n",
    "\n",
    "# Create a pandas DataFrame from the scraped links\n",
    "df = pd.DataFrame(data)\n",
    "\n",
    "# Export the DataFrame to an Excel file\n",
    "excel_file_path = \"Upright Vacuums.xlsx\"\n",
    "df.to_excel(excel_file_path, index=False)\n",
    "\n",
    "print(f\"Scraped data saved to {excel_file_path}\")"
   ]
  },
  {
   "cell_type": "markdown",
   "metadata": {},
   "source": [
    "https://www.amazon.in/gp/bestsellers/kitchen/5274530031/ref=zg_bs_nav_kitchen_4_1380612031"
   ]
  },
  {
   "cell_type": "markdown",
   "metadata": {},
   "source": [
    "Wet-Dry Vacuums"
   ]
  },
  {
   "cell_type": "code",
   "execution_count": null,
   "metadata": {},
   "outputs": [
    {
     "name": "stdout",
     "output_type": "stream",
     "text": [
      "Top 1 Link: https://www.amazon.in/Ace-1600-Watt-21-Litre-Stainless-Function/dp/B07RCGTZ4M/ref=zg_bs_g_5274530031_sccl_1/259-5880192-9365521?psc=1\n",
      "Top 2 Link: https://www.amazon.in/Inalsa-1400W-Micro-WD15-Multifunction-Filtration/dp/B09SB36BJX/ref=zg_bs_g_5274530031_sccl_2/259-5880192-9365521?psc=1\n",
      "Top 3 Link: https://www.amazon.in/Eureka-Forbes-Wet-Dry-Ultimo/dp/B07Z51CGGH/ref=zg_bs_g_5274530031_sccl_3/259-5880192-9365521?psc=1\n",
      "Scraped data saved to Wet-Dry Vacuums.xlsx\n"
     ]
    }
   ],
   "source": [
    "from selenium import webdriver\n",
    "from selenium.webdriver.edge.service import Service\n",
    "import pandas as pd\n",
    "\n",
    "# Specify the path to the Edge WebDriver executable\n",
    "driver_path = \"C:\\\\Users\\\\uppada satwik\\\\Downloads\\\\edgedriver_win64\\\\msedgedriver.exe\"\n",
    "\n",
    "# Create a Service object with the executable path\n",
    "service = Service(driver_path)\n",
    "\n",
    "# Set up the Edge WebDriver using the Service object\n",
    "driver = webdriver.Edge(service=service)\n",
    "\n",
    "# Navigate to Amazon.in best sellers page\n",
    "driver.get('https://www.amazon.in/gp/bestsellers/kitchen/5274530031/ref=zg_bs_nav_kitchen_4_1380612031')\n",
    "\n",
    "# Find the top 3 best sellers\n",
    "best_sellers = driver.find_elements(by='css selector', value='.a-column')[:3]\n",
    "\n",
    "# Create an empty list to store the links\n",
    "data = []\n",
    "\n",
    "# Extract and store the links for the top 3 best sellers\n",
    "for index, product in enumerate(best_sellers, start=1):\n",
    "    product_link_element = product.find_element(by='css selector', value='a.a-link-normal')\n",
    "    product_link = product_link_element.get_attribute('href')  # Get the 'href' attribute\n",
    "    data.append({'Link': product_link})\n",
    "\n",
    "    print(f\"Top {index} Link: {product_link}\")\n",
    "\n",
    "# Close the WebDriver\n",
    "driver.quit()\n",
    "\n",
    "# Create a pandas DataFrame from the scraped links\n",
    "df = pd.DataFrame(data)\n",
    "\n",
    "# Export the DataFrame to an Excel file\n",
    "excel_file_path = \"Wet-Dry Vacuums.xlsx\"\n",
    "df.to_excel(excel_file_path, index=False)\n",
    "\n",
    "print(f\"Scraped data saved to {excel_file_path}\")"
   ]
  },
  {
   "cell_type": "markdown",
   "metadata": {},
   "source": [
    "https://www.amazon.in/gp/bestsellers/kitchen/1380098031/ref=zg_bs_nav_kitchen_1"
   ]
  },
  {
   "cell_type": "markdown",
   "metadata": {},
   "source": [
    "Tableware"
   ]
  },
  {
   "cell_type": "code",
   "execution_count": null,
   "metadata": {},
   "outputs": [
    {
     "name": "stdout",
     "output_type": "stream",
     "text": [
      "Top 1 Link: https://www.amazon.in/Cello-Sportigo-Assorted-Insulated-Casserole/dp/B0C99M4RMN/ref=zg_bs_g_1380098031_sccl_1/259-8527051-5311850?psc=1\n",
      "Top 2 Link: https://www.amazon.in/ElastPro-Multipurpose-Bathroom-Kitchen-Transparent/dp/B0831486NM/ref=zg_bs_g_1380098031_sccl_2/259-8527051-5311850?psc=1\n",
      "Top 3 Link: https://www.amazon.in/Waterproof-Unisex-Kitchen-Center-Adjustable/dp/B0BQLKQKFJ/ref=zg_bs_g_1380098031_sccl_3/259-8527051-5311850?psc=1\n",
      "Scraped data saved to Tableware.xlsx\n"
     ]
    }
   ],
   "source": [
    "from selenium import webdriver\n",
    "from selenium.webdriver.edge.service import Service\n",
    "import pandas as pd\n",
    "\n",
    "# Specify the path to the Edge WebDriver executable\n",
    "driver_path = \"C:\\\\Users\\\\uppada satwik\\\\Downloads\\\\edgedriver_win64\\\\msedgedriver.exe\"\n",
    "\n",
    "# Create a Service object with the executable path\n",
    "service = Service(driver_path)\n",
    "\n",
    "# Set up the Edge WebDriver using the Service object\n",
    "driver = webdriver.Edge(service=service)\n",
    "\n",
    "# Navigate to Amazon.in best sellers page\n",
    "driver.get('https://www.amazon.in/gp/bestsellers/kitchen/1380098031/ref=zg_bs_nav_kitchen_1')\n",
    "\n",
    "# Find the top 3 best sellers\n",
    "best_sellers = driver.find_elements(by='css selector', value='.a-column')[:3]\n",
    "\n",
    "# Create an empty list to store the links\n",
    "data = []\n",
    "\n",
    "# Extract and store the links for the top 3 best sellers\n",
    "for index, product in enumerate(best_sellers, start=1):\n",
    "    product_link_element = product.find_element(by='css selector', value='a.a-link-normal')\n",
    "    product_link = product_link_element.get_attribute('href')  # Get the 'href' attribute\n",
    "    data.append({'Link': product_link})\n",
    "\n",
    "    print(f\"Top {index} Link: {product_link}\")\n",
    "\n",
    "# Close the WebDriver\n",
    "driver.quit()\n",
    "\n",
    "# Create a pandas DataFrame from the scraped links\n",
    "df = pd.DataFrame(data)\n",
    "\n",
    "# Export the DataFrame to an Excel file\n",
    "excel_file_path = \"Tableware.xlsx\"\n",
    "df.to_excel(excel_file_path, index=False)\n",
    "\n",
    "print(f\"Scraped data saved to {excel_file_path}\")"
   ]
  },
  {
   "cell_type": "markdown",
   "metadata": {},
   "source": [
    "https://www.amazon.in/gp/bestsellers/kitchen/27002108031/ref=zg_bs_nav_kitchen_3_1380098031"
   ]
  },
  {
   "cell_type": "markdown",
   "metadata": {},
   "source": [
    "Dinnerware & Serving Pieces"
   ]
  },
  {
   "cell_type": "code",
   "execution_count": null,
   "metadata": {},
   "outputs": [
    {
     "name": "stdout",
     "output_type": "stream",
     "text": [
      "Top 1 Link: https://www.amazon.in/Cello-Sportigo-Assorted-Insulated-Casserole/dp/B0C99M4RMN/ref=zg_bs_g_27002108031_sccl_1/261-1038732-9621235?psc=1\n",
      "Top 2 Link: https://www.amazon.in/MILTON-Stainless-Casserole-Stackable-Microwave/dp/B0B6RH5JRL/ref=zg_bs_g_27002108031_sccl_2/261-1038732-9621235?psc=1\n",
      "Top 3 Link: https://www.amazon.in/Cello-Sapphire-Insulated-Casserole-Serving/dp/B0BM3ZWR6H/ref=zg_bs_g_27002108031_sccl_3/261-1038732-9621235?psc=1\n",
      "Scraped data saved to Dinnerware & Serving Pieces.xlsx\n"
     ]
    }
   ],
   "source": [
    "from selenium import webdriver\n",
    "from selenium.webdriver.edge.service import Service\n",
    "import pandas as pd\n",
    "\n",
    "# Specify the path to the Edge WebDriver executable\n",
    "driver_path = \"C:\\\\Users\\\\uppada satwik\\\\Downloads\\\\edgedriver_win64\\\\msedgedriver.exe\"\n",
    "\n",
    "# Create a Service object with the executable path\n",
    "service = Service(driver_path)\n",
    "\n",
    "# Set up the Edge WebDriver using the Service object\n",
    "driver = webdriver.Edge(service=service)\n",
    "\n",
    "# Navigate to Amazon.in best sellers page\n",
    "driver.get('https://www.amazon.in/gp/bestsellers/kitchen/27002108031/ref=zg_bs_nav_kitchen_3_1380098031')\n",
    "\n",
    "# Find the top 3 best sellers\n",
    "best_sellers = driver.find_elements(by='css selector', value='.a-column')[:3]\n",
    "\n",
    "# Create an empty list to store the links\n",
    "data = []\n",
    "\n",
    "# Extract and store the links for the top 3 best sellers\n",
    "for index, product in enumerate(best_sellers, start=1):\n",
    "    product_link_element = product.find_element(by='css selector', value='a.a-link-normal')\n",
    "    product_link = product_link_element.get_attribute('href')  # Get the 'href' attribute\n",
    "    data.append({'Link': product_link})\n",
    "\n",
    "    print(f\"Top {index} Link: {product_link}\")\n",
    "\n",
    "# Close the WebDriver\n",
    "driver.quit()\n",
    "\n",
    "# Create a pandas DataFrame from the scraped links\n",
    "df = pd.DataFrame(data)\n",
    "\n",
    "# Export the DataFrame to an Excel file\n",
    "excel_file_path = \"Dinnerware & Serving Pieces.xlsx\"\n",
    "df.to_excel(excel_file_path, index=False)\n",
    "\n",
    "print(f\"Scraped data saved to {excel_file_path}\")"
   ]
  },
  {
   "cell_type": "markdown",
   "metadata": {},
   "source": [
    "https://www.amazon.in/gp/bestsellers/kitchen/30425801031/ref=zg_bs_nav_kitchen_3_27002108031"
   ]
  },
  {
   "cell_type": "markdown",
   "metadata": {},
   "source": [
    "Bread & Serving Baskets"
   ]
  },
  {
   "cell_type": "code",
   "execution_count": null,
   "metadata": {},
   "outputs": [
    {
     "name": "stdout",
     "output_type": "stream",
     "text": [
      "Top 1 Link: https://www.amazon.in/Gaffel-Stainless-Chapati-Kitchen-Silver-Capsule/dp/B0BN3ZXDPD/ref=zg_bs_g_30425801031_sccl_1/262-0991716-0218716?psc=1\n",
      "Scraped data saved to Bread & Serving Baskets.xlsx\n"
     ]
    }
   ],
   "source": [
    "from selenium import webdriver\n",
    "from selenium.webdriver.edge.service import Service\n",
    "import pandas as pd\n",
    "\n",
    "# Specify the path to the Edge WebDriver executable\n",
    "driver_path = \"C:\\\\Users\\\\uppada satwik\\\\Downloads\\\\edgedriver_win64\\\\msedgedriver.exe\"\n",
    "\n",
    "# Create a Service object with the executable path\n",
    "service = Service(driver_path)\n",
    "\n",
    "# Set up the Edge WebDriver using the Service object\n",
    "driver = webdriver.Edge(service=service)\n",
    "\n",
    "# Navigate to Amazon.in best sellers page\n",
    "driver.get('https://www.amazon.in/gp/bestsellers/kitchen/30425801031/ref=zg_bs_nav_kitchen_3_27002108031')\n",
    "\n",
    "# Find the top 3 best sellers\n",
    "best_sellers = driver.find_elements(by='css selector', value='.a-column')[:3]\n",
    "\n",
    "# Create an empty list to store the links\n",
    "data = []\n",
    "\n",
    "# Extract and store the links for the top 3 best sellers\n",
    "for index, product in enumerate(best_sellers, start=1):\n",
    "    product_link_element = product.find_element(by='css selector', value='a.a-link-normal')\n",
    "    product_link = product_link_element.get_attribute('href')  # Get the 'href' attribute\n",
    "    data.append({'Link': product_link})\n",
    "\n",
    "    print(f\"Top {index} Link: {product_link}\")\n",
    "\n",
    "# Close the WebDriver\n",
    "driver.quit()\n",
    "\n",
    "# Create a pandas DataFrame from the scraped links\n",
    "df = pd.DataFrame(data)\n",
    "\n",
    "# Export the DataFrame to an Excel file\n",
    "excel_file_path = \"Bread & Serving Baskets.xlsx\"\n",
    "df.to_excel(excel_file_path, index=False)\n",
    "\n",
    "print(f\"Scraped data saved to {excel_file_path}\")"
   ]
  },
  {
   "cell_type": "markdown",
   "metadata": {},
   "source": [
    "https://www.amazon.in/gp/bestsellers/kitchen/51396745031/ref=zg_bs_nav_kitchen_3_30425801031"
   ]
  },
  {
   "cell_type": "markdown",
   "metadata": {},
   "source": [
    "Condiment Squeeze Bottles"
   ]
  },
  {
   "cell_type": "code",
   "execution_count": null,
   "metadata": {},
   "outputs": [
    {
     "name": "stdout",
     "output_type": "stream",
     "text": [
      "Top 1 Link: https://www.amazon.in/Zollyss-Plastic-Squeeze-Condiment-Bottles/dp/B08Q3NCDTF/ref=zg_bs_g_51396745031_sccl_1/260-4890693-3431327?psc=1\n",
      "Top 2 Link: https://www.amazon.in/Zollyss-Kitchen-Plastic-Condiment-Dispenser/dp/B077XBZ3G5/ref=zg_bs_g_51396745031_sccl_2/260-4890693-3431327?psc=1\n",
      "Top 3 Link: https://www.amazon.in/CYOFQD-Condiment-Dispenser-Refillable-Multipurpose/dp/B0C1S4T4G1/ref=zg_bs_g_51396745031_sccl_3/260-4890693-3431327?psc=1\n",
      "Scraped data saved to Condiment Squeeze Bottles.xlsx\n"
     ]
    }
   ],
   "source": [
    "from selenium import webdriver\n",
    "from selenium.webdriver.edge.service import Service\n",
    "import pandas as pd\n",
    "\n",
    "# Specify the path to the Edge WebDriver executable\n",
    "driver_path = \"C:\\\\Users\\\\uppada satwik\\\\Downloads\\\\edgedriver_win64\\\\msedgedriver.exe\"\n",
    "\n",
    "# Create a Service object with the executable path\n",
    "service = Service(driver_path)\n",
    "\n",
    "# Set up the Edge WebDriver using the Service object\n",
    "driver = webdriver.Edge(service=service)\n",
    "\n",
    "# Navigate to Amazon.in best sellers page\n",
    "driver.get('https://www.amazon.in/gp/bestsellers/kitchen/51396745031/ref=zg_bs_nav_kitchen_3_30425801031')\n",
    "\n",
    "# Find the top 3 best sellers\n",
    "best_sellers = driver.find_elements(by='css selector', value='.a-column')[:3]\n",
    "\n",
    "# Create an empty list to store the links\n",
    "data = []\n",
    "\n",
    "# Extract and store the links for the top 3 best sellers\n",
    "for index, product in enumerate(best_sellers, start=1):\n",
    "    product_link_element = product.find_element(by='css selector', value='a.a-link-normal')\n",
    "    product_link = product_link_element.get_attribute('href')  # Get the 'href' attribute\n",
    "    data.append({'Link': product_link})\n",
    "\n",
    "    print(f\"Top {index} Link: {product_link}\")\n",
    "\n",
    "# Close the WebDriver\n",
    "driver.quit()\n",
    "\n",
    "# Create a pandas DataFrame from the scraped links\n",
    "df = pd.DataFrame(data)\n",
    "\n",
    "# Export the DataFrame to an Excel file\n",
    "excel_file_path = \"Condiment Squeeze Bottles.xlsx\"\n",
    "df.to_excel(excel_file_path, index=False)\n",
    "\n",
    "print(f\"Scraped data saved to {excel_file_path}\")"
   ]
  },
  {
   "cell_type": "markdown",
   "metadata": {},
   "source": [
    "https://www.amazon.in/gp/bestsellers/kitchen/27002111031/ref=zg_bs_nav_kitchen_3_51396745031"
   ]
  },
  {
   "cell_type": "markdown",
   "metadata": {},
   "source": [
    "Cream & Sugar"
   ]
  },
  {
   "cell_type": "code",
   "execution_count": null,
   "metadata": {},
   "outputs": [
    {
     "name": "stdout",
     "output_type": "stream",
     "text": [
      "Top 1 Link: https://www.amazon.in/Femora-Stainless-Steel-Handle-Maroon/dp/B08674P6ZX/ref=zg_bs_g_27002111031_sccl_1/258-8235805-3110640?psc=1\n",
      "Top 2 Link: https://www.amazon.in/Dynore-Stainless-Steel-Jug-Silver/dp/B078TFPFY4/ref=zg_bs_g_27002111031_sccl_2/258-8235805-3110640?psc=1\n",
      "Top 3 Link: https://www.amazon.in/AYURVEDACOPPER-Stainless-Frothing-Pitcher-Coffee/dp/B09GG61GLC/ref=zg_bs_g_27002111031_sccl_3/258-8235805-3110640?psc=1\n",
      "Scraped data saved to Cream & Sugar.xlsx\n"
     ]
    }
   ],
   "source": [
    "from selenium import webdriver\n",
    "from selenium.webdriver.edge.service import Service\n",
    "import pandas as pd\n",
    "\n",
    "# Specify the path to the Edge WebDriver executable\n",
    "driver_path = \"C:\\\\Users\\\\uppada satwik\\\\Downloads\\\\edgedriver_win64\\\\msedgedriver.exe\"\n",
    "\n",
    "# Create a Service object with the executable path\n",
    "service = Service(driver_path)\n",
    "\n",
    "# Set up the Edge WebDriver using the Service object\n",
    "driver = webdriver.Edge(service=service)\n",
    "\n",
    "# Navigate to Amazon.in best sellers page\n",
    "driver.get('https://www.amazon.in/gp/bestsellers/kitchen/27002111031/ref=zg_bs_nav_kitchen_3_51396745031')\n",
    "\n",
    "# Find the top 3 best sellers\n",
    "best_sellers = driver.find_elements(by='css selector', value='.a-column')[:3]\n",
    "\n",
    "# Create an empty list to store the links\n",
    "data = []\n",
    "\n",
    "# Extract and store the links for the top 3 best sellers\n",
    "for index, product in enumerate(best_sellers, start=1):\n",
    "    product_link_element = product.find_element(by='css selector', value='a.a-link-normal')\n",
    "    product_link = product_link_element.get_attribute('href')  # Get the 'href' attribute\n",
    "    data.append({'Link': product_link})\n",
    "\n",
    "    print(f\"Top {index} Link: {product_link}\")\n",
    "\n",
    "# Close the WebDriver\n",
    "driver.quit()\n",
    "\n",
    "# Create a pandas DataFrame from the scraped links\n",
    "df = pd.DataFrame(data)\n",
    "\n",
    "# Export the DataFrame to an Excel file\n",
    "excel_file_path = \"Cream & Sugar.xlsx\"\n",
    "df.to_excel(excel_file_path, index=False)\n",
    "\n",
    "print(f\"Scraped data saved to {excel_file_path}\")"
   ]
  },
  {
   "cell_type": "markdown",
   "metadata": {},
   "source": [
    "https://www.amazon.in/gp/bestsellers/kitchen/27002109031/ref=zg_bs_nav_kitchen_3_27002111031"
   ]
  },
  {
   "cell_type": "markdown",
   "metadata": {},
   "source": [
    "Dinnerware"
   ]
  },
  {
   "cell_type": "code",
   "execution_count": null,
   "metadata": {},
   "outputs": [
    {
     "name": "stdout",
     "output_type": "stream",
     "text": [
      "Top 1 Link: https://www.amazon.in/Borosil-Glass-Mixing-3-Pieces-Transparent/dp/B07BHB1FJS/ref=zg_bs_g_27002109031_sccl_1/261-3585370-7815237?psc=1\n",
      "Top 2 Link: https://www.amazon.in/KiKiluxxa-Wooden-Can-1-540ml-Florida/dp/B0CFJJBSPV/ref=zg_bs_g_27002109031_sccl_2/261-3585370-7815237?psc=1\n",
      "Top 3 Link: https://www.amazon.in/KELVEE-Reusable-Leakproof-Beverages-435ml/dp/B0BTMK71TC/ref=zg_bs_g_27002109031_sccl_3/261-3585370-7815237?psc=1\n",
      "Scraped data saved to Dinnerware.xlsx\n"
     ]
    }
   ],
   "source": [
    "from selenium import webdriver\n",
    "from selenium.webdriver.edge.service import Service\n",
    "import pandas as pd\n",
    "\n",
    "# Specify the path to the Edge WebDriver executable\n",
    "driver_path = \"C:\\\\Users\\\\uppada satwik\\\\Downloads\\\\edgedriver_win64\\\\msedgedriver.exe\"\n",
    "\n",
    "# Create a Service object with the executable path\n",
    "service = Service(driver_path)\n",
    "\n",
    "# Set up the Edge WebDriver using the Service object\n",
    "driver = webdriver.Edge(service=service)\n",
    "\n",
    "# Navigate to Amazon.in best sellers page\n",
    "driver.get('https://www.amazon.in/gp/bestsellers/kitchen/27002109031/ref=zg_bs_nav_kitchen_3_27002111031')\n",
    "\n",
    "# Find the top 3 best sellers\n",
    "best_sellers = driver.find_elements(by='css selector', value='.a-column')[:3]\n",
    "\n",
    "# Create an empty list to store the links\n",
    "data = []\n",
    "\n",
    "# Extract and store the links for the top 3 best sellers\n",
    "for index, product in enumerate(best_sellers, start=1):\n",
    "    product_link_element = product.find_element(by='css selector', value='a.a-link-normal')\n",
    "    product_link = product_link_element.get_attribute('href')  # Get the 'href' attribute\n",
    "    data.append({'Link': product_link})\n",
    "\n",
    "    print(f\"Top {index} Link: {product_link}\")\n",
    "\n",
    "# Close the WebDriver\n",
    "driver.quit()\n",
    "\n",
    "# Create a pandas DataFrame from the scraped links\n",
    "df = pd.DataFrame(data)\n",
    "\n",
    "# Export the DataFrame to an Excel file\n",
    "excel_file_path = \"Dinnerware.xlsx\"\n",
    "df.to_excel(excel_file_path, index=False)\n",
    "\n",
    "print(f\"Scraped data saved to {excel_file_path}\")"
   ]
  },
  {
   "cell_type": "markdown",
   "metadata": {},
   "source": [
    "https://www.amazon.in/gp/bestsellers/kitchen/1380133031/ref=zg_bs_nav_kitchen_4_27002109031"
   ]
  },
  {
   "cell_type": "markdown",
   "metadata": {},
   "source": [
    "Bowls"
   ]
  },
  {
   "cell_type": "code",
   "execution_count": null,
   "metadata": {},
   "outputs": [
    {
     "name": "stdout",
     "output_type": "stream",
     "text": [
      "Top 1 Link: https://www.amazon.in/Borosil-Glass-Mixing-3-Pieces-Transparent/dp/B07BHB1FJS/ref=zg_bs_g_1380133031_sccl_1/262-8101970-8169303?psc=1\n",
      "Top 2 Link: https://www.amazon.in/Signoraware-Mixing-Bowl-High-Borosilicate-Transparent/dp/B07PWN1H1T/ref=zg_bs_g_1380133031_sccl_2/262-8101970-8169303?psc=1\n",
      "Top 3 Link: https://www.amazon.in/Eha-Earth-Friendly-Kitchen-Microwave-Multicolor/dp/B0BXWNLYHJ/ref=zg_bs_g_1380133031_sccl_3/262-8101970-8169303?psc=1\n",
      "Scraped data saved to Bowls.xlsx\n"
     ]
    }
   ],
   "source": [
    "from selenium import webdriver\n",
    "from selenium.webdriver.edge.service import Service\n",
    "import pandas as pd\n",
    "\n",
    "# Specify the path to the Edge WebDriver executable\n",
    "driver_path = \"C:\\\\Users\\\\uppada satwik\\\\Downloads\\\\edgedriver_win64\\\\msedgedriver.exe\"\n",
    "\n",
    "# Create a Service object with the executable path\n",
    "service = Service(driver_path)\n",
    "\n",
    "# Set up the Edge WebDriver using the Service object\n",
    "driver = webdriver.Edge(service=service)\n",
    "\n",
    "# Navigate to Amazon.in best sellers page\n",
    "driver.get('https://www.amazon.in/gp/bestsellers/kitchen/1380133031/ref=zg_bs_nav_kitchen_4_27002109031')\n",
    "\n",
    "# Find the top 3 best sellers\n",
    "best_sellers = driver.find_elements(by='css selector', value='.a-column')[:3]\n",
    "\n",
    "# Create an empty list to store the links\n",
    "data = []\n",
    "\n",
    "# Extract and store the links for the top 3 best sellers\n",
    "for index, product in enumerate(best_sellers, start=1):\n",
    "    product_link_element = product.find_element(by='css selector', value='a.a-link-normal')\n",
    "    product_link = product_link_element.get_attribute('href')  # Get the 'href' attribute\n",
    "    data.append({'Link': product_link})\n",
    "\n",
    "    print(f\"Top {index} Link: {product_link}\")\n",
    "\n",
    "# Close the WebDriver\n",
    "driver.quit()\n",
    "\n",
    "# Create a pandas DataFrame from the scraped links\n",
    "df = pd.DataFrame(data)\n",
    "\n",
    "# Export the DataFrame to an Excel file\n",
    "excel_file_path = \"Bowls.xlsx\"\n",
    "df.to_excel(excel_file_path, index=False)\n",
    "\n",
    "print(f\"Scraped data saved to {excel_file_path}\")"
   ]
  },
  {
   "cell_type": "markdown",
   "metadata": {},
   "source": [
    "https://www.amazon.in/gp/bestsellers/kitchen/51397148031/ref=zg_bs_nav_kitchen_5_1380133031"
   ]
  },
  {
   "cell_type": "markdown",
   "metadata": {},
   "source": [
    "Bowl Sets"
   ]
  },
  {
   "cell_type": "code",
   "execution_count": null,
   "metadata": {},
   "outputs": [
    {
     "name": "stdout",
     "output_type": "stream",
     "text": [
      "Top 1 Link: https://www.amazon.in/Kuber-Industries-Microwave-Unbreakable-Green-KUBMART15285/dp/B08VNM3F6G/ref=zg_bs_g_51397148031_sccl_1/258-6120965-4426952?psc=1\n",
      "Top 2 Link: https://www.amazon.in/Neelam-Stainless-Steel-Prem-Silver/dp/B07SDMZVQH/ref=zg_bs_g_51397148031_sccl_2/258-6120965-4426952?psc=1\n",
      "Top 3 Link: https://www.amazon.in/Neelam-Stainless-Steel-Prem-Silver/dp/B07S7BXPGS/ref=zg_bs_g_51397148031_sccl_3/258-6120965-4426952?psc=1\n",
      "Scraped data saved to Bowl Sets.xlsx\n"
     ]
    }
   ],
   "source": [
    "from selenium import webdriver\n",
    "from selenium.webdriver.edge.service import Service\n",
    "import pandas as pd\n",
    "\n",
    "# Specify the path to the Edge WebDriver executable\n",
    "driver_path = \"C:\\\\Users\\\\uppada satwik\\\\Downloads\\\\edgedriver_win64\\\\msedgedriver.exe\"\n",
    "\n",
    "# Create a Service object with the executable path\n",
    "service = Service(driver_path)\n",
    "\n",
    "# Set up the Edge WebDriver using the Service object\n",
    "driver = webdriver.Edge(service=service)\n",
    "\n",
    "# Navigate to Amazon.in best sellers page\n",
    "driver.get('https://www.amazon.in/gp/bestsellers/kitchen/51397148031/ref=zg_bs_nav_kitchen_5_1380133031')\n",
    "\n",
    "# Find the top 3 best sellers\n",
    "best_sellers = driver.find_elements(by='css selector', value='.a-column')[:3]\n",
    "\n",
    "# Create an empty list to store the links\n",
    "data = []\n",
    "\n",
    "# Extract and store the links for the top 3 best sellers\n",
    "for index, product in enumerate(best_sellers, start=1):\n",
    "    product_link_element = product.find_element(by='css selector', value='a.a-link-normal')\n",
    "    product_link = product_link_element.get_attribute('href')  # Get the 'href' attribute\n",
    "    data.append({'Link': product_link})\n",
    "\n",
    "    print(f\"Top {index} Link: {product_link}\")\n",
    "\n",
    "# Close the WebDriver\n",
    "driver.quit()\n",
    "\n",
    "# Create a pandas DataFrame from the scraped links\n",
    "df = pd.DataFrame(data)\n",
    "\n",
    "# Export the DataFrame to an Excel file\n",
    "excel_file_path = \"Bowl Sets.xlsx\"\n",
    "df.to_excel(excel_file_path, index=False)\n",
    "\n",
    "print(f\"Scraped data saved to {excel_file_path}\")"
   ]
  },
  {
   "cell_type": "markdown",
   "metadata": {},
   "source": [
    "https://www.amazon.in/gp/bestsellers/kitchen/51397135031/ref=zg_bs_nav_kitchen_5_51397154031"
   ]
  },
  {
   "cell_type": "markdown",
   "metadata": {},
   "source": [
    "Finger Bowls"
   ]
  },
  {
   "cell_type": "code",
   "execution_count": null,
   "metadata": {},
   "outputs": [
    {
     "name": "stdout",
     "output_type": "stream",
     "text": [
      "Top 1 Link: https://www.amazon.in/Stainless-Steel-Laser-Print-Piece/dp/B08M3ZYHF5/ref=zg_bs_g_51397135031_sccl_1/262-0414095-3143908?psc=1\n",
      "Top 2 Link: https://www.amazon.in/More-Essentials-Flora-Wati-Size/dp/B07CQYDWW3/ref=zg_bs_g_51397135031_sccl_2/262-0414095-3143908?psc=1\n",
      "Scraped data saved to Finger Bowls.xlsx\n"
     ]
    }
   ],
   "source": [
    "from selenium import webdriver\n",
    "from selenium.webdriver.edge.service import Service\n",
    "import pandas as pd\n",
    "\n",
    "# Specify the path to the Edge WebDriver executable\n",
    "driver_path = \"C:\\\\Users\\\\uppada satwik\\\\Downloads\\\\edgedriver_win64\\\\msedgedriver.exe\"\n",
    "\n",
    "# Create a Service object with the executable path\n",
    "service = Service(driver_path)\n",
    "\n",
    "# Set up the Edge WebDriver using the Service object\n",
    "driver = webdriver.Edge(service=service)\n",
    "\n",
    "# Navigate to Amazon.in best sellers page\n",
    "driver.get('https://www.amazon.in/gp/bestsellers/kitchen/51397135031/ref=zg_bs_nav_kitchen_5_51397154031')\n",
    "\n",
    "# Find the top 3 best sellers\n",
    "best_sellers = driver.find_elements(by='css selector', value='.a-column')[:3]\n",
    "\n",
    "# Create an empty list to store the links\n",
    "data = []\n",
    "\n",
    "# Extract and store the links for the top 3 best sellers\n",
    "for index, product in enumerate(best_sellers, start=1):\n",
    "    product_link_element = product.find_element(by='css selector', value='a.a-link-normal')\n",
    "    product_link = product_link_element.get_attribute('href')  # Get the 'href' attribute\n",
    "    data.append({'Link': product_link})\n",
    "\n",
    "    print(f\"Top {index} Link: {product_link}\")\n",
    "\n",
    "# Close the WebDriver\n",
    "driver.quit()\n",
    "\n",
    "# Create a pandas DataFrame from the scraped links\n",
    "df = pd.DataFrame(data)\n",
    "\n",
    "# Export the DataFrame to an Excel file\n",
    "excel_file_path = \"Finger Bowls.xlsx\"\n",
    "df.to_excel(excel_file_path, index=False)\n",
    "\n",
    "print(f\"Scraped data saved to {excel_file_path}\")"
   ]
  },
  {
   "cell_type": "markdown",
   "metadata": {},
   "source": [
    "https://www.amazon.in/gp/bestsellers/kitchen/1380137031/ref=zg_bs_nav_kitchen_5_51397135031"
   ]
  },
  {
   "cell_type": "markdown",
   "metadata": {},
   "source": [
    "Handled Soup Bowls"
   ]
  },
  {
   "cell_type": "code",
   "execution_count": null,
   "metadata": {},
   "outputs": [
    {
     "name": "stdout",
     "output_type": "stream",
     "text": [
      "Top 1 Link: https://www.amazon.in/Himalayan-Goods-Company-Handmade-6x2-25-inch/dp/B07CMBZNHL/ref=zg_bs_g_1380137031_sccl_1/261-1895922-1352539?psc=1\n",
      "Top 2 Link: https://www.amazon.in/KITTENS-Painted-Speckled-Black-Ceramic/dp/B07F978SJS/ref=zg_bs_g_1380137031_sccl_2/261-1895922-1352539?psc=1\n",
      "Top 3 Link: https://www.amazon.in/Corelle-Livingware-Winter-Katori-6-Pieces/dp/B00NHOM0BS/ref=zg_bs_g_1380137031_sccl_3/261-1895922-1352539?psc=1\n",
      "Scraped data saved to Handled Soup Bowls.xlsx\n"
     ]
    }
   ],
   "source": [
    "from selenium import webdriver\n",
    "from selenium.webdriver.edge.service import Service\n",
    "import pandas as pd\n",
    "\n",
    "# Specify the path to the Edge WebDriver executable\n",
    "driver_path = \"C:\\\\Users\\\\uppada satwik\\\\Downloads\\\\edgedriver_win64\\\\msedgedriver.exe\"\n",
    "\n",
    "# Create a Service object with the executable path\n",
    "service = Service(driver_path)\n",
    "\n",
    "# Set up the Edge WebDriver using the Service object\n",
    "driver = webdriver.Edge(service=service)\n",
    "\n",
    "# Navigate to Amazon.in best sellers page\n",
    "driver.get('https://www.amazon.in/gp/bestsellers/kitchen/1380137031/ref=zg_bs_nav_kitchen_5_51397135031')\n",
    "\n",
    "# Find the top 3 best sellers\n",
    "best_sellers = driver.find_elements(by='css selector', value='.a-column')[:3]\n",
    "\n",
    "# Create an empty list to store the links\n",
    "data = []\n",
    "\n",
    "# Extract and store the links for the top 3 best sellers\n",
    "for index, product in enumerate(best_sellers, start=1):\n",
    "    product_link_element = product.find_element(by='css selector', value='a.a-link-normal')\n",
    "    product_link = product_link_element.get_attribute('href')  # Get the 'href' attribute\n",
    "    data.append({'Link': product_link})\n",
    "\n",
    "    print(f\"Top {index} Link: {product_link}\")\n",
    "\n",
    "# Close the WebDriver\n",
    "driver.quit()\n",
    "\n",
    "# Create a pandas DataFrame from the scraped links\n",
    "df = pd.DataFrame(data)\n",
    "\n",
    "# Export the DataFrame to an Excel file\n",
    "excel_file_path = \"Handled Soup Bowls.xlsx\"\n",
    "df.to_excel(excel_file_path, index=False)\n",
    "\n",
    "print(f\"Scraped data saved to {excel_file_path}\")"
   ]
  },
  {
   "cell_type": "markdown",
   "metadata": {},
   "source": [
    "https://www.amazon.in/gp/bestsellers/kitchen/51397136031/ref=zg_bs_nav_kitchen_5_1380137031"
   ]
  },
  {
   "cell_type": "markdown",
   "metadata": {},
   "source": [
    "Ice Cream Bowls"
   ]
  },
  {
   "cell_type": "code",
   "execution_count": null,
   "metadata": {},
   "outputs": [
    {
     "name": "stdout",
     "output_type": "stream",
     "text": [
      "Top 1 Link: https://www.amazon.in/Roch%C3%A8re-Set-Cups-Sweet/dp/B00DZNC00M/ref=zg_bs_g_51397136031_sccl_1/261-6535110-1033531?psc=1\n",
      "Scraped data saved to Ice Cream Bowls.xlsx\n"
     ]
    }
   ],
   "source": [
    "from selenium import webdriver\n",
    "from selenium.webdriver.edge.service import Service\n",
    "import pandas as pd\n",
    "\n",
    "# Specify the path to the Edge WebDriver executable\n",
    "driver_path = \"C:\\\\Users\\\\uppada satwik\\\\Downloads\\\\edgedriver_win64\\\\msedgedriver.exe\"\n",
    "\n",
    "# Create a Service object with the executable path\n",
    "service = Service(driver_path)\n",
    "\n",
    "# Set up the Edge WebDriver using the Service object\n",
    "driver = webdriver.Edge(service=service)\n",
    "\n",
    "# Navigate to Amazon.in best sellers page\n",
    "driver.get('https://www.amazon.in/gp/bestsellers/kitchen/51397136031/ref=zg_bs_nav_kitchen_5_1380137031')\n",
    "\n",
    "# Find the top 3 best sellers\n",
    "best_sellers = driver.find_elements(by='css selector', value='.a-column')[:3]\n",
    "\n",
    "# Create an empty list to store the links\n",
    "data = []\n",
    "\n",
    "# Extract and store the links for the top 3 best sellers\n",
    "for index, product in enumerate(best_sellers, start=1):\n",
    "    product_link_element = product.find_element(by='css selector', value='a.a-link-normal')\n",
    "    product_link = product_link_element.get_attribute('href')  # Get the 'href' attribute\n",
    "    data.append({'Link': product_link})\n",
    "\n",
    "    print(f\"Top {index} Link: {product_link}\")\n",
    "\n",
    "# Close the WebDriver\n",
    "driver.quit()\n",
    "\n",
    "# Create a pandas DataFrame from the scraped links\n",
    "df = pd.DataFrame(data)\n",
    "\n",
    "# Export the DataFrame to an Excel file\n",
    "excel_file_path = \"Ice Cream Bowls.xlsx\"\n",
    "df.to_excel(excel_file_path, index=False)\n",
    "\n",
    "print(f\"Scraped data saved to {excel_file_path}\")"
   ]
  },
  {
   "cell_type": "markdown",
   "metadata": {},
   "source": [
    "https://www.amazon.in/gp/bestsellers/kitchen/3248218031/ref=zg_bs_nav_kitchen_4_27002109031"
   ]
  },
  {
   "cell_type": "markdown",
   "metadata": {},
   "source": [
    "Cups, Mugs & Saucers"
   ]
  },
  {
   "cell_type": "code",
   "execution_count": null,
   "metadata": {},
   "outputs": [
    {
     "name": "stdout",
     "output_type": "stream",
     "text": [
      "Top 1 Link: https://www.amazon.in/KiKiluxxa-Wooden-Can-1-540ml-Florida/dp/B0CFJJBSPV/ref=zg_bs_g_3248218031_sccl_1/261-1540984-6422356?psc=1\n",
      "Top 2 Link: https://www.amazon.in/KELVEE-Reusable-Leakproof-Beverages-435ml/dp/B0BTMK71TC/ref=zg_bs_g_3248218031_sccl_2/261-1540984-6422356?psc=1\n",
      "Top 3 Link: https://www.amazon.in/NH10-DESIGNS-Anniversary-Microwave-Mug-350ml/dp/B0BG5GYC47/ref=zg_bs_g_3248218031_sccl_3/261-1540984-6422356?psc=1\n",
      "Scraped data saved to Cups, Mugs & Saucers.xlsx\n"
     ]
    }
   ],
   "source": [
    "from selenium import webdriver\n",
    "from selenium.webdriver.edge.service import Service\n",
    "import pandas as pd\n",
    "\n",
    "# Specify the path to the Edge WebDriver executable\n",
    "driver_path = \"C:\\\\Users\\\\uppada satwik\\\\Downloads\\\\edgedriver_win64\\\\msedgedriver.exe\"\n",
    "\n",
    "# Create a Service object with the executable path\n",
    "service = Service(driver_path)\n",
    "\n",
    "# Set up the Edge WebDriver using the Service object\n",
    "driver = webdriver.Edge(service=service)\n",
    "\n",
    "# Navigate to Amazon.in best sellers page\n",
    "driver.get('https://www.amazon.in/gp/bestsellers/kitchen/3248218031/ref=zg_bs_nav_kitchen_4_27002109031')\n",
    "\n",
    "# Find the top 3 best sellers\n",
    "best_sellers = driver.find_elements(by='css selector', value='.a-column')[:3]\n",
    "\n",
    "# Create an empty list to store the links\n",
    "data = []\n",
    "\n",
    "# Extract and store the links for the top 3 best sellers\n",
    "for index, product in enumerate(best_sellers, start=1):\n",
    "    product_link_element = product.find_element(by='css selector', value='a.a-link-normal')\n",
    "    product_link = product_link_element.get_attribute('href')  # Get the 'href' attribute\n",
    "    data.append({'Link': product_link})\n",
    "\n",
    "    print(f\"Top {index} Link: {product_link}\")\n",
    "\n",
    "# Close the WebDriver\n",
    "driver.quit()\n",
    "\n",
    "# Create a pandas DataFrame from the scraped links\n",
    "df = pd.DataFrame(data)\n",
    "\n",
    "# Export the DataFrame to an Excel file\n",
    "excel_file_path = \"Cups, Mugs & Saucers.xlsx\"\n",
    "df.to_excel(excel_file_path, index=False)\n",
    "\n",
    "print(f\"Scraped data saved to {excel_file_path}\")"
   ]
  },
  {
   "cell_type": "markdown",
   "metadata": {},
   "source": [
    "https://www.amazon.in/gp/bestsellers/kitchen/51397021031/ref=zg_bs_nav_kitchen_4_3248218031"
   ]
  },
  {
   "cell_type": "markdown",
   "metadata": {},
   "source": [
    "Cappuccino Cups"
   ]
  },
  {
   "cell_type": "code",
   "execution_count": null,
   "metadata": {},
   "outputs": [
    {
     "name": "stdout",
     "output_type": "stream",
     "text": [
      "Top 1 Link: https://www.amazon.in/Julius-Meinl-Cappucino-Coffee-White/dp/B003E5UCDS/ref=zg_bs_g_51397021031_sccl_1/260-0938246-0850569?psc=1\n",
      "Scraped data saved to Cappuccino Cups.xlsx\n"
     ]
    }
   ],
   "source": [
    "from selenium import webdriver\n",
    "from selenium.webdriver.edge.service import Service\n",
    "import pandas as pd\n",
    "\n",
    "# Specify the path to the Edge WebDriver executable\n",
    "driver_path = \"C:\\\\Users\\\\uppada satwik\\\\Downloads\\\\edgedriver_win64\\\\msedgedriver.exe\"\n",
    "\n",
    "# Create a Service object with the executable path\n",
    "service = Service(driver_path)\n",
    "\n",
    "# Set up the Edge WebDriver using the Service object\n",
    "driver = webdriver.Edge(service=service)\n",
    "\n",
    "# Navigate to Amazon.in best sellers page\n",
    "driver.get('https://www.amazon.in/gp/bestsellers/kitchen/51397021031/ref=zg_bs_nav_kitchen_4_3248218031')\n",
    "\n",
    "# Find the top 3 best sellers\n",
    "best_sellers = driver.find_elements(by='css selector', value='.a-column')[:3]\n",
    "\n",
    "# Create an empty list to store the links\n",
    "data = []\n",
    "\n",
    "# Extract and store the links for the top 3 best sellers\n",
    "for index, product in enumerate(best_sellers, start=1):\n",
    "    product_link_element = product.find_element(by='css selector', value='a.a-link-normal')\n",
    "    product_link = product_link_element.get_attribute('href')  # Get the 'href' attribute\n",
    "    data.append({'Link': product_link})\n",
    "\n",
    "    print(f\"Top {index} Link: {product_link}\")\n",
    "\n",
    "# Close the WebDriver\n",
    "driver.quit()\n",
    "\n",
    "# Create a pandas DataFrame from the scraped links\n",
    "df = pd.DataFrame(data)\n",
    "\n",
    "# Export the DataFrame to an Excel file\n",
    "excel_file_path = \"Cappuccino Cups.xlsx\"\n",
    "df.to_excel(excel_file_path, index=False)\n",
    "\n",
    "print(f\"Scraped data saved to {excel_file_path}\")"
   ]
  },
  {
   "cell_type": "markdown",
   "metadata": {},
   "source": [
    "https://www.amazon.in/gp/bestsellers/kitchen/51397019031/ref=zg_bs_nav_kitchen_4_51397021031"
   ]
  },
  {
   "cell_type": "markdown",
   "metadata": {},
   "source": [
    "Cup & Saucer Sets"
   ]
  },
  {
   "cell_type": "code",
   "execution_count": null,
   "metadata": {},
   "outputs": [
    {
     "name": "stdout",
     "output_type": "stream",
     "text": [
      "Top 1 Link: https://www.amazon.in/Home-Centre-Fiesta-Pike-Pastel-Printed/dp/B0B51WNV77/ref=zg_bs_g_51397019031_sccl_1/261-5687294-9584949?psc=1\n",
      "Top 2 Link: https://www.amazon.in/AMALFIEE-Handmade-Microwave-Dishwasher-Eco-Friendly/dp/B0C3953NQX/ref=zg_bs_g_51397019031_sccl_2/261-5687294-9584949?psc=1\n",
      "Top 3 Link: https://www.amazon.in/AMALFIEE-Lemongrass-Microwave-Dishwasher-Eco-Friendly/dp/B0C392V7WG/ref=zg_bs_g_51397019031_sccl_3/261-5687294-9584949?psc=1\n",
      "Scraped data saved to Cup & Saucer Sets.xlsx\n"
     ]
    }
   ],
   "source": [
    "from selenium import webdriver\n",
    "from selenium.webdriver.edge.service import Service\n",
    "import pandas as pd\n",
    "\n",
    "# Specify the path to the Edge WebDriver executable\n",
    "driver_path = \"C:\\\\Users\\\\uppada satwik\\\\Downloads\\\\edgedriver_win64\\\\msedgedriver.exe\"\n",
    "\n",
    "# Create a Service object with the executable path\n",
    "service = Service(driver_path)\n",
    "\n",
    "# Set up the Edge WebDriver using the Service object\n",
    "driver = webdriver.Edge(service=service)\n",
    "\n",
    "# Navigate to Amazon.in best sellers page\n",
    "driver.get('https://www.amazon.in/gp/bestsellers/kitchen/51397019031/ref=zg_bs_nav_kitchen_4_51397021031')\n",
    "\n",
    "# Find the top 3 best sellers\n",
    "best_sellers = driver.find_elements(by='css selector', value='.a-column')[:3]\n",
    "\n",
    "# Create an empty list to store the links\n",
    "data = []\n",
    "\n",
    "# Extract and store the links for the top 3 best sellers\n",
    "for index, product in enumerate(best_sellers, start=1):\n",
    "    product_link_element = product.find_element(by='css selector', value='a.a-link-normal')\n",
    "    product_link = product_link_element.get_attribute('href')  # Get the 'href' attribute\n",
    "    data.append({'Link': product_link})\n",
    "\n",
    "    print(f\"Top {index} Link: {product_link}\")\n",
    "\n",
    "# Close the WebDriver\n",
    "driver.quit()\n",
    "\n",
    "# Create a pandas DataFrame from the scraped links\n",
    "df = pd.DataFrame(data)\n",
    "\n",
    "# Export the DataFrame to an Excel file\n",
    "excel_file_path = \"Cup & Saucer Sets.xlsx\"\n",
    "df.to_excel(excel_file_path, index=False)\n",
    "\n",
    "print(f\"Scraped data saved to {excel_file_path}\")"
   ]
  },
  {
   "cell_type": "markdown",
   "metadata": {},
   "source": [
    "https://www.amazon.in/gp/bestsellers/kitchen/26286959031/ref=zg_bs_nav_kitchen_4_51397016031"
   ]
  },
  {
   "cell_type": "markdown",
   "metadata": {},
   "source": [
    "Infusion Mugs"
   ]
  },
  {
   "cell_type": "code",
   "execution_count": null,
   "metadata": {},
   "outputs": [
    {
     "name": "stdout",
     "output_type": "stream",
     "text": [
      "Top 1 Link: https://www.amazon.in/Sipologie-Inspire-Tea-Infuser-Mug/dp/B0BRKJ3SZZ/ref=zg_bs_g_26286959031_sccl_1/257-2991815-8056926?psc=1\n",
      "Top 2 Link: https://www.amazon.in/Udyan-Tea-Terra-Ceramic-Infuser/dp/B098QY48DV/ref=zg_bs_g_26286959031_sccl_2/257-2991815-8056926?psc=1\n",
      "Top 3 Link: https://www.amazon.in/VELINEX%C2%AE-Infuser-Tumbler-Stainless-Strainer/dp/B09B44N2G2/ref=zg_bs_g_26286959031_sccl_3/257-2991815-8056926?psc=1\n",
      "Scraped data saved to Infusion Mugs.xlsx\n"
     ]
    }
   ],
   "source": [
    "from selenium import webdriver\n",
    "from selenium.webdriver.edge.service import Service\n",
    "import pandas as pd\n",
    "\n",
    "# Specify the path to the Edge WebDriver executable\n",
    "driver_path = \"C:\\\\Users\\\\uppada satwik\\\\Downloads\\\\edgedriver_win64\\\\msedgedriver.exe\"\n",
    "\n",
    "# Create a Service object with the executable path\n",
    "service = Service(driver_path)\n",
    "\n",
    "# Set up the Edge WebDriver using the Service object\n",
    "driver = webdriver.Edge(service=service)\n",
    "\n",
    "# Navigate to Amazon.in best sellers page\n",
    "driver.get('https://www.amazon.in/gp/bestsellers/kitchen/26286959031/ref=zg_bs_nav_kitchen_4_51397016031')\n",
    "\n",
    "# Find the top 3 best sellers\n",
    "best_sellers = driver.find_elements(by='css selector', value='.a-column')[:3]\n",
    "\n",
    "# Create an empty list to store the links\n",
    "data = []\n",
    "\n",
    "# Extract and store the links for the top 3 best sellers\n",
    "for index, product in enumerate(best_sellers, start=1):\n",
    "    product_link_element = product.find_element(by='css selector', value='a.a-link-normal')\n",
    "    product_link = product_link_element.get_attribute('href')  # Get the 'href' attribute\n",
    "    data.append({'Link': product_link})\n",
    "\n",
    "    print(f\"Top {index} Link: {product_link}\")\n",
    "\n",
    "# Close the WebDriver\n",
    "driver.quit()\n",
    "\n",
    "# Create a pandas DataFrame from the scraped links\n",
    "df = pd.DataFrame(data)\n",
    "\n",
    "# Export the DataFrame to an Excel file\n",
    "excel_file_path = \"Infusion Mugs.xlsx\"\n",
    "df.to_excel(excel_file_path, index=False)\n",
    "\n",
    "print(f\"Scraped data saved to {excel_file_path}\")"
   ]
  },
  {
   "cell_type": "markdown",
   "metadata": {},
   "source": [
    "https://www.amazon.in/gp/bestsellers/kitchen/3249370031/ref=zg_bs_nav_kitchen_4_51397017031"
   ]
  },
  {
   "cell_type": "markdown",
   "metadata": {},
   "source": [
    "Tea Cups"
   ]
  },
  {
   "cell_type": "code",
   "execution_count": null,
   "metadata": {},
   "outputs": [
    {
     "name": "stdout",
     "output_type": "stream",
     "text": [
      "Top 1 Link: https://www.amazon.in/FARKRAFT-Ceramic-Finish-Coffee-Golden/dp/B06XCMNHDC/ref=zg_bs_g_3249370031_sccl_1/259-9159197-7636418?psc=1\n",
      "Top 2 Link: https://www.amazon.in/Femora-Indian-Ceramic-Handmade-Multicolor/dp/B08C2TH6C1/ref=zg_bs_g_3249370031_sccl_2/259-9159197-7636418?psc=1\n",
      "Top 3 Link: https://www.amazon.in/kysa-basics-Paper-Disposable-Coffee/dp/B09YYXNJHY/ref=zg_bs_g_3249370031_sccl_3/259-9159197-7636418?psc=1\n",
      "Scraped data saved to Tea Cups.xlsx\n"
     ]
    }
   ],
   "source": [
    "from selenium import webdriver\n",
    "from selenium.webdriver.edge.service import Service\n",
    "import pandas as pd\n",
    "\n",
    "# Specify the path to the Edge WebDriver executable\n",
    "driver_path = \"C:\\\\Users\\\\uppada satwik\\\\Downloads\\\\edgedriver_win64\\\\msedgedriver.exe\"\n",
    "\n",
    "# Create a Service object with the executable path\n",
    "service = Service(driver_path)\n",
    "\n",
    "# Set up the Edge WebDriver using the Service object\n",
    "driver = webdriver.Edge(service=service)\n",
    "\n",
    "# Navigate to Amazon.in best sellers page\n",
    "driver.get('https://www.amazon.in/gp/bestsellers/kitchen/3249370031/ref=zg_bs_nav_kitchen_4_51397017031')\n",
    "\n",
    "# Find the top 3 best sellers\n",
    "best_sellers = driver.find_elements(by='css selector', value='.a-column')[:3]\n",
    "\n",
    "# Create an empty list to store the links\n",
    "data = []\n",
    "\n",
    "# Extract and store the links for the top 3 best sellers\n",
    "for index, product in enumerate(best_sellers, start=1):\n",
    "    product_link_element = product.find_element(by='css selector', value='a.a-link-normal')\n",
    "    product_link = product_link_element.get_attribute('href')  # Get the 'href' attribute\n",
    "    data.append({'Link': product_link})\n",
    "\n",
    "    print(f\"Top {index} Link: {product_link}\")\n",
    "\n",
    "# Close the WebDriver\n",
    "driver.quit()\n",
    "\n",
    "# Create a pandas DataFrame from the scraped links\n",
    "df = pd.DataFrame(data)\n",
    "\n",
    "# Export the DataFrame to an Excel file\n",
    "excel_file_path = \"Tea Cups.xlsx\"\n",
    "df.to_excel(excel_file_path, index=False)\n",
    "\n",
    "print(f\"Scraped data saved to {excel_file_path}\")"
   ]
  },
  {
   "cell_type": "markdown",
   "metadata": {},
   "source": [
    "https://www.amazon.in/gp/bestsellers/kitchen/51397172031/ref=zg_bs_nav_kitchen_5_3249370031"
   ]
  },
  {
   "cell_type": "markdown",
   "metadata": {},
   "source": [
    "Black Teacups"
   ]
  },
  {
   "cell_type": "code",
   "execution_count": null,
   "metadata": {},
   "outputs": [
    {
     "name": "stdout",
     "output_type": "stream",
     "text": [
      "Top 1 Link: https://www.amazon.in/Ella-Paper-150-Pieces-Espresso/dp/B0C27D7KTT/ref=zg_bs_g_51397172031_sccl_1/260-2378203-2509932?psc=1\n",
      "Top 2 Link: https://www.amazon.in/SANWALSA-50-Piece-Disposable-Eco-Friendly-Hygienic/dp/B08WS4T1R6/ref=zg_bs_g_51397172031_sccl_2/260-2378203-2509932?psc=1\n",
      "Top 3 Link: https://www.amazon.in/SANWALSA-Disposable-Color-Coffee-Pieces/dp/B0B3V1Z79M/ref=zg_bs_g_51397172031_sccl_3/260-2378203-2509932?psc=1\n",
      "Scraped data saved to Black Teacups.xlsx\n"
     ]
    }
   ],
   "source": [
    "from selenium import webdriver\n",
    "from selenium.webdriver.edge.service import Service\n",
    "import pandas as pd\n",
    "\n",
    "# Specify the path to the Edge WebDriver executable\n",
    "driver_path = \"C:\\\\Users\\\\uppada satwik\\\\Downloads\\\\edgedriver_win64\\\\msedgedriver.exe\"\n",
    "\n",
    "# Create a Service object with the executable path\n",
    "service = Service(driver_path)\n",
    "\n",
    "# Set up the Edge WebDriver using the Service object\n",
    "driver = webdriver.Edge(service=service)\n",
    "\n",
    "# Navigate to Amazon.in best sellers page\n",
    "driver.get('https://www.amazon.in/gp/bestsellers/kitchen/51397172031/ref=zg_bs_nav_kitchen_5_3249370031')\n",
    "\n",
    "# Find the top 3 best sellers\n",
    "best_sellers = driver.find_elements(by='css selector', value='.a-column')[:3]\n",
    "\n",
    "# Create an empty list to store the links\n",
    "data = []\n",
    "\n",
    "# Extract and store the links for the top 3 best sellers\n",
    "for index, product in enumerate(best_sellers, start=1):\n",
    "    product_link_element = product.find_element(by='css selector', value='a.a-link-normal')\n",
    "    product_link = product_link_element.get_attribute('href')  # Get the 'href' attribute\n",
    "    data.append({'Link': product_link})\n",
    "\n",
    "    print(f\"Top {index} Link: {product_link}\")\n",
    "\n",
    "# Close the WebDriver\n",
    "driver.quit()\n",
    "\n",
    "# Create a pandas DataFrame from the scraped links\n",
    "df = pd.DataFrame(data)\n",
    "\n",
    "# Export the DataFrame to an Excel file\n",
    "excel_file_path = \"Black Teacups.xlsx\"\n",
    "df.to_excel(excel_file_path, index=False)\n",
    "\n",
    "print(f\"Scraped data saved to {excel_file_path}\")"
   ]
  },
  {
   "cell_type": "markdown",
   "metadata": {},
   "source": [
    "https://www.amazon.in/gp/bestsellers/kitchen/51397174031/ref=zg_bs_nav_kitchen_5_51397172031"
   ]
  },
  {
   "cell_type": "markdown",
   "metadata": {},
   "source": [
    "Japanese Teacups"
   ]
  },
  {
   "cell_type": "code",
   "execution_count": null,
   "metadata": {},
   "outputs": [
    {
     "name": "stdout",
     "output_type": "stream",
     "text": [
      "Top 1 Link: https://www.amazon.in/Kripa-Indian-Ceramic-China-White/dp/B0BXSQ6D3D/ref=zg_bs_g_51397174031_sccl_1/257-6218430-3224144?psc=1\n",
      "Top 2 Link: https://www.amazon.in/KiaNic-Handmade-Ceramic-Multi-Coffee/dp/B0BSVHDVGW/ref=zg_bs_g_51397174031_sccl_2/257-6218430-3224144?psc=1\n",
      "Top 3 Link: https://www.amazon.in/KiaNic-Gold-Ceramic-China-Marble/dp/B0BSVHGTFD/ref=zg_bs_g_51397174031_sccl_3/257-6218430-3224144?psc=1\n",
      "Scraped data saved to Japanese Teacups.xlsx\n"
     ]
    }
   ],
   "source": [
    "from selenium import webdriver\n",
    "from selenium.webdriver.edge.service import Service\n",
    "import pandas as pd\n",
    "\n",
    "# Specify the path to the Edge WebDriver executable\n",
    "driver_path = \"C:\\\\Users\\\\uppada satwik\\\\Downloads\\\\edgedriver_win64\\\\msedgedriver.exe\"\n",
    "\n",
    "# Create a Service object with the executable path\n",
    "service = Service(driver_path)\n",
    "\n",
    "# Set up the Edge WebDriver using the Service object\n",
    "driver = webdriver.Edge(service=service)\n",
    "\n",
    "# Navigate to Amazon.in best sellers page\n",
    "driver.get('https://www.amazon.in/gp/bestsellers/kitchen/51397174031/ref=zg_bs_nav_kitchen_5_51397172031')\n",
    "\n",
    "# Find the top 3 best sellers\n",
    "best_sellers = driver.find_elements(by='css selector', value='.a-column')[:3]\n",
    "\n",
    "# Create an empty list to store the links\n",
    "data = []\n",
    "\n",
    "# Extract and store the links for the top 3 best sellers\n",
    "for index, product in enumerate(best_sellers, start=1):\n",
    "    product_link_element = product.find_element(by='css selector', value='a.a-link-normal')\n",
    "    product_link = product_link_element.get_attribute('href')  # Get the 'href' attribute\n",
    "    data.append({'Link': product_link})\n",
    "\n",
    "    print(f\"Top {index} Link: {product_link}\")\n",
    "\n",
    "# Close the WebDriver\n",
    "driver.quit()\n",
    "\n",
    "# Create a pandas DataFrame from the scraped links\n",
    "df = pd.DataFrame(data)\n",
    "\n",
    "# Export the DataFrame to an Excel file\n",
    "excel_file_path = \"Japanese Teacups.xlsx\"\n",
    "df.to_excel(excel_file_path, index=False)\n",
    "\n",
    "print(f\"Scraped data saved to {excel_file_path}\")"
   ]
  },
  {
   "cell_type": "markdown",
   "metadata": {},
   "source": [
    "https://www.amazon.in/gp/bestsellers/kitchen/1380145031/ref=zg_bs_nav_kitchen_4_27002109031"
   ]
  },
  {
   "cell_type": "markdown",
   "metadata": {},
   "source": [
    "Dinnerware Sets"
   ]
  },
  {
   "cell_type": "code",
   "execution_count": null,
   "metadata": {},
   "outputs": [
    {
     "name": "stdout",
     "output_type": "stream",
     "text": [
      "Top 1 Link: https://www.amazon.in/Opalware-Dazzle-Tropical-Light-Weight-Crockery/dp/B07F3DCST3/ref=zg_bs_g_1380145031_sccl_1/262-9348865-4301827?psc=1\n",
      "Top 2 Link: https://www.amazon.in/Larah-Borosil-Opalware-Dinner-Pieces/dp/B08G8J3WYR/ref=zg_bs_g_1380145031_sccl_2/262-9348865-4301827?psc=1\n",
      "Top 3 Link: https://www.amazon.in/CELLO-Espressoc-Thermal-Resistant-Grove/dp/B08446DC32/ref=zg_bs_g_1380145031_sccl_3/262-9348865-4301827?psc=1\n",
      "Scraped data saved to Dinnerware Sets.xlsx\n"
     ]
    }
   ],
   "source": [
    "from selenium import webdriver\n",
    "from selenium.webdriver.edge.service import Service\n",
    "import pandas as pd\n",
    "\n",
    "# Specify the path to the Edge WebDriver executable\n",
    "driver_path = \"C:\\\\Users\\\\uppada satwik\\\\Downloads\\\\edgedriver_win64\\\\msedgedriver.exe\"\n",
    "\n",
    "# Create a Service object with the executable path\n",
    "service = Service(driver_path)\n",
    "\n",
    "# Set up the Edge WebDriver using the Service object\n",
    "driver = webdriver.Edge(service=service)\n",
    "\n",
    "# Navigate to Amazon.in best sellers page\n",
    "driver.get('https://www.amazon.in/gp/bestsellers/kitchen/1380145031/ref=zg_bs_nav_kitchen_4_27002109031')\n",
    "\n",
    "# Find the top 3 best sellers\n",
    "best_sellers = driver.find_elements(by='css selector', value='.a-column')[:3]\n",
    "\n",
    "# Create an empty list to store the links\n",
    "data = []\n",
    "\n",
    "# Extract and store the links for the top 3 best sellers\n",
    "for index, product in enumerate(best_sellers, start=1):\n",
    "    product_link_element = product.find_element(by='css selector', value='a.a-link-normal')\n",
    "    product_link = product_link_element.get_attribute('href')  # Get the 'href' attribute\n",
    "    data.append({'Link': product_link})\n",
    "\n",
    "    print(f\"Top {index} Link: {product_link}\")\n",
    "\n",
    "# Close the WebDriver\n",
    "driver.quit()\n",
    "\n",
    "# Create a pandas DataFrame from the scraped links\n",
    "df = pd.DataFrame(data)\n",
    "\n",
    "# Export the DataFrame to an Excel file\n",
    "excel_file_path = \"Dinnerware Sets.xlsx\"\n",
    "df.to_excel(excel_file_path, index=False)\n",
    "\n",
    "print(f\"Scraped data saved to {excel_file_path}\")"
   ]
  },
  {
   "cell_type": "markdown",
   "metadata": {},
   "source": [
    "https://www.amazon.in/gp/bestsellers/kitchen/26953505031/ref=zg_bs_nav_kitchen_5_1380145031"
   ]
  },
  {
   "cell_type": "markdown",
   "metadata": {},
   "source": [
    "Combination Sets"
   ]
  },
  {
   "cell_type": "code",
   "execution_count": null,
   "metadata": {},
   "outputs": [
    {
     "name": "stdout",
     "output_type": "stream",
     "text": [
      "Top 1 Link: https://www.amazon.in/GoldGiftIdeas-Combo-Silver-Plated-Manchurian-Silver/dp/B074Z9DP4Y/ref=zg_bs_g_26953505031_sccl_1/260-1879740-3501741?psc=1\n",
      "Top 2 Link: https://www.amazon.in/St-Stehlen-Exclusive-Dinosaur-Melamine/dp/B08R979YY2/ref=zg_bs_g_26953505031_sccl_2/260-1879740-3501741?psc=1\n",
      "Top 3 Link: https://www.amazon.in/Servewell-Dinner-Set-Combo-Construction/dp/B0BSNZBRM2/ref=zg_bs_g_26953505031_sccl_3/260-1879740-3501741?psc=1\n",
      "Scraped data saved to Combination Sets.xlsx\n"
     ]
    }
   ],
   "source": [
    "from selenium import webdriver\n",
    "from selenium.webdriver.edge.service import Service\n",
    "import pandas as pd\n",
    "\n",
    "# Specify the path to the Edge WebDriver executable\n",
    "driver_path = \"C:\\\\Users\\\\uppada satwik\\\\Downloads\\\\edgedriver_win64\\\\msedgedriver.exe\"\n",
    "\n",
    "# Create a Service object with the executable path\n",
    "service = Service(driver_path)\n",
    "\n",
    "# Set up the Edge WebDriver using the Service object\n",
    "driver = webdriver.Edge(service=service)\n",
    "\n",
    "# Navigate to Amazon.in best sellers page\n",
    "driver.get('https://www.amazon.in/gp/bestsellers/kitchen/26953505031/ref=zg_bs_nav_kitchen_5_1380145031')\n",
    "\n",
    "# Find the top 3 best sellers\n",
    "best_sellers = driver.find_elements(by='css selector', value='.a-column')[:3]\n",
    "\n",
    "# Create an empty list to store the links\n",
    "data = []\n",
    "\n",
    "# Extract and store the links for the top 3 best sellers\n",
    "for index, product in enumerate(best_sellers, start=1):\n",
    "    product_link_element = product.find_element(by='css selector', value='a.a-link-normal')\n",
    "    product_link = product_link_element.get_attribute('href')  # Get the 'href' attribute\n",
    "    data.append({'Link': product_link})\n",
    "\n",
    "    print(f\"Top {index} Link: {product_link}\")\n",
    "\n",
    "# Close the WebDriver\n",
    "driver.quit()\n",
    "\n",
    "# Create a pandas DataFrame from the scraped links\n",
    "df = pd.DataFrame(data)\n",
    "\n",
    "# Export the DataFrame to an Excel file\n",
    "excel_file_path = \"Combination Sets.xlsx\"\n",
    "df.to_excel(excel_file_path, index=False)\n",
    "\n",
    "print(f\"Scraped data saved to {excel_file_path}\")"
   ]
  },
  {
   "cell_type": "markdown",
   "metadata": {},
   "source": [
    "https://www.amazon.in/gp/bestsellers/kitchen/26953504031/ref=zg_bs_nav_kitchen_5_26953505031"
   ]
  },
  {
   "cell_type": "markdown",
   "metadata": {},
   "source": [
    "Dinner Sets"
   ]
  },
  {
   "cell_type": "code",
   "execution_count": null,
   "metadata": {},
   "outputs": [
    {
     "name": "stdout",
     "output_type": "stream",
     "text": [
      "Top 1 Link: https://www.amazon.in/Opalware-Dazzle-Tropical-Light-Weight-Crockery/dp/B07F3DCST3/ref=zg_bs_g_26953504031_sccl_1/259-2230164-4584615?psc=1\n",
      "Top 2 Link: https://www.amazon.in/Larah-Borosil-Opalware-Dinner-Pieces/dp/B08G8J3WYR/ref=zg_bs_g_26953504031_sccl_2/259-2230164-4584615?psc=1\n",
      "Top 3 Link: https://www.amazon.in/CELLO-Espressoc-Thermal-Resistant-Grove/dp/B08446DC32/ref=zg_bs_g_26953504031_sccl_3/259-2230164-4584615?psc=1\n",
      "Scraped data saved to Dinner Sets.xlsx\n"
     ]
    }
   ],
   "source": [
    "from selenium import webdriver\n",
    "from selenium.webdriver.edge.service import Service\n",
    "import pandas as pd\n",
    "\n",
    "# Specify the path to the Edge WebDriver executable\n",
    "driver_path = \"C:\\\\Users\\\\uppada satwik\\\\Downloads\\\\edgedriver_win64\\\\msedgedriver.exe\"\n",
    "\n",
    "# Create a Service object with the executable path\n",
    "service = Service(driver_path)\n",
    "\n",
    "# Set up the Edge WebDriver using the Service object\n",
    "driver = webdriver.Edge(service=service)\n",
    "\n",
    "# Navigate to Amazon.in best sellers page\n",
    "driver.get('https://www.amazon.in/gp/bestsellers/kitchen/26953504031/ref=zg_bs_nav_kitchen_5_26953505031')\n",
    "\n",
    "# Find the top 3 best sellers\n",
    "best_sellers = driver.find_elements(by='css selector', value='.a-column')[:3]\n",
    "\n",
    "# Create an empty list to store the links\n",
    "data = []\n",
    "\n",
    "# Extract and store the links for the top 3 best sellers\n",
    "for index, product in enumerate(best_sellers, start=1):\n",
    "    product_link_element = product.find_element(by='css selector', value='a.a-link-normal')\n",
    "    product_link = product_link_element.get_attribute('href')  # Get the 'href' attribute\n",
    "    data.append({'Link': product_link})\n",
    "\n",
    "    print(f\"Top {index} Link: {product_link}\")\n",
    "\n",
    "# Close the WebDriver\n",
    "driver.quit()\n",
    "\n",
    "# Create a pandas DataFrame from the scraped links\n",
    "df = pd.DataFrame(data)\n",
    "\n",
    "# Export the DataFrame to an Excel file\n",
    "excel_file_path = \"Dinner Sets.xlsx\"\n",
    "df.to_excel(excel_file_path, index=False)\n",
    "\n",
    "print(f\"Scraped data saved to {excel_file_path}\")"
   ]
  },
  {
   "cell_type": "markdown",
   "metadata": {},
   "source": [
    "/gp/bestsellers/kitchen/30425809031/ref=zg_bs_nav_kitchen_4_1380151031"
   ]
  },
  {
   "cell_type": "markdown",
   "metadata": {},
   "source": [
    "Condiment Racks"
   ]
  },
  {
   "cell_type": "code",
   "execution_count": null,
   "metadata": {},
   "outputs": [
    {
     "name": "stdout",
     "output_type": "stream",
     "text": [
      "Top 1 Link: https://www.amazon.in/Mind-Reader-Compartment-Breakroom-Condiment/dp/B0741XP8RH/ref=zg_bs_g_30425809031_sccl_1/258-1682067-1265816?psc=1\n",
      "Top 2 Link: https://www.amazon.in/Vencer-Compartment-Condiment-Organizer-VCO-001/dp/B01J7E7PBG/ref=zg_bs_g_30425809031_sccl_2/258-1682067-1265816?psc=1\n",
      "Top 3 Link: https://www.amazon.in/Mind-Reader-Compartment-Condiment-Organizer/dp/B0169ZDNGM/ref=zg_bs_g_30425809031_sccl_3/258-1682067-1265816?psc=1\n",
      "Scraped data saved to Condiment Racks.xlsx\n"
     ]
    }
   ],
   "source": [
    "from selenium import webdriver\n",
    "from selenium.webdriver.edge.service import Service\n",
    "import pandas as pd\n",
    "\n",
    "# Specify the path to the Edge WebDriver executable\n",
    "driver_path = \"C:\\\\Users\\\\uppada satwik\\\\Downloads\\\\edgedriver_win64\\\\msedgedriver.exe\"\n",
    "\n",
    "# Create a Service object with the executable path\n",
    "service = Service(driver_path)\n",
    "\n",
    "# Set up the Edge WebDriver using the Service object\n",
    "driver = webdriver.Edge(service=service)\n",
    "\n",
    "# Navigate to Amazon.in best sellers page\n",
    "driver.get('https://www.amazon.in/gp/bestsellers/kitchen/30425809031/ref=zg_bs_nav_kitchen_4_1380151031')\n",
    "\n",
    "# Find the top 3 best sellers\n",
    "best_sellers = driver.find_elements(by='css selector', value='.a-column')[:3]\n",
    "\n",
    "# Create an empty list to store the links\n",
    "data = []\n",
    "\n",
    "# Extract and store the links for the top 3 best sellers\n",
    "for index, product in enumerate(best_sellers, start=1):\n",
    "    product_link_element = product.find_element(by='css selector', value='a.a-link-normal')\n",
    "    product_link = product_link_element.get_attribute('href')  # Get the 'href' attribute\n",
    "    data.append({'Link': product_link})\n",
    "\n",
    "    print(f\"Top {index} Link: {product_link}\")\n",
    "\n",
    "# Close the WebDriver\n",
    "driver.quit()\n",
    "\n",
    "# Create a pandas DataFrame from the scraped links\n",
    "df = pd.DataFrame(data)\n",
    "\n",
    "# Export the DataFrame to an Excel file\n",
    "excel_file_path = \"Condiment Racks.xlsx\"\n",
    "df.to_excel(excel_file_path, index=False)\n",
    "\n",
    "print(f\"Scraped data saved to {excel_file_path}\")"
   ]
  },
  {
   "cell_type": "markdown",
   "metadata": {},
   "source": [
    "/gp/bestsellers/kitchen/30425806031/ref=zg_bs_nav_kitchen_4_1380151031"
   ]
  },
  {
   "cell_type": "markdown",
   "metadata": {},
   "source": [
    "Drink Server"
   ]
  },
  {
   "cell_type": "code",
   "execution_count": null,
   "metadata": {},
   "outputs": [
    {
     "name": "stdout",
     "output_type": "stream",
     "text": [
      "Top 1 Link: https://www.amazon.in/AGARO-Borosilicate-Sleeves-Plastic-Strainer/dp/B0C1GK2TYY/ref=zg_bs_g_30425806031_sccl_1/262-5357144-4338006?psc=1\n",
      "Top 2 Link: https://www.amazon.in/Borosil-Carafe-Strainer-Lid-650ml/dp/B00E96IOTA/ref=zg_bs_g_30425806031_sccl_2/262-5357144-4338006?psc=1\n",
      "Top 3 Link: https://www.amazon.in/Borosil-Glass-Carafe-Strainer-Transparent/dp/B00E96ISAA/ref=zg_bs_g_30425806031_sccl_3/262-5357144-4338006?psc=1\n",
      "Scraped data saved to Drink Server.xlsx\n"
     ]
    }
   ],
   "source": [
    "from selenium import webdriver\n",
    "from selenium.webdriver.edge.service import Service\n",
    "import pandas as pd\n",
    "\n",
    "# Specify the path to the Edge WebDriver executable\n",
    "driver_path = \"C:\\\\Users\\\\uppada satwik\\\\Downloads\\\\edgedriver_win64\\\\msedgedriver.exe\"\n",
    "\n",
    "# Create a Service object with the executable path\n",
    "service = Service(driver_path)\n",
    "\n",
    "# Set up the Edge WebDriver using the Service object\n",
    "driver = webdriver.Edge(service=service)\n",
    "\n",
    "# Navigate to Amazon.in best sellers page\n",
    "driver.get('https://www.amazon.in/gp/bestsellers/kitchen/30425806031/ref=zg_bs_nav_kitchen_4_1380151031')\n",
    "\n",
    "# Find the top 3 best sellers\n",
    "best_sellers = driver.find_elements(by='css selector', value='.a-column')[:3]\n",
    "\n",
    "# Create an empty list to store the links\n",
    "data = []\n",
    "\n",
    "# Extract and store the links for the top 3 best sellers\n",
    "for index, product in enumerate(best_sellers, start=1):\n",
    "    product_link_element = product.find_element(by='css selector', value='a.a-link-normal')\n",
    "    product_link = product_link_element.get_attribute('href')  # Get the 'href' attribute\n",
    "    data.append({'Link': product_link})\n",
    "\n",
    "    print(f\"Top {index} Link: {product_link}\")\n",
    "\n",
    "# Close the WebDriver\n",
    "driver.quit()\n",
    "\n",
    "# Create a pandas DataFrame from the scraped links\n",
    "df = pd.DataFrame(data)\n",
    "\n",
    "# Export the DataFrame to an Excel file\n",
    "excel_file_path = \"Drink Server.xlsx\"\n",
    "df.to_excel(excel_file_path, index=False)\n",
    "\n",
    "print(f\"Scraped data saved to {excel_file_path}\")"
   ]
  },
  {
   "cell_type": "markdown",
   "metadata": {},
   "source": [
    "https://www.amazon.in/gp/bestsellers/kitchen/30425823031/ref=zg_bs_nav_kitchen_5_30425806031"
   ]
  },
  {
   "cell_type": "markdown",
   "metadata": {},
   "source": [
    "Iced Drink Dispensers"
   ]
  },
  {
   "cell_type": "code",
   "execution_count": null,
   "metadata": {},
   "outputs": [
    {
     "name": "stdout",
     "output_type": "stream",
     "text": [
      "Top 1 Link: https://www.amazon.in/ABOUT-SPACE-Litre-Glass-Dispenser/dp/B0BGNKY36S/ref=zg_bs_g_30425823031_sccl_1/261-4225748-1211226?psc=1\n",
      "Top 2 Link: https://www.amazon.in/ABOUT-SPACE-Litre-Glass-Dispenser/dp/B0BGPY96JB/ref=zg_bs_g_30425823031_sccl_2/261-4225748-1211226?psc=1\n",
      "Top 3 Link: https://www.amazon.in/Tupperware-CTG-Beverage-Dispenser-3-1l/dp/B089G48T6L/ref=zg_bs_g_30425823031_sccl_3/261-4225748-1211226?psc=1\n",
      "Scraped data saved to Iced Drink Dispensers.xlsx\n"
     ]
    }
   ],
   "source": [
    "from selenium import webdriver\n",
    "from selenium.webdriver.edge.service import Service\n",
    "import pandas as pd\n",
    "\n",
    "# Specify the path to the Edge WebDriver executable\n",
    "driver_path = \"C:\\\\Users\\\\uppada satwik\\\\Downloads\\\\edgedriver_win64\\\\msedgedriver.exe\"\n",
    "\n",
    "# Create a Service object with the executable path\n",
    "service = Service(driver_path)\n",
    "\n",
    "# Set up the Edge WebDriver using the Service object\n",
    "driver = webdriver.Edge(service=service)\n",
    "\n",
    "# Navigate to Amazon.in best sellers page\n",
    "driver.get('https://www.amazon.in/gp/bestsellers/kitchen/30425823031/ref=zg_bs_nav_kitchen_5_30425806031')\n",
    "\n",
    "# Find the top 3 best sellers\n",
    "best_sellers = driver.find_elements(by='css selector', value='.a-column')[:3]\n",
    "\n",
    "# Create an empty list to store the links\n",
    "data = []\n",
    "\n",
    "# Extract and store the links for the top 3 best sellers\n",
    "for index, product in enumerate(best_sellers, start=1):\n",
    "    product_link_element = product.find_element(by='css selector', value='a.a-link-normal')\n",
    "    product_link = product_link_element.get_attribute('href')  # Get the 'href' attribute\n",
    "    data.append({'Link': product_link})\n",
    "\n",
    "    print(f\"Top {index} Link: {product_link}\")\n",
    "\n",
    "# Close the WebDriver\n",
    "driver.quit()\n",
    "\n",
    "# Create a pandas DataFrame from the scraped links\n",
    "df = pd.DataFrame(data)\n",
    "\n",
    "# Export the DataFrame to an Excel file\n",
    "excel_file_path = \"Iced Drink Dispensers.xlsx\"\n",
    "df.to_excel(excel_file_path, index=False)\n",
    "\n",
    "print(f\"Scraped data saved to {excel_file_path}\")"
   ]
  },
  {
   "cell_type": "markdown",
   "metadata": {},
   "source": [
    "https://www.amazon.in/gp/bestsellers/kitchen/30425828031/ref=zg_bs_nav_kitchen_5_30425823031"
   ]
  },
  {
   "cell_type": "markdown",
   "metadata": {},
   "source": [
    "Jugs"
   ]
  },
  {
   "cell_type": "code",
   "execution_count": null,
   "metadata": {},
   "outputs": [
    {
     "name": "stdout",
     "output_type": "stream",
     "text": [
      "Top 1 Link: https://www.amazon.in/Neelam-Stainless-Steel-Lemon-Jug/dp/B00SUYF1N4/ref=zg_bs_g_30425828031_sccl_1/258-3839418-6494528?psc=1\n",
      "Top 2 Link: https://www.amazon.in/Home-Cart-Pitcher-Plastic-Drinking-Beverage/dp/B082M6NYV2/ref=zg_bs_g_30425828031_sccl_2/258-3839418-6494528?psc=1\n",
      "Top 3 Link: https://www.amazon.in/Pasabahce-Bistro-Glass-Water-Juice/dp/B08TTL24SS/ref=zg_bs_g_30425828031_sccl_3/258-3839418-6494528?psc=1\n",
      "Scraped data saved to Jugs.xlsx\n"
     ]
    }
   ],
   "source": [
    "from selenium import webdriver\n",
    "from selenium.webdriver.edge.service import Service\n",
    "import pandas as pd\n",
    "\n",
    "# Specify the path to the Edge WebDriver executable\n",
    "driver_path = \"C:\\\\Users\\\\uppada satwik\\\\Downloads\\\\edgedriver_win64\\\\msedgedriver.exe\"\n",
    "\n",
    "# Create a Service object with the executable path\n",
    "service = Service(driver_path)\n",
    "\n",
    "# Set up the Edge WebDriver using the Service object\n",
    "driver = webdriver.Edge(service=service)\n",
    "\n",
    "# Navigate to Amazon.in best sellers page\n",
    "driver.get('https://www.amazon.in/gp/bestsellers/kitchen/30425828031/ref=zg_bs_nav_kitchen_5_30425823031')\n",
    "\n",
    "# Find the top 3 best sellers\n",
    "best_sellers = driver.find_elements(by='css selector', value='.a-column')[:3]\n",
    "\n",
    "# Create an empty list to store the links\n",
    "data = []\n",
    "\n",
    "# Extract and store the links for the top 3 best sellers\n",
    "for index, product in enumerate(best_sellers, start=1):\n",
    "    product_link_element = product.find_element(by='css selector', value='a.a-link-normal')\n",
    "    product_link = product_link_element.get_attribute('href')  # Get the 'href' attribute\n",
    "    data.append({'Link': product_link})\n",
    "\n",
    "    print(f\"Top {index} Link: {product_link}\")\n",
    "\n",
    "# Close the WebDriver\n",
    "driver.quit()\n",
    "\n",
    "# Create a pandas DataFrame from the scraped links\n",
    "df = pd.DataFrame(data)\n",
    "\n",
    "# Export the DataFrame to an Excel file\n",
    "excel_file_path = \"Jugs.xlsx\"\n",
    "df.to_excel(excel_file_path, index=False)\n",
    "\n",
    "print(f\"Scraped data saved to {excel_file_path}\")"
   ]
  },
  {
   "cell_type": "markdown",
   "metadata": {},
   "source": [
    "https://www.amazon.in/gp/bestsellers/kitchen/30425826031/ref=zg_bs_nav_kitchen_5_30425828031"
   ]
  },
  {
   "cell_type": "markdown",
   "metadata": {},
   "source": [
    "Spirit Decanters"
   ]
  },
  {
   "cell_type": "code",
   "execution_count": null,
   "metadata": {},
   "outputs": [],
   "source": [
    "from selenium import webdriver\n",
    "from selenium.webdriver.edge.service import Service\n",
    "import pandas as pd\n",
    "\n",
    "# Specify the path to the Edge WebDriver executable\n",
    "driver_path = \"C:\\\\Users\\\\uppada satwik\\\\Downloads\\\\edgedriver_win64\\\\msedgedriver.exe\"\n",
    "\n",
    "# Create a Service object with the executable path\n",
    "service = Service(driver_path)\n",
    "\n",
    "# Set up the Edge WebDriver using the Service object\n",
    "driver = webdriver.Edge(service=service)\n",
    "\n",
    "# Navigate to Amazon.in best sellers page\n",
    "driver.get('https://www.amazon.in/gp/bestsellers/kitchen/30425826031/ref=zg_bs_nav_kitchen_5_30425828031')\n",
    "\n",
    "# Find the top 3 best sellers\n",
    "best_sellers = driver.find_elements(by='css selector', value='.a-column')[:3]\n",
    "\n",
    "# Create an empty list to store the links\n",
    "data = []\n",
    "\n",
    "# Extract and store the links for the top 3 best sellers\n",
    "for index, product in enumerate(best_sellers, start=1):\n",
    "    product_link_element = product.find_element(by='css selector', value='a.a-link-normal')\n",
    "    product_link = product_link_element.get_attribute('href')  # Get the 'href' attribute\n",
    "    data.append({'Link': product_link})\n",
    "\n",
    "    print(f\"Top {index} Link: {product_link}\")\n",
    "\n",
    "# Close the WebDriver\n",
    "driver.quit()\n",
    "\n",
    "# Create a pandas DataFrame from the scraped links\n",
    "df = pd.DataFrame(data)\n",
    "\n",
    "# Export the DataFrame to an Excel file\n",
    "excel_file_path = \"Spirit Decanters.xlsx\"\n",
    "df.to_excel(excel_file_path, index=False)\n",
    "\n",
    "print(f\"Scraped data saved to {excel_file_path}\")"
   ]
  },
  {
   "cell_type": "markdown",
   "metadata": {},
   "source": [
    "https://www.amazon.in/gp/bestsellers/kitchen/30425824031/ref=zg_bs_nav_kitchen_5_30425826031"
   ]
  },
  {
   "cell_type": "markdown",
   "metadata": {},
   "source": [
    "Wine Decanters"
   ]
  },
  {
   "cell_type": "code",
   "execution_count": null,
   "metadata": {},
   "outputs": [
    {
     "name": "stdout",
     "output_type": "stream",
     "text": [
      "Top 1 Link: https://www.amazon.in/European-Decanter-Container-Champagne-1000ML-LONG/dp/B09S647ZXK/ref=zg_bs_g_30425824031_sccl_1/258-0015330-4538654?psc=1\n",
      "Top 2 Link: https://www.amazon.in/STAR-WORK-Whiskey-Decanter-Bourbon/dp/B095PJF93M/ref=zg_bs_g_30425824031_sccl_2/258-0015330-4538654?psc=1\n",
      "Top 3 Link: https://www.amazon.in/Golden-Stylish-Decanter-Whiskey-Tequila/dp/B09NTW7S4G/ref=zg_bs_g_30425824031_sccl_3/258-0015330-4538654?psc=1\n",
      "Scraped data saved to Wine Decanters.xlsx\n"
     ]
    }
   ],
   "source": [
    "from selenium import webdriver\n",
    "from selenium.webdriver.edge.service import Service\n",
    "import pandas as pd\n",
    "\n",
    "# Specify the path to the Edge WebDriver executable\n",
    "driver_path = \"C:\\\\Users\\\\uppada satwik\\\\Downloads\\\\edgedriver_win64\\\\msedgedriver.exe\"\n",
    "\n",
    "# Create a Service object with the executable path\n",
    "service = Service(driver_path)\n",
    "\n",
    "# Set up the Edge WebDriver using the Service object\n",
    "driver = webdriver.Edge(service=service)\n",
    "\n",
    "# Navigate to Amazon.in best sellers page\n",
    "driver.get('https://www.amazon.in/gp/bestsellers/kitchen/30425824031/ref=zg_bs_nav_kitchen_5_30425826031')\n",
    "\n",
    "# Find the top 3 best sellers\n",
    "best_sellers = driver.find_elements(by='css selector', value='.a-column')[:3]\n",
    "\n",
    "# Create an empty list to store the links\n",
    "data = []\n",
    "\n",
    "# Extract and store the links for the top 3 best sellers\n",
    "for index, product in enumerate(best_sellers, start=1):\n",
    "    product_link_element = product.find_element(by='css selector', value='a.a-link-normal')\n",
    "    product_link = product_link_element.get_attribute('href')  # Get the 'href' attribute\n",
    "    data.append({'Link': product_link})\n",
    "\n",
    "    print(f\"Top {index} Link: {product_link}\")\n",
    "\n",
    "# Close the WebDriver\n",
    "driver.quit()\n",
    "\n",
    "# Create a pandas DataFrame from the scraped links\n",
    "df = pd.DataFrame(data)\n",
    "\n",
    "# Export the DataFrame to an Excel file\n",
    "excel_file_path = \"Wine Decanters.xlsx\"\n",
    "df.to_excel(excel_file_path, index=False)\n",
    "\n",
    "print(f\"Scraped data saved to {excel_file_path}\")"
   ]
  },
  {
   "cell_type": "markdown",
   "metadata": {},
   "source": [
    "---"
   ]
  },
  {
   "cell_type": "markdown",
   "metadata": {},
   "source": [
    "/gp/bestsellers/kitchen/30425804031/ref=zg_bs_nav_kitchen_4_1380151031"
   ]
  },
  {
   "cell_type": "markdown",
   "metadata": {},
   "source": [
    "Fairy Cake Stands"
   ]
  },
  {
   "cell_type": "code",
   "execution_count": null,
   "metadata": {},
   "outputs": [
    {
     "name": "stdout",
     "output_type": "stream",
     "text": [
      "Top 1 Link: https://www.amazon.in/Esslly-Cupcake-Rotating-Giant-Ferris/dp/B08J3XM44Y/ref=zg_bs_g_30425804031_sccl_1/262-7337523-4233422?psc=1\n",
      "Top 2 Link: https://www.amazon.in/JoyGlobal-Plastic-Cupcake-Decorating-Supplies/dp/B073Q4VR52/ref=zg_bs_g_30425804031_sccl_2/262-7337523-4233422?psc=1\n",
      "Top 3 Link: https://www.amazon.in/Candy-Display-Cupcake-Rotating-Ferris/dp/B09XXMDNBV/ref=zg_bs_g_30425804031_sccl_3/262-7337523-4233422?psc=1\n",
      "Scraped data saved to Fairy Cake Stands.xlsx\n"
     ]
    }
   ],
   "source": [
    "from selenium import webdriver\n",
    "from selenium.webdriver.edge.service import Service\n",
    "import pandas as pd\n",
    "\n",
    "# Specify the path to the Edge WebDriver executable\n",
    "driver_path = \"C:\\\\Users\\\\uppada satwik\\\\Downloads\\\\edgedriver_win64\\\\msedgedriver.exe\"\n",
    "\n",
    "# Create a Service object with the executable path\n",
    "service = Service(driver_path)\n",
    "\n",
    "# Set up the Edge WebDriver using the Service object\n",
    "driver = webdriver.Edge(service=service)\n",
    "\n",
    "# Navigate to Amazon.in best sellers page\n",
    "driver.get('https://www.amazon.in/gp/bestsellers/kitchen/30425804031/ref=zg_bs_nav_kitchen_4_1380151031')\n",
    "\n",
    "# Find the top 3 best sellers\n",
    "best_sellers = driver.find_elements(by='css selector', value='.a-column')[:3]\n",
    "\n",
    "# Create an empty list to store the links\n",
    "data = []\n",
    "\n",
    "# Extract and store the links for the top 3 best sellers\n",
    "for index, product in enumerate(best_sellers, start=1):\n",
    "    product_link_element = product.find_element(by='css selector', value='a.a-link-normal')\n",
    "    product_link = product_link_element.get_attribute('href')  # Get the 'href' attribute\n",
    "    data.append({'Link': product_link})\n",
    "\n",
    "    print(f\"Top {index} Link: {product_link}\")\n",
    "\n",
    "# Close the WebDriver\n",
    "driver.quit()\n",
    "\n",
    "# Create a pandas DataFrame from the scraped links\n",
    "df = pd.DataFrame(data)\n",
    "\n",
    "# Export the DataFrame to an Excel file\n",
    "excel_file_path = \"Fairy Cake Stands.xlsx\"\n",
    "df.to_excel(excel_file_path, index=False)\n",
    "\n",
    "print(f\"Scraped data saved to {excel_file_path}\")"
   ]
  },
  {
   "cell_type": "markdown",
   "metadata": {},
   "source": [
    "/gp/bestsellers/kitchen/27002114031/ref=zg_bs_nav_kitchen_4_1380151031"
   ]
  },
  {
   "cell_type": "markdown",
   "metadata": {},
   "source": [
    "Gravy Boats"
   ]
  },
  {
   "cell_type": "code",
   "execution_count": null,
   "metadata": {},
   "outputs": [
    {
     "name": "stdout",
     "output_type": "stream",
     "text": [
      "Top 1 Link: https://www.amazon.in/Mirakii-Ceramic-Dishwasher-Microwave-Serving/dp/B096R126YG/ref=zg_bs_g_27002114031_sccl_1/259-1070041-0935710?psc=1\n",
      "Top 2 Link: https://www.amazon.in/Capacity-Stainless-Steel-Gravy-Sauce/dp/B017EYKI1U/ref=zg_bs_g_27002114031_sccl_2/259-1070041-0935710?psc=1\n",
      "Top 3 Link: https://www.amazon.in/Mirakii-Porcelain-Brasserie-Creamer-Dressings/dp/B08L8K85Z9/ref=zg_bs_g_27002114031_sccl_3/259-1070041-0935710?psc=1\n",
      "Scraped data saved to Gravy Boats.xlsx\n"
     ]
    }
   ],
   "source": [
    "from selenium import webdriver\n",
    "from selenium.webdriver.edge.service import Service\n",
    "import pandas as pd\n",
    "\n",
    "# Specify the path to the Edge WebDriver executable\n",
    "driver_path = \"C:\\\\Users\\\\uppada satwik\\\\Downloads\\\\edgedriver_win64\\\\msedgedriver.exe\"\n",
    "\n",
    "# Create a Service object with the executable path\n",
    "service = Service(driver_path)\n",
    "\n",
    "# Set up the Edge WebDriver using the Service object\n",
    "driver = webdriver.Edge(service=service)\n",
    "\n",
    "# Navigate to Amazon.in best sellers page\n",
    "driver.get('https://www.amazon.in/gp/bestsellers/kitchen/27002114031/ref=zg_bs_nav_kitchen_4_1380151031')\n",
    "\n",
    "# Find the top 3 best sellers\n",
    "best_sellers = driver.find_elements(by='css selector', value='.a-column')[:3]\n",
    "\n",
    "# Create an empty list to store the links\n",
    "data = []\n",
    "\n",
    "# Extract and store the links for the top 3 best sellers\n",
    "for index, product in enumerate(best_sellers, start=1):\n",
    "    product_link_element = product.find_element(by='css selector', value='a.a-link-normal')\n",
    "    product_link = product_link_element.get_attribute('href')  # Get the 'href' attribute\n",
    "    data.append({'Link': product_link})\n",
    "\n",
    "    print(f\"Top {index} Link: {product_link}\")\n",
    "\n",
    "# Close the WebDriver\n",
    "driver.quit()\n",
    "\n",
    "# Create a pandas DataFrame from the scraped links\n",
    "df = pd.DataFrame(data)\n",
    "\n",
    "# Export the DataFrame to an Excel file\n",
    "excel_file_path = \"Gravy Boats.xlsx\"\n",
    "df.to_excel(excel_file_path, index=False)\n",
    "\n",
    "print(f\"Scraped data saved to {excel_file_path}\")"
   ]
  },
  {
   "cell_type": "markdown",
   "metadata": {},
   "source": [
    "/gp/bestsellers/kitchen/30425811031/ref=zg_bs_nav_kitchen_4_1380151031"
   ]
  },
  {
   "cell_type": "markdown",
   "metadata": {},
   "source": [
    "Honey Jars"
   ]
  },
  {
   "cell_type": "code",
   "execution_count": null,
   "metadata": {},
   "outputs": [
    {
     "name": "stdout",
     "output_type": "stream",
     "text": [
      "Top 1 Link: https://www.amazon.in/JHEPCOIN-Borosilicate-Storage-dispenser-container/dp/B0C27NZXJH/ref=zg_bs_g_30425811031_sccl_1/259-1744493-2453651?psc=1\n",
      "Top 2 Link: https://www.amazon.in/Femora-Borosilicate-Glass-Storage-Dipper/dp/B07WWXW6TV/ref=zg_bs_g_30425811031_sccl_2/259-1744493-2453651?psc=1\n",
      "Top 3 Link: https://www.amazon.in/SUKHAD-Honey-Dispenser-Beautiful-Shaped/dp/B08GG74N72/ref=zg_bs_g_30425811031_sccl_3/259-1744493-2453651?psc=1\n",
      "Scraped data saved to Honey Jars.xlsx\n"
     ]
    }
   ],
   "source": [
    "from selenium import webdriver\n",
    "from selenium.webdriver.edge.service import Service\n",
    "import pandas as pd\n",
    "\n",
    "# Specify the path to the Edge WebDriver executable\n",
    "driver_path = \"C:\\\\Users\\\\uppada satwik\\\\Downloads\\\\edgedriver_win64\\\\msedgedriver.exe\"\n",
    "\n",
    "# Create a Service object with the executable path\n",
    "service = Service(driver_path)\n",
    "\n",
    "# Set up the Edge WebDriver using the Service object\n",
    "driver = webdriver.Edge(service=service)\n",
    "\n",
    "# Navigate to Amazon.in best sellers page\n",
    "driver.get('https://www.amazon.in/gp/bestsellers/kitchen/30425811031/ref=zg_bs_nav_kitchen_4_1380151031')\n",
    "\n",
    "# Find the top 3 best sellers\n",
    "best_sellers = driver.find_elements(by='css selector', value='.a-column')[:3]\n",
    "\n",
    "# Create an empty list to store the links\n",
    "data = []\n",
    "\n",
    "# Extract and store the links for the top 3 best sellers\n",
    "for index, product in enumerate(best_sellers, start=1):\n",
    "    product_link_element = product.find_element(by='css selector', value='a.a-link-normal')\n",
    "    product_link = product_link_element.get_attribute('href')  # Get the 'href' attribute\n",
    "    data.append({'Link': product_link})\n",
    "\n",
    "    print(f\"Top {index} Link: {product_link}\")\n",
    "\n",
    "# Close the WebDriver\n",
    "driver.quit()\n",
    "\n",
    "# Create a pandas DataFrame from the scraped links\n",
    "df = pd.DataFrame(data)\n",
    "\n",
    "# Export the DataFrame to an Excel file\n",
    "excel_file_path = \"Honey Jars.xlsx\"\n",
    "df.to_excel(excel_file_path, index=False)\n",
    "\n",
    "print(f\"Scraped data saved to {excel_file_path}\")"
   ]
  },
  {
   "cell_type": "markdown",
   "metadata": {},
   "source": [
    "/gp/bestsellers/kitchen/27002115031/ref=zg_bs_nav_kitchen_4_1380151031"
   ]
  },
  {
   "cell_type": "markdown",
   "metadata": {},
   "source": [
    "Serving Bowls"
   ]
  },
  {
   "cell_type": "code",
   "execution_count": null,
   "metadata": {},
   "outputs": [
    {
     "name": "stdout",
     "output_type": "stream",
     "text": [
      "Top 1 Link: https://www.amazon.in/Cello-Sportigo-Assorted-Insulated-Casserole/dp/B0C99M4RMN/ref=zg_bs_g_27002115031_sccl_1/258-0226972-0545951?psc=1\n",
      "Top 2 Link: https://www.amazon.in/MILTON-Stainless-Casserole-Stackable-Microwave/dp/B0B6RH5JRL/ref=zg_bs_g_27002115031_sccl_2/258-0226972-0545951?psc=1\n",
      "Top 3 Link: https://www.amazon.in/Cello-Sapphire-Insulated-Casserole-Serving/dp/B0BM3ZWR6H/ref=zg_bs_g_27002115031_sccl_3/258-0226972-0545951?psc=1\n",
      "Scraped data saved to Serving Bowls.xlsx\n"
     ]
    }
   ],
   "source": [
    "from selenium import webdriver\n",
    "from selenium.webdriver.edge.service import Service\n",
    "import pandas as pd\n",
    "\n",
    "# Specify the path to the Edge WebDriver executable\n",
    "driver_path = \"C:\\\\Users\\\\uppada satwik\\\\Downloads\\\\edgedriver_win64\\\\msedgedriver.exe\"\n",
    "\n",
    "# Create a Service object with the executable path\n",
    "service = Service(driver_path)\n",
    "\n",
    "# Set up the Edge WebDriver using the Service object\n",
    "driver = webdriver.Edge(service=service)\n",
    "\n",
    "# Navigate to Amazon.in best sellers page\n",
    "driver.get('https://www.amazon.in/gp/bestsellers/kitchen/27002115031/ref=zg_bs_nav_kitchen_4_1380151031')\n",
    "\n",
    "# Find the top 3 best sellers\n",
    "best_sellers = driver.find_elements(by='css selector', value='.a-column')[:3]\n",
    "\n",
    "# Create an empty list to store the links\n",
    "data = []\n",
    "\n",
    "# Extract and store the links for the top 3 best sellers\n",
    "for index, product in enumerate(best_sellers, start=1):\n",
    "    product_link_element = product.find_element(by='css selector', value='a.a-link-normal')\n",
    "    product_link = product_link_element.get_attribute('href')  # Get the 'href' attribute\n",
    "    data.append({'Link': product_link})\n",
    "\n",
    "    print(f\"Top {index} Link: {product_link}\")\n",
    "\n",
    "# Close the WebDriver\n",
    "driver.quit()\n",
    "\n",
    "# Create a pandas DataFrame from the scraped links\n",
    "df = pd.DataFrame(data)\n",
    "\n",
    "# Export the DataFrame to an Excel file\n",
    "excel_file_path = \"Serving Bowls.xlsx\"\n",
    "df.to_excel(excel_file_path, index=False)\n",
    "\n",
    "print(f\"Scraped data saved to {excel_file_path}\")"
   ]
  },
  {
   "cell_type": "markdown",
   "metadata": {},
   "source": [
    "https://www.amazon.in/gp/bestsellers/kitchen/27002126031/ref=zg_bs_nav_kitchen_5_27002115031"
   ]
  },
  {
   "cell_type": "markdown",
   "metadata": {},
   "source": [
    "Centerpiece Bowls"
   ]
  },
  {
   "cell_type": "code",
   "execution_count": null,
   "metadata": {},
   "outputs": [
    {
     "name": "stdout",
     "output_type": "stream",
     "text": [
      "Top 1 Link: https://www.amazon.in/Home-Centre-Mandarin-Multicolor-Standard/dp/B0977QR7L3/ref=zg_bs_g_27002126031_sccl_1/258-1761760-5780900?psc=1\n",
      "Top 2 Link: https://www.amazon.in/Bio-Disposal-Donas-Serving-Bowl/dp/B09D9R9874/ref=zg_bs_g_27002126031_sccl_2/258-1761760-5780900?psc=1\n",
      "Scraped data saved to Centerpiece Bowls.xlsx\n"
     ]
    }
   ],
   "source": [
    "from selenium import webdriver\n",
    "from selenium.webdriver.edge.service import Service\n",
    "import pandas as pd\n",
    "\n",
    "# Specify the path to the Edge WebDriver executable\n",
    "driver_path = \"C:\\\\Users\\\\uppada satwik\\\\Downloads\\\\edgedriver_win64\\\\msedgedriver.exe\"\n",
    "\n",
    "# Create a Service object with the executable path\n",
    "service = Service(driver_path)\n",
    "\n",
    "# Set up the Edge WebDriver using the Service object\n",
    "driver = webdriver.Edge(service=service)\n",
    "\n",
    "# Navigate to Amazon.in best sellers page\n",
    "driver.get('https://www.amazon.in/gp/bestsellers/kitchen/27002126031/ref=zg_bs_nav_kitchen_5_27002115031')\n",
    "\n",
    "# Find the top 3 best sellers\n",
    "best_sellers = driver.find_elements(by='css selector', value='.a-column')[:3]\n",
    "\n",
    "# Create an empty list to store the links\n",
    "data = []\n",
    "\n",
    "# Extract and store the links for the top 3 best sellers\n",
    "for index, product in enumerate(best_sellers, start=1):\n",
    "    product_link_element = product.find_element(by='css selector', value='a.a-link-normal')\n",
    "    product_link = product_link_element.get_attribute('href')  # Get the 'href' attribute\n",
    "    data.append({'Link': product_link})\n",
    "\n",
    "    print(f\"Top {index} Link: {product_link}\")\n",
    "\n",
    "# Close the WebDriver\n",
    "driver.quit()\n",
    "\n",
    "# Create a pandas DataFrame from the scraped links\n",
    "df = pd.DataFrame(data)\n",
    "\n",
    "# Export the DataFrame to an Excel file\n",
    "excel_file_path = \"Centerpiece Bowls.xlsx\"\n",
    "df.to_excel(excel_file_path, index=False)\n",
    "\n",
    "print(f\"Scraped data saved to {excel_file_path}\")"
   ]
  },
  {
   "cell_type": "markdown",
   "metadata": {},
   "source": [
    "https://www.amazon.in/gp/bestsellers/kitchen/30425836031/ref=zg_bs_nav_kitchen_5_30425832031"
   ]
  },
  {
   "cell_type": "markdown",
   "metadata": {},
   "source": [
    "Serving Bowls"
   ]
  },
  {
   "cell_type": "code",
   "execution_count": null,
   "metadata": {},
   "outputs": [
    {
     "name": "stdout",
     "output_type": "stream",
     "text": [
      "Top 1 Link: https://www.amazon.in/Ikea-500-572-54-Serving-Stainless-11-Inch/dp/B00T5YMQIG/ref=zg_bs_g_30425836031_sccl_1/257-1505209-2634519?psc=1\n",
      "Top 2 Link: https://www.amazon.in/SHIV-SHAKTI-ARTS-Handmade-Designed/dp/B07H1TXZX4/ref=zg_bs_g_30425836031_sccl_2/257-1505209-2634519?psc=1\n",
      "Top 3 Link: https://www.amazon.in/Indian-Hammered-Serving-Restaurant-Tableware/dp/B08RB4CC72/ref=zg_bs_g_30425836031_sccl_3/257-1505209-2634519?psc=1\n",
      "Scraped data saved to Serving Bowls.xlsx\n"
     ]
    }
   ],
   "source": [
    "from selenium import webdriver\n",
    "from selenium.webdriver.edge.service import Service\n",
    "import pandas as pd\n",
    "\n",
    "# Specify the path to the Edge WebDriver executable\n",
    "driver_path = \"C:\\\\Users\\\\uppada satwik\\\\Downloads\\\\edgedriver_win64\\\\msedgedriver.exe\"\n",
    "\n",
    "# Create a Service object with the executable path\n",
    "service = Service(driver_path)\n",
    "\n",
    "# Set up the Edge WebDriver using the Service object\n",
    "driver = webdriver.Edge(service=service)\n",
    "\n",
    "# Navigate to Amazon.in best sellers page\n",
    "driver.get('https://www.amazon.in/gp/bestsellers/kitchen/30425836031/ref=zg_bs_nav_kitchen_5_30425832031')\n",
    "\n",
    "# Find the top 3 best sellers\n",
    "best_sellers = driver.find_elements(by='css selector', value='.a-column')[:3]\n",
    "\n",
    "# Create an empty list to store the links\n",
    "data = []\n",
    "\n",
    "# Extract and store the links for the top 3 best sellers\n",
    "for index, product in enumerate(best_sellers, start=1):\n",
    "    product_link_element = product.find_element(by='css selector', value='a.a-link-normal')\n",
    "    product_link = product_link_element.get_attribute('href')  # Get the 'href' attribute\n",
    "    data.append({'Link': product_link})\n",
    "\n",
    "    print(f\"Top {index} Link: {product_link}\")\n",
    "\n",
    "# Close the WebDriver\n",
    "driver.quit()\n",
    "\n",
    "# Create a pandas DataFrame from the scraped links\n",
    "df = pd.DataFrame(data)\n",
    "\n",
    "# Export the DataFrame to an Excel file\n",
    "excel_file_path = \"Serving Bowls.xlsx\"\n",
    "df.to_excel(excel_file_path, index=False)\n",
    "\n",
    "print(f\"Scraped data saved to {excel_file_path}\")"
   ]
  },
  {
   "cell_type": "markdown",
   "metadata": {},
   "source": [
    "https://www.amazon.in/gp/bestsellers/kitchen/3248217031/ref=zg_bs_nav_kitchen_5_30425836031"
   ]
  },
  {
   "cell_type": "markdown",
   "metadata": {},
   "source": [
    "Serving Casseroles & Tureens"
   ]
  },
  {
   "cell_type": "code",
   "execution_count": null,
   "metadata": {},
   "outputs": [
    {
     "name": "stdout",
     "output_type": "stream",
     "text": [
      "Top 1 Link: https://www.amazon.in/Cello-Sportigo-Assorted-Insulated-Casserole/dp/B0C99M4RMN/ref=zg_bs_g_3248217031_sccl_1/258-7013763-6393554?psc=1\n",
      "Top 2 Link: https://www.amazon.in/MILTON-Stainless-Casserole-Stackable-Microwave/dp/B0B6RH5JRL/ref=zg_bs_g_3248217031_sccl_2/258-7013763-6393554?psc=1\n",
      "Top 3 Link: https://www.amazon.in/Cello-Sapphire-Insulated-Casserole-Serving/dp/B0BM3ZWR6H/ref=zg_bs_g_3248217031_sccl_3/258-7013763-6393554?psc=1\n",
      "Scraped data saved to Serving Casseroles & Tureens.xlsx\n"
     ]
    }
   ],
   "source": [
    "from selenium import webdriver\n",
    "from selenium.webdriver.edge.service import Service\n",
    "import pandas as pd\n",
    "\n",
    "# Specify the path to the Edge WebDriver executable\n",
    "driver_path = \"C:\\\\Users\\\\uppada satwik\\\\Downloads\\\\edgedriver_win64\\\\msedgedriver.exe\"\n",
    "\n",
    "# Create a Service object with the executable path\n",
    "service = Service(driver_path)\n",
    "\n",
    "# Set up the Edge WebDriver using the Service object\n",
    "driver = webdriver.Edge(service=service)\n",
    "\n",
    "# Navigate to Amazon.in best sellers page\n",
    "driver.get('https://www.amazon.in/gp/bestsellers/kitchen/3248217031/ref=zg_bs_nav_kitchen_5_30425836031')\n",
    "\n",
    "# Find the top 3 best sellers\n",
    "best_sellers = driver.find_elements(by='css selector', value='.a-column')[:3]\n",
    "\n",
    "# Create an empty list to store the links\n",
    "data = []\n",
    "\n",
    "# Extract and store the links for the top 3 best sellers\n",
    "for index, product in enumerate(best_sellers, start=1):\n",
    "    product_link_element = product.find_element(by='css selector', value='a.a-link-normal')\n",
    "    product_link = product_link_element.get_attribute('href')  # Get the 'href' attribute\n",
    "    data.append({'Link': product_link})\n",
    "\n",
    "    print(f\"Top {index} Link: {product_link}\")\n",
    "\n",
    "# Close the WebDriver\n",
    "driver.quit()\n",
    "\n",
    "# Create a pandas DataFrame from the scraped links\n",
    "df = pd.DataFrame(data)\n",
    "\n",
    "# Export the DataFrame to an Excel file\n",
    "excel_file_path = \"Serving Casseroles & Tureens.xlsx\"\n",
    "df.to_excel(excel_file_path, index=False)\n",
    "\n",
    "print(f\"Scraped data saved to {excel_file_path}\")"
   ]
  },
  {
   "cell_type": "markdown",
   "metadata": {},
   "source": [
    "---"
   ]
  },
  {
   "cell_type": "markdown",
   "metadata": {},
   "source": [
    "/gp/bestsellers/kitchen/30425812031/ref=zg_bs_nav_kitchen_4_1380151031"
   ]
  },
  {
   "cell_type": "markdown",
   "metadata": {},
   "source": [
    "Serving Dish Covers"
   ]
  },
  {
   "cell_type": "code",
   "execution_count": null,
   "metadata": {},
   "outputs": [
    {
     "name": "stdout",
     "output_type": "stream",
     "text": [
      "Top 1 Link: https://www.amazon.in/Ejoyous-Stainless-Steel-Comfortable-Cover/dp/B085Q8L9VS/ref=zg_bs_g_30425812031_sccl_1/262-7252966-6809921?psc=1\n",
      "Top 2 Link: https://www.amazon.in/DOITOOL-Stainless-Melting-Steaming-Sandwiches/dp/B09P1L8CPM/ref=zg_bs_g_30425812031_sccl_2/262-7252966-6809921?psc=1\n",
      "Top 3 Link: https://www.amazon.in/Platter-Cover-Serving-Kitchen-Hygienic/dp/B097QHXMR8/ref=zg_bs_g_30425812031_sccl_3/262-7252966-6809921?psc=1\n",
      "Scraped data saved to Serving Dish Covers.xlsx\n"
     ]
    }
   ],
   "source": [
    "from selenium import webdriver\n",
    "from selenium.webdriver.edge.service import Service\n",
    "import pandas as pd\n",
    "\n",
    "# Specify the path to the Edge WebDriver executable\n",
    "driver_path = \"C:\\\\Users\\\\uppada satwik\\\\Downloads\\\\edgedriver_win64\\\\msedgedriver.exe\"\n",
    "\n",
    "# Create a Service object with the executable path\n",
    "service = Service(driver_path)\n",
    "\n",
    "# Set up the Edge WebDriver using the Service object\n",
    "driver = webdriver.Edge(service=service)\n",
    "\n",
    "# Navigate to Amazon.in best sellers page\n",
    "driver.get('https://www.amazon.in/gp/bestsellers/kitchen/30425812031/ref=zg_bs_nav_kitchen_4_1380151031')\n",
    "\n",
    "# Find the top 3 best sellers\n",
    "best_sellers = driver.find_elements(by='css selector', value='.a-column')[:3]\n",
    "\n",
    "# Create an empty list to store the links\n",
    "data = []\n",
    "\n",
    "# Extract and store the links for the top 3 best sellers\n",
    "for index, product in enumerate(best_sellers, start=1):\n",
    "    product_link_element = product.find_element(by='css selector', value='a.a-link-normal')\n",
    "    product_link = product_link_element.get_attribute('href')  # Get the 'href' attribute\n",
    "    data.append({'Link': product_link})\n",
    "\n",
    "    print(f\"Top {index} Link: {product_link}\")\n",
    "\n",
    "# Close the WebDriver\n",
    "driver.quit()\n",
    "\n",
    "# Create a pandas DataFrame from the scraped links\n",
    "df = pd.DataFrame(data)\n",
    "\n",
    "# Export the DataFrame to an Excel file\n",
    "excel_file_path = \"Serving Dish Covers.xlsx\"\n",
    "df.to_excel(excel_file_path, index=False)\n",
    "\n",
    "print(f\"Scraped data saved to {excel_file_path}\")"
   ]
  },
  {
   "cell_type": "markdown",
   "metadata": {},
   "source": [
    "/gp/bestsellers/kitchen/27002113031/ref=zg_bs_nav_kitchen_4_1380151031"
   ]
  },
  {
   "cell_type": "markdown",
   "metadata": {},
   "source": [
    "Serving Trays, Dishes "
   ]
  },
  {
   "cell_type": "code",
   "execution_count": null,
   "metadata": {},
   "outputs": [
    {
     "name": "stdout",
     "output_type": "stream",
     "text": [
      "Top 1 Link: https://www.amazon.in/Its-Trending-Wood-handcrafts-Beautiful/dp/B07VLT3V1G/ref=zg_bs_g_27002113031_sccl_1/259-8207320-6374825?psc=1\n",
      "Top 2 Link: https://www.amazon.in/WOOD-ART-STORE-Decorative-Round/dp/B0BQDKG442/ref=zg_bs_g_27002113031_sccl_2/259-8207320-6374825?psc=1\n",
      "Top 3 Link: https://www.amazon.in/FEDOY-FED_VIL62-Serving-Tray/dp/B09FHMWBTH/ref=zg_bs_g_27002113031_sccl_3/259-8207320-6374825?psc=1\n",
      "Scraped data saved to Serving Trays, Dishes .xlsx\n"
     ]
    }
   ],
   "source": [
    "from selenium import webdriver\n",
    "from selenium.webdriver.edge.service import Service\n",
    "import pandas as pd\n",
    "\n",
    "# Specify the path to the Edge WebDriver executable\n",
    "driver_path = \"C:\\\\Users\\\\uppada satwik\\\\Downloads\\\\edgedriver_win64\\\\msedgedriver.exe\"\n",
    "\n",
    "# Create a Service object with the executable path\n",
    "service = Service(driver_path)\n",
    "\n",
    "# Set up the Edge WebDriver using the Service object\n",
    "driver = webdriver.Edge(service=service)\n",
    "\n",
    "# Navigate to Amazon.in best sellers page\n",
    "driver.get('https://www.amazon.in/gp/bestsellers/kitchen/27002113031/ref=zg_bs_nav_kitchen_4_1380151031')\n",
    "\n",
    "# Find the top 3 best sellers\n",
    "best_sellers = driver.find_elements(by='css selector', value='.a-column')[:3]\n",
    "\n",
    "# Create an empty list to store the links\n",
    "data = []\n",
    "\n",
    "# Extract and store the links for the top 3 best sellers\n",
    "for index, product in enumerate(best_sellers, start=1):\n",
    "    product_link_element = product.find_element(by='css selector', value='a.a-link-normal')\n",
    "    product_link = product_link_element.get_attribute('href')  # Get the 'href' attribute\n",
    "    data.append({'Link': product_link})\n",
    "\n",
    "    print(f\"Top {index} Link: {product_link}\")\n",
    "\n",
    "# Close the WebDriver\n",
    "driver.quit()\n",
    "\n",
    "# Create a pandas DataFrame from the scraped links\n",
    "df = pd.DataFrame(data)\n",
    "\n",
    "# Export the DataFrame to an Excel file\n",
    "excel_file_path = \"Serving Trays, Dishes .xlsx\"\n",
    "df.to_excel(excel_file_path, index=False)\n",
    "\n",
    "print(f\"Scraped data saved to {excel_file_path}\")"
   ]
  },
  {
   "cell_type": "markdown",
   "metadata": {},
   "source": [
    "https://www.amazon.in/gp/bestsellers/kitchen/27002124031/ref=zg_bs_nav_kitchen_5_27002113031"
   ]
  },
  {
   "cell_type": "markdown",
   "metadata": {},
   "source": [
    "Breakfast Trays"
   ]
  },
  {
   "cell_type": "code",
   "execution_count": null,
   "metadata": {},
   "outputs": [],
   "source": [
    "from selenium import webdriver\n",
    "from selenium.webdriver.edge.service import Service\n",
    "import pandas as pd\n",
    "\n",
    "# Specify the path to the Edge WebDriver executable\n",
    "driver_path = \"C:\\\\Users\\\\uppada satwik\\\\Downloads\\\\edgedriver_win64\\\\msedgedriver.exe\"\n",
    "\n",
    "# Create a Service object with the executable path\n",
    "service = Service(driver_path)\n",
    "\n",
    "# Set up the Edge WebDriver using the Service object\n",
    "driver = webdriver.Edge(service=service)\n",
    "\n",
    "# Navigate to Amazon.in best sellers page\n",
    "driver.get('')\n",
    "\n",
    "# Find the top 3 best sellers\n",
    "best_sellers = driver.find_elements(by='css selector', value='.a-column')[:3]\n",
    "\n",
    "# Create an empty list to store the links\n",
    "data = []\n",
    "\n",
    "# Extract and store the links for the top 3 best sellers\n",
    "for index, product in enumerate(best_sellers, start=1):\n",
    "    product_link_element = product.find_element(by='css selector', value='a.a-link-normal')\n",
    "    product_link = product_link_element.get_attribute('href')  # Get the 'href' attribute\n",
    "    data.append({'Link': product_link})\n",
    "\n",
    "    print(f\"Top {index} Link: {product_link}\")\n",
    "\n",
    "# Close the WebDriver\n",
    "driver.quit()\n",
    "\n",
    "# Create a pandas DataFrame from the scraped links\n",
    "df = pd.DataFrame(data)\n",
    "\n",
    "# Export the DataFrame to an Excel file\n",
    "excel_file_path = \".xlsx\"\n",
    "df.to_excel(excel_file_path, index=False)\n",
    "\n",
    "print(f\"Scraped data saved to {excel_file_path}\")"
   ]
  },
  {
   "cell_type": "markdown",
   "metadata": {},
   "source": [
    "https://www.amazon.in/gp/bestsellers/kitchen/27002120031/ref=zg_bs_nav_kitchen_5_27002124031"
   ]
  },
  {
   "cell_type": "markdown",
   "metadata": {},
   "source": [
    "Divided Dishes, Trays & Platters"
   ]
  },
  {
   "cell_type": "code",
   "execution_count": null,
   "metadata": {},
   "outputs": [
    {
     "name": "stdout",
     "output_type": "stream",
     "text": [
      "Top 1 Link: https://www.amazon.in/HOKIPO-Wooden-Appetizer-Platter-Serving/dp/B07GRLL99V/ref=zg_bs_g_27002120031_sccl_1/261-4547322-4897552?psc=1\n",
      "Top 2 Link: https://www.amazon.in/PARATPAR-MALL-Sectional-Container-Compartment/dp/B084X6QJ41/ref=zg_bs_g_27002120031_sccl_2/261-4547322-4897552?psc=1\n",
      "Top 3 Link: https://www.amazon.in/Classic-Essentials-Stainless-Dinner-Compartments/dp/B097YHD938/ref=zg_bs_g_27002120031_sccl_3/261-4547322-4897552?psc=1\n",
      "Scraped data saved to Divided Dishes, Trays & Platters.xlsx\n"
     ]
    }
   ],
   "source": [
    "from selenium import webdriver\n",
    "from selenium.webdriver.edge.service import Service\n",
    "import pandas as pd\n",
    "\n",
    "# Specify the path to the Edge WebDriver executable\n",
    "driver_path = \"C:\\\\Users\\\\uppada satwik\\\\Downloads\\\\edgedriver_win64\\\\msedgedriver.exe\"\n",
    "\n",
    "# Create a Service object with the executable path\n",
    "service = Service(driver_path)\n",
    "\n",
    "# Set up the Edge WebDriver using the Service object\n",
    "driver = webdriver.Edge(service=service)\n",
    "\n",
    "# Navigate to Amazon.in best sellers page\n",
    "driver.get('https://www.amazon.in/gp/bestsellers/kitchen/27002120031/ref=zg_bs_nav_kitchen_5_27002124031')\n",
    "\n",
    "# Find the top 3 best sellers\n",
    "best_sellers = driver.find_elements(by='css selector', value='.a-column')[:3]\n",
    "\n",
    "# Create an empty list to store the links\n",
    "data = []\n",
    "\n",
    "# Extract and store the links for the top 3 best sellers\n",
    "for index, product in enumerate(best_sellers, start=1):\n",
    "    product_link_element = product.find_element(by='css selector', value='a.a-link-normal')\n",
    "    product_link = product_link_element.get_attribute('href')  # Get the 'href' attribute\n",
    "    data.append({'Link': product_link})\n",
    "\n",
    "    print(f\"Top {index} Link: {product_link}\")\n",
    "\n",
    "# Close the WebDriver\n",
    "driver.quit()\n",
    "\n",
    "# Create a pandas DataFrame from the scraped links\n",
    "df = pd.DataFrame(data)\n",
    "\n",
    "# Export the DataFrame to an Excel file\n",
    "excel_file_path = \"Divided Dishes, Trays & Platters.xlsx\"\n",
    "df.to_excel(excel_file_path, index=False)\n",
    "\n",
    "print(f\"Scraped data saved to {excel_file_path}\")"
   ]
  },
  {
   "cell_type": "markdown",
   "metadata": {},
   "source": [
    "https://www.amazon.in/gp/bestsellers/kitchen/30425866031/ref=zg_bs_nav_kitchen_6_27002120031"
   ]
  },
  {
   "cell_type": "markdown",
   "metadata": {},
   "source": [
    "Chip & Dip Sets"
   ]
  },
  {
   "cell_type": "code",
   "execution_count": null,
   "metadata": {},
   "outputs": [
    {
     "name": "stdout",
     "output_type": "stream",
     "text": [
      "Top 1 Link: https://www.amazon.in/Tupperware-Divided-Dish-Appetizer-Salsa/dp/B01N295S2F/ref=zg_bs_g_30425866031_sccl_1/261-0916686-0352820?psc=1\n",
      "Top 2 Link: https://www.amazon.in/Chumbak-Serving-Joy-Platter-Ivory/dp/B083DW613J/ref=zg_bs_g_30425866031_sccl_2/261-0916686-0352820?psc=1\n",
      "Top 3 Link: https://www.amazon.in/Sweese-707-001-Porcelain-Divided-Serving/dp/B07RYR8SCZ/ref=zg_bs_g_30425866031_sccl_3/261-0916686-0352820?psc=1\n",
      "Scraped data saved to Chip & Dip Sets.xlsx\n"
     ]
    }
   ],
   "source": [
    "from selenium import webdriver\n",
    "from selenium.webdriver.edge.service import Service\n",
    "import pandas as pd\n",
    "\n",
    "# Specify the path to the Edge WebDriver executable\n",
    "driver_path = \"C:\\\\Users\\\\uppada satwik\\\\Downloads\\\\edgedriver_win64\\\\msedgedriver.exe\"\n",
    "\n",
    "# Create a Service object with the executable path\n",
    "service = Service(driver_path)\n",
    "\n",
    "# Set up the Edge WebDriver using the Service object\n",
    "driver = webdriver.Edge(service=service)\n",
    "\n",
    "# Navigate to Amazon.in best sellers page\n",
    "driver.get('https://www.amazon.in/gp/bestsellers/kitchen/30425866031/ref=zg_bs_nav_kitchen_6_27002120031')\n",
    "\n",
    "# Find the top 3 best sellers\n",
    "best_sellers = driver.find_elements(by='css selector', value='.a-column')[:3]\n",
    "\n",
    "# Create an empty list to store the links\n",
    "data = []\n",
    "\n",
    "# Extract and store the links for the top 3 best sellers\n",
    "for index, product in enumerate(best_sellers, start=1):\n",
    "    product_link_element = product.find_element(by='css selector', value='a.a-link-normal')\n",
    "    product_link = product_link_element.get_attribute('href')  # Get the 'href' attribute\n",
    "    data.append({'Link': product_link})\n",
    "\n",
    "    print(f\"Top {index} Link: {product_link}\")\n",
    "\n",
    "# Close the WebDriver\n",
    "driver.quit()\n",
    "\n",
    "# Create a pandas DataFrame from the scraped links\n",
    "df = pd.DataFrame(data)\n",
    "\n",
    "# Export the DataFrame to an Excel file\n",
    "excel_file_path = \"Chip & Dip Sets.xlsx\"\n",
    "df.to_excel(excel_file_path, index=False)\n",
    "\n",
    "print(f\"Scraped data saved to {excel_file_path}\")"
   ]
  },
  {
   "cell_type": "markdown",
   "metadata": {},
   "source": [
    "https://www.amazon.in/gp/bestsellers/kitchen/30425822031/ref=zg_bs_nav_kitchen_5_27002113031"
   ]
  },
  {
   "cell_type": "markdown",
   "metadata": {},
   "source": [
    "Serving Boards"
   ]
  },
  {
   "cell_type": "code",
   "execution_count": null,
   "metadata": {},
   "outputs": [
    {
     "name": "stdout",
     "output_type": "stream",
     "text": [
      "Top 1 Link: https://www.amazon.in/BOIS-ART-Circular-Serving-Platter/dp/B0764CJPDY/ref=zg_bs_g_30425822031_sccl_1/258-6689211-7457158?psc=1\n",
      "Top 2 Link: https://www.amazon.in/Acacia-Cutting-Handle-Chopping-Countertop/dp/B08SW8GMZT/ref=zg_bs_g_30425822031_sccl_2/258-6689211-7457158?psc=1\n",
      "Scraped data saved to Serving Boards.xlsx\n"
     ]
    }
   ],
   "source": [
    "from selenium import webdriver\n",
    "from selenium.webdriver.edge.service import Service\n",
    "import pandas as pd\n",
    "\n",
    "# Specify the path to the Edge WebDriver executable\n",
    "driver_path = \"C:\\\\Users\\\\uppada satwik\\\\Downloads\\\\edgedriver_win64\\\\msedgedriver.exe\"\n",
    "\n",
    "# Create a Service object with the executable path\n",
    "service = Service(driver_path)\n",
    "\n",
    "# Set up the Edge WebDriver using the Service object\n",
    "driver = webdriver.Edge(service=service)\n",
    "\n",
    "# Navigate to Amazon.in best sellers page\n",
    "driver.get('https://www.amazon.in/gp/bestsellers/kitchen/30425822031/ref=zg_bs_nav_kitchen_5_27002113031')\n",
    "\n",
    "# Find the top 3 best sellers\n",
    "best_sellers = driver.find_elements(by='css selector', value='.a-column')[:3]\n",
    "\n",
    "# Create an empty list to store the links\n",
    "data = []\n",
    "\n",
    "# Extract and store the links for the top 3 best sellers\n",
    "for index, product in enumerate(best_sellers, start=1):\n",
    "    product_link_element = product.find_element(by='css selector', value='a.a-link-normal')\n",
    "    product_link = product_link_element.get_attribute('href')  # Get the 'href' attribute\n",
    "    data.append({'Link': product_link})\n",
    "\n",
    "    print(f\"Top {index} Link: {product_link}\")\n",
    "\n",
    "# Close the WebDriver\n",
    "driver.quit()\n",
    "\n",
    "# Create a pandas DataFrame from the scraped links\n",
    "df = pd.DataFrame(data)\n",
    "\n",
    "# Export the DataFrame to an Excel file\n",
    "excel_file_path = \"Serving Boards.xlsx\"\n",
    "df.to_excel(excel_file_path, index=False)\n",
    "\n",
    "print(f\"Scraped data saved to {excel_file_path}\")"
   ]
  },
  {
   "cell_type": "markdown",
   "metadata": {},
   "source": [
    "https://www.amazon.in/gp/bestsellers/kitchen/27002125031/ref=zg_bs_nav_kitchen_5_30425822031"
   ]
  },
  {
   "cell_type": "markdown",
   "metadata": {},
   "source": [
    "Serving Trays"
   ]
  },
  {
   "cell_type": "code",
   "execution_count": null,
   "metadata": {},
   "outputs": [
    {
     "name": "stdout",
     "output_type": "stream",
     "text": [
      "Top 1 Link: https://www.amazon.in/Its-Trending-Wood-handcrafts-Beautiful/dp/B07VLT3V1G/ref=zg_bs_g_27002125031_sccl_1/258-8311309-9733316?psc=1\n",
      "Top 2 Link: https://www.amazon.in/WOOD-ART-STORE-Decorative-Round/dp/B0BQDKG442/ref=zg_bs_g_27002125031_sccl_2/258-8311309-9733316?psc=1\n",
      "Top 3 Link: https://www.amazon.in/FEDOY-FED_VIL62-Serving-Tray/dp/B09FHMWBTH/ref=zg_bs_g_27002125031_sccl_3/258-8311309-9733316?psc=1\n",
      "Scraped data saved to Serving Trays.xlsx\n"
     ]
    }
   ],
   "source": [
    "from selenium import webdriver\n",
    "from selenium.webdriver.edge.service import Service\n",
    "import pandas as pd\n",
    "\n",
    "# Specify the path to the Edge WebDriver executable\n",
    "driver_path = \"C:\\\\Users\\\\uppada satwik\\\\Downloads\\\\edgedriver_win64\\\\msedgedriver.exe\"\n",
    "\n",
    "# Create a Service object with the executable path\n",
    "service = Service(driver_path)\n",
    "\n",
    "# Set up the Edge WebDriver using the Service object\n",
    "driver = webdriver.Edge(service=service)\n",
    "\n",
    "# Navigate to Amazon.in best sellers page\n",
    "driver.get('https://www.amazon.in/gp/bestsellers/kitchen/27002125031/ref=zg_bs_nav_kitchen_5_30425822031')\n",
    "\n",
    "# Find the top 3 best sellers\n",
    "best_sellers = driver.find_elements(by='css selector', value='.a-column')[:3]\n",
    "\n",
    "# Create an empty list to store the links\n",
    "data = []\n",
    "\n",
    "# Extract and store the links for the top 3 best sellers\n",
    "for index, product in enumerate(best_sellers, start=1):\n",
    "    product_link_element = product.find_element(by='css selector', value='a.a-link-normal')\n",
    "    product_link = product_link_element.get_attribute('href')  # Get the 'href' attribute\n",
    "    data.append({'Link': product_link})\n",
    "\n",
    "    print(f\"Top {index} Link: {product_link}\")\n",
    "\n",
    "# Close the WebDriver\n",
    "driver.quit()\n",
    "\n",
    "# Create a pandas DataFrame from the scraped links\n",
    "df = pd.DataFrame(data)\n",
    "\n",
    "# Export the DataFrame to an Excel file\n",
    "excel_file_path = \"Serving Trays.xlsx\"\n",
    "df.to_excel(excel_file_path, index=False)\n",
    "\n",
    "print(f\"Scraped data saved to {excel_file_path}\")"
   ]
  },
  {
   "cell_type": "markdown",
   "metadata": {},
   "source": [
    "https://www.amazon.in/gp/bestsellers/kitchen/30425821031/ref=zg_bs_nav_kitchen_5_27002125031"
   ]
  },
  {
   "cell_type": "markdown",
   "metadata": {},
   "source": [
    "Tiered Trays & Platters"
   ]
  },
  {
   "cell_type": "code",
   "execution_count": null,
   "metadata": {},
   "outputs": [
    {
     "name": "stdout",
     "output_type": "stream",
     "text": [
      "Top 1 Link: https://www.amazon.in/HAMDAN-Collection-Tray-Wooden-Collapsible-Farmhouse/dp/B0BH53ZWPD/ref=zg_bs_g_30425821031_sccl_1/261-0159023-1559212?psc=1\n",
      "Top 2 Link: https://www.amazon.in/Serving-Rectangle-Farmhouse-Entertaining-Platters/dp/B09LLQ8FMR/ref=zg_bs_g_30425821031_sccl_2/261-0159023-1559212?psc=1\n",
      "Top 3 Link: https://www.amazon.in/KRAZZY-SHOP-Porcelain-Platters-Collapsible/dp/B0BY9DCDT2/ref=zg_bs_g_30425821031_sccl_3/261-0159023-1559212?psc=1\n",
      "Scraped data saved to Tiered Trays & Platters.xlsx\n"
     ]
    }
   ],
   "source": [
    "from selenium import webdriver\n",
    "from selenium.webdriver.edge.service import Service\n",
    "import pandas as pd\n",
    "\n",
    "# Specify the path to the Edge WebDriver executable\n",
    "driver_path = \"C:\\\\Users\\\\uppada satwik\\\\Downloads\\\\edgedriver_win64\\\\msedgedriver.exe\"\n",
    "\n",
    "# Create a Service object with the executable path\n",
    "service = Service(driver_path)\n",
    "\n",
    "# Set up the Edge WebDriver using the Service object\n",
    "driver = webdriver.Edge(service=service)\n",
    "\n",
    "# Navigate to Amazon.in best sellers page\n",
    "driver.get('https://www.amazon.in/gp/bestsellers/kitchen/30425821031/ref=zg_bs_nav_kitchen_5_27002125031')\n",
    "\n",
    "# Find the top 3 best sellers\n",
    "best_sellers = driver.find_elements(by='css selector', value='.a-column')[:3]\n",
    "\n",
    "# Create an empty list to store the links\n",
    "data = []\n",
    "\n",
    "# Extract and store the links for the top 3 best sellers\n",
    "for index, product in enumerate(best_sellers, start=1):\n",
    "    product_link_element = product.find_element(by='css selector', value='a.a-link-normal')\n",
    "    product_link = product_link_element.get_attribute('href')  # Get the 'href' attribute\n",
    "    data.append({'Link': product_link})\n",
    "\n",
    "    print(f\"Top {index} Link: {product_link}\")\n",
    "\n",
    "# Close the WebDriver\n",
    "driver.quit()\n",
    "\n",
    "# Create a pandas DataFrame from the scraped links\n",
    "df = pd.DataFrame(data)\n",
    "\n",
    "# Export the DataFrame to an Excel file\n",
    "excel_file_path = \"Tiered Trays & Platters.xlsx\"\n",
    "df.to_excel(excel_file_path, index=False)\n",
    "\n",
    "print(f\"Scraped data saved to {excel_file_path}\")"
   ]
  },
  {
   "cell_type": "markdown",
   "metadata": {},
   "source": [
    "https://www.amazon.in/gp/bestsellers/kitchen/30425805031/ref=zg_bs_nav_kitchen_4_1380151031"
   ]
  },
  {
   "cell_type": "markdown",
   "metadata": {},
   "source": [
    "Sweet Servers"
   ]
  },
  {
   "cell_type": "code",
   "execution_count": null,
   "metadata": {},
   "outputs": [
    {
     "name": "stdout",
     "output_type": "stream",
     "text": [
      "Top 1 Link: https://www.amazon.in/Coffeezone-Plates-Letter-Dishes-Decoration/dp/B01M6379VD/ref=zg_bs_g_30425805031_sccl_1/257-1171272-4982738?psc=1\n",
      "Top 2 Link: https://www.amazon.in/Studio-Silversmiths-Crystal-Purple-Candy/dp/B007RILKWA/ref=zg_bs_g_30425805031_sccl_2/257-1171272-4982738?psc=1\n",
      "Top 3 Link: https://www.amazon.in/Shalinindia-Handmade-Galaxy-Marble-Storage/dp/B01NCL5V46/ref=zg_bs_g_30425805031_sccl_3/257-1171272-4982738?psc=1\n",
      "Scraped data saved to Sweet Servers.xlsx\n"
     ]
    }
   ],
   "source": [
    "from selenium import webdriver\n",
    "from selenium.webdriver.edge.service import Service\n",
    "import pandas as pd\n",
    "\n",
    "# Specify the path to the Edge WebDriver executable\n",
    "driver_path = \"C:\\\\Users\\\\uppada satwik\\\\Downloads\\\\edgedriver_win64\\\\msedgedriver.exe\"\n",
    "\n",
    "# Create a Service object with the executable path\n",
    "service = Service(driver_path)\n",
    "\n",
    "# Set up the Edge WebDriver using the Service object\n",
    "driver = webdriver.Edge(service=service)\n",
    "\n",
    "# Navigate to Amazon.in best sellers page\n",
    "driver.get('https://www.amazon.in/gp/bestsellers/kitchen/30425805031/ref=zg_bs_nav_kitchen_4_1380151031')\n",
    "\n",
    "# Find the top 3 best sellers\n",
    "best_sellers = driver.find_elements(by='css selector', value='.a-column')[:3]\n",
    "\n",
    "# Create an empty list to store the links\n",
    "data = []\n",
    "\n",
    "# Extract and store the links for the top 3 best sellers\n",
    "for index, product in enumerate(best_sellers, start=1):\n",
    "    product_link_element = product.find_element(by='css selector', value='a.a-link-normal')\n",
    "    product_link = product_link_element.get_attribute('href')  # Get the 'href' attribute\n",
    "    data.append({'Link': product_link})\n",
    "\n",
    "    print(f\"Top {index} Link: {product_link}\")\n",
    "\n",
    "# Close the WebDriver\n",
    "driver.quit()\n",
    "\n",
    "# Create a pandas DataFrame from the scraped links\n",
    "df = pd.DataFrame(data)\n",
    "\n",
    "# Export the DataFrame to an Excel file\n",
    "excel_file_path = \"Sweet Servers.xlsx\"\n",
    "df.to_excel(excel_file_path, index=False)\n",
    "\n",
    "print(f\"Scraped data saved to {excel_file_path}\")"
   ]
  },
  {
   "cell_type": "markdown",
   "metadata": {},
   "source": [
    "https://www.amazon.in/gp/bestsellers/kitchen/30425808031/ref=zg_bs_nav_kitchen_4_30425805031"
   ]
  },
  {
   "cell_type": "markdown",
   "metadata": {},
   "source": [
    "Taco Holders"
   ]
  },
  {
   "cell_type": "code",
   "execution_count": null,
   "metadata": {},
   "outputs": [
    {
     "name": "stdout",
     "output_type": "stream",
     "text": [
      "Top 1 Link: https://www.amazon.in/MILAD-Taco-Holders-Stainless-Steel/dp/B08H89BN2B/ref=zg_bs_g_30425808031_sccl_1/259-4206888-3556442?psc=1\n",
      "Top 2 Link: https://www.amazon.in/MILADTM-Taco-Holders-Stainless-Steel/dp/B08JTTH113/ref=zg_bs_g_30425808031_sccl_2/259-4206888-3556442?psc=1\n",
      "Top 3 Link: https://www.amazon.in/OrganizeMee-Stainless-Taco-Easy-Access-Set/dp/B0C5MJ3BBS/ref=zg_bs_g_30425808031_sccl_3/259-4206888-3556442?psc=1\n",
      "Scraped data saved to Taco Holders.xlsx\n"
     ]
    }
   ],
   "source": [
    "from selenium import webdriver\n",
    "from selenium.webdriver.edge.service import Service\n",
    "import pandas as pd\n",
    "\n",
    "# Specify the path to the Edge WebDriver executable\n",
    "driver_path = \"C:\\\\Users\\\\uppada satwik\\\\Downloads\\\\edgedriver_win64\\\\msedgedriver.exe\"\n",
    "\n",
    "# Create a Service object with the executable path\n",
    "service = Service(driver_path)\n",
    "\n",
    "# Set up the Edge WebDriver using the Service object\n",
    "driver = webdriver.Edge(service=service)\n",
    "\n",
    "# Navigate to Amazon.in best sellers page\n",
    "driver.get('https://www.amazon.in/gp/bestsellers/kitchen/30425808031/ref=zg_bs_nav_kitchen_4_30425805031')\n",
    "\n",
    "# Find the top 3 best sellers\n",
    "best_sellers = driver.find_elements(by='css selector', value='.a-column')[:3]\n",
    "\n",
    "# Create an empty list to store the links\n",
    "data = []\n",
    "\n",
    "# Extract and store the links for the top 3 best sellers\n",
    "for index, product in enumerate(best_sellers, start=1):\n",
    "    product_link_element = product.find_element(by='css selector', value='a.a-link-normal')\n",
    "    product_link = product_link_element.get_attribute('href')  # Get the 'href' attribute\n",
    "    data.append({'Link': product_link})\n",
    "\n",
    "    print(f\"Top {index} Link: {product_link}\")\n",
    "\n",
    "# Close the WebDriver\n",
    "driver.quit()\n",
    "\n",
    "# Create a pandas DataFrame from the scraped links\n",
    "df = pd.DataFrame(data)\n",
    "\n",
    "# Export the DataFrame to an Excel file\n",
    "excel_file_path = \"Taco Holders.xlsx\"\n",
    "df.to_excel(excel_file_path, index=False)\n",
    "\n",
    "print(f\"Scraped data saved to {excel_file_path}\")"
   ]
  },
  {
   "cell_type": "markdown",
   "metadata": {},
   "source": [
    "https://www.amazon.in/gp/bestsellers/kitchen/27002110031/ref=zg_bs_nav_kitchen_3_27002108031"
   ]
  },
  {
   "cell_type": "markdown",
   "metadata": {},
   "source": [
    "Teapots & Coffee Servers"
   ]
  },
  {
   "cell_type": "code",
   "execution_count": null,
   "metadata": {},
   "outputs": [
    {
     "name": "stdout",
     "output_type": "stream",
     "text": [
      "Top 1 Link: https://www.amazon.in/FARKRAFT-Ceramic-Finish-Coffee-Golden/dp/B06XCMNHDC/ref=zg_bs_g_27002110031_sccl_1/262-8112134-6190445?psc=1\n",
      "Top 2 Link: https://www.amazon.in/Opala-Glass-Saucer-Regular-Plainware/dp/B07VBFGR51/ref=zg_bs_g_27002110031_sccl_2/262-8112134-6190445?psc=1\n",
      "Top 3 Link: https://www.amazon.in/KOSHIYA-Stainless-Stovetop-Blooming-Completely/dp/B0B1Q9XFQP/ref=zg_bs_g_27002110031_sccl_3/262-8112134-6190445?psc=1\n",
      "Scraped data saved to Teapots & Coffee Servers.xlsx\n"
     ]
    }
   ],
   "source": [
    "from selenium import webdriver\n",
    "from selenium.webdriver.edge.service import Service\n",
    "import pandas as pd\n",
    "\n",
    "# Specify the path to the Edge WebDriver executable\n",
    "driver_path = \"C:\\\\Users\\\\uppada satwik\\\\Downloads\\\\edgedriver_win64\\\\msedgedriver.exe\"\n",
    "\n",
    "# Create a Service object with the executable path\n",
    "service = Service(driver_path)\n",
    "\n",
    "# Set up the Edge WebDriver using the Service object\n",
    "driver = webdriver.Edge(service=service)\n",
    "\n",
    "# Navigate to Amazon.in best sellers page\n",
    "driver.get('https://www.amazon.in/gp/bestsellers/kitchen/27002110031/ref=zg_bs_nav_kitchen_3_27002108031')\n",
    "\n",
    "# Find the top 3 best sellers\n",
    "best_sellers = driver.find_elements(by='css selector', value='.a-column')[:3]\n",
    "\n",
    "# Create an empty list to store the links\n",
    "data = []\n",
    "\n",
    "# Extract and store the links for the top 3 best sellers\n",
    "for index, product in enumerate(best_sellers, start=1):\n",
    "    product_link_element = product.find_element(by='css selector', value='a.a-link-normal')\n",
    "    product_link = product_link_element.get_attribute('href')  # Get the 'href' attribute\n",
    "    data.append({'Link': product_link})\n",
    "\n",
    "    print(f\"Top {index} Link: {product_link}\")\n",
    "\n",
    "# Close the WebDriver\n",
    "driver.quit()\n",
    "\n",
    "# Create a pandas DataFrame from the scraped links\n",
    "df = pd.DataFrame(data)\n",
    "\n",
    "# Export the DataFrame to an Excel file\n",
    "excel_file_path = \"Teapots & Coffee Servers.xlsx\"\n",
    "df.to_excel(excel_file_path, index=False)\n",
    "\n",
    "print(f\"Scraped data saved to {excel_file_path}\")"
   ]
  },
  {
   "cell_type": "code",
   "execution_count": null,
   "metadata": {},
   "outputs": [],
   "source": [
    "from selenium import webdriver\n",
    "from selenium.webdriver.edge.service import Service\n",
    "import pandas as pd\n",
    "\n",
    "# Specify the path to the Edge WebDriver executable\n",
    "driver_path = \"C:\\\\Users\\\\uppada satwik\\\\Downloads\\\\edgedriver_win64\\\\msedgedriver.exe\"\n",
    "\n",
    "# Create a Service object with the executable path\n",
    "service = Service(driver_path)\n",
    "\n",
    "# Set up the Edge WebDriver using the Service object\n",
    "driver = webdriver.Edge(service=service)\n",
    "\n",
    "# Navigate to Amazon.in best sellers page\n",
    "driver.get('')\n",
    "\n",
    "# Find the top 3 best sellers\n",
    "best_sellers = driver.find_elements(by='css selector', value='.a-column')[:3]\n",
    "\n",
    "# Create an empty list to store the links\n",
    "data = []\n",
    "\n",
    "# Extract and store the links for the top 3 best sellers\n",
    "for index, product in enumerate(best_sellers, start=1):\n",
    "    product_link_element = product.find_element(by='css selector', value='a.a-link-normal')\n",
    "    product_link = product_link_element.get_attribute('href')  # Get the 'href' attribute\n",
    "    data.append({'Link': product_link})\n",
    "\n",
    "    print(f\"Top {index} Link: {product_link}\")\n",
    "\n",
    "# Close the WebDriver\n",
    "driver.quit()\n",
    "\n",
    "# Create a pandas DataFrame from the scraped links\n",
    "df = pd.DataFrame(data)\n",
    "\n",
    "# Export the DataFrame to an Excel file\n",
    "excel_file_path = \".xlsx\"\n",
    "df.to_excel(excel_file_path, index=False)\n",
    "\n",
    "print(f\"Scraped data saved to {excel_file_path}\")"
   ]
  }
 ],
 "metadata": {
  "kernelspec": {
   "display_name": "Python 3",
   "language": "python",
   "name": "python3"
  },
  "language_info": {
   "codemirror_mode": {
    "name": "ipython",
    "version": 3
   },
   "file_extension": ".py",
   "mimetype": "text/x-python",
   "name": "python",
   "nbconvert_exporter": "python",
   "pygments_lexer": "ipython3",
   "version": "3.12.0"
  },
  "orig_nbformat": 4
 },
 "nbformat": 4,
 "nbformat_minor": 2
}
