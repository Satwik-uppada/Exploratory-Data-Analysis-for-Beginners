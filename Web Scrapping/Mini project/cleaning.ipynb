{
 "cells": [
  {
   "cell_type": "markdown",
   "metadata": {},
   "source": [
    "# Cleaning Data collected by Web Scrappers from Cars24.com"
   ]
  },
  {
   "cell_type": "markdown",
   "metadata": {},
   "source": [
    "---"
   ]
  },
  {
   "cell_type": "markdown",
   "metadata": {},
   "source": [
    "## Loading all the excel files"
   ]
  },
  {
   "cell_type": "code",
   "execution_count": 28,
   "metadata": {},
   "outputs": [],
   "source": [
    "import pandas as pd  \n",
    "import os\n",
    "\n",
    "cwd = os.getcwd()\n",
    "\n",
    "data_1 = pd.read_excel(f\"{cwd}\\\\satwik.xlsx\")\n",
    "data_2 = pd.read_excel(f\"{cwd}\\\\ankesh.xlsx\")\n",
    "data_3 = pd.read_excel(f\"{cwd}\\\\homya_data_2.xlsx\")\n",
    "data_4 = pd.read_excel(f\"{cwd}\\\\nazar_data.xlsx\")\n",
    "data_5 = pd.read_excel(f\"{cwd}\\\\homya_data_1.xlsx\")\n"
   ]
  },
  {
   "cell_type": "markdown",
   "metadata": {},
   "source": [
    "---"
   ]
  },
  {
   "cell_type": "markdown",
   "metadata": {},
   "source": [
    "## Merging all files into one and save into the local disc"
   ]
  },
  {
   "cell_type": "code",
   "execution_count": 29,
   "metadata": {},
   "outputs": [],
   "source": [
    "dataframe=[data_1,data_2,data_3,data_4,data_5]\n",
    "merged_df = pd.concat(dataframe, ignore_index=True)\n",
    "merged_df.to_excel(f'{cwd}\\\\merged_file.xlsx', index=False)\n"
   ]
  },
  {
   "cell_type": "markdown",
   "metadata": {},
   "source": [
    "---"
   ]
  },
  {
   "cell_type": "markdown",
   "metadata": {},
   "source": [
    "## Loading the merged file"
   ]
  },
  {
   "cell_type": "code",
   "execution_count": 30,
   "metadata": {},
   "outputs": [],
   "source": [
    "merged_data = pd.read_excel(f'{cwd}\\\\merged_file.xlsx')"
   ]
  },
  {
   "cell_type": "code",
   "execution_count": 31,
   "metadata": {},
   "outputs": [
    {
     "data": {
      "text/html": [
       "<div>\n",
       "<style scoped>\n",
       "    .dataframe tbody tr th:only-of-type {\n",
       "        vertical-align: middle;\n",
       "    }\n",
       "\n",
       "    .dataframe tbody tr th {\n",
       "        vertical-align: top;\n",
       "    }\n",
       "\n",
       "    .dataframe thead th {\n",
       "        text-align: right;\n",
       "    }\n",
       "</style>\n",
       "<table border=\"1\" class=\"dataframe\">\n",
       "  <thead>\n",
       "    <tr style=\"text-align: right;\">\n",
       "      <th></th>\n",
       "      <th>Brand</th>\n",
       "      <th>Model</th>\n",
       "      <th>Registered Year</th>\n",
       "      <th>Km Driven</th>\n",
       "      <th>Fuel Type</th>\n",
       "      <th>Transmission Type</th>\n",
       "      <th>Add ONs</th>\n",
       "      <th>Offer Price</th>\n",
       "      <th>Original Price</th>\n",
       "      <th>Discount Offered</th>\n",
       "      <th>Location</th>\n",
       "      <th>Test Drive Location</th>\n",
       "    </tr>\n",
       "  </thead>\n",
       "  <tbody>\n",
       "    <tr>\n",
       "      <th>0</th>\n",
       "      <td>Maruti</td>\n",
       "      <td>Alto 800 LXI</td>\n",
       "      <td>2016</td>\n",
       "      <td>97,698 km</td>\n",
       "      <td>Petrol</td>\n",
       "      <td>Manual</td>\n",
       "      <td>Low run cost</td>\n",
       "      <td>₹2.31 Lakh</td>\n",
       "      <td>₹2.60 Lakh</td>\n",
       "      <td>(28.76k off)</td>\n",
       "      <td>New Delhi</td>\n",
       "      <td>Chhatarpur, Delhi</td>\n",
       "    </tr>\n",
       "    <tr>\n",
       "      <th>1</th>\n",
       "      <td>Maruti</td>\n",
       "      <td>Swift VXI</td>\n",
       "      <td>2015</td>\n",
       "      <td>1,02,460 km</td>\n",
       "      <td>Petrol</td>\n",
       "      <td>Manual</td>\n",
       "      <td>Reg. serviced</td>\n",
       "      <td>₹3.33 Lakh</td>\n",
       "      <td>₹3.56 Lakh</td>\n",
       "      <td>(23k off)</td>\n",
       "      <td>New Delhi</td>\n",
       "      <td>Metro Walk, Rohini, New Delhi</td>\n",
       "    </tr>\n",
       "    <tr>\n",
       "      <th>2</th>\n",
       "      <td>Maruti</td>\n",
       "      <td>Baleno DELTA PETROL 1.2</td>\n",
       "      <td>2019</td>\n",
       "      <td>35,190 km</td>\n",
       "      <td>Petrol</td>\n",
       "      <td>Manual</td>\n",
       "      <td>Safety specs.</td>\n",
       "      <td>₹5.57 Lakh</td>\n",
       "      <td>₹6.13 Lakh</td>\n",
       "      <td>(56k off)</td>\n",
       "      <td>New Delhi</td>\n",
       "      <td>Chhatarpur, Delhi</td>\n",
       "    </tr>\n",
       "    <tr>\n",
       "      <th>3</th>\n",
       "      <td>Maruti</td>\n",
       "      <td>Celerio VXI</td>\n",
       "      <td>2019</td>\n",
       "      <td>63,194 km</td>\n",
       "      <td>Petrol</td>\n",
       "      <td>Manual</td>\n",
       "      <td>Reg. serviced</td>\n",
       "      <td>₹3.98 Lakh</td>\n",
       "      <td>₹4.29 Lakh</td>\n",
       "      <td>(31k off)</td>\n",
       "      <td>New Delhi</td>\n",
       "      <td>M3M Urbana, Golf Course Ext., Gurugram</td>\n",
       "    </tr>\n",
       "    <tr>\n",
       "      <th>4</th>\n",
       "      <td>Tata</td>\n",
       "      <td>NEXON XZ PLUS PETROL</td>\n",
       "      <td>2017</td>\n",
       "      <td>82,375 km</td>\n",
       "      <td>Petrol</td>\n",
       "      <td>Manual</td>\n",
       "      <td>Alloy wheels</td>\n",
       "      <td>₹6.00 Lakh</td>\n",
       "      <td>₹6.45 Lakh</td>\n",
       "      <td>(44.53k off)</td>\n",
       "      <td>New Delhi</td>\n",
       "      <td>Metro Walk, Rohini, New Delhi</td>\n",
       "    </tr>\n",
       "  </tbody>\n",
       "</table>\n",
       "</div>"
      ],
      "text/plain": [
       "    Brand                    Model  Registered Year    Km Driven Fuel Type  \\\n",
       "0  Maruti             Alto 800 LXI             2016    97,698 km    Petrol   \n",
       "1  Maruti                Swift VXI             2015  1,02,460 km    Petrol   \n",
       "2  Maruti  Baleno DELTA PETROL 1.2             2019    35,190 km    Petrol   \n",
       "3  Maruti              Celerio VXI             2019    63,194 km    Petrol   \n",
       "4    Tata     NEXON XZ PLUS PETROL             2017    82,375 km    Petrol   \n",
       "\n",
       "  Transmission Type        Add ONs Offer Price Original Price  \\\n",
       "0            Manual   Low run cost  ₹2.31 Lakh     ₹2.60 Lakh   \n",
       "1            Manual  Reg. serviced  ₹3.33 Lakh     ₹3.56 Lakh   \n",
       "2            Manual  Safety specs.  ₹5.57 Lakh     ₹6.13 Lakh   \n",
       "3            Manual  Reg. serviced  ₹3.98 Lakh     ₹4.29 Lakh   \n",
       "4            Manual   Alloy wheels  ₹6.00 Lakh     ₹6.45 Lakh   \n",
       "\n",
       "  Discount Offered   Location                     Test Drive Location  \n",
       "0     (28.76k off)  New Delhi                       Chhatarpur, Delhi  \n",
       "1        (23k off)  New Delhi           Metro Walk, Rohini, New Delhi  \n",
       "2        (56k off)  New Delhi                       Chhatarpur, Delhi  \n",
       "3        (31k off)  New Delhi  M3M Urbana, Golf Course Ext., Gurugram  \n",
       "4     (44.53k off)  New Delhi           Metro Walk, Rohini, New Delhi  "
      ]
     },
     "execution_count": 31,
     "metadata": {},
     "output_type": "execute_result"
    }
   ],
   "source": [
    "merged_data.head()"
   ]
  },
  {
   "cell_type": "markdown",
   "metadata": {},
   "source": [
    "----"
   ]
  },
  {
   "cell_type": "markdown",
   "metadata": {},
   "source": [
    "# Data Cleaning"
   ]
  },
  {
   "cell_type": "markdown",
   "metadata": {},
   "source": [
    "----"
   ]
  },
  {
   "cell_type": "markdown",
   "metadata": {},
   "source": [
    "## Finding Missing values"
   ]
  },
  {
   "cell_type": "code",
   "execution_count": 32,
   "metadata": {},
   "outputs": [
    {
     "data": {
      "text/plain": [
       "Brand                    0\n",
       "Model                    0\n",
       "Registered Year          0\n",
       "Km Driven                0\n",
       "Fuel Type                0\n",
       "Transmission Type        0\n",
       "Add ONs                  2\n",
       "Offer Price              0\n",
       "Original Price         267\n",
       "Discount Offered       268\n",
       "Location                 0\n",
       "Test Drive Location      0\n",
       "dtype: int64"
      ]
     },
     "execution_count": 32,
     "metadata": {},
     "output_type": "execute_result"
    }
   ],
   "source": [
    "merged_data.isna().sum()"
   ]
  },
  {
   "cell_type": "markdown",
   "metadata": {},
   "source": [
    "---"
   ]
  },
  {
   "cell_type": "markdown",
   "metadata": {},
   "source": [
    "## Handling Missing values"
   ]
  },
  {
   "cell_type": "markdown",
   "metadata": {},
   "source": [
    "**Replace the N/A values with 0(string datatype). Because all the values in the dataset are in str datatype**"
   ]
  },
  {
   "cell_type": "code",
   "execution_count": 33,
   "metadata": {},
   "outputs": [],
   "source": [
    "merged_data.fillna(\"0\", inplace=True)"
   ]
  },
  {
   "cell_type": "code",
   "execution_count": 34,
   "metadata": {},
   "outputs": [
    {
     "data": {
      "text/plain": [
       "Brand                  0\n",
       "Model                  0\n",
       "Registered Year        0\n",
       "Km Driven              0\n",
       "Fuel Type              0\n",
       "Transmission Type      0\n",
       "Add ONs                0\n",
       "Offer Price            0\n",
       "Original Price         0\n",
       "Discount Offered       0\n",
       "Location               0\n",
       "Test Drive Location    0\n",
       "dtype: int64"
      ]
     },
     "execution_count": 34,
     "metadata": {},
     "output_type": "execute_result"
    }
   ],
   "source": [
    "merged_data.isna().sum()"
   ]
  },
  {
   "cell_type": "markdown",
   "metadata": {},
   "source": [
    "---"
   ]
  },
  {
   "cell_type": "code",
   "execution_count": 35,
   "metadata": {},
   "outputs": [
    {
     "data": {
      "text/html": [
       "<div>\n",
       "<style scoped>\n",
       "    .dataframe tbody tr th:only-of-type {\n",
       "        vertical-align: middle;\n",
       "    }\n",
       "\n",
       "    .dataframe tbody tr th {\n",
       "        vertical-align: top;\n",
       "    }\n",
       "\n",
       "    .dataframe thead th {\n",
       "        text-align: right;\n",
       "    }\n",
       "</style>\n",
       "<table border=\"1\" class=\"dataframe\">\n",
       "  <thead>\n",
       "    <tr style=\"text-align: right;\">\n",
       "      <th></th>\n",
       "      <th>Brand</th>\n",
       "      <th>Model</th>\n",
       "      <th>Registered Year</th>\n",
       "      <th>Km Driven</th>\n",
       "      <th>Fuel Type</th>\n",
       "      <th>Transmission Type</th>\n",
       "      <th>Add ONs</th>\n",
       "      <th>Offer Price</th>\n",
       "      <th>Original Price</th>\n",
       "      <th>Discount Offered</th>\n",
       "      <th>Location</th>\n",
       "      <th>Test Drive Location</th>\n",
       "    </tr>\n",
       "  </thead>\n",
       "  <tbody>\n",
       "    <tr>\n",
       "      <th>0</th>\n",
       "      <td>Maruti</td>\n",
       "      <td>Alto 800 LXI</td>\n",
       "      <td>2016</td>\n",
       "      <td>97,698 km</td>\n",
       "      <td>Petrol</td>\n",
       "      <td>Manual</td>\n",
       "      <td>Low run cost</td>\n",
       "      <td>₹2.31 Lakh</td>\n",
       "      <td>₹2.60 Lakh</td>\n",
       "      <td>(28.76k off)</td>\n",
       "      <td>New Delhi</td>\n",
       "      <td>Chhatarpur, Delhi</td>\n",
       "    </tr>\n",
       "    <tr>\n",
       "      <th>1</th>\n",
       "      <td>Maruti</td>\n",
       "      <td>Swift VXI</td>\n",
       "      <td>2015</td>\n",
       "      <td>1,02,460 km</td>\n",
       "      <td>Petrol</td>\n",
       "      <td>Manual</td>\n",
       "      <td>Reg. serviced</td>\n",
       "      <td>₹3.33 Lakh</td>\n",
       "      <td>₹3.56 Lakh</td>\n",
       "      <td>(23k off)</td>\n",
       "      <td>New Delhi</td>\n",
       "      <td>Metro Walk, Rohini, New Delhi</td>\n",
       "    </tr>\n",
       "    <tr>\n",
       "      <th>2</th>\n",
       "      <td>Maruti</td>\n",
       "      <td>Baleno DELTA PETROL 1.2</td>\n",
       "      <td>2019</td>\n",
       "      <td>35,190 km</td>\n",
       "      <td>Petrol</td>\n",
       "      <td>Manual</td>\n",
       "      <td>Safety specs.</td>\n",
       "      <td>₹5.57 Lakh</td>\n",
       "      <td>₹6.13 Lakh</td>\n",
       "      <td>(56k off)</td>\n",
       "      <td>New Delhi</td>\n",
       "      <td>Chhatarpur, Delhi</td>\n",
       "    </tr>\n",
       "    <tr>\n",
       "      <th>3</th>\n",
       "      <td>Maruti</td>\n",
       "      <td>Celerio VXI</td>\n",
       "      <td>2019</td>\n",
       "      <td>63,194 km</td>\n",
       "      <td>Petrol</td>\n",
       "      <td>Manual</td>\n",
       "      <td>Reg. serviced</td>\n",
       "      <td>₹3.98 Lakh</td>\n",
       "      <td>₹4.29 Lakh</td>\n",
       "      <td>(31k off)</td>\n",
       "      <td>New Delhi</td>\n",
       "      <td>M3M Urbana, Golf Course Ext., Gurugram</td>\n",
       "    </tr>\n",
       "    <tr>\n",
       "      <th>4</th>\n",
       "      <td>Tata</td>\n",
       "      <td>NEXON XZ PLUS PETROL</td>\n",
       "      <td>2017</td>\n",
       "      <td>82,375 km</td>\n",
       "      <td>Petrol</td>\n",
       "      <td>Manual</td>\n",
       "      <td>Alloy wheels</td>\n",
       "      <td>₹6.00 Lakh</td>\n",
       "      <td>₹6.45 Lakh</td>\n",
       "      <td>(44.53k off)</td>\n",
       "      <td>New Delhi</td>\n",
       "      <td>Metro Walk, Rohini, New Delhi</td>\n",
       "    </tr>\n",
       "  </tbody>\n",
       "</table>\n",
       "</div>"
      ],
      "text/plain": [
       "    Brand                    Model  Registered Year    Km Driven Fuel Type  \\\n",
       "0  Maruti             Alto 800 LXI             2016    97,698 km    Petrol   \n",
       "1  Maruti                Swift VXI             2015  1,02,460 km    Petrol   \n",
       "2  Maruti  Baleno DELTA PETROL 1.2             2019    35,190 km    Petrol   \n",
       "3  Maruti              Celerio VXI             2019    63,194 km    Petrol   \n",
       "4    Tata     NEXON XZ PLUS PETROL             2017    82,375 km    Petrol   \n",
       "\n",
       "  Transmission Type        Add ONs Offer Price Original Price  \\\n",
       "0            Manual   Low run cost  ₹2.31 Lakh     ₹2.60 Lakh   \n",
       "1            Manual  Reg. serviced  ₹3.33 Lakh     ₹3.56 Lakh   \n",
       "2            Manual  Safety specs.  ₹5.57 Lakh     ₹6.13 Lakh   \n",
       "3            Manual  Reg. serviced  ₹3.98 Lakh     ₹4.29 Lakh   \n",
       "4            Manual   Alloy wheels  ₹6.00 Lakh     ₹6.45 Lakh   \n",
       "\n",
       "  Discount Offered   Location                     Test Drive Location  \n",
       "0     (28.76k off)  New Delhi                       Chhatarpur, Delhi  \n",
       "1        (23k off)  New Delhi           Metro Walk, Rohini, New Delhi  \n",
       "2        (56k off)  New Delhi                       Chhatarpur, Delhi  \n",
       "3        (31k off)  New Delhi  M3M Urbana, Golf Course Ext., Gurugram  \n",
       "4     (44.53k off)  New Delhi           Metro Walk, Rohini, New Delhi  "
      ]
     },
     "execution_count": 35,
     "metadata": {},
     "output_type": "execute_result"
    }
   ],
   "source": [
    "merged_data.head()"
   ]
  },
  {
   "cell_type": "markdown",
   "metadata": {},
   "source": [
    "---"
   ]
  },
  {
   "cell_type": "markdown",
   "metadata": {},
   "source": [
    "## Cleaning of Offer price column"
   ]
  },
  {
   "cell_type": "markdown",
   "metadata": {},
   "source": [
    "- Removing rupee symbol\n",
    "- Removing Lakh\n",
    "- Converting them into float\n",
    "- normalizing them into lakhs by multiplying with 100000"
   ]
  },
  {
   "cell_type": "code",
   "execution_count": 36,
   "metadata": {},
   "outputs": [],
   "source": [
    "def convert_to_float(price_str):\n",
    "    if isinstance(price_str, str):\n",
    "        # Remove rupee symbol and \"Lakh\" text, and convert to float\n",
    "        price_str = price_str.replace('₹', '').replace(' Lakh', '').strip()\n",
    "        return float(price_str) * 100000\n",
    "    return None\n",
    "\n",
    "# Apply the conversion function\n",
    "merged_data['Offer Price'] = merged_data['Offer Price'].apply(convert_to_float)"
   ]
  },
  {
   "cell_type": "code",
   "execution_count": 37,
   "metadata": {},
   "outputs": [
    {
     "data": {
      "text/html": [
       "<div>\n",
       "<style scoped>\n",
       "    .dataframe tbody tr th:only-of-type {\n",
       "        vertical-align: middle;\n",
       "    }\n",
       "\n",
       "    .dataframe tbody tr th {\n",
       "        vertical-align: top;\n",
       "    }\n",
       "\n",
       "    .dataframe thead th {\n",
       "        text-align: right;\n",
       "    }\n",
       "</style>\n",
       "<table border=\"1\" class=\"dataframe\">\n",
       "  <thead>\n",
       "    <tr style=\"text-align: right;\">\n",
       "      <th></th>\n",
       "      <th>Brand</th>\n",
       "      <th>Model</th>\n",
       "      <th>Registered Year</th>\n",
       "      <th>Km Driven</th>\n",
       "      <th>Fuel Type</th>\n",
       "      <th>Transmission Type</th>\n",
       "      <th>Add ONs</th>\n",
       "      <th>Offer Price</th>\n",
       "      <th>Original Price</th>\n",
       "      <th>Discount Offered</th>\n",
       "      <th>Location</th>\n",
       "      <th>Test Drive Location</th>\n",
       "    </tr>\n",
       "  </thead>\n",
       "  <tbody>\n",
       "    <tr>\n",
       "      <th>0</th>\n",
       "      <td>Maruti</td>\n",
       "      <td>Alto 800 LXI</td>\n",
       "      <td>2016</td>\n",
       "      <td>97,698 km</td>\n",
       "      <td>Petrol</td>\n",
       "      <td>Manual</td>\n",
       "      <td>Low run cost</td>\n",
       "      <td>231000.0</td>\n",
       "      <td>₹2.60 Lakh</td>\n",
       "      <td>(28.76k off)</td>\n",
       "      <td>New Delhi</td>\n",
       "      <td>Chhatarpur, Delhi</td>\n",
       "    </tr>\n",
       "    <tr>\n",
       "      <th>1</th>\n",
       "      <td>Maruti</td>\n",
       "      <td>Swift VXI</td>\n",
       "      <td>2015</td>\n",
       "      <td>1,02,460 km</td>\n",
       "      <td>Petrol</td>\n",
       "      <td>Manual</td>\n",
       "      <td>Reg. serviced</td>\n",
       "      <td>333000.0</td>\n",
       "      <td>₹3.56 Lakh</td>\n",
       "      <td>(23k off)</td>\n",
       "      <td>New Delhi</td>\n",
       "      <td>Metro Walk, Rohini, New Delhi</td>\n",
       "    </tr>\n",
       "    <tr>\n",
       "      <th>2</th>\n",
       "      <td>Maruti</td>\n",
       "      <td>Baleno DELTA PETROL 1.2</td>\n",
       "      <td>2019</td>\n",
       "      <td>35,190 km</td>\n",
       "      <td>Petrol</td>\n",
       "      <td>Manual</td>\n",
       "      <td>Safety specs.</td>\n",
       "      <td>557000.0</td>\n",
       "      <td>₹6.13 Lakh</td>\n",
       "      <td>(56k off)</td>\n",
       "      <td>New Delhi</td>\n",
       "      <td>Chhatarpur, Delhi</td>\n",
       "    </tr>\n",
       "    <tr>\n",
       "      <th>3</th>\n",
       "      <td>Maruti</td>\n",
       "      <td>Celerio VXI</td>\n",
       "      <td>2019</td>\n",
       "      <td>63,194 km</td>\n",
       "      <td>Petrol</td>\n",
       "      <td>Manual</td>\n",
       "      <td>Reg. serviced</td>\n",
       "      <td>398000.0</td>\n",
       "      <td>₹4.29 Lakh</td>\n",
       "      <td>(31k off)</td>\n",
       "      <td>New Delhi</td>\n",
       "      <td>M3M Urbana, Golf Course Ext., Gurugram</td>\n",
       "    </tr>\n",
       "    <tr>\n",
       "      <th>4</th>\n",
       "      <td>Tata</td>\n",
       "      <td>NEXON XZ PLUS PETROL</td>\n",
       "      <td>2017</td>\n",
       "      <td>82,375 km</td>\n",
       "      <td>Petrol</td>\n",
       "      <td>Manual</td>\n",
       "      <td>Alloy wheels</td>\n",
       "      <td>600000.0</td>\n",
       "      <td>₹6.45 Lakh</td>\n",
       "      <td>(44.53k off)</td>\n",
       "      <td>New Delhi</td>\n",
       "      <td>Metro Walk, Rohini, New Delhi</td>\n",
       "    </tr>\n",
       "  </tbody>\n",
       "</table>\n",
       "</div>"
      ],
      "text/plain": [
       "    Brand                    Model  Registered Year    Km Driven Fuel Type  \\\n",
       "0  Maruti             Alto 800 LXI             2016    97,698 km    Petrol   \n",
       "1  Maruti                Swift VXI             2015  1,02,460 km    Petrol   \n",
       "2  Maruti  Baleno DELTA PETROL 1.2             2019    35,190 km    Petrol   \n",
       "3  Maruti              Celerio VXI             2019    63,194 km    Petrol   \n",
       "4    Tata     NEXON XZ PLUS PETROL             2017    82,375 km    Petrol   \n",
       "\n",
       "  Transmission Type        Add ONs  Offer Price Original Price  \\\n",
       "0            Manual   Low run cost     231000.0     ₹2.60 Lakh   \n",
       "1            Manual  Reg. serviced     333000.0     ₹3.56 Lakh   \n",
       "2            Manual  Safety specs.     557000.0     ₹6.13 Lakh   \n",
       "3            Manual  Reg. serviced     398000.0     ₹4.29 Lakh   \n",
       "4            Manual   Alloy wheels     600000.0     ₹6.45 Lakh   \n",
       "\n",
       "  Discount Offered   Location                     Test Drive Location  \n",
       "0     (28.76k off)  New Delhi                       Chhatarpur, Delhi  \n",
       "1        (23k off)  New Delhi           Metro Walk, Rohini, New Delhi  \n",
       "2        (56k off)  New Delhi                       Chhatarpur, Delhi  \n",
       "3        (31k off)  New Delhi  M3M Urbana, Golf Course Ext., Gurugram  \n",
       "4     (44.53k off)  New Delhi           Metro Walk, Rohini, New Delhi  "
      ]
     },
     "execution_count": 37,
     "metadata": {},
     "output_type": "execute_result"
    }
   ],
   "source": [
    "merged_data.head()"
   ]
  },
  {
   "cell_type": "markdown",
   "metadata": {},
   "source": [
    "---"
   ]
  },
  {
   "cell_type": "markdown",
   "metadata": {},
   "source": [
    "## Cleaning Original Price Column"
   ]
  },
  {
   "cell_type": "markdown",
   "metadata": {},
   "source": [
    "- Removing rupee symbol\n",
    "- Removing Lakh\n",
    "- Converting them into float\n",
    "- normalizing them into lakhs by multiplying with 100000"
   ]
  },
  {
   "cell_type": "code",
   "execution_count": 38,
   "metadata": {},
   "outputs": [],
   "source": [
    "def convert_to_float(price_str):\n",
    "    if isinstance(price_str, str):\n",
    "        # Remove rupee symbol and \"Lakh\" text, and convert to float\n",
    "        price_str = price_str.replace('₹', '').replace(' Lakh', '').strip()\n",
    "        return float(price_str) * 100000\n",
    "    return None\n",
    "\n",
    "# Apply the conversion function\n",
    "merged_data['Original Price'] = merged_data['Original Price'].apply(convert_to_float)"
   ]
  },
  {
   "cell_type": "code",
   "execution_count": 39,
   "metadata": {},
   "outputs": [
    {
     "data": {
      "text/html": [
       "<div>\n",
       "<style scoped>\n",
       "    .dataframe tbody tr th:only-of-type {\n",
       "        vertical-align: middle;\n",
       "    }\n",
       "\n",
       "    .dataframe tbody tr th {\n",
       "        vertical-align: top;\n",
       "    }\n",
       "\n",
       "    .dataframe thead th {\n",
       "        text-align: right;\n",
       "    }\n",
       "</style>\n",
       "<table border=\"1\" class=\"dataframe\">\n",
       "  <thead>\n",
       "    <tr style=\"text-align: right;\">\n",
       "      <th></th>\n",
       "      <th>Brand</th>\n",
       "      <th>Model</th>\n",
       "      <th>Registered Year</th>\n",
       "      <th>Km Driven</th>\n",
       "      <th>Fuel Type</th>\n",
       "      <th>Transmission Type</th>\n",
       "      <th>Add ONs</th>\n",
       "      <th>Offer Price</th>\n",
       "      <th>Original Price</th>\n",
       "      <th>Discount Offered</th>\n",
       "      <th>Location</th>\n",
       "      <th>Test Drive Location</th>\n",
       "    </tr>\n",
       "  </thead>\n",
       "  <tbody>\n",
       "    <tr>\n",
       "      <th>0</th>\n",
       "      <td>Maruti</td>\n",
       "      <td>Alto 800 LXI</td>\n",
       "      <td>2016</td>\n",
       "      <td>97,698 km</td>\n",
       "      <td>Petrol</td>\n",
       "      <td>Manual</td>\n",
       "      <td>Low run cost</td>\n",
       "      <td>231000.0</td>\n",
       "      <td>260000.0</td>\n",
       "      <td>(28.76k off)</td>\n",
       "      <td>New Delhi</td>\n",
       "      <td>Chhatarpur, Delhi</td>\n",
       "    </tr>\n",
       "    <tr>\n",
       "      <th>1</th>\n",
       "      <td>Maruti</td>\n",
       "      <td>Swift VXI</td>\n",
       "      <td>2015</td>\n",
       "      <td>1,02,460 km</td>\n",
       "      <td>Petrol</td>\n",
       "      <td>Manual</td>\n",
       "      <td>Reg. serviced</td>\n",
       "      <td>333000.0</td>\n",
       "      <td>356000.0</td>\n",
       "      <td>(23k off)</td>\n",
       "      <td>New Delhi</td>\n",
       "      <td>Metro Walk, Rohini, New Delhi</td>\n",
       "    </tr>\n",
       "    <tr>\n",
       "      <th>2</th>\n",
       "      <td>Maruti</td>\n",
       "      <td>Baleno DELTA PETROL 1.2</td>\n",
       "      <td>2019</td>\n",
       "      <td>35,190 km</td>\n",
       "      <td>Petrol</td>\n",
       "      <td>Manual</td>\n",
       "      <td>Safety specs.</td>\n",
       "      <td>557000.0</td>\n",
       "      <td>613000.0</td>\n",
       "      <td>(56k off)</td>\n",
       "      <td>New Delhi</td>\n",
       "      <td>Chhatarpur, Delhi</td>\n",
       "    </tr>\n",
       "    <tr>\n",
       "      <th>3</th>\n",
       "      <td>Maruti</td>\n",
       "      <td>Celerio VXI</td>\n",
       "      <td>2019</td>\n",
       "      <td>63,194 km</td>\n",
       "      <td>Petrol</td>\n",
       "      <td>Manual</td>\n",
       "      <td>Reg. serviced</td>\n",
       "      <td>398000.0</td>\n",
       "      <td>429000.0</td>\n",
       "      <td>(31k off)</td>\n",
       "      <td>New Delhi</td>\n",
       "      <td>M3M Urbana, Golf Course Ext., Gurugram</td>\n",
       "    </tr>\n",
       "    <tr>\n",
       "      <th>4</th>\n",
       "      <td>Tata</td>\n",
       "      <td>NEXON XZ PLUS PETROL</td>\n",
       "      <td>2017</td>\n",
       "      <td>82,375 km</td>\n",
       "      <td>Petrol</td>\n",
       "      <td>Manual</td>\n",
       "      <td>Alloy wheels</td>\n",
       "      <td>600000.0</td>\n",
       "      <td>645000.0</td>\n",
       "      <td>(44.53k off)</td>\n",
       "      <td>New Delhi</td>\n",
       "      <td>Metro Walk, Rohini, New Delhi</td>\n",
       "    </tr>\n",
       "  </tbody>\n",
       "</table>\n",
       "</div>"
      ],
      "text/plain": [
       "    Brand                    Model  Registered Year    Km Driven Fuel Type  \\\n",
       "0  Maruti             Alto 800 LXI             2016    97,698 km    Petrol   \n",
       "1  Maruti                Swift VXI             2015  1,02,460 km    Petrol   \n",
       "2  Maruti  Baleno DELTA PETROL 1.2             2019    35,190 km    Petrol   \n",
       "3  Maruti              Celerio VXI             2019    63,194 km    Petrol   \n",
       "4    Tata     NEXON XZ PLUS PETROL             2017    82,375 km    Petrol   \n",
       "\n",
       "  Transmission Type        Add ONs  Offer Price  Original Price  \\\n",
       "0            Manual   Low run cost     231000.0        260000.0   \n",
       "1            Manual  Reg. serviced     333000.0        356000.0   \n",
       "2            Manual  Safety specs.     557000.0        613000.0   \n",
       "3            Manual  Reg. serviced     398000.0        429000.0   \n",
       "4            Manual   Alloy wheels     600000.0        645000.0   \n",
       "\n",
       "  Discount Offered   Location                     Test Drive Location  \n",
       "0     (28.76k off)  New Delhi                       Chhatarpur, Delhi  \n",
       "1        (23k off)  New Delhi           Metro Walk, Rohini, New Delhi  \n",
       "2        (56k off)  New Delhi                       Chhatarpur, Delhi  \n",
       "3        (31k off)  New Delhi  M3M Urbana, Golf Course Ext., Gurugram  \n",
       "4     (44.53k off)  New Delhi           Metro Walk, Rohini, New Delhi  "
      ]
     },
     "execution_count": 39,
     "metadata": {},
     "output_type": "execute_result"
    }
   ],
   "source": [
    "merged_data.head()"
   ]
  },
  {
   "cell_type": "markdown",
   "metadata": {},
   "source": [
    "---"
   ]
  },
  {
   "cell_type": "markdown",
   "metadata": {},
   "source": [
    "## Cleaning Discount Offered column"
   ]
  },
  {
   "cell_type": "markdown",
   "metadata": {},
   "source": [
    "- Removing Parenthesis\n",
    "- Removing \"off\"\n",
    "- Converting them into float\n",
    "- normalizing them into thousands and lakhs by multiplying with 1000 and 100000 respectively"
   ]
  },
  {
   "cell_type": "code",
   "execution_count": 41,
   "metadata": {},
   "outputs": [],
   "source": [
    "def convert_discount(discount_str):\n",
    "    if isinstance(discount_str, str):\n",
    "        # Remove parentheses and text\n",
    "        discount_str = discount_str.replace('(', '').replace(')', '').replace(' off', '').strip()\n",
    "        \n",
    "        # Handle thousands and lakhs\n",
    "        if 'L' in discount_str:\n",
    "            discount_str = discount_str.replace('L', '').strip()\n",
    "            return float(discount_str) * 100000  # Convert lakhs to actual number\n",
    "        elif 'k' in discount_str:\n",
    "            discount_str = discount_str.replace('k', '').strip()\n",
    "            return float(discount_str) * 1000  # Convert thousands to actual number\n",
    "        else:\n",
    "            return float(discount_str)  # Already in actual number\n",
    "    return None\n",
    "\n",
    "# Apply the conversion function\n",
    "merged_data['Discount Offered'] = merged_data['Discount Offered'].apply(convert_discount)\n"
   ]
  },
  {
   "cell_type": "code",
   "execution_count": 42,
   "metadata": {},
   "outputs": [
    {
     "data": {
      "text/html": [
       "<div>\n",
       "<style scoped>\n",
       "    .dataframe tbody tr th:only-of-type {\n",
       "        vertical-align: middle;\n",
       "    }\n",
       "\n",
       "    .dataframe tbody tr th {\n",
       "        vertical-align: top;\n",
       "    }\n",
       "\n",
       "    .dataframe thead th {\n",
       "        text-align: right;\n",
       "    }\n",
       "</style>\n",
       "<table border=\"1\" class=\"dataframe\">\n",
       "  <thead>\n",
       "    <tr style=\"text-align: right;\">\n",
       "      <th></th>\n",
       "      <th>Brand</th>\n",
       "      <th>Model</th>\n",
       "      <th>Registered Year</th>\n",
       "      <th>Km Driven</th>\n",
       "      <th>Fuel Type</th>\n",
       "      <th>Transmission Type</th>\n",
       "      <th>Add ONs</th>\n",
       "      <th>Offer Price</th>\n",
       "      <th>Original Price</th>\n",
       "      <th>Discount Offered</th>\n",
       "      <th>Location</th>\n",
       "      <th>Test Drive Location</th>\n",
       "    </tr>\n",
       "  </thead>\n",
       "  <tbody>\n",
       "    <tr>\n",
       "      <th>1193</th>\n",
       "      <td>Tata</td>\n",
       "      <td>TIGOR XZ PLUS CNG</td>\n",
       "      <td>2022</td>\n",
       "      <td>24,490 km</td>\n",
       "      <td>CNG</td>\n",
       "      <td>Manual</td>\n",
       "      <td>Reg. serviced</td>\n",
       "      <td>781000.0</td>\n",
       "      <td>830000.0</td>\n",
       "      <td>49000.0</td>\n",
       "      <td>Mumbai</td>\n",
       "      <td>Currently tokened</td>\n",
       "    </tr>\n",
       "    <tr>\n",
       "      <th>1194</th>\n",
       "      <td>Tata</td>\n",
       "      <td>Safari XZ PLUS</td>\n",
       "      <td>2021</td>\n",
       "      <td>16,603 km</td>\n",
       "      <td>Diesel</td>\n",
       "      <td>Manual</td>\n",
       "      <td>Top Model</td>\n",
       "      <td>1878000.0</td>\n",
       "      <td>2100000.0</td>\n",
       "      <td>222000.0</td>\n",
       "      <td>Mumbai</td>\n",
       "      <td>Currently tokened</td>\n",
       "    </tr>\n",
       "    <tr>\n",
       "      <th>1195</th>\n",
       "      <td>Tata</td>\n",
       "      <td>NEXON XZA PLUS PETROL</td>\n",
       "      <td>2019</td>\n",
       "      <td>18,798 km</td>\n",
       "      <td>Petrol</td>\n",
       "      <td>Automatic</td>\n",
       "      <td>Top Model</td>\n",
       "      <td>845000.0</td>\n",
       "      <td>922000.0</td>\n",
       "      <td>77330.0</td>\n",
       "      <td>Mumbai</td>\n",
       "      <td>Currently tokened</td>\n",
       "    </tr>\n",
       "    <tr>\n",
       "      <th>1196</th>\n",
       "      <td>Tata</td>\n",
       "      <td>NEXON XZ PLUS PETROL</td>\n",
       "      <td>2018</td>\n",
       "      <td>48,213 km</td>\n",
       "      <td>CNG</td>\n",
       "      <td>Manual</td>\n",
       "      <td>Alloy wheels</td>\n",
       "      <td>654000.0</td>\n",
       "      <td>721000.0</td>\n",
       "      <td>67000.0</td>\n",
       "      <td>Mumbai</td>\n",
       "      <td>Currently tokened</td>\n",
       "    </tr>\n",
       "    <tr>\n",
       "      <th>1197</th>\n",
       "      <td>Tata</td>\n",
       "      <td>NEXON XZA PLUS PETROL</td>\n",
       "      <td>2018</td>\n",
       "      <td>39,992 km</td>\n",
       "      <td>Petrol</td>\n",
       "      <td>Automatic</td>\n",
       "      <td>Top Model</td>\n",
       "      <td>739000.0</td>\n",
       "      <td>0.0</td>\n",
       "      <td>0.0</td>\n",
       "      <td>Mumbai</td>\n",
       "      <td>Currently tokened</td>\n",
       "    </tr>\n",
       "  </tbody>\n",
       "</table>\n",
       "</div>"
      ],
      "text/plain": [
       "     Brand                  Model  Registered Year  Km Driven Fuel Type  \\\n",
       "1193  Tata      TIGOR XZ PLUS CNG             2022  24,490 km       CNG   \n",
       "1194  Tata         Safari XZ PLUS             2021  16,603 km    Diesel   \n",
       "1195  Tata  NEXON XZA PLUS PETROL             2019  18,798 km    Petrol   \n",
       "1196  Tata   NEXON XZ PLUS PETROL             2018  48,213 km       CNG   \n",
       "1197  Tata  NEXON XZA PLUS PETROL             2018  39,992 km    Petrol   \n",
       "\n",
       "     Transmission Type        Add ONs  Offer Price  Original Price  \\\n",
       "1193            Manual  Reg. serviced     781000.0        830000.0   \n",
       "1194            Manual      Top Model    1878000.0       2100000.0   \n",
       "1195         Automatic      Top Model     845000.0        922000.0   \n",
       "1196            Manual   Alloy wheels     654000.0        721000.0   \n",
       "1197         Automatic      Top Model     739000.0             0.0   \n",
       "\n",
       "      Discount Offered Location Test Drive Location  \n",
       "1193           49000.0   Mumbai   Currently tokened  \n",
       "1194          222000.0   Mumbai   Currently tokened  \n",
       "1195           77330.0   Mumbai   Currently tokened  \n",
       "1196           67000.0   Mumbai   Currently tokened  \n",
       "1197               0.0   Mumbai   Currently tokened  "
      ]
     },
     "execution_count": 42,
     "metadata": {},
     "output_type": "execute_result"
    }
   ],
   "source": [
    "merged_data.tail()"
   ]
  },
  {
   "cell_type": "markdown",
   "metadata": {},
   "source": [
    "---"
   ]
  },
  {
   "cell_type": "markdown",
   "metadata": {},
   "source": [
    "## Cleaning Km Driven Column"
   ]
  },
  {
   "cell_type": "markdown",
   "metadata": {},
   "source": [
    "- Removing km\n",
    "- Removing \",\"\n",
    "- Converting them into int datatype"
   ]
  },
  {
   "cell_type": "code",
   "execution_count": 44,
   "metadata": {},
   "outputs": [],
   "source": [
    "# Function to clean and convert km driven\n",
    "def convert_km(km_str):\n",
    "    if isinstance(km_str, str):\n",
    "        # Remove ' km' and commas\n",
    "        km_str = km_str.replace(' km', '').replace(',', '')\n",
    "        return int(km_str)  # Convert to integer\n",
    "    return pd.NA\n",
    "\n",
    "# Apply the conversion function\n",
    "merged_data['Km Driven'] = merged_data['Km Driven'].apply(convert_km)"
   ]
  },
  {
   "cell_type": "code",
   "execution_count": 45,
   "metadata": {},
   "outputs": [
    {
     "data": {
      "text/html": [
       "<div>\n",
       "<style scoped>\n",
       "    .dataframe tbody tr th:only-of-type {\n",
       "        vertical-align: middle;\n",
       "    }\n",
       "\n",
       "    .dataframe tbody tr th {\n",
       "        vertical-align: top;\n",
       "    }\n",
       "\n",
       "    .dataframe thead th {\n",
       "        text-align: right;\n",
       "    }\n",
       "</style>\n",
       "<table border=\"1\" class=\"dataframe\">\n",
       "  <thead>\n",
       "    <tr style=\"text-align: right;\">\n",
       "      <th></th>\n",
       "      <th>Brand</th>\n",
       "      <th>Model</th>\n",
       "      <th>Registered Year</th>\n",
       "      <th>Km Driven</th>\n",
       "      <th>Fuel Type</th>\n",
       "      <th>Transmission Type</th>\n",
       "      <th>Add ONs</th>\n",
       "      <th>Offer Price</th>\n",
       "      <th>Original Price</th>\n",
       "      <th>Discount Offered</th>\n",
       "      <th>Location</th>\n",
       "      <th>Test Drive Location</th>\n",
       "    </tr>\n",
       "  </thead>\n",
       "  <tbody>\n",
       "    <tr>\n",
       "      <th>0</th>\n",
       "      <td>Maruti</td>\n",
       "      <td>Alto 800 LXI</td>\n",
       "      <td>2016</td>\n",
       "      <td>97698</td>\n",
       "      <td>Petrol</td>\n",
       "      <td>Manual</td>\n",
       "      <td>Low run cost</td>\n",
       "      <td>231000.0</td>\n",
       "      <td>260000.0</td>\n",
       "      <td>28760.0</td>\n",
       "      <td>New Delhi</td>\n",
       "      <td>Chhatarpur, Delhi</td>\n",
       "    </tr>\n",
       "    <tr>\n",
       "      <th>1</th>\n",
       "      <td>Maruti</td>\n",
       "      <td>Swift VXI</td>\n",
       "      <td>2015</td>\n",
       "      <td>102460</td>\n",
       "      <td>Petrol</td>\n",
       "      <td>Manual</td>\n",
       "      <td>Reg. serviced</td>\n",
       "      <td>333000.0</td>\n",
       "      <td>356000.0</td>\n",
       "      <td>23000.0</td>\n",
       "      <td>New Delhi</td>\n",
       "      <td>Metro Walk, Rohini, New Delhi</td>\n",
       "    </tr>\n",
       "    <tr>\n",
       "      <th>2</th>\n",
       "      <td>Maruti</td>\n",
       "      <td>Baleno DELTA PETROL 1.2</td>\n",
       "      <td>2019</td>\n",
       "      <td>35190</td>\n",
       "      <td>Petrol</td>\n",
       "      <td>Manual</td>\n",
       "      <td>Safety specs.</td>\n",
       "      <td>557000.0</td>\n",
       "      <td>613000.0</td>\n",
       "      <td>56000.0</td>\n",
       "      <td>New Delhi</td>\n",
       "      <td>Chhatarpur, Delhi</td>\n",
       "    </tr>\n",
       "    <tr>\n",
       "      <th>3</th>\n",
       "      <td>Maruti</td>\n",
       "      <td>Celerio VXI</td>\n",
       "      <td>2019</td>\n",
       "      <td>63194</td>\n",
       "      <td>Petrol</td>\n",
       "      <td>Manual</td>\n",
       "      <td>Reg. serviced</td>\n",
       "      <td>398000.0</td>\n",
       "      <td>429000.0</td>\n",
       "      <td>31000.0</td>\n",
       "      <td>New Delhi</td>\n",
       "      <td>M3M Urbana, Golf Course Ext., Gurugram</td>\n",
       "    </tr>\n",
       "    <tr>\n",
       "      <th>4</th>\n",
       "      <td>Tata</td>\n",
       "      <td>NEXON XZ PLUS PETROL</td>\n",
       "      <td>2017</td>\n",
       "      <td>82375</td>\n",
       "      <td>Petrol</td>\n",
       "      <td>Manual</td>\n",
       "      <td>Alloy wheels</td>\n",
       "      <td>600000.0</td>\n",
       "      <td>645000.0</td>\n",
       "      <td>44530.0</td>\n",
       "      <td>New Delhi</td>\n",
       "      <td>Metro Walk, Rohini, New Delhi</td>\n",
       "    </tr>\n",
       "  </tbody>\n",
       "</table>\n",
       "</div>"
      ],
      "text/plain": [
       "    Brand                    Model  Registered Year  Km Driven Fuel Type  \\\n",
       "0  Maruti             Alto 800 LXI             2016      97698    Petrol   \n",
       "1  Maruti                Swift VXI             2015     102460    Petrol   \n",
       "2  Maruti  Baleno DELTA PETROL 1.2             2019      35190    Petrol   \n",
       "3  Maruti              Celerio VXI             2019      63194    Petrol   \n",
       "4    Tata     NEXON XZ PLUS PETROL             2017      82375    Petrol   \n",
       "\n",
       "  Transmission Type        Add ONs  Offer Price  Original Price  \\\n",
       "0            Manual   Low run cost     231000.0        260000.0   \n",
       "1            Manual  Reg. serviced     333000.0        356000.0   \n",
       "2            Manual  Safety specs.     557000.0        613000.0   \n",
       "3            Manual  Reg. serviced     398000.0        429000.0   \n",
       "4            Manual   Alloy wheels     600000.0        645000.0   \n",
       "\n",
       "   Discount Offered   Location                     Test Drive Location  \n",
       "0           28760.0  New Delhi                       Chhatarpur, Delhi  \n",
       "1           23000.0  New Delhi           Metro Walk, Rohini, New Delhi  \n",
       "2           56000.0  New Delhi                       Chhatarpur, Delhi  \n",
       "3           31000.0  New Delhi  M3M Urbana, Golf Course Ext., Gurugram  \n",
       "4           44530.0  New Delhi           Metro Walk, Rohini, New Delhi  "
      ]
     },
     "execution_count": 45,
     "metadata": {},
     "output_type": "execute_result"
    }
   ],
   "source": [
    "merged_data.head()"
   ]
  },
  {
   "cell_type": "markdown",
   "metadata": {},
   "source": [
    "---"
   ]
  },
  {
   "cell_type": "markdown",
   "metadata": {},
   "source": [
    "## Saving the Cleaned data"
   ]
  },
  {
   "cell_type": "code",
   "execution_count": 46,
   "metadata": {},
   "outputs": [],
   "source": [
    "cleaned_data = merged_data.to_excel(f\"{cwd}\\\\cleaned_data.xlsx\", index=False)"
   ]
  }
 ],
 "metadata": {
  "kernelspec": {
   "display_name": "Python 3",
   "language": "python",
   "name": "python3"
  },
  "language_info": {
   "codemirror_mode": {
    "name": "ipython",
    "version": 3
   },
   "file_extension": ".py",
   "mimetype": "text/x-python",
   "name": "python",
   "nbconvert_exporter": "python",
   "pygments_lexer": "ipython3",
   "version": "3.12.0"
  }
 },
 "nbformat": 4,
 "nbformat_minor": 2
}
