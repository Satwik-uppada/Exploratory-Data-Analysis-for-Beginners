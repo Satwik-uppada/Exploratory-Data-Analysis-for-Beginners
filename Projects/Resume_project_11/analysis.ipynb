{
 "cells": [
  {
   "cell_type": "markdown",
   "metadata": {},
   "source": [
    "# $$Electric-vehicle-data-analysis$$\n",
    "---"
   ]
  },
  {
   "cell_type": "code",
   "execution_count": 36,
   "metadata": {},
   "outputs": [],
   "source": [
    "import numpy as np\n",
    "import pandas as pd\n",
    "import matplotlib as plt\n",
    "import seaborn as sb \n",
    "import os"
   ]
  },
  {
   "cell_type": "code",
   "execution_count": 37,
   "metadata": {},
   "outputs": [
    {
     "data": {
      "text/html": [
       "<div>\n",
       "<style scoped>\n",
       "    .dataframe tbody tr th:only-of-type {\n",
       "        vertical-align: middle;\n",
       "    }\n",
       "\n",
       "    .dataframe tbody tr th {\n",
       "        vertical-align: top;\n",
       "    }\n",
       "\n",
       "    .dataframe thead th {\n",
       "        text-align: right;\n",
       "    }\n",
       "</style>\n",
       "<table border=\"1\" class=\"dataframe\">\n",
       "  <thead>\n",
       "    <tr style=\"text-align: right;\">\n",
       "      <th></th>\n",
       "      <th>date</th>\n",
       "      <th>state</th>\n",
       "      <th>vehicle_category</th>\n",
       "      <th>electric_vehicles_sold</th>\n",
       "      <th>total_vehicles_sold</th>\n",
       "    </tr>\n",
       "  </thead>\n",
       "  <tbody>\n",
       "    <tr>\n",
       "      <th>0</th>\n",
       "      <td>01-Apr-21</td>\n",
       "      <td>Sikkim</td>\n",
       "      <td>2-Wheelers</td>\n",
       "      <td>0</td>\n",
       "      <td>398</td>\n",
       "    </tr>\n",
       "    <tr>\n",
       "      <th>1</th>\n",
       "      <td>01-Apr-21</td>\n",
       "      <td>Sikkim</td>\n",
       "      <td>4-Wheelers</td>\n",
       "      <td>0</td>\n",
       "      <td>361</td>\n",
       "    </tr>\n",
       "    <tr>\n",
       "      <th>2</th>\n",
       "      <td>01-May-21</td>\n",
       "      <td>Sikkim</td>\n",
       "      <td>2-Wheelers</td>\n",
       "      <td>0</td>\n",
       "      <td>113</td>\n",
       "    </tr>\n",
       "    <tr>\n",
       "      <th>3</th>\n",
       "      <td>01-May-21</td>\n",
       "      <td>Sikkim</td>\n",
       "      <td>4-Wheelers</td>\n",
       "      <td>0</td>\n",
       "      <td>98</td>\n",
       "    </tr>\n",
       "    <tr>\n",
       "      <th>4</th>\n",
       "      <td>01-Jun-21</td>\n",
       "      <td>Sikkim</td>\n",
       "      <td>2-Wheelers</td>\n",
       "      <td>0</td>\n",
       "      <td>229</td>\n",
       "    </tr>\n",
       "    <tr>\n",
       "      <th>...</th>\n",
       "      <td>...</td>\n",
       "      <td>...</td>\n",
       "      <td>...</td>\n",
       "      <td>...</td>\n",
       "      <td>...</td>\n",
       "    </tr>\n",
       "    <tr>\n",
       "      <th>2440</th>\n",
       "      <td>01-Mar-24</td>\n",
       "      <td>Mizoram</td>\n",
       "      <td>2-Wheelers</td>\n",
       "      <td>58</td>\n",
       "      <td>1932</td>\n",
       "    </tr>\n",
       "    <tr>\n",
       "      <th>2441</th>\n",
       "      <td>01-Mar-24</td>\n",
       "      <td>DNH and DD</td>\n",
       "      <td>2-Wheelers</td>\n",
       "      <td>25</td>\n",
       "      <td>780</td>\n",
       "    </tr>\n",
       "    <tr>\n",
       "      <th>2442</th>\n",
       "      <td>01-Mar-24</td>\n",
       "      <td>Manipur</td>\n",
       "      <td>2-Wheelers</td>\n",
       "      <td>13</td>\n",
       "      <td>1394</td>\n",
       "    </tr>\n",
       "    <tr>\n",
       "      <th>2443</th>\n",
       "      <td>01-Mar-24</td>\n",
       "      <td>Andaman &amp; Nicobar Island</td>\n",
       "      <td>2-Wheelers</td>\n",
       "      <td>2</td>\n",
       "      <td>447</td>\n",
       "    </tr>\n",
       "    <tr>\n",
       "      <th>2444</th>\n",
       "      <td>01-Mar-24</td>\n",
       "      <td>Nagaland</td>\n",
       "      <td>2-Wheelers</td>\n",
       "      <td>2</td>\n",
       "      <td>1180</td>\n",
       "    </tr>\n",
       "  </tbody>\n",
       "</table>\n",
       "<p>2445 rows × 5 columns</p>\n",
       "</div>"
      ],
      "text/plain": [
       "           date                     state vehicle_category  \\\n",
       "0     01-Apr-21                    Sikkim       2-Wheelers   \n",
       "1     01-Apr-21                    Sikkim       4-Wheelers   \n",
       "2     01-May-21                    Sikkim       2-Wheelers   \n",
       "3     01-May-21                    Sikkim       4-Wheelers   \n",
       "4     01-Jun-21                    Sikkim       2-Wheelers   \n",
       "...         ...                       ...              ...   \n",
       "2440  01-Mar-24                   Mizoram       2-Wheelers   \n",
       "2441  01-Mar-24                DNH and DD       2-Wheelers   \n",
       "2442  01-Mar-24                   Manipur       2-Wheelers   \n",
       "2443  01-Mar-24  Andaman & Nicobar Island       2-Wheelers   \n",
       "2444  01-Mar-24                  Nagaland       2-Wheelers   \n",
       "\n",
       "      electric_vehicles_sold  total_vehicles_sold  \n",
       "0                          0                  398  \n",
       "1                          0                  361  \n",
       "2                          0                  113  \n",
       "3                          0                   98  \n",
       "4                          0                  229  \n",
       "...                      ...                  ...  \n",
       "2440                      58                 1932  \n",
       "2441                      25                  780  \n",
       "2442                      13                 1394  \n",
       "2443                       2                  447  \n",
       "2444                       2                 1180  \n",
       "\n",
       "[2445 rows x 5 columns]"
      ]
     },
     "execution_count": 37,
     "metadata": {},
     "output_type": "execute_result"
    }
   ],
   "source": [
    "working_dir = os.getcwd()\n",
    "data_1 = pd.read_csv(open(f'{working_dir}\\\\datasets\\\\electric_vehicle_sales_by_state.csv', 'rb'))\n",
    "data_1"
   ]
  },
  {
   "cell_type": "code",
   "execution_count": 38,
   "metadata": {},
   "outputs": [
    {
     "name": "stdout",
     "output_type": "stream",
     "text": [
      "<class 'pandas.core.frame.DataFrame'>\n",
      "RangeIndex: 2445 entries, 0 to 2444\n",
      "Data columns (total 5 columns):\n",
      " #   Column                  Non-Null Count  Dtype \n",
      "---  ------                  --------------  ----- \n",
      " 0   date                    2445 non-null   object\n",
      " 1   state                   2445 non-null   object\n",
      " 2   vehicle_category        2445 non-null   object\n",
      " 3   electric_vehicles_sold  2445 non-null   int64 \n",
      " 4   total_vehicles_sold     2445 non-null   int64 \n",
      "dtypes: int64(2), object(3)\n",
      "memory usage: 95.6+ KB\n"
     ]
    }
   ],
   "source": [
    "data_1.info()"
   ]
  },
  {
   "cell_type": "markdown",
   "metadata": {},
   "source": [
    "<b>\n",
    "\n",
    "- Dataframe size: 2445 * 5\n",
    "\n",
    "- No null values present in the dataframe\n",
    "\n",
    "- Only date column datatype is not appropriate; means we need to change it into datetime format"
   ]
  },
  {
   "cell_type": "code",
   "execution_count": 39,
   "metadata": {},
   "outputs": [],
   "source": [
    "data_1['date'] = pd.to_datetime(data_1['date'],format='%d-%b-%y')"
   ]
  },
  {
   "cell_type": "code",
   "execution_count": 40,
   "metadata": {},
   "outputs": [
    {
     "name": "stdout",
     "output_type": "stream",
     "text": [
      "<class 'pandas.core.frame.DataFrame'>\n",
      "RangeIndex: 2445 entries, 0 to 2444\n",
      "Data columns (total 5 columns):\n",
      " #   Column                  Non-Null Count  Dtype         \n",
      "---  ------                  --------------  -----         \n",
      " 0   date                    2445 non-null   datetime64[ns]\n",
      " 1   state                   2445 non-null   object        \n",
      " 2   vehicle_category        2445 non-null   object        \n",
      " 3   electric_vehicles_sold  2445 non-null   int64         \n",
      " 4   total_vehicles_sold     2445 non-null   int64         \n",
      "dtypes: datetime64[ns](1), int64(2), object(2)\n",
      "memory usage: 95.6+ KB\n"
     ]
    }
   ],
   "source": [
    "data_1.info()"
   ]
  },
  {
   "cell_type": "markdown",
   "metadata": {},
   "source": [
    "-----\n",
    "---"
   ]
  },
  {
   "cell_type": "code",
   "execution_count": 41,
   "metadata": {},
   "outputs": [
    {
     "data": {
      "text/plain": [
       "date                        36\n",
       "state                       35\n",
       "vehicle_category             2\n",
       "electric_vehicles_sold     921\n",
       "total_vehicles_sold       2225\n",
       "dtype: int64"
      ]
     },
     "execution_count": 41,
     "metadata": {},
     "output_type": "execute_result"
    }
   ],
   "source": [
    "data_1.nunique()"
   ]
  },
  {
   "cell_type": "code",
   "execution_count": 42,
   "metadata": {},
   "outputs": [
    {
     "data": {
      "text/html": [
       "<div>\n",
       "<style scoped>\n",
       "    .dataframe tbody tr th:only-of-type {\n",
       "        vertical-align: middle;\n",
       "    }\n",
       "\n",
       "    .dataframe tbody tr th {\n",
       "        vertical-align: top;\n",
       "    }\n",
       "\n",
       "    .dataframe thead th {\n",
       "        text-align: right;\n",
       "    }\n",
       "</style>\n",
       "<table border=\"1\" class=\"dataframe\">\n",
       "  <thead>\n",
       "    <tr style=\"text-align: right;\">\n",
       "      <th></th>\n",
       "      <th>date</th>\n",
       "      <th>vehicle_category</th>\n",
       "      <th>maker</th>\n",
       "      <th>electric_vehicles_sold</th>\n",
       "    </tr>\n",
       "  </thead>\n",
       "  <tbody>\n",
       "    <tr>\n",
       "      <th>0</th>\n",
       "      <td>01-Apr-21</td>\n",
       "      <td>2-Wheelers</td>\n",
       "      <td>OLA ELECTRIC</td>\n",
       "      <td>0</td>\n",
       "    </tr>\n",
       "    <tr>\n",
       "      <th>1</th>\n",
       "      <td>01-Apr-22</td>\n",
       "      <td>2-Wheelers</td>\n",
       "      <td>OKAYA EV</td>\n",
       "      <td>0</td>\n",
       "    </tr>\n",
       "    <tr>\n",
       "      <th>2</th>\n",
       "      <td>01-May-21</td>\n",
       "      <td>2-Wheelers</td>\n",
       "      <td>OLA ELECTRIC</td>\n",
       "      <td>0</td>\n",
       "    </tr>\n",
       "    <tr>\n",
       "      <th>3</th>\n",
       "      <td>01-Jun-21</td>\n",
       "      <td>2-Wheelers</td>\n",
       "      <td>OLA ELECTRIC</td>\n",
       "      <td>0</td>\n",
       "    </tr>\n",
       "    <tr>\n",
       "      <th>4</th>\n",
       "      <td>01-Jul-21</td>\n",
       "      <td>2-Wheelers</td>\n",
       "      <td>OLA ELECTRIC</td>\n",
       "      <td>0</td>\n",
       "    </tr>\n",
       "    <tr>\n",
       "      <th>...</th>\n",
       "      <td>...</td>\n",
       "      <td>...</td>\n",
       "      <td>...</td>\n",
       "      <td>...</td>\n",
       "    </tr>\n",
       "    <tr>\n",
       "      <th>811</th>\n",
       "      <td>01-Mar-24</td>\n",
       "      <td>2-Wheelers</td>\n",
       "      <td>BGAUSS</td>\n",
       "      <td>3070</td>\n",
       "    </tr>\n",
       "    <tr>\n",
       "      <th>812</th>\n",
       "      <td>01-Mar-24</td>\n",
       "      <td>2-Wheelers</td>\n",
       "      <td>BATTRE ELECTRIC</td>\n",
       "      <td>625</td>\n",
       "    </tr>\n",
       "    <tr>\n",
       "      <th>813</th>\n",
       "      <td>01-Mar-24</td>\n",
       "      <td>2-Wheelers</td>\n",
       "      <td>KINETIC GREEN</td>\n",
       "      <td>3915</td>\n",
       "    </tr>\n",
       "    <tr>\n",
       "      <th>814</th>\n",
       "      <td>01-Mar-24</td>\n",
       "      <td>2-Wheelers</td>\n",
       "      <td>REVOLT</td>\n",
       "      <td>585</td>\n",
       "    </tr>\n",
       "    <tr>\n",
       "      <th>815</th>\n",
       "      <td>01-Mar-24</td>\n",
       "      <td>2-Wheelers</td>\n",
       "      <td>OTHERS</td>\n",
       "      <td>10579</td>\n",
       "    </tr>\n",
       "  </tbody>\n",
       "</table>\n",
       "<p>816 rows × 4 columns</p>\n",
       "</div>"
      ],
      "text/plain": [
       "          date vehicle_category            maker  electric_vehicles_sold\n",
       "0    01-Apr-21       2-Wheelers     OLA ELECTRIC                       0\n",
       "1    01-Apr-22       2-Wheelers         OKAYA EV                       0\n",
       "2    01-May-21       2-Wheelers     OLA ELECTRIC                       0\n",
       "3    01-Jun-21       2-Wheelers     OLA ELECTRIC                       0\n",
       "4    01-Jul-21       2-Wheelers     OLA ELECTRIC                       0\n",
       "..         ...              ...              ...                     ...\n",
       "811  01-Mar-24       2-Wheelers           BGAUSS                    3070\n",
       "812  01-Mar-24       2-Wheelers  BATTRE ELECTRIC                     625\n",
       "813  01-Mar-24       2-Wheelers    KINETIC GREEN                    3915\n",
       "814  01-Mar-24       2-Wheelers           REVOLT                     585\n",
       "815  01-Mar-24       2-Wheelers           OTHERS                   10579\n",
       "\n",
       "[816 rows x 4 columns]"
      ]
     },
     "execution_count": 42,
     "metadata": {},
     "output_type": "execute_result"
    }
   ],
   "source": [
    "working_dir = os.getcwd()\n",
    "data_2 = pd.read_csv(open(f'{working_dir}\\\\datasets\\\\electric_vehicle_sales_by_makers.csv', 'rb'))\n",
    "data_2"
   ]
  },
  {
   "cell_type": "code",
   "execution_count": 43,
   "metadata": {},
   "outputs": [
    {
     "data": {
      "text/plain": [
       "date                       36\n",
       "vehicle_category            2\n",
       "maker                      26\n",
       "electric_vehicles_sold    603\n",
       "dtype: int64"
      ]
     },
     "execution_count": 43,
     "metadata": {},
     "output_type": "execute_result"
    }
   ],
   "source": [
    "data_2.nunique()"
   ]
  },
  {
   "cell_type": "code",
   "execution_count": 44,
   "metadata": {},
   "outputs": [
    {
     "name": "stdout",
     "output_type": "stream",
     "text": [
      "<class 'pandas.core.frame.DataFrame'>\n",
      "RangeIndex: 816 entries, 0 to 815\n",
      "Data columns (total 4 columns):\n",
      " #   Column                  Non-Null Count  Dtype \n",
      "---  ------                  --------------  ----- \n",
      " 0   date                    816 non-null    object\n",
      " 1   vehicle_category        816 non-null    object\n",
      " 2   maker                   816 non-null    object\n",
      " 3   electric_vehicles_sold  816 non-null    int64 \n",
      "dtypes: int64(1), object(3)\n",
      "memory usage: 25.6+ KB\n"
     ]
    }
   ],
   "source": [
    "data_2.info()"
   ]
  },
  {
   "cell_type": "markdown",
   "metadata": {},
   "source": [
    "<b>\n",
    "\n",
    "- Dataframe size: 816 * 4\n",
    "\n",
    "- No null values present in the dataframe\n",
    "\n",
    "- Only date column datatype is not appropriate; means we need to change it into datetime format"
   ]
  },
  {
   "cell_type": "code",
   "execution_count": 45,
   "metadata": {},
   "outputs": [],
   "source": [
    "data_2['date'] = pd.to_datetime(data_2['date'],format='%d-%b-%y')"
   ]
  },
  {
   "cell_type": "code",
   "execution_count": 46,
   "metadata": {},
   "outputs": [
    {
     "name": "stdout",
     "output_type": "stream",
     "text": [
      "<class 'pandas.core.frame.DataFrame'>\n",
      "RangeIndex: 816 entries, 0 to 815\n",
      "Data columns (total 4 columns):\n",
      " #   Column                  Non-Null Count  Dtype         \n",
      "---  ------                  --------------  -----         \n",
      " 0   date                    816 non-null    datetime64[ns]\n",
      " 1   vehicle_category        816 non-null    object        \n",
      " 2   maker                   816 non-null    object        \n",
      " 3   electric_vehicles_sold  816 non-null    int64         \n",
      "dtypes: datetime64[ns](1), int64(1), object(2)\n",
      "memory usage: 25.6+ KB\n"
     ]
    }
   ],
   "source": [
    "data_2.info()"
   ]
  },
  {
   "cell_type": "markdown",
   "metadata": {},
   "source": [
    "---\n",
    "---"
   ]
  },
  {
   "cell_type": "code",
   "execution_count": 47,
   "metadata": {},
   "outputs": [
    {
     "data": {
      "text/html": [
       "<div>\n",
       "<style scoped>\n",
       "    .dataframe tbody tr th:only-of-type {\n",
       "        vertical-align: middle;\n",
       "    }\n",
       "\n",
       "    .dataframe tbody tr th {\n",
       "        vertical-align: top;\n",
       "    }\n",
       "\n",
       "    .dataframe thead th {\n",
       "        text-align: right;\n",
       "    }\n",
       "</style>\n",
       "<table border=\"1\" class=\"dataframe\">\n",
       "  <thead>\n",
       "    <tr style=\"text-align: right;\">\n",
       "      <th></th>\n",
       "      <th>date</th>\n",
       "      <th>fiscal_year</th>\n",
       "      <th>quarter</th>\n",
       "    </tr>\n",
       "  </thead>\n",
       "  <tbody>\n",
       "    <tr>\n",
       "      <th>0</th>\n",
       "      <td>01-Apr-21</td>\n",
       "      <td>2022</td>\n",
       "      <td>Q1</td>\n",
       "    </tr>\n",
       "    <tr>\n",
       "      <th>1</th>\n",
       "      <td>01-May-21</td>\n",
       "      <td>2022</td>\n",
       "      <td>Q1</td>\n",
       "    </tr>\n",
       "    <tr>\n",
       "      <th>2</th>\n",
       "      <td>01-Jun-21</td>\n",
       "      <td>2022</td>\n",
       "      <td>Q1</td>\n",
       "    </tr>\n",
       "    <tr>\n",
       "      <th>3</th>\n",
       "      <td>01-Jul-21</td>\n",
       "      <td>2022</td>\n",
       "      <td>Q2</td>\n",
       "    </tr>\n",
       "    <tr>\n",
       "      <th>4</th>\n",
       "      <td>01-Aug-21</td>\n",
       "      <td>2022</td>\n",
       "      <td>Q2</td>\n",
       "    </tr>\n",
       "    <tr>\n",
       "      <th>5</th>\n",
       "      <td>01-Sep-21</td>\n",
       "      <td>2022</td>\n",
       "      <td>Q2</td>\n",
       "    </tr>\n",
       "    <tr>\n",
       "      <th>6</th>\n",
       "      <td>01-Oct-21</td>\n",
       "      <td>2022</td>\n",
       "      <td>Q3</td>\n",
       "    </tr>\n",
       "    <tr>\n",
       "      <th>7</th>\n",
       "      <td>01-Nov-21</td>\n",
       "      <td>2022</td>\n",
       "      <td>Q3</td>\n",
       "    </tr>\n",
       "    <tr>\n",
       "      <th>8</th>\n",
       "      <td>01-Dec-21</td>\n",
       "      <td>2022</td>\n",
       "      <td>Q3</td>\n",
       "    </tr>\n",
       "    <tr>\n",
       "      <th>9</th>\n",
       "      <td>01-Jan-22</td>\n",
       "      <td>2022</td>\n",
       "      <td>Q4</td>\n",
       "    </tr>\n",
       "    <tr>\n",
       "      <th>10</th>\n",
       "      <td>01-Feb-22</td>\n",
       "      <td>2022</td>\n",
       "      <td>Q4</td>\n",
       "    </tr>\n",
       "    <tr>\n",
       "      <th>11</th>\n",
       "      <td>01-Mar-22</td>\n",
       "      <td>2022</td>\n",
       "      <td>Q4</td>\n",
       "    </tr>\n",
       "    <tr>\n",
       "      <th>12</th>\n",
       "      <td>01-Apr-22</td>\n",
       "      <td>2023</td>\n",
       "      <td>Q1</td>\n",
       "    </tr>\n",
       "    <tr>\n",
       "      <th>13</th>\n",
       "      <td>01-May-22</td>\n",
       "      <td>2023</td>\n",
       "      <td>Q1</td>\n",
       "    </tr>\n",
       "    <tr>\n",
       "      <th>14</th>\n",
       "      <td>01-Jun-22</td>\n",
       "      <td>2023</td>\n",
       "      <td>Q1</td>\n",
       "    </tr>\n",
       "    <tr>\n",
       "      <th>15</th>\n",
       "      <td>01-Jul-22</td>\n",
       "      <td>2023</td>\n",
       "      <td>Q2</td>\n",
       "    </tr>\n",
       "    <tr>\n",
       "      <th>16</th>\n",
       "      <td>01-Aug-22</td>\n",
       "      <td>2023</td>\n",
       "      <td>Q2</td>\n",
       "    </tr>\n",
       "    <tr>\n",
       "      <th>17</th>\n",
       "      <td>01-Sep-22</td>\n",
       "      <td>2023</td>\n",
       "      <td>Q2</td>\n",
       "    </tr>\n",
       "    <tr>\n",
       "      <th>18</th>\n",
       "      <td>01-Oct-22</td>\n",
       "      <td>2023</td>\n",
       "      <td>Q3</td>\n",
       "    </tr>\n",
       "    <tr>\n",
       "      <th>19</th>\n",
       "      <td>01-Nov-22</td>\n",
       "      <td>2023</td>\n",
       "      <td>Q3</td>\n",
       "    </tr>\n",
       "    <tr>\n",
       "      <th>20</th>\n",
       "      <td>01-Dec-22</td>\n",
       "      <td>2023</td>\n",
       "      <td>Q3</td>\n",
       "    </tr>\n",
       "    <tr>\n",
       "      <th>21</th>\n",
       "      <td>01-Jan-23</td>\n",
       "      <td>2023</td>\n",
       "      <td>Q4</td>\n",
       "    </tr>\n",
       "    <tr>\n",
       "      <th>22</th>\n",
       "      <td>01-Feb-23</td>\n",
       "      <td>2023</td>\n",
       "      <td>Q4</td>\n",
       "    </tr>\n",
       "    <tr>\n",
       "      <th>23</th>\n",
       "      <td>01-Mar-23</td>\n",
       "      <td>2023</td>\n",
       "      <td>Q4</td>\n",
       "    </tr>\n",
       "    <tr>\n",
       "      <th>24</th>\n",
       "      <td>01-Apr-23</td>\n",
       "      <td>2024</td>\n",
       "      <td>Q1</td>\n",
       "    </tr>\n",
       "    <tr>\n",
       "      <th>25</th>\n",
       "      <td>01-May-23</td>\n",
       "      <td>2024</td>\n",
       "      <td>Q1</td>\n",
       "    </tr>\n",
       "    <tr>\n",
       "      <th>26</th>\n",
       "      <td>01-Jun-23</td>\n",
       "      <td>2024</td>\n",
       "      <td>Q1</td>\n",
       "    </tr>\n",
       "    <tr>\n",
       "      <th>27</th>\n",
       "      <td>01-Jul-23</td>\n",
       "      <td>2024</td>\n",
       "      <td>Q2</td>\n",
       "    </tr>\n",
       "    <tr>\n",
       "      <th>28</th>\n",
       "      <td>01-Aug-23</td>\n",
       "      <td>2024</td>\n",
       "      <td>Q2</td>\n",
       "    </tr>\n",
       "    <tr>\n",
       "      <th>29</th>\n",
       "      <td>01-Sep-23</td>\n",
       "      <td>2024</td>\n",
       "      <td>Q2</td>\n",
       "    </tr>\n",
       "    <tr>\n",
       "      <th>30</th>\n",
       "      <td>01-Oct-23</td>\n",
       "      <td>2024</td>\n",
       "      <td>Q3</td>\n",
       "    </tr>\n",
       "    <tr>\n",
       "      <th>31</th>\n",
       "      <td>01-Nov-23</td>\n",
       "      <td>2024</td>\n",
       "      <td>Q3</td>\n",
       "    </tr>\n",
       "    <tr>\n",
       "      <th>32</th>\n",
       "      <td>01-Dec-23</td>\n",
       "      <td>2024</td>\n",
       "      <td>Q3</td>\n",
       "    </tr>\n",
       "    <tr>\n",
       "      <th>33</th>\n",
       "      <td>01-Jan-24</td>\n",
       "      <td>2024</td>\n",
       "      <td>Q4</td>\n",
       "    </tr>\n",
       "    <tr>\n",
       "      <th>34</th>\n",
       "      <td>01-Feb-24</td>\n",
       "      <td>2024</td>\n",
       "      <td>Q4</td>\n",
       "    </tr>\n",
       "    <tr>\n",
       "      <th>35</th>\n",
       "      <td>01-Mar-24</td>\n",
       "      <td>2024</td>\n",
       "      <td>Q4</td>\n",
       "    </tr>\n",
       "  </tbody>\n",
       "</table>\n",
       "</div>"
      ],
      "text/plain": [
       "         date  fiscal_year quarter\n",
       "0   01-Apr-21         2022      Q1\n",
       "1   01-May-21         2022      Q1\n",
       "2   01-Jun-21         2022      Q1\n",
       "3   01-Jul-21         2022      Q2\n",
       "4   01-Aug-21         2022      Q2\n",
       "5   01-Sep-21         2022      Q2\n",
       "6   01-Oct-21         2022      Q3\n",
       "7   01-Nov-21         2022      Q3\n",
       "8   01-Dec-21         2022      Q3\n",
       "9   01-Jan-22         2022      Q4\n",
       "10  01-Feb-22         2022      Q4\n",
       "11  01-Mar-22         2022      Q4\n",
       "12  01-Apr-22         2023      Q1\n",
       "13  01-May-22         2023      Q1\n",
       "14  01-Jun-22         2023      Q1\n",
       "15  01-Jul-22         2023      Q2\n",
       "16  01-Aug-22         2023      Q2\n",
       "17  01-Sep-22         2023      Q2\n",
       "18  01-Oct-22         2023      Q3\n",
       "19  01-Nov-22         2023      Q3\n",
       "20  01-Dec-22         2023      Q3\n",
       "21  01-Jan-23         2023      Q4\n",
       "22  01-Feb-23         2023      Q4\n",
       "23  01-Mar-23         2023      Q4\n",
       "24  01-Apr-23         2024      Q1\n",
       "25  01-May-23         2024      Q1\n",
       "26  01-Jun-23         2024      Q1\n",
       "27  01-Jul-23         2024      Q2\n",
       "28  01-Aug-23         2024      Q2\n",
       "29  01-Sep-23         2024      Q2\n",
       "30  01-Oct-23         2024      Q3\n",
       "31  01-Nov-23         2024      Q3\n",
       "32  01-Dec-23         2024      Q3\n",
       "33  01-Jan-24         2024      Q4\n",
       "34  01-Feb-24         2024      Q4\n",
       "35  01-Mar-24         2024      Q4"
      ]
     },
     "execution_count": 47,
     "metadata": {},
     "output_type": "execute_result"
    }
   ],
   "source": [
    "working_dir = os.getcwd()\n",
    "data_3 = pd.read_csv(open(f'{working_dir}\\\\datasets\\\\dim_date.csv', 'rb'))\n",
    "data_3"
   ]
  },
  {
   "cell_type": "code",
   "execution_count": 50,
   "metadata": {},
   "outputs": [
    {
     "name": "stdout",
     "output_type": "stream",
     "text": [
      "<class 'pandas.core.frame.DataFrame'>\n",
      "RangeIndex: 36 entries, 0 to 35\n",
      "Data columns (total 3 columns):\n",
      " #   Column       Non-Null Count  Dtype \n",
      "---  ------       --------------  ----- \n",
      " 0   date         36 non-null     object\n",
      " 1   fiscal_year  36 non-null     int64 \n",
      " 2   quarter      36 non-null     object\n",
      "dtypes: int64(1), object(2)\n",
      "memory usage: 996.0+ bytes\n"
     ]
    }
   ],
   "source": [
    "data_3.info()"
   ]
  },
  {
   "cell_type": "code",
   "execution_count": 51,
   "metadata": {},
   "outputs": [],
   "source": [
    "data_3['date'] = pd.to_datetime(data_3['date'],format='%d-%b-%y')"
   ]
  },
  {
   "cell_type": "code",
   "execution_count": 52,
   "metadata": {},
   "outputs": [
    {
     "name": "stdout",
     "output_type": "stream",
     "text": [
      "<class 'pandas.core.frame.DataFrame'>\n",
      "RangeIndex: 36 entries, 0 to 35\n",
      "Data columns (total 3 columns):\n",
      " #   Column       Non-Null Count  Dtype         \n",
      "---  ------       --------------  -----         \n",
      " 0   date         36 non-null     datetime64[ns]\n",
      " 1   fiscal_year  36 non-null     int64         \n",
      " 2   quarter      36 non-null     object        \n",
      "dtypes: datetime64[ns](1), int64(1), object(1)\n",
      "memory usage: 996.0+ bytes\n"
     ]
    }
   ],
   "source": [
    "data_3.info()"
   ]
  },
  {
   "cell_type": "code",
   "execution_count": 55,
   "metadata": {},
   "outputs": [],
   "source": [
    "state_data = pd.merge(data_1, data_3,on='date',how='left')\n",
    "maker_data = pd.merge(data_2, data_3,on='date',how='left')"
   ]
  },
  {
   "cell_type": "code",
   "execution_count": 58,
   "metadata": {},
   "outputs": [
    {
     "name": "stdout",
     "output_type": "stream",
     "text": [
      "<class 'pandas.core.frame.DataFrame'>\n",
      "RangeIndex: 2445 entries, 0 to 2444\n",
      "Data columns (total 7 columns):\n",
      " #   Column                  Non-Null Count  Dtype         \n",
      "---  ------                  --------------  -----         \n",
      " 0   date                    2445 non-null   datetime64[ns]\n",
      " 1   state                   2445 non-null   object        \n",
      " 2   vehicle_category        2445 non-null   object        \n",
      " 3   electric_vehicles_sold  2445 non-null   int64         \n",
      " 4   total_vehicles_sold     2445 non-null   int64         \n",
      " 5   fiscal_year             2445 non-null   int64         \n",
      " 6   quarter                 2445 non-null   object        \n",
      "dtypes: datetime64[ns](1), int64(3), object(3)\n",
      "memory usage: 133.8+ KB\n"
     ]
    }
   ],
   "source": [
    "state_data.info()"
   ]
  },
  {
   "cell_type": "code",
   "execution_count": 59,
   "metadata": {},
   "outputs": [
    {
     "name": "stdout",
     "output_type": "stream",
     "text": [
      "<class 'pandas.core.frame.DataFrame'>\n",
      "RangeIndex: 816 entries, 0 to 815\n",
      "Data columns (total 6 columns):\n",
      " #   Column                  Non-Null Count  Dtype         \n",
      "---  ------                  --------------  -----         \n",
      " 0   date                    816 non-null    datetime64[ns]\n",
      " 1   vehicle_category        816 non-null    object        \n",
      " 2   maker                   816 non-null    object        \n",
      " 3   electric_vehicles_sold  816 non-null    int64         \n",
      " 4   fiscal_year             816 non-null    int64         \n",
      " 5   quarter                 816 non-null    object        \n",
      "dtypes: datetime64[ns](1), int64(2), object(3)\n",
      "memory usage: 38.4+ KB\n"
     ]
    }
   ],
   "source": [
    "maker_data.info()"
   ]
  },
  {
   "cell_type": "markdown",
   "metadata": {},
   "source": [
    "---"
   ]
  },
  {
   "cell_type": "markdown",
   "metadata": {},
   "source": [
    "## Data Inspection for state_data"
   ]
  },
  {
   "cell_type": "code",
   "execution_count": 60,
   "metadata": {},
   "outputs": [
    {
     "data": {
      "text/html": [
       "<div>\n",
       "<style scoped>\n",
       "    .dataframe tbody tr th:only-of-type {\n",
       "        vertical-align: middle;\n",
       "    }\n",
       "\n",
       "    .dataframe tbody tr th {\n",
       "        vertical-align: top;\n",
       "    }\n",
       "\n",
       "    .dataframe thead th {\n",
       "        text-align: right;\n",
       "    }\n",
       "</style>\n",
       "<table border=\"1\" class=\"dataframe\">\n",
       "  <thead>\n",
       "    <tr style=\"text-align: right;\">\n",
       "      <th></th>\n",
       "      <th>date</th>\n",
       "      <th>state</th>\n",
       "      <th>vehicle_category</th>\n",
       "      <th>electric_vehicles_sold</th>\n",
       "      <th>total_vehicles_sold</th>\n",
       "      <th>fiscal_year</th>\n",
       "      <th>quarter</th>\n",
       "    </tr>\n",
       "  </thead>\n",
       "  <tbody>\n",
       "    <tr>\n",
       "      <th>0</th>\n",
       "      <td>2021-04-01</td>\n",
       "      <td>Sikkim</td>\n",
       "      <td>2-Wheelers</td>\n",
       "      <td>0</td>\n",
       "      <td>398</td>\n",
       "      <td>2022</td>\n",
       "      <td>Q1</td>\n",
       "    </tr>\n",
       "    <tr>\n",
       "      <th>1</th>\n",
       "      <td>2021-04-01</td>\n",
       "      <td>Sikkim</td>\n",
       "      <td>4-Wheelers</td>\n",
       "      <td>0</td>\n",
       "      <td>361</td>\n",
       "      <td>2022</td>\n",
       "      <td>Q1</td>\n",
       "    </tr>\n",
       "    <tr>\n",
       "      <th>2</th>\n",
       "      <td>2021-05-01</td>\n",
       "      <td>Sikkim</td>\n",
       "      <td>2-Wheelers</td>\n",
       "      <td>0</td>\n",
       "      <td>113</td>\n",
       "      <td>2022</td>\n",
       "      <td>Q1</td>\n",
       "    </tr>\n",
       "    <tr>\n",
       "      <th>3</th>\n",
       "      <td>2021-05-01</td>\n",
       "      <td>Sikkim</td>\n",
       "      <td>4-Wheelers</td>\n",
       "      <td>0</td>\n",
       "      <td>98</td>\n",
       "      <td>2022</td>\n",
       "      <td>Q1</td>\n",
       "    </tr>\n",
       "    <tr>\n",
       "      <th>4</th>\n",
       "      <td>2021-06-01</td>\n",
       "      <td>Sikkim</td>\n",
       "      <td>2-Wheelers</td>\n",
       "      <td>0</td>\n",
       "      <td>229</td>\n",
       "      <td>2022</td>\n",
       "      <td>Q1</td>\n",
       "    </tr>\n",
       "  </tbody>\n",
       "</table>\n",
       "</div>"
      ],
      "text/plain": [
       "        date   state vehicle_category  electric_vehicles_sold  \\\n",
       "0 2021-04-01  Sikkim       2-Wheelers                       0   \n",
       "1 2021-04-01  Sikkim       4-Wheelers                       0   \n",
       "2 2021-05-01  Sikkim       2-Wheelers                       0   \n",
       "3 2021-05-01  Sikkim       4-Wheelers                       0   \n",
       "4 2021-06-01  Sikkim       2-Wheelers                       0   \n",
       "\n",
       "   total_vehicles_sold  fiscal_year quarter  \n",
       "0                  398         2022      Q1  \n",
       "1                  361         2022      Q1  \n",
       "2                  113         2022      Q1  \n",
       "3                   98         2022      Q1  \n",
       "4                  229         2022      Q1  "
      ]
     },
     "execution_count": 60,
     "metadata": {},
     "output_type": "execute_result"
    }
   ],
   "source": [
    "state_data.head()"
   ]
  },
  {
   "cell_type": "code",
   "execution_count": 66,
   "metadata": {},
   "outputs": [
    {
     "data": {
      "text/plain": [
       "date                      0\n",
       "state                     0\n",
       "vehicle_category          0\n",
       "electric_vehicles_sold    0\n",
       "total_vehicles_sold       0\n",
       "fiscal_year               0\n",
       "quarter                   0\n",
       "dtype: int64"
      ]
     },
     "execution_count": 66,
     "metadata": {},
     "output_type": "execute_result"
    }
   ],
   "source": [
    "state_data.isna().sum()"
   ]
  },
  {
   "cell_type": "code",
   "execution_count": 61,
   "metadata": {},
   "outputs": [
    {
     "data": {
      "text/plain": [
       "date                        36\n",
       "state                       35\n",
       "vehicle_category             2\n",
       "electric_vehicles_sold     921\n",
       "total_vehicles_sold       2225\n",
       "fiscal_year                  3\n",
       "quarter                      4\n",
       "dtype: int64"
      ]
     },
     "execution_count": 61,
     "metadata": {},
     "output_type": "execute_result"
    }
   ],
   "source": [
    "state_data.nunique()"
   ]
  },
  {
   "cell_type": "code",
   "execution_count": 62,
   "metadata": {},
   "outputs": [
    {
     "data": {
      "text/plain": [
       "<DatetimeArray>\n",
       "['2021-04-01 00:00:00', '2021-05-01 00:00:00', '2021-06-01 00:00:00',\n",
       " '2021-07-01 00:00:00', '2021-08-01 00:00:00', '2021-09-01 00:00:00',\n",
       " '2021-10-01 00:00:00', '2021-11-01 00:00:00', '2021-12-01 00:00:00',\n",
       " '2022-01-01 00:00:00', '2022-02-01 00:00:00', '2022-03-01 00:00:00',\n",
       " '2022-04-01 00:00:00', '2022-05-01 00:00:00', '2022-06-01 00:00:00',\n",
       " '2022-07-01 00:00:00', '2022-08-01 00:00:00', '2022-09-01 00:00:00',\n",
       " '2022-10-01 00:00:00', '2022-11-01 00:00:00', '2022-12-01 00:00:00',\n",
       " '2023-01-01 00:00:00', '2023-02-01 00:00:00', '2023-03-01 00:00:00',\n",
       " '2023-04-01 00:00:00', '2023-05-01 00:00:00', '2023-06-01 00:00:00',\n",
       " '2023-07-01 00:00:00', '2023-08-01 00:00:00', '2023-09-01 00:00:00',\n",
       " '2023-10-01 00:00:00', '2023-11-01 00:00:00', '2023-12-01 00:00:00',\n",
       " '2024-01-01 00:00:00', '2024-02-01 00:00:00', '2024-03-01 00:00:00']\n",
       "Length: 36, dtype: datetime64[ns]"
      ]
     },
     "execution_count": 62,
     "metadata": {},
     "output_type": "execute_result"
    }
   ],
   "source": [
    "state_data['date'].unique()"
   ]
  },
  {
   "cell_type": "code",
   "execution_count": 63,
   "metadata": {},
   "outputs": [
    {
     "data": {
      "text/plain": [
       "array(['Sikkim', 'Andaman & Nicobar Island', 'Arunachal Pradesh', 'Assam',\n",
       "       'Chhattisgarh', 'DNH and DD', 'Jammu and Kashmir', 'Ladakh',\n",
       "       'Manipur', 'Meghalaya', 'Mizoram', 'Nagaland', 'Puducherry',\n",
       "       'Tripura', 'Bihar', 'Chandigarh', 'Delhi', 'Madhya Pradesh',\n",
       "       'Odisha', 'Punjab', 'Uttarakhand', 'Himachal Pradesh',\n",
       "       'Andaman & Nicobar', 'Haryana', 'Jharkhand', 'Andhra Pradesh',\n",
       "       'Goa', 'Gujarat', 'Karnataka', 'Kerala', 'Maharashtra',\n",
       "       'Rajasthan', 'Tamil Nadu', 'Uttar Pradesh', 'West Bengal'],\n",
       "      dtype=object)"
      ]
     },
     "execution_count": 63,
     "metadata": {},
     "output_type": "execute_result"
    }
   ],
   "source": [
    "state_data['state'].unique()"
   ]
  },
  {
   "cell_type": "code",
   "execution_count": 64,
   "metadata": {},
   "outputs": [
    {
     "data": {
      "text/plain": [
       "array(['2-Wheelers', '4-Wheelers'], dtype=object)"
      ]
     },
     "execution_count": 64,
     "metadata": {},
     "output_type": "execute_result"
    }
   ],
   "source": [
    "state_data['vehicle_category'].unique()"
   ]
  },
  {
   "cell_type": "markdown",
   "metadata": {},
   "source": [
    "---"
   ]
  },
  {
   "cell_type": "markdown",
   "metadata": {},
   "source": [
    "#### Identify the top 5 states with the highest penetration rate in 2-wheeler and 4-wheeler EV sales in FY 2024"
   ]
  },
  {
   "cell_type": "code",
   "execution_count": 90,
   "metadata": {},
   "outputs": [
    {
     "data": {
      "text/html": [
       "<div>\n",
       "<style scoped>\n",
       "    .dataframe tbody tr th:only-of-type {\n",
       "        vertical-align: middle;\n",
       "    }\n",
       "\n",
       "    .dataframe tbody tr th {\n",
       "        vertical-align: top;\n",
       "    }\n",
       "\n",
       "    .dataframe thead th {\n",
       "        text-align: right;\n",
       "    }\n",
       "</style>\n",
       "<table border=\"1\" class=\"dataframe\">\n",
       "  <thead>\n",
       "    <tr style=\"text-align: right;\">\n",
       "      <th></th>\n",
       "      <th>date</th>\n",
       "      <th>state</th>\n",
       "      <th>vehicle_category</th>\n",
       "      <th>electric_vehicles_sold</th>\n",
       "      <th>total_vehicles_sold</th>\n",
       "      <th>fiscal_year</th>\n",
       "      <th>quarter</th>\n",
       "    </tr>\n",
       "  </thead>\n",
       "  <tbody>\n",
       "    <tr>\n",
       "      <th>66</th>\n",
       "      <td>2024-01-01</td>\n",
       "      <td>Sikkim</td>\n",
       "      <td>2-Wheelers</td>\n",
       "      <td>0</td>\n",
       "      <td>509</td>\n",
       "      <td>2024</td>\n",
       "      <td>Q4</td>\n",
       "    </tr>\n",
       "    <tr>\n",
       "      <th>67</th>\n",
       "      <td>2024-01-01</td>\n",
       "      <td>Sikkim</td>\n",
       "      <td>4-Wheelers</td>\n",
       "      <td>0</td>\n",
       "      <td>422</td>\n",
       "      <td>2024</td>\n",
       "      <td>Q4</td>\n",
       "    </tr>\n",
       "    <tr>\n",
       "      <th>68</th>\n",
       "      <td>2024-02-01</td>\n",
       "      <td>Sikkim</td>\n",
       "      <td>2-Wheelers</td>\n",
       "      <td>0</td>\n",
       "      <td>408</td>\n",
       "      <td>2024</td>\n",
       "      <td>Q4</td>\n",
       "    </tr>\n",
       "    <tr>\n",
       "      <th>69</th>\n",
       "      <td>2024-02-01</td>\n",
       "      <td>Sikkim</td>\n",
       "      <td>4-Wheelers</td>\n",
       "      <td>0</td>\n",
       "      <td>375</td>\n",
       "      <td>2024</td>\n",
       "      <td>Q4</td>\n",
       "    </tr>\n",
       "    <tr>\n",
       "      <th>70</th>\n",
       "      <td>2024-03-01</td>\n",
       "      <td>Sikkim</td>\n",
       "      <td>2-Wheelers</td>\n",
       "      <td>0</td>\n",
       "      <td>399</td>\n",
       "      <td>2024</td>\n",
       "      <td>Q4</td>\n",
       "    </tr>\n",
       "    <tr>\n",
       "      <th>...</th>\n",
       "      <td>...</td>\n",
       "      <td>...</td>\n",
       "      <td>...</td>\n",
       "      <td>...</td>\n",
       "      <td>...</td>\n",
       "      <td>...</td>\n",
       "      <td>...</td>\n",
       "    </tr>\n",
       "    <tr>\n",
       "      <th>2440</th>\n",
       "      <td>2024-03-01</td>\n",
       "      <td>Mizoram</td>\n",
       "      <td>2-Wheelers</td>\n",
       "      <td>58</td>\n",
       "      <td>1932</td>\n",
       "      <td>2024</td>\n",
       "      <td>Q4</td>\n",
       "    </tr>\n",
       "    <tr>\n",
       "      <th>2441</th>\n",
       "      <td>2024-03-01</td>\n",
       "      <td>DNH and DD</td>\n",
       "      <td>2-Wheelers</td>\n",
       "      <td>25</td>\n",
       "      <td>780</td>\n",
       "      <td>2024</td>\n",
       "      <td>Q4</td>\n",
       "    </tr>\n",
       "    <tr>\n",
       "      <th>2442</th>\n",
       "      <td>2024-03-01</td>\n",
       "      <td>Manipur</td>\n",
       "      <td>2-Wheelers</td>\n",
       "      <td>13</td>\n",
       "      <td>1394</td>\n",
       "      <td>2024</td>\n",
       "      <td>Q4</td>\n",
       "    </tr>\n",
       "    <tr>\n",
       "      <th>2443</th>\n",
       "      <td>2024-03-01</td>\n",
       "      <td>Andaman &amp; Nicobar Island</td>\n",
       "      <td>2-Wheelers</td>\n",
       "      <td>2</td>\n",
       "      <td>447</td>\n",
       "      <td>2024</td>\n",
       "      <td>Q4</td>\n",
       "    </tr>\n",
       "    <tr>\n",
       "      <th>2444</th>\n",
       "      <td>2024-03-01</td>\n",
       "      <td>Nagaland</td>\n",
       "      <td>2-Wheelers</td>\n",
       "      <td>2</td>\n",
       "      <td>1180</td>\n",
       "      <td>2024</td>\n",
       "      <td>Q4</td>\n",
       "    </tr>\n",
       "  </tbody>\n",
       "</table>\n",
       "<p>202 rows × 7 columns</p>\n",
       "</div>"
      ],
      "text/plain": [
       "           date                     state vehicle_category  \\\n",
       "66   2024-01-01                    Sikkim       2-Wheelers   \n",
       "67   2024-01-01                    Sikkim       4-Wheelers   \n",
       "68   2024-02-01                    Sikkim       2-Wheelers   \n",
       "69   2024-02-01                    Sikkim       4-Wheelers   \n",
       "70   2024-03-01                    Sikkim       2-Wheelers   \n",
       "...         ...                       ...              ...   \n",
       "2440 2024-03-01                   Mizoram       2-Wheelers   \n",
       "2441 2024-03-01                DNH and DD       2-Wheelers   \n",
       "2442 2024-03-01                   Manipur       2-Wheelers   \n",
       "2443 2024-03-01  Andaman & Nicobar Island       2-Wheelers   \n",
       "2444 2024-03-01                  Nagaland       2-Wheelers   \n",
       "\n",
       "      electric_vehicles_sold  total_vehicles_sold  fiscal_year quarter  \n",
       "66                         0                  509         2024      Q4  \n",
       "67                         0                  422         2024      Q4  \n",
       "68                         0                  408         2024      Q4  \n",
       "69                         0                  375         2024      Q4  \n",
       "70                         0                  399         2024      Q4  \n",
       "...                      ...                  ...          ...     ...  \n",
       "2440                      58                 1932         2024      Q4  \n",
       "2441                      25                  780         2024      Q4  \n",
       "2442                      13                 1394         2024      Q4  \n",
       "2443                       2                  447         2024      Q4  \n",
       "2444                       2                 1180         2024      Q4  \n",
       "\n",
       "[202 rows x 7 columns]"
      ]
     },
     "execution_count": 90,
     "metadata": {},
     "output_type": "execute_result"
    }
   ],
   "source": [
    "state_data[state_data['date'].dt.year == 2024]"
   ]
  }
 ],
 "metadata": {
  "kernelspec": {
   "display_name": "Python 3",
   "language": "python",
   "name": "python3"
  },
  "language_info": {
   "codemirror_mode": {
    "name": "ipython",
    "version": 3
   },
   "file_extension": ".py",
   "mimetype": "text/x-python",
   "name": "python",
   "nbconvert_exporter": "python",
   "pygments_lexer": "ipython3",
   "version": "3.12.0"
  }
 },
 "nbformat": 4,
 "nbformat_minor": 2
}
